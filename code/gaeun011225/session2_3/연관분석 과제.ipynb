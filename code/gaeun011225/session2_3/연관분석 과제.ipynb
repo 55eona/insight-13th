{
 "cells": [
  {
   "cell_type": "markdown",
   "id": "ba1dd375",
   "metadata": {},
   "source": [
    "# 🛒 **연관 분석 (Association Rule Analysis) 과제**"
   ]
  },
  {
   "cell_type": "markdown",
   "id": "27be92d6",
   "metadata": {},
   "source": [
    "### <span style=\"color:black; background-color:#F5F5F5;\"> **Q1. 연관 규칙 {우유} → {쿠키}가 도출되었을 때, 다음 용어들이 각각 무엇을 의미하는지 설명하시오.**\n",
    "#### <span style=\"color:black; background-color:#F5F5F5;\">**① 지지도(support) ② 신뢰도(confidence) ③ 향상도(lift)** </span>"
   ]
  },
  {
   "cell_type": "markdown",
   "id": "f2672409",
   "metadata": {},
   "source": [
    "답: 지지도 = 전체 거래항목 중 {우유, 쿠키}를 동시에 포함하는 거래의 비율 <br>\n",
    "신뢰도 = 우유를 포함하는 거래 수 중 우유와 쿠키를 동시에 포함하는 거래의 비율 <br>\n",
    "향상도 = 우유를 구매했을 때 쿠키를 구매할 확률이, 전체에서 쿠키를 구매할 확률보다 얼마나 증가했는지를 나타내는 비율"
   ]
  },
  {
   "cell_type": "markdown",
   "id": "dd3f4eda",
   "metadata": {},
   "source": [
    "### <span style=\"color:black; background-color:#F5F5F5;\"> **Q2. Apriori 알고리즘이 처리해야 할 후보 항목 수가 기하급수적으로 증가하는 이유와, FP-Growth가 이를 어떻게 해결하는지 설명하시오.**"
   ]
  },
  {
   "cell_type": "markdown",
   "id": "7ebef37b",
   "metadata": {},
   "source": [
    "답: Apriori는 모든 후보 집합을 생성해 계산량이 많고 비효율적이며, FP-Growth는 트리 구조를 이용해 후보 생성을 생략하고 연관 규칙을 탐색해 해결한다."
   ]
  },
  {
   "cell_type": "markdown",
   "id": "cac56db1",
   "metadata": {},
   "source": []
  },
  {
   "cell_type": "markdown",
   "id": "af8cc1d9",
   "metadata": {},
   "source": [
    "# <span style=\"color:black; background-color:#F5F5F5;\"> 💸 **연관 분석을 활용한 잉마트(Ing-Mart) 고객 장바구니 패턴 분석 및 비즈니스 전략 수립** </span>"
   ]
  },
  {
   "cell_type": "markdown",
   "id": "c9d3b7f0",
   "metadata": {},
   "source": [
    "<strong>죽지도 않고 다시 돌아온 잉마트..! 🤣🫥😫🙃<br>\n",
    "이번 연관 분석 심화 세션의 과제는 잉마트의 고객 장바구니 분석과 전략 수립입니다~ <strong>\n",
    "\n"
   ]
  },
  {
   "cell_type": "markdown",
   "id": "a20f81c9",
   "metadata": {},
   "source": [
    "<span style=\"color:black; background-color:#E6E6FA; padding:2px 4px; border-radius:4px\">\n",
    "<strong> 🤓 지난 심화 세션에서 배운 개념과 실습 내용을 바탕으로 아래 빈칸을 채워주시고, 해당 장바구니 결과를 분석하여 이에 적합한 전략을 제시해주시면 됩니다! <strong>\n",
    "</span>"
   ]
  },
  {
   "cell_type": "markdown",
   "id": "145f6fdf",
   "metadata": {},
   "source": []
  },
  {
   "cell_type": "markdown",
   "id": "d1fef2e7",
   "metadata": {},
   "source": [
    "## **1️⃣ 데이터 불러오기 및 전처리**"
   ]
  },
  {
   "cell_type": "code",
   "execution_count": null,
   "id": "04f7c8fb",
   "metadata": {},
   "outputs": [],
   "source": [
    "import pandas as pd\n",
    "import numpy as np\n",
    "import matplotlib.pyplot as plt\n",
    "import seaborn as sns\n",
    "from scipy import stats\n",
    "from mlxtend.preprocessing import TransactionEncoder\n",
    "from mlxtend.frequent_patterns import apriori\n",
    "from mlxtend.frequent_patterns import association_rules\n",
    "from mlxtend.frequent_patterns import fpgrowth\n",
    "import warnings\n",
    "warnings.simplefilter(action='ignore', category=DeprecationWarning)"
   ]
  },
  {
   "cell_type": "code",
   "execution_count": null,
   "id": "97329f2b",
   "metadata": {},
   "outputs": [],
   "source": [
    "!pip install mlxtend"
   ]
  },
  {
   "cell_type": "code",
   "execution_count": null,
   "id": "7d7d2a23",
   "metadata": {},
   "outputs": [],
   "source": [
    "transaction_data = pd.read_csv('transaction_data.csv')\n",
    "product = pd.read_csv('product.csv')"
   ]
  },
  {
   "cell_type": "code",
   "execution_count": null,
   "id": "91bbeba9",
   "metadata": {},
   "outputs": [],
   "source": [
    "transaction_data.head()"
   ]
  },
  {
   "cell_type": "markdown",
   "id": "185946f8",
   "metadata": {},
   "source": [
    "- 이상치 처리\n",
    "  - 예시로 제시해드리지만 추가적으로 필요한 부분은 전처리 처리해주세요!"
   ]
  },
  {
   "cell_type": "code",
   "execution_count": null,
   "id": "ff7cba23",
   "metadata": {},
   "outputs": [],
   "source": [
    "# Quantity 열에 대해 Z-score를 계산한 뒤, 절댓값을 취해 새로운 열 'z_score'에 저장\n",
    "transaction_data[\"z_score\"] = np.abs(stats.zscore(transaction_data[\"Quantity\"]))\n",
    "\n",
    "# Z-score가 3을 초과하는 이상치(즉, 평균에서 3표준편차 이상 벗어난 값)를 추출\n",
    "outliers_zscore = transaction_data[transaction_data[\"z_score\"] > 3]"
   ]
  },
  {
   "cell_type": "code",
   "execution_count": null,
   "id": "c65a1bff",
   "metadata": {},
   "outputs": [],
   "source": [
    "transaction_data"
   ]
  },
  {
   "cell_type": "code",
   "execution_count": null,
   "id": "9d813760",
   "metadata": {},
   "outputs": [],
   "source": [
    "transaction_data.columns"
   ]
  },
  {
   "cell_type": "markdown",
   "id": "73b591e7",
   "metadata": {},
   "source": [
    "- 고객 - 상품 행렬 생성"
   ]
  },
  {
   "cell_type": "code",
   "execution_count": null,
   "id": "6d3fb0e8",
   "metadata": {},
   "outputs": [],
   "source": [
    "# 고객-상품 pivot_table 생성 (행: 고객, 열: 상품, 값: 총 구매금액)\n",
    "user_item_matrix = transaction_data.pivot_table(\n",
    "    index='Household_ID',     # 가구 ID 기준\n",
    "    columns='Product_ID',     # 상품 ID 기준\n",
    "    values='Sales_Value',     # 구매 금액\n",
    "    aggfunc='sum',            # 상품별 총 구매금액\n",
    "    fill_value=0              # 구매 이력 없으면 0\n",
    ")\n",
    "user_item_matrix"
   ]
  },
  {
   "cell_type": "code",
   "execution_count": null,
   "id": "7e7ec386",
   "metadata": {},
   "outputs": [],
   "source": [
    "# 행렬의 크기 확인 (고객 수 × 상품 수)\n",
    "user_item_matrix.shape"
   ]
  },
  {
   "cell_type": "markdown",
   "id": "ee38b662",
   "metadata": {},
   "source": [
    "- 구매가 적은 사용자/상품 필터링"
   ]
  },
  {
   "cell_type": "code",
   "execution_count": null,
   "id": "c0fc3262",
   "metadata": {},
   "outputs": [],
   "source": [
    "# 필터링 기준 정의\n",
    "min_product_purchases = 10   # 최소 10명 이상이 구매한 상품만 사용\n",
    "min_user_purchases = 2       # 최소 2개 이상 상품 구매한 사용자만 사용\n",
    "\n",
    "# 상품별 구매된 고객 수 계산\n",
    "product_purchase_count = (user_item_matrix > 0).sum()\n",
    "\n",
    "# 고객별 구매한 상품 수 계산\n",
    "user_purchase_count = (user_item_matrix > 0).sum(axis=1)\n",
    "\n",
    "# 기준을 만족하는 상품과 사용자 필터링\n",
    "filtered_products = product_purchase_count[product_purchase_count >= min_product_purchases].index\n",
    "filtered_users = user_purchase_count[user_purchase_count >= min_user_purchases].index\n",
    "\n",
    "# 필터링된 행렬 추출\n",
    "filtered_matrix = user_item_matrix.loc[filtered_users, filtered_products]\n",
    "print(f\"\\n2. Filtered Matrix Shape: {filtered_matrix.shape}\")"
   ]
  },
  {
   "cell_type": "markdown",
   "id": "6e68fbf6",
   "metadata": {},
   "source": [
    "- 이상치 및 음수 제거한 트랜잭션 데이터 생성"
   ]
  },
  {
   "cell_type": "code",
   "execution_count": null,
   "id": "fbd76a4d",
   "metadata": {},
   "outputs": [],
   "source": [
    "# Z-score 기준으로 이상치 제거 (±3 이상) + 구매 수량이 양수인 데이터만 남김\n",
    "transaction_data_cleaned = transaction_data[\n",
    "    (transaction_data['z_score'] < 3) & \n",
    "    (transaction_data['z_score'] > -3) & \n",
    "    (transaction_data['Quantity'] > 0)\n",
    "]\n",
    "print(transaction_data_cleaned.shape)\n",
    "\n",
    "# 데이터 샘플 확인\n",
    "transaction_data_cleaned.head()"
   ]
  },
  {
   "cell_type": "markdown",
   "id": "26c467a4",
   "metadata": {},
   "source": [
    "- 정제된 데이터로 다시 사용자-상품 행렬 생성 및 필터링"
   ]
  },
  {
   "cell_type": "code",
   "execution_count": null,
   "id": "253716f7",
   "metadata": {},
   "outputs": [],
   "source": [
    "# 더 정확한 연관 규칙 도출을 위해 이상치 제거 후 재생성\n",
    "# 정제된 데이터를 기반으로 사용자-상품 매트릭스 다시 생성\n",
    "user_item_matrix = transaction_data_cleaned.pivot_table(\n",
    "    index='Household_ID',     # 가구 ID 기준\n",
    "    columns='Product_ID',     # 상품 ID 기준\n",
    "    values='Sales_Value',     # 구매 금액\n",
    "    aggfunc='sum',            # 상품별 총 구매금액\n",
    "    fill_value=0              # 구매 이력 없으면 0\n",
    ")\n",
    "\n",
    "# 필터링 기준 재사용\n",
    "min_product_purchases = 10  \n",
    "min_user_purchases = 2     \n",
    "\n",
    "# 상품/사용자별 구매 횟수 계산\n",
    "product_purchase_count = (user_item_matrix > 0).sum()\n",
    "user_purchase_count = (user_item_matrix > 0).sum(axis=1)\n",
    "\n",
    "# 조건에 맞는 상품과 사용자 필터\n",
    "filtered_products = product_purchase_count[product_purchase_count >= min_product_purchases].index\n",
    "filtered_users = user_purchase_count[user_purchase_count >= min_user_purchases].index\n",
    "\n",
    "# 최종 필터링된 행렬 생성\n",
    "filtered_matrix = user_item_matrix.loc[filtered_users, filtered_products]\n",
    "filtered_matrix"
   ]
  },
  {
   "cell_type": "markdown",
   "id": "1148b87c",
   "metadata": {},
   "source": [
    "- 상품 정보 조인하여 제품 타입 단위로 분석 준비"
   ]
  },
  {
   "cell_type": "code",
   "execution_count": null,
   "id": "55dad210",
   "metadata": {},
   "outputs": [],
   "source": [
    "# Product_ID을 기준으로 데이터 product와 inner join하여 Product_type 정보 추가\n",
    "merged_data = pd.merge(transaction_data_cleaned, product, on='Product_ID', how='inner')\n",
    "merged_data"
   ]
  },
  {
   "cell_type": "markdown",
   "id": "9f52b6c8",
   "metadata": {},
   "source": [
    "- 장바구니(Basket_ID)별로 구매한 상품타입 목록 정리"
   ]
  },
  {
   "cell_type": "code",
   "execution_count": null,
   "id": "af655b5f",
   "metadata": {},
   "outputs": [],
   "source": [
    "# 각 거래(Basket_ID)마다 구매한 상품 유형(Product_type)의 리스트 생성\n",
    "transactions = merged_data.groupby('Basket_ID')['Product_type'].unique().reset_index()\n",
    "transactions"
   ]
  },
  {
   "cell_type": "markdown",
   "id": "582e6ba8",
   "metadata": {},
   "source": [
    "- 트랜잭션 리스트로 변환"
   ]
  },
  {
   "cell_type": "code",
   "execution_count": null,
   "id": "fe769819",
   "metadata": {},
   "outputs": [],
   "source": [
    "transaction_list = transactions['Product_type'].tolist()\n",
    "transaction_list = [list(item) for item in transaction_list]\n",
    "print(transaction_list[:5])"
   ]
  },
  {
   "cell_type": "markdown",
   "id": "723afb68",
   "metadata": {},
   "source": [
    "- 트랜잭션 통계"
   ]
  },
  {
   "cell_type": "code",
   "execution_count": null,
   "id": "ef5e8aa3",
   "metadata": {},
   "outputs": [],
   "source": [
    "transactions['num_products'] = transactions['Product_type'].apply(len)\n",
    "average_products_per_order = transactions['num_products'].mean()\n",
    "max_products_per_order = transactions['num_products'].max()\n",
    "min_products_per_order = transactions['num_products'].min()\n",
    "\n",
    "print(f\"Average number of products per order: {average_products_per_order}\")\n",
    "print(f\"Maximum number of products per order: {max_products_per_order}\")\n",
    "print(f\"Minimum number of products per order: {min_products_per_order}\")"
   ]
  },
  {
   "cell_type": "markdown",
   "id": "27eb35e9",
   "metadata": {},
   "source": [
    "<span style=\"color:black; background-color:#E6E6FA; padding:2px 4px; border-radius:4px\">\n",
    "<strong> 🤓 지금부턴 지난 실습 때 했던 과정의 반복! <strong>\n",
    "</span>"
   ]
  },
  {
   "cell_type": "markdown",
   "id": "8fb5a605",
   "metadata": {},
   "source": [
    "## **2️⃣ 연관 분석 - TransactionEncoder로 이진 행렬로 변환**"
   ]
  },
  {
   "cell_type": "code",
   "execution_count": null,
   "id": "fbccdbba",
   "metadata": {},
   "outputs": [],
   "source": [
    "from mlxtend.preprocessing import TransactionEncoder\n",
    "\n",
    "te = TransactionEncoder()\n",
    "te_ary = te.fit(transaction_list).transform(transaction_list)  # 학습과 변환을 따로따로!\n",
    "\n",
    "df_encoded = pd.DataFrame(te_ary, columns=te.columns_).astype(int)\n",
    "df_encoded.head()"
   ]
  },
  {
   "cell_type": "markdown",
   "id": "f3b0f247",
   "metadata": {},
   "source": [
    "## **3️⃣ 연관 분석 - Apriori 알고리즘 활용**"
   ]
  },
  {
   "cell_type": "markdown",
   "id": "9bd68b43",
   "metadata": {},
   "source": [
    "- Apriori 알고리즘으로 빈발 항목 집합 도출 (지지도 0.05% 이상)"
   ]
  },
  {
   "cell_type": "code",
   "execution_count": null,
   "id": "75a169ba",
   "metadata": {},
   "outputs": [],
   "source": [
    "from mlxtend.frequent_patterns import apriori\n",
    "\n",
    "filtered_onehot = df_encoded.loc[:, df_encoded.sum(axis=0) > 20]\n",
    "\n",
    "# apriori로 frequent_itemsets 추출 (최소지지도는 0.005, use_colnames=True, low_memory=True)\n",
    "frequent_itemsets = apriori(filtered_onehot, min_support=0.005, use_colnames=True, low_memory=True)\n",
    "frequent_itemsets.head()"
   ]
  },
  {
   "cell_type": "markdown",
   "id": "8fd6e1cc",
   "metadata": {},
   "source": [
    "- `association_rules`로 연관 규칙 도출 및 필터링(신뢰도 40% 이상)"
   ]
  },
  {
   "cell_type": "code",
   "execution_count": null,
   "id": "e86e9791",
   "metadata": {},
   "outputs": [],
   "source": [
    "num_itemsets = len(frequent_itemsets)\n",
    "\n",
    "# confidence 기준으로 연관 규칙(rules)을 추출하세요.\n",
    "# 조건: min_threshold=0.4, metric=\"***\",num_itemsets = num_itemsets\n",
    "rules = association_rules(frequent_itemsets, metric=\"confidence\", min_threshold=0.4, num_itemsets = num_itemsets)\n",
    "\n",
    "rules[['antecedents', 'consequents', 'support', 'confidence', 'lift']].head()"
   ]
  },
  {
   "cell_type": "code",
   "execution_count": null,
   "id": "427eb444",
   "metadata": {},
   "outputs": [],
   "source": [
    "print(rules.shape)"
   ]
  },
  {
   "cell_type": "markdown",
   "id": "d64d6cd1",
   "metadata": {},
   "source": [
    "- 연관 분석용 리스트 구조 정리"
   ]
  },
  {
   "cell_type": "code",
   "execution_count": null,
   "id": "86db7773",
   "metadata": {},
   "outputs": [],
   "source": [
    "transaction_list = [list(t) if isinstance(t, (list, np.ndarray)) else [t] for t in transaction_list]\n",
    "transaction_list = [t.tolist() if isinstance(t, np.ndarray) else list(t) if isinstance(t, list) else [t] for t in transaction_list]"
   ]
  },
  {
   "cell_type": "markdown",
   "id": "cc539385",
   "metadata": {},
   "source": [
    "- 불필요한 지표 제거"
   ]
  },
  {
   "cell_type": "code",
   "execution_count": null,
   "id": "cc710b22",
   "metadata": {},
   "outputs": [],
   "source": [
    "apriori = rules.drop(columns=[\n",
    "    \"antecedent support\", \n",
    "    \"consequent support\", \n",
    "    \"representativity\", \n",
    "    \"conviction\", \n",
    "    \"zhangs_metric\", \n",
    "    \"jaccard\", \n",
    "    \"certainty\", \n",
    "    \"kulczynski\"\n",
    "])"
   ]
  },
  {
   "cell_type": "markdown",
   "id": "67ea3329",
   "metadata": {},
   "source": [
    "- 유의미한 규칙 필터링(향상도 1 이상)"
   ]
  },
  {
   "cell_type": "code",
   "execution_count": null,
   "id": "6b63bb88",
   "metadata": {},
   "outputs": [],
   "source": [
    "apriori = apriori[apriori['lift'] >= 1]"
   ]
  },
  {
   "cell_type": "markdown",
   "id": "8ad8398e",
   "metadata": {},
   "source": [
    "- 결과 확인"
   ]
  },
  {
   "cell_type": "code",
   "execution_count": null,
   "id": "b9853bc3",
   "metadata": {},
   "outputs": [],
   "source": [
    "apriori"
   ]
  },
  {
   "cell_type": "markdown",
   "id": "7c39f03c",
   "metadata": {},
   "source": [
    "## **[ 참고 ] 연관 분석 - FP-Growth 알고리즘 활용**"
   ]
  },
  {
   "cell_type": "markdown",
   "id": "0084d2ea",
   "metadata": {},
   "source": [
    "- 코드를 돌릴 때 조심해주세요!"
   ]
  },
  {
   "cell_type": "code",
   "execution_count": null,
   "id": "0a8cbead",
   "metadata": {},
   "outputs": [],
   "source": [
    "filtered_onehot"
   ]
  },
  {
   "cell_type": "markdown",
   "id": "96aaeb3a",
   "metadata": {},
   "source": [
    "<span style=\"color:black; background-color:#E6E6FA; padding:2px 4px; border-radius:4px\">\n",
    "<strong> 🥹 실습 때 다루었던 FP-Growth 알고리즘이 참고 자료가 된 이유는 다음 셀 때문이에요... 돌릴 때 조심해주세요... 30분씩 걸릴 때도 있거든요... <strong>\n",
    "</span>"
   ]
  },
  {
   "cell_type": "markdown",
   "id": "ab6c21e7",
   "metadata": {},
   "source": [
    "<span style=\"color:black; background-color:#fff5b1; padding:2px 4px; border-radius:4px\">\n",
    "<strong> 🤔 \"엥? 근데 FP-Growth 알고리즘이 Apriori 알고리즘보다 계산이 빠르다고 하지 않았나?\"<strong>\n",
    "</span>"
   ]
  },
  {
   "cell_type": "markdown",
   "id": "cf7f8dd8",
   "metadata": {},
   "source": [
    "<span style=\"color:black; background-color:#E6E6FA; padding:2px 4px; border-radius:4px\">\n",
    "<strong> 🤓 네! 공부를 열심히 하셨군요!? 맞습니다! 이론상 FP-Growth 알고리즘이 Apriori 알고리즘이 계산이 더 빠릅니다!<strong>\n",
    "</span>"
   ]
  },
  {
   "cell_type": "markdown",
   "id": "d5f15acf",
   "metadata": {},
   "source": [
    "<span style=\"color:black; background-color:#fff5b1; padding:2px 4px; border-radius:4px\">\n",
    "<strong> 🤔 엥 그럼 왜...? <strong>\n",
    "</span>"
   ]
  },
  {
   "cell_type": "markdown",
   "id": "09670625",
   "metadata": {},
   "source": [
    "<span style=\"color:black; background-color:#E6E6FA; padding:2px 4px; border-radius:4px\">\n",
    "<strong> 🤓 사용한 라이브러리의 차이입니다! 저희는 mlxtend 라이브러리를 사용했습니다! <strong>\n",
    "</span>"
   ]
  },
  {
   "cell_type": "markdown",
   "id": "0ea2178f",
   "metadata": {},
   "source": [
    "<span style=\"color:black; background-color:#E6E6FA; padding:2px 4px; border-radius:4px\">\n",
    "<strong> 🤓 mlxtend 라이브러리의 경우 Apriori는 Cython으로 최적화 되어 매우 빠르게 작동하지만, FP-Growth는 순수 Python으로 구현하기 때문에 오히려 느릴 수 있습니다. 이 경우 fpgrowth_py 라이브러리를 활용한다면 더 빠르게 작동할 수 있어요~ <strong>\n",
    "</span>"
   ]
  },
  {
   "cell_type": "markdown",
   "id": "17ab25d8",
   "metadata": {},
   "source": [
    "- FP-Growth 알고리즘으로 빈발 항목 집합 도출 (지지도 0.05% 이상)"
   ]
  },
  {
   "cell_type": "code",
   "execution_count": null,
   "id": "013aa6e2",
   "metadata": {},
   "outputs": [],
   "source": [
    "from mlxtend.frequent_patterns import fpgrowth\n",
    "\n",
    "# FP-Growth 알고리즘을 사용해 frequent_itemsets_fp을 생성하세요.\n",
    "# 조건: 최소지지도: 0.005, use_colnames=True, 입력 데이터는 boolean 타입(astype(bool))\n",
    "frequent_itemsets_fp = fpgrowth(filtered_onehot.astype(bool), min_support=0.005, use_colnames=True)\n",
    "frequent_itemsets_fp.head() # 너무 오래걸려서 중간에 중단했어요 ㅜㅜ~"
   ]
  },
  {
   "cell_type": "markdown",
   "id": "fbcb15cf",
   "metadata": {},
   "source": [
    "- `association_rules`로 연관 규칙 도출 및 필터링(신뢰도 40% 이상)"
   ]
  },
  {
   "cell_type": "code",
   "execution_count": null,
   "id": "6f7e60ef",
   "metadata": {},
   "outputs": [],
   "source": [
    "# confidence 기준으로 연관 규칙(rules)을 추출하세요.\n",
    "# 조건: min_threshold=0.4, metric=\"***\"\n",
    "rules_fp = association_rules(frequent_itemsets_fp, metric=\"confidence\", min_threshold=0.4)\n",
    "\n",
    "rules_fp.head()"
   ]
  },
  {
   "cell_type": "code",
   "execution_count": null,
   "id": "cb0126df",
   "metadata": {},
   "outputs": [],
   "source": [
    "from IPython.display import display\n",
    "\n",
    "print(\"🔥 Frequent Itemsets:\")\n",
    "display(frequent_itemsets_fp)\n",
    "\n",
    "print(\"\\n🔥 Association Rules:\")\n",
    "display(rules_fp)"
   ]
  },
  {
   "cell_type": "code",
   "execution_count": null,
   "id": "8325c91f",
   "metadata": {},
   "outputs": [],
   "source": [
    "fp_growth = rules_fp.drop(columns=[\n",
    "    \"antecedent support\", \n",
    "    \"consequent support\", \n",
    "    \"representativity\", \n",
    "    \"conviction\", \n",
    "    \"zhangs_metric\", \n",
    "    \"jaccard\", \n",
    "    \"certainty\", \n",
    "    \"kulczynski\"\n",
    "])"
   ]
  },
  {
   "cell_type": "markdown",
   "id": "4458dd60",
   "metadata": {},
   "source": [
    "- 유의미한 규칙 필터링(향상도 1 이상)"
   ]
  },
  {
   "cell_type": "code",
   "execution_count": null,
   "id": "5dcfc89b",
   "metadata": {},
   "outputs": [],
   "source": [
    "fp_growth = fp_growth[fp_growth['lift'] >= 1]\n",
    "fp_growth"
   ]
  },
  {
   "cell_type": "markdown",
   "id": "65dcdcd9",
   "metadata": {},
   "source": [
    "## **4️⃣ 연관 분석 - 결과 해석**"
   ]
  },
  {
   "cell_type": "markdown",
   "id": "6e70c44d",
   "metadata": {},
   "source": [
    "<span style=\"color:black; background-color:#E6E6FA; padding:2px 4px; border-radius:4px\">\n",
    "<strong> 🤓 결과를 해석하고 전략을 세우는 게 해당 과제의 핵심이니 꼭!!!! 성의있게 깊게 고민한 흔적을 남겨주세요! <strong>\n",
    "</span>"
   ]
  },
  {
   "cell_type": "markdown",
   "id": "07f6e410",
   "metadata": {},
   "source": [
    "### **[연관분석] 지지도 0.9% 이상, 신뢰도 55% 이상, 향상도 1 이상 연관 분석**"
   ]
  },
  {
   "cell_type": "code",
   "execution_count": null,
   "id": "92327fa1",
   "metadata": {},
   "outputs": [],
   "source": [
    "results = apriori[(apriori['confidence']>0.55)&(apriori['support']>0.009)&(apriori['lift']>1)]\n",
    "results"
   ]
  },
  {
   "cell_type": "code",
   "execution_count": null,
   "id": "ea2173cc",
   "metadata": {},
   "outputs": [],
   "source": [
    "# lift 기준 상위 5개 규칙 추출\n",
    "top5_rules = results.sort_values(by='lift', ascending=False).head(5)\n",
    "\n",
    "# 규칙 문자열로 변환 (frozenset → 문자열)\n",
    "top5_rules['rule'] = top5_rules.apply(\n",
    "    lambda row: f\"{', '.join(row['antecedents'])} → {', '.join(row['consequents'])}\",\n",
    "    axis=1\n",
    ")\n",
    "top5_rules"
   ]
  },
  {
   "cell_type": "markdown",
   "id": "9e0bf92f",
   "metadata": {},
   "source": [
    "- 위 결과를 지지도, 신뢰도, 향상도 값을 바탕으로 해석해주세요! (두 가지 이상)"
   ]
  },
  {
   "cell_type": "markdown",
   "id": "50294377",
   "metadata": {},
   "source": [
    "<span style=\"color:black; background-color:#E6E6FA; padding:2px 4px; border-radius:4px\">  \n",
    "<strong> 🤓 [ 예시 ] 'FLUID MILK WHITE ONLY'(우유)는 다양한 품목과 높은 결합 구매 패턴을 보이며, 30개 이상의 제품과 lift 2 이상으로 강한 연관성을 나타낸다. <br> 특히 시리얼 계열인 'ALL FAMILY CEREAL', 'KIDS CEREAL', 'ADULT CEREAL'은 각각 65% 이상의 신뢰도와 2.6~2.7의 lift를 기록해 눈에 띄는 결합 소비가 확인된다. <br> 전반적으로 우유는 시리얼, 과일, 베이커리, 아침 식사류 제품들과 자주 함께 구매되며, 이는 소비자의 식사 준비 맥락과 밀접하게 연결된 구매 경향을 보여준다. <strong>  \n",
    "</span>"
   ]
  },
  {
   "cell_type": "markdown",
   "id": "8c6d99f4",
   "metadata": {},
   "source": [
    "- 해석 1:FLUID MILK WHITE ONLY(흰 우유)는 아침 식사용 항목(빵, 계란, 시리얼 등..) 과 매우 강하게 연관되어 있음. 향상도(lift)가 3이상이라는 건, 우유를 단독으로 구매하는 고객에 비해 특정 품목들과 함께 구매되는 비율이 3배 이상이라는 뜻, 이는 고객의 구매 행동이 일관된 조합 패턴을 따르고 있음을 알 수 있다."
   ]
  },
  {
   "cell_type": "markdown",
   "id": "e650810a",
   "metadata": {},
   "source": [
    "- 해석 2: 흰 우유는 구매 의도가 강한 고정선호 상품일 수 있다. 많은 규칙에서 consequents(결과) 가 동일하게 FLUID MILK WHITE ONLY(흰 우유)임은,\n",
    "고객들이 흰 우유를 주요 목적 구매 품목으로 인식하고 있다는 뜻일 수 있다. 연관 규칙 구조가 대부분 상품 A,B,C... -> 흰 우유 구조인데, 이는 흰 우유가 주로 따라오는 보조 품목처럼 보일 수 있으나 실제 lift 값이 2.5~3 이상으로 매우 높은 수준이다.<br>\n",
    "→ 이는 오히려 흰 우유가 주요 목적 상품이고, <br>\n",
    "→ 나머지 품목들은 우유를 사는 길에 자연스럽게 동반 구매된 것일 수 있음!"
   ]
  },
  {
   "cell_type": "markdown",
   "id": "06a2a75a",
   "metadata": {},
   "source": [
    "## **5️⃣ 연관 분석 - 비즈니스 전략 수립**"
   ]
  },
  {
   "cell_type": "markdown",
   "id": "6d162941",
   "metadata": {},
   "source": [
    "- 위 결과해석에 따라 비즈니스 전략을 수립해주세요! (2가지 이상) -> 냅다 GPT만 패서 쓰지 말아주세요 . . .. . "
   ]
  },
  {
   "cell_type": "markdown",
   "id": "344e55fa",
   "metadata": {},
   "source": [
    "<span style=\"color:black; background-color:#E6E6FA; padding:2px 4px; border-radius:4px\">  \n",
    "<strong> 🤓 [ 예시 ] 우유와 함께하는 식탁 큐레이션 존 구성 <strong>  \n",
    "</span>"
   ]
  },
  {
   "cell_type": "markdown",
   "id": "ff8b7788",
   "metadata": {},
   "source": [
    "**🎯 목적**\n",
    "\n",
    "* 우유와 자주 함께 구매되는 상품을 모아 **직관적인 구매 유도**\n",
    "* **객단가 상승**, **편리한 쇼핑 경험 제공**\n",
    "\n",
    "**🛒 구성 품목**\n",
    "\n",
    "* **시리얼류**: KIDS / ALL FAMILY / ADULT CEREAL\n",
    "* **베이커리**: 식빵, 비스킷, 토스터 페이스트리\n",
    "* **과일류**: 바나나, 컵과일\n",
    "* **유제품/간편식**: 요거트, 달걀, 마카로니 등\n",
    "\n",
    "**📍 운영 방법**\n",
    "\n",
    "* 우유 냉장고 인근에 **\"우유와 최고의 궁합!\"** 테마존 설치\n",
    "* POP/QR코드로 **추천 식단**이나 **할인 쿠폰** 제공\n",
    "* 계절별 테마 구성 (예: 여름=냉과일, 겨울=오트밀)\n",
    "\n",
    "**📈 기대 효과**\n",
    "\n",
    "* 우유 결합 구매율 상승\n",
    "* 연관 제품 매출 증가\n",
    "* ‘고민 없는 조합’으로 **고객 만족도 향상**\n",
    "\n"
   ]
  },
  {
   "cell_type": "markdown",
   "id": "19af060c",
   "metadata": {},
   "source": [
    "- 전략 1: __[조식 패키지 추천 서비스]__ <br>\n",
    "**목적** : 아침식사에 자주 함께 구매되는 품목을 묶음으로 추천해 고객의 구매 편의성 증가, 이커머스/앱 중심의 개인화 추천 마케팅 실현 <br>\n",
    "**운영 방법** :\t<br>\n",
    "    •\t오프라인: 매장 진열/냉장 코너 옆에 ‘조식 패키지’ 섹션 설치 <br>\n",
    "\t•\t온라인/앱: \n",
    "\t•\t고객 장바구니 기반 추천 조합 자동 노출 <br>\n",
    "\t•\t특정 품목 담으면 연관 패키지가 팝업으로 뜨도록 실행 → (ex)“이 조합도 함께 어때요?” <br>\n",
    "**예시**: <br>\n",
    "\"아침은 시리얼로\" 패키지 : 우유 + KIDS 시리얼 + 바나나 -> 10% 묶음 할인 전략 \n",
    "\n"
   ]
  },
  {
   "cell_type": "markdown",
   "id": "d0e080eb",
   "metadata": {},
   "source": [
    "- 전략 2: __[진열 순서 최적화 전략]__<br>\n",
    "**목적** : 우유 구매 고객을 대상으로 연관 상품의 노출 기회를 극대화, 고객이 우유를 구매하러 가는 길에 연관 상품을 자연스럽게 접촉하도록 진열 <br>\n",
    "**운영 방법** : <br>\n",
    "매장 내 동선 설계 <br>\n",
    "\t1.\t입구 → 시리얼/식빵/과일 → 우유 코너 순으로 동선 구성 <br>\n",
    "\t•\t고객이 우유를 구매하러 가는 길에 자연스럽게 연관 상품을 지나도록 유도 <br>\n",
    "\n",
    "\t2.\t“흰 우유 사면 이것도 많이 사요” POP 설치 <br>\n",
    "\t•\t연관 규칙 근거한 추천 조합을 시각화해서 보여주기 (향상도 순으로 추천)"
   ]
  },
  {
   "cell_type": "markdown",
   "id": "956594ce",
   "metadata": {},
   "source": [
    "# **🤓 기가 막힌 전략을 제시하는 분께는 행운이 찾아옵니다~🍀**"
   ]
  },
  {
   "cell_type": "markdown",
   "id": "a9649662",
   "metadata": {},
   "source": []
  }
 ],
 "metadata": {
  "kernelspec": {
   "display_name": "base",
   "language": "python",
   "name": "python3"
  },
  "language_info": {
   "codemirror_mode": {
    "name": "ipython",
    "version": 3
   },
   "file_extension": ".py",
   "mimetype": "text/x-python",
   "name": "python",
   "nbconvert_exporter": "python",
   "pygments_lexer": "ipython3",
   "version": "3.12.7"
  }
 },
 "nbformat": 4,
 "nbformat_minor": 5
}
