{
 "cells": [
  {
   "cell_type": "markdown",
   "id": "fe8f65be-ed1c-4a37-ac2e-496abea9ec2e",
   "metadata": {},
   "source": [
    "## '클론코딩 해보면서 느낀점 및 배운 점 마크다운 정리해보기'"
   ]
  },
  {
   "cell_type": "markdown",
   "id": "123ba796-d881-47cc-a106-f1876ef54f16",
   "metadata": {},
   "source": [
    "### 1. House Sales in King Country, USA\n",
    "1) 데이터 분석 중 describe()에 더해 중간값, 결측치, 왜도, 첨도까지 확인한다  \n",
    "    -> 종속변수의 데이터를 살펴봄  \n",
    "    -> 왜도가 치우쳐져 있음을 확인했고 이를 자연로그를 활용해 분포를 조정했다  \n",
    "    -> 종속변수의 분포를 변환  \n",
    "\n",
    "... 비선형회귀 분석: 독립변수 - 종속변수의 비선형 관계를 선형모델로 변환해 독립변수들로부터 종속변수 예측 \n",
    "종속변수의 분포를 변환 => 잔차의 정규성 가정 / 오차 분산 / 이상치 영향  \n",
    "\n",
    "2) object 타입은 확인 후 적절히 변환하여 int / float으로 변환  \n",
    "- 경우에 따라 달라질 듯하다  \n",
    "여기선 \"지어짐 ~ 매각 연도\" 변수 추가를 위해 이렇게 한 듯. \n",
    "\n",
    "3) 독립변수들의 데이터 분포 확인 -> 종속변수와 선형 관계 있을 것 같은 독립변수 선정\n",
    "~ 과정이...?\n",
    "GPT: 종속변수와 비교하여 유사한 분포를 가지는 변수 찾기 / 피어슨 상관관계  \n",
    "heatmap/pairplot으로 독립-종속 선형관계 있는 독립변수 확인 / 독립변수 간 상관관계 확인  \n",
    "\n",
    "5) 독립변수 중 종속변수의 예측에 관련 없다고 생각되면 제외한다.  \n",
    "grade의 경우 최종 결정되는 '등급' 값이라 등급으로 가격을 예측하는 것은 무의미하다고 판단    \n",
    "독립-종속 상관관계가 높은 변수가 여러개 있다면 -> 세 변수의 분포 확인  \n",
    "-> 비슷하다면(다중공선성이 존재하면) price와 상관관계가 가장 높은 변수만 택해서 분석  \n",
    "\n",
    "6) 종속 변수와 가장 상관관계가 높은 독립변수로 단순 선형 회귀분석 실시  \n",
    "** 회귀분석 시에는 항상 상수항 추가  \n",
    "\n",
    "- OLS(종속, 독립), fit, summary -> 통계적 유의성 확인  \n",
    "\n",
    "6) 실제 - 모델 추정 값인 잔차 확인  \n",
    "-> 회귀모델 가정 진단?\n"
   ]
  },
  {
   "cell_type": "markdown",
   "id": "021b1f95-c56d-4dc3-bbe3-5446c971a3cb",
   "metadata": {},
   "source": [
    "### 다중 선형 회귀  \n",
    "- 설명 변수 둘 이상. 다중공선성 문제. 차원의 저주 문제 발생 가능\n",
    "- 범주형 변수를 설명 변수에 포함.\n",
    "\n",
    "1) 모든 독립 변수(id 제외) 사용해서 다중 선형 회귀분석  \n",
    "-> 독립 / 종속변수 column, data 구분  \n",
    "-> OLS, fit, summary -> 통계적 유의성 확인  \n",
    "-> 다중 선형 회귀: 다중공선성 문제 확인해야 됨  \n",
    "\t- VIF 확인 -> 독립변수 선별  \n",
    "\n",
    "2) 그 후 선별한 독립 변수들로 다시 다중 선형 회귀분석  \n",
    "- 비대칭 분포의 반응변수(price)를 완화한 상태(정규분포, 자연 로그 취함)에서 회귀 분석  \n",
    "-> 통계적 유의성 확인  \n",
    "-> 다중공선성 확인  \n"
   ]
  },
  {
   "cell_type": "markdown",
   "id": "d971eb3b-b9e1-457d-86ce-173ce2f6e635",
   "metadata": {},
   "source": [
    "### 회귀모형의 가정 진단  \n",
    "- 회귀모형: 반응 변수와 설명변수의 선형 관계를 전제로 함  \n",
    "- 오차에 대한 독립성, 정규성, 등분산성 가정을 전제로 함.  \n",
    "=> 모형의 유의성, 계수의 유의성이 확인되었더라도 \"오차\"에 대한 가정 만족 X 시 다른 대안  \n",
    "\n",
    "1) 선형성 검정. - scatter / plot  \n",
    "2) (잔차)정규성 검정 - QQ plot , histplot, 잔차 패턴확인, 샤파로 - 워크 검정   \n",
    "** 잔차 패턴으로 정규성 확인  \n",
    "fig = plt.scatter(pred, resid, s=3) ~ 점들이 특정한 패턴 없이 랜덤하게 분포함.  \n",
    "3) 독립성 검정  \n",
    "4) 오차항의 자기상관 검정 - ACF / Durbin-Watson(2 가까우면 자기 상관이 없다)  \n",
    " - 잔차들이 서로 독립적인가? 패턴을 가지는가?\n",
    " - \n",
    "# ACF (Auto-Correlation Function)\n",
    "sm.graphics.tsa.plot_acf(result_model_2.resid)  \n",
    "  \n",
    "from statsmodels.stats.stattools import durbin_watson  \n",
    "dw_stat = durbin_watson(result_model_2.resid)  \n",
    "\n",
    "5) (잔차) 등분산성 ~ 고르게 분포하는가? \n",
    "\n",
    "6) 오차항의 평균이 0인가 \n",
    "\n",
    "=> 가정을 다 만족한다면 모델은 적합하다. "
   ]
  },
  {
   "cell_type": "markdown",
   "id": "2d6e0174-b650-4fa6-b8fb-03c35809b6ca",
   "metadata": {},
   "source": [
    "문법 \n",
    "1) ```for idx, val in enumerate(df_stats.index): ``` \n",
    "enumerate(iterable): 반복가능한 객체에 인덱스와 값을 함께 반환  \n",
    "\n",
    "2) ```df_obj['date2'] = df_obj['date'].apply(lambda x: x[0:4])\n",
    "apply ~ 4자리만 추출  \n",
    "apply(): Pandas 데이터프레임의 각 원소에 함수를 적용하는 함수  \n",
    "lambda x: x[0:4] 문자열 x의 첫 4글자만 반환  \n",
    "\n",
    "3) ```# 회귀분석 상수항을 추가합니다\n",
    "``` X = sm.add_constant(X, has_constant=\"add\") ```\n",
    "\n",
    "\n",
    "4) ``` # 잔차를 확인합니다\n",
    "``` result_model.resid.plot() ```\n",
    "\n",
    "5) ``` fitted = result_model_2.fittedvalues ``` "
   ]
  },
  {
   "cell_type": "markdown",
   "id": "433c1b78-1b04-494c-b57c-14dca898dbea",
   "metadata": {},
   "source": [
    "선형 모델 학습 시키는 건 생각보다 많이 익숙해졌는데  \n",
    "이전에 데이터를 어떻게 다듬고 학습 이후에 데이터를 다뤄야하는지에 대해서는 좀 더 많이 해봐야 할 것 같습니다  \n",
    "독립변수-종속변수 간 선형성, 상관관계 / 독립변수 서로 독립?(다중공선성)  \n",
    "이전 과제 모델에서 잔차 가정에 대해 고려하지 않았는데  \n",
    "이번 과제를 통해 잔차 가정이 적합한 모델로 개선시키는데 중요한 과정이라는 것을 느꼈습니다  \n"
   ]
  }
 ],
 "metadata": {
  "kernelspec": {
   "display_name": "Python [conda env:base] *",
   "language": "python",
   "name": "conda-base-py"
  },
  "language_info": {
   "codemirror_mode": {
    "name": "ipython",
    "version": 3
   },
   "file_extension": ".py",
   "mimetype": "text/x-python",
   "name": "python",
   "nbconvert_exporter": "python",
   "pygments_lexer": "ipython3",
   "version": "3.12.7"
  }
 },
 "nbformat": 4,
 "nbformat_minor": 5
}
