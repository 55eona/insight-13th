{
 "cells": [
  {
   "cell_type": "markdown",
   "id": "1bb8b3cf",
   "metadata": {},
   "source": [
    "### 프로세스\n",
    "데이터 수집 -> 탐색(EDA) -> 전처리 -> 모델링"
   ]
  },
  {
   "cell_type": "markdown",
   "id": "a4983776",
   "metadata": {},
   "source": [
    "EDA(Exploratory Data Analysis):데이터 분석(모델링)을 위해 데이터를 파악하는 과정\n",
    "- 시각화 등으로 패턴 발견, 특이성 확인, 통계와 그래프로 가설 검정 과정 등"
   ]
  },
  {
   "cell_type": "markdown",
   "id": "9e2817cd",
   "metadata": {},
   "source": [
    "#### EDA 대상\n",
    "일변량: 데이터 설명 및 패턴 찾기\n",
    "다변량: 변수들 간의 관계 보기 ~ 개별 데이터를 먼저 파악하는 것이 용이\n",
    "\n",
    "#### EDA 종류\n",
    "시각화: 차트 or 그림 ~ 한 눈에 \n",
    "비시각화: summary statistics ~ 정확한 값\n",
    "\n",
    "#### EDA 유형\n",
    "Uni-non Graph. : 데이터의 Distribution 확인 (빈도, 통계량)\n",
    "Uni-Graph.: 전체적으로 살펴봄\n",
    "Multi-non Graph.: 둘 이상의 변수 간 관계\n",
    "Multi-Graph.: 둘 이상의 변수 간 관계를 전체적으로 확인\n"
   ]
  },
  {
   "cell_type": "markdown",
   "id": "d24c4e3f",
   "metadata": {},
   "source": [
    "#### 데이터 읽기\n",
    "pd.read_csv(경로) ~> 절대 경로 / 상대경로 (./: 현재 ../: 상위 /: 최상위 )\n",
    "* csv 파일: comma separated value 데이터를 쉼표로 구분\n",
    "* excel: 행과 열이 데이터 프레임의 행, 열로 일대일 대응 \n",
    "- read_excel( '파일경로/파일이름.xlsx',sheet_name='불러올 시트' / ['불러올 시트1', '2'] ) \n",
    "\n",
    "#### 데이터셋 파악하기\n",
    "* 데이터 프레임 보기 ~ head(n)\n",
    "* 변수(데이터프레임 column = feature) 확인: 어떤 정보? 질적 / 범주형? 양적 / 수치?\n",
    "* 변수 자료형 확인\n",
    "\n",
    "#### 데이터 분포 확인\n",
    "* 산포도 / 박스 플롯 / 히스토그램을 통해 단변수 데이터 분포를 확인해 분석\n",
    "=> 전처리 아이디어를 얻는다.\n",
    "\n",
    "#### 전처리\n",
    "- 데이터 분석(모델링)을 위해 데이터를 적절한 방식으로 손질하는 과정\n",
    "- 데이터 확인 -> 결측값 처리 -> 이상값 처리 -> 변수 가공\n",
    "* 기술: 데이터 정제 / 변환 / 필터링 / 통합\n",
    "\n",
    "* 결측값 = 데이터 수집 과정에서 측정되지 않거나 누락된 데이터\n",
    "\n",
    "#### 결측값 처리\n",
    "* 결측값 확인: NaN, ?, 0\n",
    "- info(), value_counts(dropna = False), isnull(), isnull.sum(), notnull(), replace() NaN이 아니라 0이나 ? 등으 입력값일 때, NaN으로 변환\n",
    "\n",
    "* 결측값 처리\n",
    "- 삭제: dropna() 결측값이 포함된 레이블 제거\n",
    "- DataFrame.dropna(axis=0/1, how='any'/'all', subset=[col1, col2, ...], inplace=True/False) ~ how: 하나라도 있으면 vs 모든 값이 결측값 일 때 / subset: axis = 0 행 삭제 시 적용\n",
    "\n",
    "- 대체: 평균값, 최빈값 등 활용. fillna() 일괄 대체, 유사 유형 대체 \n",
    "\n",
    "#### 이상치 처리\n",
    "이상치 = 관측된 데이터의 범위에서 많이 벗어난 값\n",
    "* 이상치 확인: describe() / 시각화 ~ BoxPlot .boxplot() plt.show() / Z-score / Tukey Fences(퓨키 펜스) ~ 데이터의 사분위 범위를 기반으로 데이터의 중간 50% 범위(25(Q1)~75(Q3)), Q1-1.5*IQR ~ Q3 + 1.5*IQR \n",
    "\n",
    "* 이상치 제거\n",
    "- 전체 삭제 / 다른 값 대체 / 변수화 / 리샘플링\n",
    "변수화: 자연발생적인 이상값일 때, 다른 변수를 가정. ex) 전문직 종사 여부 변수 추가\n",
    "리샘플링: 이상값을 제외하기 보다는 이상값 포함 모델 & 제외 모델 모두 만들고 설명\n",
    "\n",
    "#### 피처 엔지니어링(변수가공)\n",
    "- 데이터 전처리의 마지막 단계. 기존의 데이터를 보다 유용하게 만드는 방법\n",
    "- 기존의 데이터에 정보를 추가하는 일련의 과정\n",
    "\n",
    "* 레이블인코딩, 원핫인코딩: 텍스트 -> 숫자\n",
    " - 레이블: 범주형 변수를 0 ~ N-1까지의 숫자로 변환 / 원핫: 이진벡터로 변환  \n",
    " - pd.get_dummies(데이터 프레임, columns = [컬럼 리스트] \n",
    "\n",
    "* 구간화(binning): 연속적인 값을 일정한 구간으로 구분\n",
    " - 일정한 구간으로 나누어 이산적인 값으로 나타냄. \n",
    " - pd.cut(데이터프레임['컬럼명'], bins=[나누는 기준 리스트], labels=[지정할 label]) \n",
    " \n",
    "* 변환: 기존의 피처를 변환해 새로운 피처 생성\n",
    " - 기존 피처를 다른 피처로 ex) 일자 -> 요일\n",
    " \n",
    "* 스케일링: 서로 다른 변수의 값 범위를 일정한 수준으로 맞춤\n",
    " - 정규화: StandardScaler / MinMaxScaler: 0~1 사이. \n",
    " - sklearn: StandardScaler, MinMaxScaler, MaxAbsScaler, RobustScaler\n"
   ]
  },
  {
   "cell_type": "code",
   "execution_count": null,
   "id": "656d6a93",
   "metadata": {},
   "outputs": [],
   "source": []
  }
 ],
 "metadata": {
  "kernelspec": {
   "display_name": "Python 3",
   "language": "python",
   "name": "python3"
  },
  "language_info": {
   "codemirror_mode": {
    "name": "ipython",
    "version": 3
   },
   "file_extension": ".py",
   "mimetype": "text/x-python",
   "name": "python",
   "nbconvert_exporter": "python",
   "pygments_lexer": "ipython3",
   "version": "3.8.8"
  }
 },
 "nbformat": 4,
 "nbformat_minor": 5
}
