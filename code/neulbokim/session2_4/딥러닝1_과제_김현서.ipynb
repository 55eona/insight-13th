{
  "cells": [
    {
      "cell_type": "markdown",
      "metadata": {
        "id": "v1M_qrgGM3vf"
      },
      "source": [
        "# 💡 딥러닝(1) 과제"
      ]
    },
    {
      "cell_type": "markdown",
      "metadata": {
        "id": "Oiv-ZB7EM3vg"
      },
      "source": [
        "Q. 단층 퍼셉트론과 다층 퍼셉트론의 가장 큰 차이점에 대해 설명해주세요.\n",
        "<br>\n",
        "A. 단층 퍼셉트론은 은닉층 없이 입력층 하나, 출력층 하나로만 구성되어 있다. 반면 다층 퍼셉트론은 입력층 하나 출력층 하나 외에도 은닉층을 포함한다.\n",
        "\n",
        "\n",
        "<br><br>\n",
        "Q. 단층 퍼셉트론의 한계는 무엇이며, 이를 해결하기 위한 방법은 무엇인가요?\n",
        "<br>\n",
        "A. 단층 퍼셉트론은 XOR(배타적 논리합) 문제를 해결하지 못한다. 이를 해결하기 위해 다층 퍼셉트론을 통해 여러 퍼셉트론을 연결해 신경망을 만들어서 더욱 정교한 예측을 할 수 있게 만들 수 있다.\n",
        "<br><br>\n",
        "Q. 딥러닝 학습 과정의 목적이 무엇인지에 대해 설명해주세요.\n",
        "<br>\n",
        "A. 딥러닝 학습 과정의 목적은 손실 함수의 값을 최소화하는 매개변수인 가중치 w와 편향 b의 값을 구하는 것이다.\n"
      ]
    },
    {
      "cell_type": "markdown",
      "metadata": {
        "id": "MfIn2njmM3vg"
      },
      "source": [
        "#### 빈 칸을 채워주세요.\n",
        "역전파는 ( )을 이용하여 손실 함수에 대한 각 가중치의 그래디언트를 효율적으로 계산하는 알고리즘이다."
      ]
    },
    {
      "cell_type": "markdown",
      "metadata": {
        "id": "Mri5pUwGM3vh"
      },
      "source": [
        "#### T/F를 골라주시고, **F일 경우 이유까지** 함께 작성해주세요.\n",
        "(1) 딥러닝에서 순전파와 역전파는 상호 의존 관계이다.<br>\n",
        "T\n",
        " <br><br>\n",
        "\n",
        "(2) 신경망에서 활성 함수가 선형일 경우, 층을 여러 개 쌓더라도 복잡한 비선형 관계를 효과적으로 학습할 수 있다.<br>\n",
        "F: 활성 함수가 선형일 경우, 복잡한 비선형 문제를 해결하기 어렵다.\n",
        "<br>\n",
        "<br>\n",
        "(3) 경사하강법은 역전파를 통해 계산된 기울기를 활용하여 가중치를 업데이트하는 데 사용되는 최적화 알고리즘이다.<br>\n",
        "T\n"
      ]
    },
    {
      "cell_type": "markdown",
      "metadata": {
        "id": "WFeHfaeeM3vh"
      },
      "source": [
        "## 다층 퍼셉트론으로 MNIST(손글씨 이미지) 분류하기"
      ]
    },
    {
      "cell_type": "markdown",
      "metadata": {
        "id": "P481iYJKM3vh"
      },
      "source": [
        "### 1. 데이터 로드"
      ]
    },
    {
      "cell_type": "code",
      "execution_count": 1,
      "metadata": {
        "id": "I-T9HPywM3vh"
      },
      "outputs": [],
      "source": [
        "import numpy as np\n",
        "import matplotlib.pyplot as plt\n",
        "from sklearn.datasets import fetch_openml"
      ]
    },
    {
      "cell_type": "markdown",
      "metadata": {
        "id": "OAJu6lkLM3vi"
      },
      "source": [
        "MNIST 데이터셋을 불러옵니다. cache=True는 다운로드한 데이터를 로컬 디스크에 저장하여 다음 호출 때 빠르게 로드합니다."
      ]
    },
    {
      "cell_type": "code",
      "execution_count": 4,
      "metadata": {
        "id": "UvvV_mjxM3vi"
      },
      "outputs": [],
      "source": [
        "mnist = fetch_openml('mnist_784', cache=True, as_frame=False)"
      ]
    },
    {
      "cell_type": "markdown",
      "metadata": {
        "id": "Kjst9G95Pvb-"
      },
      "source": [
        "> version=1 때문에 에러가 나서 version=1을 뺐습니다!!\n",
        "\n"
      ]
    },
    {
      "cell_type": "markdown",
      "metadata": {
        "id": "cEJzOgvwM3vi"
      },
      "source": [
        "첫번째 샘플 출력해봅시다."
      ]
    },
    {
      "cell_type": "code",
      "execution_count": 5,
      "metadata": {
        "colab": {
          "base_uri": "https://localhost:8080/"
        },
        "id": "or6P2Ug0M3vi",
        "outputId": "1a8aeca5-43fc-4518-cbf7-4ff39d0356ac"
      },
      "outputs": [
        {
          "data": {
            "text/plain": [
              "array([  0,   0,   0,   0,   0,   0,   0,   0,   0,   0,   0,   0,   0,\n",
              "         0,   0,   0,   0,   0,   0,   0,   0,   0,   0,   0,   0,   0,\n",
              "         0,   0,   0,   0,   0,   0,   0,   0,   0,   0,   0,   0,   0,\n",
              "         0,   0,   0,   0,   0,   0,   0,   0,   0,   0,   0,   0,   0,\n",
              "         0,   0,   0,   0,   0,   0,   0,   0,   0,   0,   0,   0,   0,\n",
              "         0,   0,   0,   0,   0,   0,   0,   0,   0,   0,   0,   0,   0,\n",
              "         0,   0,   0,   0,   0,   0,   0,   0,   0,   0,   0,   0,   0,\n",
              "         0,   0,   0,   0,   0,   0,   0,   0,   0,   0,   0,   0,   0,\n",
              "         0,   0,   0,   0,   0,   0,   0,   0,   0,   0,   0,   0,   0,\n",
              "         0,   0,   0,   0,   0,   0,   0,   0,   0,   0,   0,   0,   0,\n",
              "         0,   0,   0,   0,   0,   0,   0,   0,   0,   0,   0,   0,   0,\n",
              "         0,   0,   0,   0,   0,   0,   0,   0,   0,   3,  18,  18,  18,\n",
              "       126, 136, 175,  26, 166, 255, 247, 127,   0,   0,   0,   0,   0,\n",
              "         0,   0,   0,   0,   0,   0,   0,  30,  36,  94, 154, 170, 253,\n",
              "       253, 253, 253, 253, 225, 172, 253, 242, 195,  64,   0,   0,   0,\n",
              "         0,   0,   0,   0,   0,   0,   0,   0,  49, 238, 253, 253, 253,\n",
              "       253, 253, 253, 253, 253, 251,  93,  82,  82,  56,  39,   0,   0,\n",
              "         0,   0,   0,   0,   0,   0,   0,   0,   0,   0,  18, 219, 253,\n",
              "       253, 253, 253, 253, 198, 182, 247, 241,   0,   0,   0,   0,   0,\n",
              "         0,   0,   0,   0,   0,   0,   0,   0,   0,   0,   0,   0,   0,\n",
              "        80, 156, 107, 253, 253, 205,  11,   0,  43, 154,   0,   0,   0,\n",
              "         0,   0,   0,   0,   0,   0,   0,   0,   0,   0,   0,   0,   0,\n",
              "         0,   0,   0,  14,   1, 154, 253,  90,   0,   0,   0,   0,   0,\n",
              "         0,   0,   0,   0,   0,   0,   0,   0,   0,   0,   0,   0,   0,\n",
              "         0,   0,   0,   0,   0,   0,   0, 139, 253, 190,   2,   0,   0,\n",
              "         0,   0,   0,   0,   0,   0,   0,   0,   0,   0,   0,   0,   0,\n",
              "         0,   0,   0,   0,   0,   0,   0,   0,   0,  11, 190, 253,  70,\n",
              "         0,   0,   0,   0,   0,   0,   0,   0,   0,   0,   0,   0,   0,\n",
              "         0,   0,   0,   0,   0,   0,   0,   0,   0,   0,   0,   0,  35,\n",
              "       241, 225, 160, 108,   1,   0,   0,   0,   0,   0,   0,   0,   0,\n",
              "         0,   0,   0,   0,   0,   0,   0,   0,   0,   0,   0,   0,   0,\n",
              "         0,   0,  81, 240, 253, 253, 119,  25,   0,   0,   0,   0,   0,\n",
              "         0,   0,   0,   0,   0,   0,   0,   0,   0,   0,   0,   0,   0,\n",
              "         0,   0,   0,   0,   0,  45, 186, 253, 253, 150,  27,   0,   0,\n",
              "         0,   0,   0,   0,   0,   0,   0,   0,   0,   0,   0,   0,   0,\n",
              "         0,   0,   0,   0,   0,   0,   0,   0,  16,  93, 252, 253, 187,\n",
              "         0,   0,   0,   0,   0,   0,   0,   0,   0,   0,   0,   0,   0,\n",
              "         0,   0,   0,   0,   0,   0,   0,   0,   0,   0,   0,   0, 249,\n",
              "       253, 249,  64,   0,   0,   0,   0,   0,   0,   0,   0,   0,   0,\n",
              "         0,   0,   0,   0,   0,   0,   0,   0,   0,   0,   0,  46, 130,\n",
              "       183, 253, 253, 207,   2,   0,   0,   0,   0,   0,   0,   0,   0,\n",
              "         0,   0,   0,   0,   0,   0,   0,   0,   0,   0,   0,  39, 148,\n",
              "       229, 253, 253, 253, 250, 182,   0,   0,   0,   0,   0,   0,   0,\n",
              "         0,   0,   0,   0,   0,   0,   0,   0,   0,   0,   0,  24, 114,\n",
              "       221, 253, 253, 253, 253, 201,  78,   0,   0,   0,   0,   0,   0,\n",
              "         0,   0,   0,   0,   0,   0,   0,   0,   0,   0,   0,  23,  66,\n",
              "       213, 253, 253, 253, 253, 198,  81,   2,   0,   0,   0,   0,   0,\n",
              "         0,   0,   0,   0,   0,   0,   0,   0,   0,   0,   0,  18, 171,\n",
              "       219, 253, 253, 253, 253, 195,  80,   9,   0,   0,   0,   0,   0,\n",
              "         0,   0,   0,   0,   0,   0,   0,   0,   0,   0,   0,  55, 172,\n",
              "       226, 253, 253, 253, 253, 244, 133,  11,   0,   0,   0,   0,   0,\n",
              "         0,   0,   0,   0,   0,   0,   0,   0,   0,   0,   0,   0,   0,\n",
              "       136, 253, 253, 253, 212, 135, 132,  16,   0,   0,   0,   0,   0,\n",
              "         0,   0,   0,   0,   0,   0,   0,   0,   0,   0,   0,   0,   0,\n",
              "         0,   0,   0,   0,   0,   0,   0,   0,   0,   0,   0,   0,   0,\n",
              "         0,   0,   0,   0,   0,   0,   0,   0,   0,   0,   0,   0,   0,\n",
              "         0,   0,   0,   0,   0,   0,   0,   0,   0,   0,   0,   0,   0,\n",
              "         0,   0,   0,   0,   0,   0,   0,   0,   0,   0,   0,   0,   0,\n",
              "         0,   0,   0,   0,   0,   0,   0,   0,   0,   0,   0,   0,   0,\n",
              "         0,   0,   0,   0,   0,   0,   0,   0,   0,   0,   0,   0,   0,\n",
              "         0,   0,   0,   0])"
            ]
          },
          "execution_count": 5,
          "metadata": {},
          "output_type": "execute_result"
        }
      ],
      "source": [
        "mnist.data[0]"
      ]
    },
    {
      "cell_type": "markdown",
      "metadata": {
        "id": "jsYN2YWnM3vj"
      },
      "source": [
        "#### 샘플을 출력해보니 어떤 숫자 같나요???!!\n",
        "#### 실제 레이블을 확인해봅시다~"
      ]
    },
    {
      "cell_type": "code",
      "execution_count": 9,
      "metadata": {
        "colab": {
          "base_uri": "https://localhost:8080/",
          "height": 36
        },
        "id": "j7VROqNMM3vj",
        "outputId": "379767ad-2356-4207-da24-c90bf120ff0b"
      },
      "outputs": [
        {
          "data": {
            "application/vnd.google.colaboratory.intrinsic+json": {
              "type": "string"
            },
            "text/plain": [
              "'5'"
            ]
          },
          "execution_count": 9,
          "metadata": {},
          "output_type": "execute_result"
        }
      ],
      "source": [
        "mnist.target[0]"
      ]
    },
    {
      "cell_type": "markdown",
      "metadata": {
        "id": "vDtcwCmVM3vj"
      },
      "source": [
        "문자열인 레이블 데이터 타입을 정수형으로 바꾸어 줍니다."
      ]
    },
    {
      "cell_type": "code",
      "execution_count": 10,
      "metadata": {
        "id": "75oPh-OeM3vj"
      },
      "outputs": [],
      "source": [
        "mnist.target = mnist.target.astype(np.int8)"
      ]
    },
    {
      "cell_type": "markdown",
      "metadata": {
        "id": "pKrK0FDpM3vj"
      },
      "source": [
        "학습 효율을 위해 모든 이미지 데이터를 0-255 범위에서 0-1 범위로 정규화합니다.\\\n",
        "레이블 데이터를 y에 저장합니다."
      ]
    },
    {
      "cell_type": "code",
      "execution_count": 11,
      "metadata": {
        "id": "tJbkL0_CM3vj"
      },
      "outputs": [],
      "source": [
        "X = mnist.data / 255  # 0-255값을 [0,1] 구간으로 정규화\n",
        "y = mnist.target"
      ]
    },
    {
      "cell_type": "markdown",
      "metadata": {
        "id": "J8FAnjhdM3vj"
      },
      "source": [
        "정규화된 첫 번째 이미지 데이터와 레이블을 출력합니다."
      ]
    },
    {
      "cell_type": "code",
      "execution_count": 12,
      "metadata": {
        "colab": {
          "base_uri": "https://localhost:8080/"
        },
        "id": "Uo64q01dM3vj",
        "outputId": "ccd28b6b-abdb-48ed-98a8-317cf235a593"
      },
      "outputs": [
        {
          "data": {
            "text/plain": [
              "array([0.        , 0.        , 0.        , 0.        , 0.        ,\n",
              "       0.        , 0.        , 0.        , 0.        , 0.        ,\n",
              "       0.        , 0.        , 0.        , 0.        , 0.        ,\n",
              "       0.        , 0.        , 0.        , 0.        , 0.        ,\n",
              "       0.        , 0.        , 0.        , 0.        , 0.        ,\n",
              "       0.        , 0.        , 0.        , 0.        , 0.        ,\n",
              "       0.        , 0.        , 0.        , 0.        , 0.        ,\n",
              "       0.        , 0.        , 0.        , 0.        , 0.        ,\n",
              "       0.        , 0.        , 0.        , 0.        , 0.        ,\n",
              "       0.        , 0.        , 0.        , 0.        , 0.        ,\n",
              "       0.        , 0.        , 0.        , 0.        , 0.        ,\n",
              "       0.        , 0.        , 0.        , 0.        , 0.        ,\n",
              "       0.        , 0.        , 0.        , 0.        , 0.        ,\n",
              "       0.        , 0.        , 0.        , 0.        , 0.        ,\n",
              "       0.        , 0.        , 0.        , 0.        , 0.        ,\n",
              "       0.        , 0.        , 0.        , 0.        , 0.        ,\n",
              "       0.        , 0.        , 0.        , 0.        , 0.        ,\n",
              "       0.        , 0.        , 0.        , 0.        , 0.        ,\n",
              "       0.        , 0.        , 0.        , 0.        , 0.        ,\n",
              "       0.        , 0.        , 0.        , 0.        , 0.        ,\n",
              "       0.        , 0.        , 0.        , 0.        , 0.        ,\n",
              "       0.        , 0.        , 0.        , 0.        , 0.        ,\n",
              "       0.        , 0.        , 0.        , 0.        , 0.        ,\n",
              "       0.        , 0.        , 0.        , 0.        , 0.        ,\n",
              "       0.        , 0.        , 0.        , 0.        , 0.        ,\n",
              "       0.        , 0.        , 0.        , 0.        , 0.        ,\n",
              "       0.        , 0.        , 0.        , 0.        , 0.        ,\n",
              "       0.        , 0.        , 0.        , 0.        , 0.        ,\n",
              "       0.        , 0.        , 0.        , 0.        , 0.        ,\n",
              "       0.        , 0.        , 0.        , 0.        , 0.        ,\n",
              "       0.        , 0.        , 0.01176471, 0.07058824, 0.07058824,\n",
              "       0.07058824, 0.49411765, 0.53333333, 0.68627451, 0.10196078,\n",
              "       0.65098039, 1.        , 0.96862745, 0.49803922, 0.        ,\n",
              "       0.        , 0.        , 0.        , 0.        , 0.        ,\n",
              "       0.        , 0.        , 0.        , 0.        , 0.        ,\n",
              "       0.        , 0.11764706, 0.14117647, 0.36862745, 0.60392157,\n",
              "       0.66666667, 0.99215686, 0.99215686, 0.99215686, 0.99215686,\n",
              "       0.99215686, 0.88235294, 0.6745098 , 0.99215686, 0.94901961,\n",
              "       0.76470588, 0.25098039, 0.        , 0.        , 0.        ,\n",
              "       0.        , 0.        , 0.        , 0.        , 0.        ,\n",
              "       0.        , 0.        , 0.        , 0.19215686, 0.93333333,\n",
              "       0.99215686, 0.99215686, 0.99215686, 0.99215686, 0.99215686,\n",
              "       0.99215686, 0.99215686, 0.99215686, 0.98431373, 0.36470588,\n",
              "       0.32156863, 0.32156863, 0.21960784, 0.15294118, 0.        ,\n",
              "       0.        , 0.        , 0.        , 0.        , 0.        ,\n",
              "       0.        , 0.        , 0.        , 0.        , 0.        ,\n",
              "       0.        , 0.07058824, 0.85882353, 0.99215686, 0.99215686,\n",
              "       0.99215686, 0.99215686, 0.99215686, 0.77647059, 0.71372549,\n",
              "       0.96862745, 0.94509804, 0.        , 0.        , 0.        ,\n",
              "       0.        , 0.        , 0.        , 0.        , 0.        ,\n",
              "       0.        , 0.        , 0.        , 0.        , 0.        ,\n",
              "       0.        , 0.        , 0.        , 0.        , 0.        ,\n",
              "       0.31372549, 0.61176471, 0.41960784, 0.99215686, 0.99215686,\n",
              "       0.80392157, 0.04313725, 0.        , 0.16862745, 0.60392157,\n",
              "       0.        , 0.        , 0.        , 0.        , 0.        ,\n",
              "       0.        , 0.        , 0.        , 0.        , 0.        ,\n",
              "       0.        , 0.        , 0.        , 0.        , 0.        ,\n",
              "       0.        , 0.        , 0.        , 0.        , 0.05490196,\n",
              "       0.00392157, 0.60392157, 0.99215686, 0.35294118, 0.        ,\n",
              "       0.        , 0.        , 0.        , 0.        , 0.        ,\n",
              "       0.        , 0.        , 0.        , 0.        , 0.        ,\n",
              "       0.        , 0.        , 0.        , 0.        , 0.        ,\n",
              "       0.        , 0.        , 0.        , 0.        , 0.        ,\n",
              "       0.        , 0.        , 0.        , 0.        , 0.54509804,\n",
              "       0.99215686, 0.74509804, 0.00784314, 0.        , 0.        ,\n",
              "       0.        , 0.        , 0.        , 0.        , 0.        ,\n",
              "       0.        , 0.        , 0.        , 0.        , 0.        ,\n",
              "       0.        , 0.        , 0.        , 0.        , 0.        ,\n",
              "       0.        , 0.        , 0.        , 0.        , 0.        ,\n",
              "       0.        , 0.        , 0.04313725, 0.74509804, 0.99215686,\n",
              "       0.2745098 , 0.        , 0.        , 0.        , 0.        ,\n",
              "       0.        , 0.        , 0.        , 0.        , 0.        ,\n",
              "       0.        , 0.        , 0.        , 0.        , 0.        ,\n",
              "       0.        , 0.        , 0.        , 0.        , 0.        ,\n",
              "       0.        , 0.        , 0.        , 0.        , 0.        ,\n",
              "       0.        , 0.1372549 , 0.94509804, 0.88235294, 0.62745098,\n",
              "       0.42352941, 0.00392157, 0.        , 0.        , 0.        ,\n",
              "       0.        , 0.        , 0.        , 0.        , 0.        ,\n",
              "       0.        , 0.        , 0.        , 0.        , 0.        ,\n",
              "       0.        , 0.        , 0.        , 0.        , 0.        ,\n",
              "       0.        , 0.        , 0.        , 0.        , 0.        ,\n",
              "       0.31764706, 0.94117647, 0.99215686, 0.99215686, 0.46666667,\n",
              "       0.09803922, 0.        , 0.        , 0.        , 0.        ,\n",
              "       0.        , 0.        , 0.        , 0.        , 0.        ,\n",
              "       0.        , 0.        , 0.        , 0.        , 0.        ,\n",
              "       0.        , 0.        , 0.        , 0.        , 0.        ,\n",
              "       0.        , 0.        , 0.        , 0.        , 0.17647059,\n",
              "       0.72941176, 0.99215686, 0.99215686, 0.58823529, 0.10588235,\n",
              "       0.        , 0.        , 0.        , 0.        , 0.        ,\n",
              "       0.        , 0.        , 0.        , 0.        , 0.        ,\n",
              "       0.        , 0.        , 0.        , 0.        , 0.        ,\n",
              "       0.        , 0.        , 0.        , 0.        , 0.        ,\n",
              "       0.        , 0.        , 0.        , 0.0627451 , 0.36470588,\n",
              "       0.98823529, 0.99215686, 0.73333333, 0.        , 0.        ,\n",
              "       0.        , 0.        , 0.        , 0.        , 0.        ,\n",
              "       0.        , 0.        , 0.        , 0.        , 0.        ,\n",
              "       0.        , 0.        , 0.        , 0.        , 0.        ,\n",
              "       0.        , 0.        , 0.        , 0.        , 0.        ,\n",
              "       0.        , 0.        , 0.        , 0.97647059, 0.99215686,\n",
              "       0.97647059, 0.25098039, 0.        , 0.        , 0.        ,\n",
              "       0.        , 0.        , 0.        , 0.        , 0.        ,\n",
              "       0.        , 0.        , 0.        , 0.        , 0.        ,\n",
              "       0.        , 0.        , 0.        , 0.        , 0.        ,\n",
              "       0.        , 0.        , 0.        , 0.18039216, 0.50980392,\n",
              "       0.71764706, 0.99215686, 0.99215686, 0.81176471, 0.00784314,\n",
              "       0.        , 0.        , 0.        , 0.        , 0.        ,\n",
              "       0.        , 0.        , 0.        , 0.        , 0.        ,\n",
              "       0.        , 0.        , 0.        , 0.        , 0.        ,\n",
              "       0.        , 0.        , 0.        , 0.        , 0.15294118,\n",
              "       0.58039216, 0.89803922, 0.99215686, 0.99215686, 0.99215686,\n",
              "       0.98039216, 0.71372549, 0.        , 0.        , 0.        ,\n",
              "       0.        , 0.        , 0.        , 0.        , 0.        ,\n",
              "       0.        , 0.        , 0.        , 0.        , 0.        ,\n",
              "       0.        , 0.        , 0.        , 0.        , 0.        ,\n",
              "       0.09411765, 0.44705882, 0.86666667, 0.99215686, 0.99215686,\n",
              "       0.99215686, 0.99215686, 0.78823529, 0.30588235, 0.        ,\n",
              "       0.        , 0.        , 0.        , 0.        , 0.        ,\n",
              "       0.        , 0.        , 0.        , 0.        , 0.        ,\n",
              "       0.        , 0.        , 0.        , 0.        , 0.        ,\n",
              "       0.        , 0.09019608, 0.25882353, 0.83529412, 0.99215686,\n",
              "       0.99215686, 0.99215686, 0.99215686, 0.77647059, 0.31764706,\n",
              "       0.00784314, 0.        , 0.        , 0.        , 0.        ,\n",
              "       0.        , 0.        , 0.        , 0.        , 0.        ,\n",
              "       0.        , 0.        , 0.        , 0.        , 0.        ,\n",
              "       0.        , 0.        , 0.07058824, 0.67058824, 0.85882353,\n",
              "       0.99215686, 0.99215686, 0.99215686, 0.99215686, 0.76470588,\n",
              "       0.31372549, 0.03529412, 0.        , 0.        , 0.        ,\n",
              "       0.        , 0.        , 0.        , 0.        , 0.        ,\n",
              "       0.        , 0.        , 0.        , 0.        , 0.        ,\n",
              "       0.        , 0.        , 0.        , 0.21568627, 0.6745098 ,\n",
              "       0.88627451, 0.99215686, 0.99215686, 0.99215686, 0.99215686,\n",
              "       0.95686275, 0.52156863, 0.04313725, 0.        , 0.        ,\n",
              "       0.        , 0.        , 0.        , 0.        , 0.        ,\n",
              "       0.        , 0.        , 0.        , 0.        , 0.        ,\n",
              "       0.        , 0.        , 0.        , 0.        , 0.        ,\n",
              "       0.        , 0.53333333, 0.99215686, 0.99215686, 0.99215686,\n",
              "       0.83137255, 0.52941176, 0.51764706, 0.0627451 , 0.        ,\n",
              "       0.        , 0.        , 0.        , 0.        , 0.        ,\n",
              "       0.        , 0.        , 0.        , 0.        , 0.        ,\n",
              "       0.        , 0.        , 0.        , 0.        , 0.        ,\n",
              "       0.        , 0.        , 0.        , 0.        , 0.        ,\n",
              "       0.        , 0.        , 0.        , 0.        , 0.        ,\n",
              "       0.        , 0.        , 0.        , 0.        , 0.        ,\n",
              "       0.        , 0.        , 0.        , 0.        , 0.        ,\n",
              "       0.        , 0.        , 0.        , 0.        , 0.        ,\n",
              "       0.        , 0.        , 0.        , 0.        , 0.        ,\n",
              "       0.        , 0.        , 0.        , 0.        , 0.        ,\n",
              "       0.        , 0.        , 0.        , 0.        , 0.        ,\n",
              "       0.        , 0.        , 0.        , 0.        , 0.        ,\n",
              "       0.        , 0.        , 0.        , 0.        , 0.        ,\n",
              "       0.        , 0.        , 0.        , 0.        , 0.        ,\n",
              "       0.        , 0.        , 0.        , 0.        , 0.        ,\n",
              "       0.        , 0.        , 0.        , 0.        , 0.        ,\n",
              "       0.        , 0.        , 0.        , 0.        , 0.        ,\n",
              "       0.        , 0.        , 0.        , 0.        , 0.        ,\n",
              "       0.        , 0.        , 0.        , 0.        , 0.        ,\n",
              "       0.        , 0.        , 0.        , 0.        ])"
            ]
          },
          "execution_count": 12,
          "metadata": {},
          "output_type": "execute_result"
        }
      ],
      "source": [
        "X[0]"
      ]
    },
    {
      "cell_type": "code",
      "execution_count": 13,
      "metadata": {
        "colab": {
          "base_uri": "https://localhost:8080/"
        },
        "id": "YLkvf_oaM3vk",
        "outputId": "2c4f471c-4ae0-457c-a51c-bfd1a12c6e63"
      },
      "outputs": [
        {
          "data": {
            "text/plain": [
              "np.int8(5)"
            ]
          },
          "execution_count": 13,
          "metadata": {},
          "output_type": "execute_result"
        }
      ],
      "source": [
        "y[0]"
      ]
    },
    {
      "cell_type": "markdown",
      "metadata": {
        "id": "Jj_jVIjoM3vk"
      },
      "source": [
        "해당 데이터 샘플 시각화까지 진행해봅니다."
      ]
    },
    {
      "cell_type": "code",
      "execution_count": 14,
      "metadata": {
        "colab": {
          "base_uri": "https://localhost:8080/",
          "height": 448
        },
        "id": "qS1bTF04M3vk",
        "outputId": "22769b82-318e-4717-9ab7-802bdd2f6fb5"
      },
      "outputs": [
        {
          "name": "stdout",
          "output_type": "stream",
          "text": [
            "이 이미지 데이터의 레이블은 5이다\n"
          ]
        },
        {
          "data": {
            "image/png": "[encoded data removed]",
            "text/plain": [
              "<Figure size 640x480 with 1 Axes>"
            ]
          },
          "metadata": {},
          "output_type": "display_data"
        }
      ],
      "source": [
        "plt.imshow(X[0].reshape(28, 28), cmap='gray')\n",
        "print(\"이 이미지 데이터의 레이블은 {:.0f}이다\".format(y[0]))"
      ]
    },
    {
      "cell_type": "markdown",
      "metadata": {
        "id": "-4RepEFnM3vk"
      },
      "source": [
        "### 2. 훈련 데이터와 테스트 데이터의 분리"
      ]
    },
    {
      "cell_type": "markdown",
      "metadata": {
        "id": "nesZeKTMM3vk"
      },
      "source": [
        "MNIST 데이터셋을 불러오고, 이를 훈련 세트와 테스트 세트로 분할합니다."
      ]
    },
    {
      "cell_type": "code",
      "execution_count": 15,
      "metadata": {
        "id": "9Ms1u34DM3vk"
      },
      "outputs": [],
      "source": [
        "import torch\n",
        "from torch.utils.data import TensorDataset, DataLoader\n",
        "from sklearn.model_selection import train_test_split"
      ]
    },
    {
      "cell_type": "code",
      "execution_count": 16,
      "metadata": {
        "id": "DUIuMsbxM3vk"
      },
      "outputs": [],
      "source": [
        "X_train, X_test, y_train, y_test = train_test_split(X, y, test_size=1/7, random_state=42)"
      ]
    },
    {
      "cell_type": "code",
      "execution_count": 17,
      "metadata": {
        "id": "fTOTLez9M3vk"
      },
      "outputs": [],
      "source": [
        "# 텐서로 변환\n",
        "X_train = torch.Tensor(X_train)\n",
        "X_test = torch.Tensor(X_test)\n",
        "y_train = torch.LongTensor(y_train)\n",
        "y_test = torch.LongTensor(y_test)\n",
        "\n",
        "# TensorDataset 객체 생성\n",
        "ds_train = TensorDataset(X_train, y_train)\n",
        "ds_test = TensorDataset(X_test, y_test)\n",
        "\n",
        "# DataLoader 객체 생성\n",
        "loader_train = DataLoader(ds_train, batch_size=64, shuffle=True)\n",
        "loader_test = DataLoader(ds_test, batch_size=64, shuffle=False)"
      ]
    },
    {
      "cell_type": "markdown",
      "metadata": {
        "id": "5LpwTvo0M3vk"
      },
      "source": [
        "### 3. 다층 퍼셉트론"
      ]
    },
    {
      "cell_type": "code",
      "execution_count": 18,
      "metadata": {
        "id": "3UBVvCFEM3vk"
      },
      "outputs": [],
      "source": [
        "from torch import nn\n",
        "from torch import optim"
      ]
    },
    {
      "cell_type": "markdown",
      "metadata": {
        "id": "7bDgqfpnM3vk"
      },
      "source": [
        "784(28x28)개의 입력 뉴런, 100개의 은닉 뉴런, 그리고 10개의 출력 뉴런(0~9)을 가지는 다층 퍼셉트론을 구성합니다.\\\n",
        "ReLU 활성화 함수를 사용하여 비선형성을 추가하고, 최종 출력은 10개의 클래스에 대한 점수를 제공합니다."
      ]
    },
    {
      "cell_type": "code",
      "execution_count": 19,
      "metadata": {
        "colab": {
          "base_uri": "https://localhost:8080/"
        },
        "id": "rsydeijkM3vk",
        "outputId": "134db266-eff9-407d-b5fd-0289a36ea2b3"
      },
      "outputs": [
        {
          "name": "stdout",
          "output_type": "stream",
          "text": [
            "Sequential(\n",
            "  (fc1): Linear(in_features=784, out_features=100, bias=True)\n",
            "  (relu1): ReLU()\n",
            "  (fc2): Linear(in_features=100, out_features=100, bias=True)\n",
            "  (relu2): ReLU()\n",
            "  (fc3): Linear(in_features=100, out_features=10, bias=True)\n",
            ")\n"
          ]
        }
      ],
      "source": [
        "model = nn.Sequential()\n",
        "model.add_module('fc1', nn.Linear(28*28*1, 100))\n",
        "model.add_module('relu1', nn.ReLU())\n",
        "model.add_module('fc2', nn.Linear(100, 100))\n",
        "model.add_module('relu2', nn.ReLU())\n",
        "model.add_module('fc3', nn.Linear(100, 10))\n",
        "\n",
        "print(model)"
      ]
    },
    {
      "cell_type": "markdown",
      "metadata": {
        "id": "GIZM0XsqM3vk"
      },
      "source": [
        "크로스 엔트로피 손실 함수를 사용하여 모델의 예측과 실제 레이블 사이의 차이를 계산합니다. Adam 최적화 기법을 사용하여 모델의 가중치를 업데이트합니다."
      ]
    },
    {
      "cell_type": "code",
      "execution_count": 20,
      "metadata": {
        "id": "59fujdi4M3vk"
      },
      "outputs": [],
      "source": [
        "# 오차함수 선택\n",
        "loss_fn = nn.CrossEntropyLoss()\n",
        "\n",
        "# 가중치를 학습하기 위한 최적화 기법 선택\n",
        "optimizer = optim.Adam(model.parameters(), lr=0.01)"
      ]
    },
    {
      "cell_type": "markdown",
      "metadata": {
        "id": "ufVnYpfYM3vl"
      },
      "source": [
        "데이터 로더에서 미니배치를 하나씩 꺼내 모델을 훈련합니다.\\\n",
        " 손실을 계산하고 역전파를 통해 기울기(gradient)를 계산한 다음, 최적화기를 사용하여 가중치를 업데이트합니다."
      ]
    },
    {
      "cell_type": "code",
      "execution_count": 21,
      "metadata": {
        "colab": {
          "base_uri": "https://localhost:8080/"
        },
        "id": "5M2YrqIFM3vl",
        "outputId": "a01813ef-1d70-464b-ca5e-f774ff0daae6"
      },
      "outputs": [
        {
          "name": "stdout",
          "output_type": "stream",
          "text": [
            "Epoch    1/3 Cost: 0.234079\n",
            "Epoch    2/3 Cost: 0.049631\n",
            "Epoch    3/3 Cost: 0.004329\n"
          ]
        }
      ],
      "source": [
        "# 총 3번의 에포크 동안 모델 학습\n",
        "epochs = 3\n",
        "\n",
        "for epoch in range(epochs):\n",
        "  for data, targets in loader_train:\n",
        "    optimizer.zero_grad()      # 옵티마이저의 기울기 초기화\n",
        "    y_pred = model(data)        # 순전파 연산으로 예측값 계산\n",
        "    loss = loss_fn(y_pred, targets)  # 손실 함수로 비용 계산\n",
        "    loss.backward()            # 역전파 연산으로 기울기 계산\n",
        "    optimizer.step()          # 옵티마이저를 통해 파라미터 업데이트\n",
        "\n",
        "  print('Epoch {:4d}/{} Cost: {:.6f}'.format(epoch + 1, 3, loss.item()))\n"
      ]
    },
    {
      "cell_type": "markdown",
      "metadata": {
        "id": "ISvlUXXkM3vl"
      },
      "source": [
        "테스트 데이터에 대해서 평가를 진행해봅시다. 모델을 평가하기 위해 추론 모드로 설정하고, 데이터 로더를 통해 테스트 데이터에 대한 예측을 수행합니다.\\\n",
        "예측된 클래스와 실제 클래스를 비교하여 정확도를 계산합니다."
      ]
    },
    {
      "cell_type": "code",
      "execution_count": 22,
      "metadata": {
        "colab": {
          "base_uri": "https://localhost:8080/"
        },
        "id": "5f2zzbLkM3vl",
        "outputId": "3ef89f32-7552-48b9-c736-57975fa6fabb"
      },
      "outputs": [
        {
          "name": "stdout",
          "output_type": "stream",
          "text": [
            "\n",
            "테스트 데이터에서 예측 정확도: 9553/10000 (96%)\n",
            "\n"
          ]
        }
      ],
      "source": [
        "model.eval()  # 신경망을 추론 모드로 전환\n",
        "correct = 0\n",
        "\n",
        "# 데이터로더에서 미니배치를 하나씩 꺼내 추론을 수행\n",
        "with torch.no_grad():  # 추론 과정에는 미분이 필요없음\n",
        "    for data, targets in loader_test:\n",
        "\n",
        "        outputs = model(data)  # 데이터를 입력하고 출력을 계산\n",
        "\n",
        "        # 추론 계산\n",
        "        _, predicted = torch.max(outputs.data, 1)  # 확률이 가장 높은 레이블이 무엇인지 계산\n",
        "        correct += predicted.eq(targets.data.view_as(predicted)).sum()  # 정답과 일치한 경우 정답 카운트를 증가\n",
        "\n",
        "# 정확도 출력\n",
        "data_num = len(loader_test.dataset)  # 데이터 총 건수\n",
        "print('\\n테스트 데이터에서 예측 정확도: {}/{} ({:.0f}%)\\n'.format(correct, data_num, 100. * correct / data_num))"
      ]
    },
    {
      "cell_type": "markdown",
      "metadata": {
        "id": "8GDdVPuLM3vl"
      },
      "source": [
        "평가 코드를 살펴봅시다. 신경망 모델을 추론 모드로 설정하여 테스트 데이터에 대한 성능을 평가합니다. 함수는 **model.eval()** 을 호출해 모델을 추론 모드로 전환합니다. 이는 모델 내의 일부 계층들이 학습과 추론 시 다르게 동작할 수 있기 때문에 필요한 설정입니다.\n",
        "\n",
        "**torch.no_grad()** 컨텍스트 매니저는 이어지는 코드 블록에서 기울기 계산을 비활성화하여 메모리 사용량을 줄이고 계산 속도를 향상시킵니다. 이는 테스트 시에는 모델을 업데이트하지 않기 때문에 기울기를 추적할 필요가 없기 때문입니다.\n",
        "\n",
        "데이터로더 loader_test에서 미니배치 단위로 데이터와 레이블을 추출하며, 모델은 각 데이터 배치를 받아 해당 데이터의 출력 outputs을 계산합니다. **torch.max(outputs.data, 1)** 는 각 예측에 대해 가장 높은 확률을 가진 클래스를 찾아내고, 이는 모델이 예측한 레이블이 됩니다.\n",
        "\n",
        "예측한 레이블 predicted와 실제 레이블 targets을 비교하여 일치하는 개수를 세어 correct에 더합니다. 마지막으로 전체 데이터 개수 data_num 대비 정확하게 예측한 데이터의 비율을 계산하여 화면에 출력합니다. 이 비율은 모델의 정확도를 나타냅니다"
      ]
    },
    {
      "cell_type": "markdown",
      "metadata": {
        "id": "OFMRHNSMM3vl"
      },
      "source": [
        "<br><br><br>\n",
        "이제 임의의 데이터에 대해서 특정 인덱스의 테스트 이미지를 모델에 전달하여 예측 결과를 얻어봅시다. <br>그 결과를 출력하고, 해당 이미지를 시각화하여 정답 레이블과 함께 보여줍니다. <br>이를 통해 모델의 예측이 얼마나 정확한지 직접 확인할 수 있습니다."
      ]
    },
    {
      "cell_type": "code",
      "execution_count": 23,
      "metadata": {
        "colab": {
          "base_uri": "https://localhost:8080/",
          "height": 466
        },
        "id": "7SlkxL-tM3vq",
        "outputId": "d75a1a16-3cab-4e08-de4e-771e34e81179"
      },
      "outputs": [
        {
          "name": "stdout",
          "output_type": "stream",
          "text": [
            "예측 결과 : 7\n",
            "이 이미지 데이터의 정답 레이블은 7입니다\n"
          ]
        },
        {
          "data": {
            "image/png": "[encoded data removed]",
            "text/plain": [
              "<Figure size 640x480 with 1 Axes>"
            ]
          },
          "metadata": {},
          "output_type": "display_data"
        }
      ],
      "source": [
        "index = 2018\n",
        "\n",
        "model.eval()  # 신경망을 추론 모드로 전환\n",
        "data = X_test[index]\n",
        "output = model(data)  # 데이터를 입력하고 출력을 계산\n",
        "_, predicted = torch.max(output.data, 0)  # 확률이 가장 높은 레이블이 무엇인지 계산\n",
        "\n",
        "print(\"예측 결과 : {}\".format(predicted))\n",
        "\n",
        "X_test_show = (X_test[index]).numpy()\n",
        "plt.imshow(X_test_show.reshape(28, 28), cmap='gray')\n",
        "print(\"이 이미지 데이터의 정답 레이블은 {:.0f}입니다\".format(y_test[index]))"
      ]
    },
    {
      "cell_type": "markdown",
      "metadata": {
        "id": "ZNtQXwOGM3vq"
      },
      "source": [
        "### 수고 많으셨습니다~"
      ]
    }
  ],
  "metadata": {
    "accelerator": "GPU",
    "colab": {
      "gpuType": "T4",
      "provenance": []
    },
    "kernelspec": {
      "display_name": "Python (Anaconda)",
      "language": "python",
      "name": "anaconda3"
    },
    "language_info": {
      "codemirror_mode": {
        "name": "ipython",
        "version": 3
      },
      "file_extension": ".py",
      "mimetype": "text/x-python",
      "name": "python",
      "nbconvert_exporter": "python",
      "pygments_lexer": "ipython3",
      "version": "3.12.7"
    }
  },
  "nbformat": 4,
  "nbformat_minor": 0
}
