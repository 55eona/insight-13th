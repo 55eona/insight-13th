{
 "cells": [
  {
   "cell_type": "markdown",
   "id": "02c8254d-bd4e-4277-9f58-37500e5dc097",
   "metadata": {},
   "source": [
    "# EDA & 전처리 "
   ]
  },
  {
   "cell_type": "markdown",
   "id": "a755878f-5a12-4a86-a400-a464e61669b3",
   "metadata": {},
   "source": [
    "## **목차**"
   ]
  },
  {
   "cell_type": "markdown",
   "id": "54f72de3-ae51-4163-86c3-bae3e86828cc",
   "metadata": {},
   "source": [
    "#### 0.데이터 분석 프로세스"
   ]
  },
  {
   "cell_type": "markdown",
   "id": "07b13197-5cf2-4548-b19b-7e18879b17f0",
   "metadata": {},
   "source": [
    "#### 1.EDA의 개념"
   ]
  },
  {
   "cell_type": "markdown",
   "id": "360623a5-f5c1-4dbb-a28f-4ed334ffc00c",
   "metadata": {},
   "source": [
    "#### 2.데이터 확인"
   ]
  },
  {
   "cell_type": "markdown",
   "id": "ed9430b1-9d17-4fc9-9f73-f4831a470eb1",
   "metadata": {},
   "source": [
    "#### 3. 전처리"
   ]
  },
  {
   "cell_type": "markdown",
   "id": "f1218a0b-5510-42af-b092-e524e55dc4f5",
   "metadata": {},
   "source": [
    "#### 4. 시각화"
   ]
  },
  {
   "cell_type": "markdown",
   "id": "8573fa68-d37e-4190-a0ee-b7e67d2267cd",
   "metadata": {},
   "source": [
    "### 0.데이터 분석 프로세스"
   ]
  },
  {
   "cell_type": "markdown",
   "id": "f10f7218-51e6-42ea-b728-493df20fbadd",
   "metadata": {},
   "source": [
    "##### 1) 데이터 수집"
   ]
  },
  {
   "cell_type": "markdown",
   "id": "97f98465-0614-4037-8e71-8351550bd27e",
   "metadata": {},
   "source": [
    "##### 2) 데이터 탐색"
   ]
  },
  {
   "cell_type": "markdown",
   "id": "c8f35799-e796-45f8-86f1-6551e302d178",
   "metadata": {},
   "source": [
    "##### 3) 데이터 전처리"
   ]
  },
  {
   "cell_type": "markdown",
   "id": "8e040084-f4c8-499a-b392-0995d91500ca",
   "metadata": {},
   "source": [
    "##### 4) 데이터 모델링"
   ]
  },
  {
   "cell_type": "markdown",
   "id": "9de90139-eaef-4f5b-a5d2-9373c23da90d",
   "metadata": {},
   "source": [
    "### **1. EDA의 개념**"
   ]
  },
  {
   "cell_type": "markdown",
   "id": "95ead203-1b2b-4f00-8a2d-e2dd7e179fa5",
   "metadata": {},
   "source": [
    " ##### `EDA(Exploratory Data Analsis): 탐색적 데이터 분석 과정을 일컫는 말로 데이터를 분석하고 결과를 내는 과정에서 지속적으로 해당 데이터에 대한 '탐색적 이해'를 기본으로 가져야 하는 것을 의미. 결국 EDA는 데이터 분석을 위해 데이터를 여러 가지 방식으로 파악하는 모든 과정을 일컫는 말 `"
   ]
  },
  {
   "cell_type": "markdown",
   "id": "9b63e960-de14-4e5c-a88e-f6e1064ef753",
   "metadata": {},
   "source": [
    "> - 시각화 같은 도구를 통해 패턴을 발견\n",
    "> - 데이터의 특이성을 확인\n",
    "> - 통계와 그래프(혹은 시각적 표현)으로 가설을 검정하는 과정 등을 통해\n",
    "\n",
    "**주어진 데이터에 대해 알아보는 것**을 EDA라고 함"
   ]
  },
  {
   "cell_type": "markdown",
   "id": "5cf5f741-20dc-44ec-aba8-3806cb05c0e2",
   "metadata": {},
   "source": [
    "**(1)EDA의 대상 (일변량/다변량)**"
   ]
  },
  {
   "cell_type": "markdown",
   "id": "3c2d84d0-78de-45a5-a463-873503ead5e3",
   "metadata": {},
   "source": [
    "*Univariate (일변량)* : EDA를 통해 한 번에 파악하려는 변수가 한개. (**데이터를 설명**하고 그 안에 **존재하는 패턴을 찾는 것**이 주요 목적"
   ]
  },
  {
   "cell_type": "markdown",
   "id": "74efe57b-b212-428a-8838-0749f6de8212",
   "metadata": {},
   "source": [
    "*Multi-variate(다변량)*: EDA를 통해 한 번에 파악하려는 변수가 여러 개. (**여러 변수들 간의 관계**를 보여주는 것이 주요 목적. 변수를 동시에 확인하기 전에 개별 데이터를 먼저 파악하는 것이 오류에 대처하기 용이하다.) "
   ]
  },
  {
   "cell_type": "markdown",
   "id": "c6995ee7-6c81-4781-ac4a-82bb44f6f276",
   "metadata": {},
   "source": [
    "**(2)EDA의 종류(시각화/비시각화)**"
   ]
  },
  {
   "cell_type": "markdown",
   "id": "92c6e9c8-d394-44f3-8afb-135a1083ee57",
   "metadata": {},
   "source": [
    "*Graphic (시각화)* : 차트 혹은 그림 등을 이용하여 데이터를 확인. "
   ]
  },
  {
   "cell_type": "markdown",
   "id": "800b6091-78fe-454a-97d7-5cfec3431fbe",
   "metadata": {},
   "source": [
    "*Non-Graphic (비시각화)* : 그래픽적인 요소를 사용하지 않고 주로 summary statistics를 통해 데이터를 확인. "
   ]
  },
  {
   "cell_type": "markdown",
   "id": "887a19cf-3e99-4fcd-815c-6b8a05066ae2",
   "metadata": {},
   "source": [
    "**(3)EDA의 유형**"
   ]
  },
  {
   "cell_type": "markdown",
   "id": "3e004937-a633-49d7-8c30-911edc68b586",
   "metadata": {},
   "source": [
    "`EDA 대상과 종류에 따라 EDA 유형이 구분 `"
   ]
  },
  {
   "cell_type": "markdown",
   "id": "b2c646ce-3923-4d80-b0d6-001fcd0cc27c",
   "metadata": {},
   "source": [
    "> - **Uni-Non Graphic(일변량 비시각화)**: 주어진 데이터의 Distribution을 확인 하는 것이 주목적\n",
    "> - **Uni-Graphic(일변량 시각화)**: 주어진 데이터를 전체적으로 살펴보는 것이 주목적\n",
    "> - **Multi-Non Graphic(다변 비시각화)**: 주어진 둘 이상의 변수 간 관계를 확인하는 것이 주목적\n",
    "> -  **Multi-Graphic(다변량 시각화)**: 주어진 둘 이상의 변수 간 관계를 전체적으로 살펴보는 것이 주목적"
   ]
  },
  {
   "cell_type": "markdown",
   "id": "d3f89d1d-e4cc-47e4-9dc2-aebebead3d3a",
   "metadata": {},
   "source": [
    "### **2. 데이터 확인(데이터 읽기/쓰기)**"
   ]
  },
  {
   "cell_type": "markdown",
   "id": "a5f89404-4063-4a8d-b155-b010401f0c40",
   "metadata": {},
   "source": [
    "`데이터를 불로오는 것이 **읽기** , 새로운 데이터를 만드는 것이 **쓰기**`"
   ]
  },
  {
   "cell_type": "markdown",
   "id": "7edb7849-04a4-426f-a2b3-f99704aaa4f6",
   "metadata": {},
   "source": [
    "**(1)절대경로와 상대경로**"
   ]
  },
  {
   "cell_type": "markdown",
   "id": "15d5c570-0cb4-46ca-aa8e-410cb938335b",
   "metadata": {},
   "source": [
    "절대경로: 처음 부터 시작하여 목적지까지 전체적인 경로(URL), 해당 파일까지의 모든결로"
   ]
  },
  {
   "cell_type": "markdown",
   "id": "540c0f83-c300-482f-a901-74270d402914",
   "metadata": {},
   "source": [
    "상대경로: 현재 작업하고 있는 디렉터리를 기준으로 상하위 디렉터리와 같이 상대적으로 표현되는 경로"
   ]
  },
  {
   "cell_type": "markdown",
   "id": "9fdfed51-b85c-4301-8811-08f84778be0d",
   "metadata": {},
   "source": [
    "**(2) 데이터 입출력**"
   ]
  },
  {
   "cell_type": "markdown",
   "id": "7bf9be8f-3571-40d3-8dd2-0e04cc79135f",
   "metadata": {},
   "source": [
    "데이터 파일의 형식에 따라 **데이터를 읽고(Reader) 쓰는(Writer)함수가 다르다.**"
   ]
  },
  {
   "cell_type": "markdown",
   "id": "a98f7c51-20fb-464d-91e4-a9871344479f",
   "metadata": {},
   "source": [
    "**(3) CSV와 EXCEL**"
   ]
  },
  {
   "cell_type": "markdown",
   "id": "f6aa1d47-63dc-48ea-a970-d1974547a3b7",
   "metadata": {},
   "source": [
    "CSV 파일: 데이터의 크기가 작고 압축이 용이하기 때문에 가장 널리 사용되는 데이터 형식"
   ]
  },
  {
   "cell_type": "markdown",
   "id": "bc7100e8-6f35-4879-bc0d-bba71b0e6e82",
   "metadata": {},
   "source": [
    "EXCEL 파일: 행과 열이 데이터프레임의 행, 열로 일대일 대응. "
   ]
  },
  {
   "cell_type": "markdown",
   "id": "975b6160-2bdb-4ca2-a185-f02d203e5cfd",
   "metadata": {},
   "source": [
    "두 형식 모두 **pandas**를 통해 **DataFrame** 형식으로 읽어올 수 있음"
   ]
  },
  {
   "cell_type": "markdown",
   "id": "9d8a7b23-167d-4d9c-badc-8a6663168e18",
   "metadata": {},
   "source": [
    "### **2. 데이터 확인(데이터셋 파악하기)**"
   ]
  },
  {
   "cell_type": "markdown",
   "id": "36bd564d-e14c-42e3-967c-0261b69e1f30",
   "metadata": {},
   "source": [
    "(1) 데이터 프레임보기"
   ]
  },
  {
   "cell_type": "markdown",
   "id": "2a267a78-f800-4490-bf12-344fef443ef3",
   "metadata": {},
   "source": [
    "`head(n)` : 데이터 프레임 상위 n개 데이터 보여줌"
   ]
  },
  {
   "cell_type": "markdown",
   "id": "df3eb8a2-b293-4f35-8c3b-93eb67ee61bc",
   "metadata": {},
   "source": [
    "(2) 데이터 변수 확인"
   ]
  },
  {
   "cell_type": "markdown",
   "id": "07e6f02b-290b-42dd-8f1e-3cc709d07654",
   "metadata": {},
   "source": [
    "> - 변수 정의 확인\n"
   ]
  },
  {
   "cell_type": "markdown",
   "id": "a5457cd4-7a86-46c8-808d-339fcfd5d8c3",
   "metadata": {},
   "source": [
    "> - 변수 유형 확인\n"
   ]
  },
  {
   "cell_type": "markdown",
   "id": "5b243eca-9607-438c-9dc1-97cef0567e4a",
   "metadata": {},
   "source": [
    "##### **데이터의 종류**\n",
    "##### *범주형*\n",
    "###### - 명목형\n",
    "###### - 순서형\n",
    "##### *수치형*\n",
    "###### - 이산형\n",
    "###### - 연속형"
   ]
  },
  {
   "cell_type": "markdown",
   "id": "0d9536b0-9751-4cf3-b890-dc0abe61b98f",
   "metadata": {},
   "source": [
    "(3) 데이터 분포 확인\n"
   ]
  },
  {
   "cell_type": "markdown",
   "id": "7cac580b-a612-45d6-b81f-1a6012139090",
   "metadata": {},
   "source": [
    "단변수 분석은 원시 데이터(raw data)의 평균값, 최빈값, 중간값 등 변수들의 분포를 산포도, 박스 플롯, 히스토그램 등의 그래프를 통해 단변수, 즉 하나의 데이터 분포를 확인해 분석할 수 있는 방법. 원시 데이터 분포의 확인을 통해 전처리 아이디어를 얻을 수 있음"
   ]
  },
  {
   "cell_type": "markdown",
   "id": "bef0df89-5f29-49ad-b03e-2f53b0d50028",
   "metadata": {},
   "source": [
    "### **3. 전처리**"
   ]
  },
  {
   "cell_type": "markdown",
   "id": "c7107f62-c41e-4896-ba0a-e5e10e62e407",
   "metadata": {},
   "source": [
    "`데이터 분석(모델링)을 위해 데이터를 적절한 방식으로 손질하는 과정을 데이터 전처리라고 합니다. `"
   ]
  },
  {
   "cell_type": "markdown",
   "id": "6cf9b234-fcfe-4856-8520-ff309befe078",
   "metadata": {},
   "source": [
    "#### 결측값 처리"
   ]
  },
  {
   "cell_type": "markdown",
   "id": "3991f81b-6f53-47f2-a2e9-477eef6a01e1",
   "metadata": {},
   "source": [
    "`결측값=데이터 수집 과정에서 측정되지 않거나 누락된 데이터`"
   ]
  },
  {
   "cell_type": "markdown",
   "id": "4d07525b-5904-4ba6-a06a-440240ee9501",
   "metadata": {},
   "source": [
    "(1) 결측값 확인"
   ]
  },
  {
   "cell_type": "markdown",
   "id": "d7d224c4-e06b-4f1a-af97-f3fe4928e5d7",
   "metadata": {},
   "source": [
    "(2) 결측값 처리"
   ]
  },
  {
   "cell_type": "markdown",
   "id": "31bff405-812e-4375-8364-83b3c67202f9",
   "metadata": {},
   "source": [
    "#### 이상치 처리"
   ]
  },
  {
   "cell_type": "markdown",
   "id": "8d1d924e-3429-46a2-8afa-8c1d937ea021",
   "metadata": {},
   "source": [
    "`이상치=관측된 데이터의 범위에서 많이 벗어난 값`"
   ]
  },
  {
   "cell_type": "markdown",
   "id": "c0b4eaba-7fa4-4ccc-8e96-6341def91fc4",
   "metadata": {},
   "source": [
    "(1) 이상치 확인\n",
    "> - 통계를 통해 확인 `describe()`\n",
    "> - 시각화를 통해 확인 : BoxPlot\n",
    "> - Z-score를 통해 확인\n",
    "> - Tukey Fences을 통해 확인"
   ]
  },
  {
   "cell_type": "markdown",
   "id": "36e6df53-5350-4add-a8f2-dd836d525f34",
   "metadata": {},
   "source": [
    "(2) 이상치 제거\n",
    "> - 전체 삭제\n",
    "> - 다른 값으로 대체\n",
    "> - 변수화\n",
    "> - 리샘플링\n"
   ]
  },
  {
   "cell_type": "markdown",
   "id": "4def15de-98db-47a5-9984-6ac3241e71d5",
   "metadata": {},
   "source": [
    "피처 엔지니어링(변수 가공)"
   ]
  },
  {
   "cell_type": "markdown",
   "id": "2d33514f-1dbf-4db9-bca5-de94f37cb823",
   "metadata": {},
   "source": [
    "`해결하고자 하는 문제를 컴퓨터가 잘 이해할 수 있도록 피처(변수)들의 형태를 변형하거나 적절하게 처리하는 과정`"
   ]
  },
  {
   "cell_type": "markdown",
   "id": "f878f5ab-3d1e-43d2-a593-ee223eee4d43",
   "metadata": {},
   "source": [
    "피처 엔지니어링 방식\n",
    "1) 레이블인코딩, 원핫인코딩\n",
    "2) 구간화\n",
    "3) 변환\n",
    "4) 스케일링"
   ]
  },
  {
   "cell_type": "markdown",
   "id": "028cba5e-2936-4732-8957-a20d916e98d9",
   "metadata": {},
   "source": [
    "### **4. 시각화**"
   ]
  },
  {
   "cell_type": "markdown",
   "id": "7cf1d236-1b5c-426d-aa98-00dba345d94a",
   "metadata": {},
   "source": [
    "`시각화(visualization)는 데이터나 정보를 시각적인 형태로 표현하는 과정 또는 결과물. 시각화를 통해 숫자와 텍스트로 표현되는 정보를 그래프, 차트, 그림, 도표 등의 시각적 요소로 변환하고, 이를 통해 데이터 패턴, 관계, 추세 등을 쉽게 파악할 수 있음`"
   ]
  },
  {
   "cell_type": "markdown",
   "id": "f9eae00a-10c1-4526-9a2b-1da7f18593c9",
   "metadata": {},
   "source": [
    "파라미터"
   ]
  },
  {
   "cell_type": "markdown",
   "id": "a3a23d74-44cc-4a25-b287-7d1f757b2897",
   "metadata": {},
   "source": [
    ":컴퓨터 프로그래밍에서 매개변수(parameter 파라미터)란 프로그래밍된 함수의 입력값을 의미"
   ]
  },
  {
   "cell_type": "markdown",
   "id": "ecc481b4-a2ef-481b-9f41-413d0af7aeb9",
   "metadata": {},
   "source": [
    "`hue` 파라미터에는 범주형 변수를 넣어, 내가 원하는 변수를 기준으로 데이터를 구분하여 그래프에 표시해줄 수 있음"
   ]
  },
  {
   "cell_type": "markdown",
   "id": "966b54df-1784-47a1-91ca-d85e71d51ffb",
   "metadata": {},
   "source": [
    "> - boxplot(상자 수염 그림) :사분위수와 이상치를 보여주는 그래프\n",
    "> - countplot, histplot : 범주형 변수의 빈도수를 확인하는 그래프\n",
    "> - displot, kdeplot (커널밀도추정 그래프):히스토그램을 연속적으로 곡선으로 연결한 그래프\n",
    "> - barplot, pointplot : 범주형 데이터 값 x에 따른 수치형 데이터 값 y의 평균 값을 제공\n",
    "> - scatterplot(산점도 그래프) : 두 변수 간의 관계를 시각화하기 위해 사용되는 그\n",
    "> - regplot(회귀선이 추가된 산점도래프) : 두 개의 연속 변수 사이의 산점도를 그리고 회귀선을 함께 나타내는 그래프\n",
    "> - catplot :  categoryplot의 준말로, 수치형 데이터와 범주형 데이터의 관계를 볼 때 주로 사용\n",
    "> -  pieplot : 데이터의 부분과 전체 간의 비율을 표현하는 그래프\n",
    "> -  heatmap : 수간 상관계수를 직관적 볼 수 있는 그래프\n",
    "> -  violinplot : 박스 플롯과 커널밀도추정 함수 그래프를 합쳐 놓은 그래프\n",
    "> -   pairplot : 러 변수간의 산점도를 한번에 보여주는 그래프"
   ]
  },
  {
   "cell_type": "code",
   "execution_count": null,
   "id": "836001c3-00ef-4458-969b-d9f2408edac4",
   "metadata": {},
   "outputs": [],
   "source": []
  }
 ],
 "metadata": {
  "kernelspec": {
   "display_name": "Python 3 (ipykernel)",
   "language": "python",
   "name": "python3"
  },
  "language_info": {
   "codemirror_mode": {
    "name": "ipython",
    "version": 3
   },
   "file_extension": ".py",
   "mimetype": "text/x-python",
   "name": "python",
   "nbconvert_exporter": "python",
   "pygments_lexer": "ipython3",
   "version": "3.12.7"
  }
 },
 "nbformat": 4,
 "nbformat_minor": 5
}
