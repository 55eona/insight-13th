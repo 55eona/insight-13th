{
 "cells": [
  {
   "cell_type": "markdown",
   "id": "74c30ccf-e312-4b53-ac65-60a5629fcb45",
   "metadata": {},
   "source": [
    "## 0단계 라이브러리 및 데이터 준비"
   ]
  },
  {
   "cell_type": "markdown",
   "id": "8ed643f6-a178-406d-b61a-932bfe8feb80",
   "metadata": {},
   "source": [
    "### 0.0 라이브러리 불러오기"
   ]
  },
  {
   "cell_type": "code",
   "execution_count": 61,
   "id": "9102a9f6-833c-46cd-ae3b-f9ace77c9dc9",
   "metadata": {},
   "outputs": [],
   "source": [
    "import numpy as np\n",
    "import pandas as pd\n",
    "\n",
    "import scipy as sp\n",
    "import scipy.stats as stats\n",
    "import statsmodels.api as sm\n",
    "from statsmodels.formula.api import ols\n",
    "from sklearn.model_selection import train_test_split\n",
    "from sklearn.metrics import mean_squared_error, r2_score, mean_absolute_error\n",
    "from statsmodels.stats.outliers_influence import variance_inflation_factor \n",
    "\n",
    "import seaborn as sns\n",
    "import matplotlib.pyplot as plt"
   ]
  },
  {
   "cell_type": "markdown",
   "id": "6f97aca5-a646-42b3-b1d7-26f6d0d9fea5",
   "metadata": {},
   "source": [
    "### 0.1 데이터 불러오기"
   ]
  },
  {
   "cell_type": "code",
   "execution_count": 28,
   "id": "1437c348-058b-44bb-b06d-9a1f62d6b792",
   "metadata": {},
   "outputs": [
    {
     "data": {
      "text/html": [
       "<div>\n",
       "<style scoped>\n",
       "    .dataframe tbody tr th:only-of-type {\n",
       "        vertical-align: middle;\n",
       "    }\n",
       "\n",
       "    .dataframe tbody tr th {\n",
       "        vertical-align: top;\n",
       "    }\n",
       "\n",
       "    .dataframe thead th {\n",
       "        text-align: right;\n",
       "    }\n",
       "</style>\n",
       "<table border=\"1\" class=\"dataframe\">\n",
       "  <thead>\n",
       "    <tr style=\"text-align: right;\">\n",
       "      <th></th>\n",
       "      <th>CRIM</th>\n",
       "      <th>ZN</th>\n",
       "      <th>INDUS</th>\n",
       "      <th>CHAS</th>\n",
       "      <th>NOX</th>\n",
       "      <th>RM</th>\n",
       "      <th>AGE</th>\n",
       "      <th>DIS</th>\n",
       "      <th>RAD</th>\n",
       "      <th>TAX</th>\n",
       "      <th>PTRATIO</th>\n",
       "      <th>B</th>\n",
       "      <th>LSTAT</th>\n",
       "      <th>MEDV</th>\n",
       "      <th>CAT.MEDV</th>\n",
       "    </tr>\n",
       "  </thead>\n",
       "  <tbody>\n",
       "    <tr>\n",
       "      <th>0</th>\n",
       "      <td>0.00632</td>\n",
       "      <td>18.0</td>\n",
       "      <td>2.31</td>\n",
       "      <td>0</td>\n",
       "      <td>0.538</td>\n",
       "      <td>6.575</td>\n",
       "      <td>65.2</td>\n",
       "      <td>4.0900</td>\n",
       "      <td>1</td>\n",
       "      <td>296</td>\n",
       "      <td>15.3</td>\n",
       "      <td>396.90</td>\n",
       "      <td>4.98</td>\n",
       "      <td>24.0</td>\n",
       "      <td>0</td>\n",
       "    </tr>\n",
       "    <tr>\n",
       "      <th>1</th>\n",
       "      <td>0.02731</td>\n",
       "      <td>0.0</td>\n",
       "      <td>7.07</td>\n",
       "      <td>0</td>\n",
       "      <td>0.469</td>\n",
       "      <td>6.421</td>\n",
       "      <td>78.9</td>\n",
       "      <td>4.9671</td>\n",
       "      <td>2</td>\n",
       "      <td>242</td>\n",
       "      <td>17.8</td>\n",
       "      <td>396.90</td>\n",
       "      <td>9.14</td>\n",
       "      <td>21.6</td>\n",
       "      <td>0</td>\n",
       "    </tr>\n",
       "    <tr>\n",
       "      <th>2</th>\n",
       "      <td>0.02729</td>\n",
       "      <td>0.0</td>\n",
       "      <td>7.07</td>\n",
       "      <td>0</td>\n",
       "      <td>0.469</td>\n",
       "      <td>7.185</td>\n",
       "      <td>61.1</td>\n",
       "      <td>4.9671</td>\n",
       "      <td>2</td>\n",
       "      <td>242</td>\n",
       "      <td>17.8</td>\n",
       "      <td>392.83</td>\n",
       "      <td>4.03</td>\n",
       "      <td>34.7</td>\n",
       "      <td>1</td>\n",
       "    </tr>\n",
       "    <tr>\n",
       "      <th>3</th>\n",
       "      <td>0.03237</td>\n",
       "      <td>0.0</td>\n",
       "      <td>2.18</td>\n",
       "      <td>0</td>\n",
       "      <td>0.458</td>\n",
       "      <td>6.998</td>\n",
       "      <td>45.8</td>\n",
       "      <td>6.0622</td>\n",
       "      <td>3</td>\n",
       "      <td>222</td>\n",
       "      <td>18.7</td>\n",
       "      <td>394.63</td>\n",
       "      <td>2.94</td>\n",
       "      <td>33.4</td>\n",
       "      <td>1</td>\n",
       "    </tr>\n",
       "    <tr>\n",
       "      <th>4</th>\n",
       "      <td>0.06905</td>\n",
       "      <td>0.0</td>\n",
       "      <td>2.18</td>\n",
       "      <td>0</td>\n",
       "      <td>0.458</td>\n",
       "      <td>7.147</td>\n",
       "      <td>54.2</td>\n",
       "      <td>6.0622</td>\n",
       "      <td>3</td>\n",
       "      <td>222</td>\n",
       "      <td>18.7</td>\n",
       "      <td>396.90</td>\n",
       "      <td>5.33</td>\n",
       "      <td>36.2</td>\n",
       "      <td>1</td>\n",
       "    </tr>\n",
       "  </tbody>\n",
       "</table>\n",
       "</div>"
      ],
      "text/plain": [
       "      CRIM    ZN  INDUS  CHAS    NOX     RM   AGE     DIS  RAD  TAX  PTRATIO  \\\n",
       "0  0.00632  18.0   2.31     0  0.538  6.575  65.2  4.0900    1  296     15.3   \n",
       "1  0.02731   0.0   7.07     0  0.469  6.421  78.9  4.9671    2  242     17.8   \n",
       "2  0.02729   0.0   7.07     0  0.469  7.185  61.1  4.9671    2  242     17.8   \n",
       "3  0.03237   0.0   2.18     0  0.458  6.998  45.8  6.0622    3  222     18.7   \n",
       "4  0.06905   0.0   2.18     0  0.458  7.147  54.2  6.0622    3  222     18.7   \n",
       "\n",
       "        B  LSTAT  MEDV  CAT.MEDV  \n",
       "0  396.90   4.98  24.0         0  \n",
       "1  396.90   9.14  21.6         0  \n",
       "2  392.83   4.03  34.7         1  \n",
       "3  394.63   2.94  33.4         1  \n",
       "4  396.90   5.33  36.2         1  "
      ]
     },
     "execution_count": 28,
     "metadata": {},
     "output_type": "execute_result"
    }
   ],
   "source": [
    "boston = pd.read_csv(\"house_price.csv\")\n",
    "boston.head()"
   ]
  },
  {
   "cell_type": "markdown",
   "id": "3a485371-e330-4846-9a33-0deb083c0f3f",
   "metadata": {},
   "source": [
    "## 1단계: 데이터 살피기"
   ]
  },
  {
   "cell_type": "markdown",
   "id": "b06047a8-2c9a-4701-b647-73f8a0a49a01",
   "metadata": {},
   "source": [
    "### 1.1 데이터 확인\n",
    "독립 변수\n",
    "- CRIM: 범죄율  \n",
    "- INDUS: 비소매상업지역 면적 비율  \n",
    "- NOX: 일산화질소 농도  \n",
    "- RM: 주택당 방 수  \n",
    "- LSTAT: 인구 중 하위 계층 비율  \n",
    "- B: 인구 중 흑인 비율  \n",
    "- PTRATIO: 학생/교사 비율  \n",
    "- ZN: 25,000 평방피트를 초과 거주지역 비율  \n",
    "- CHAS: 찰스강의 경계에 위치한 경우는 1, 아니면 0  \n",
    "- AGE: 1940년 이전에 건축된 주택의 비율  \n",
    "- RAD: 방사형 고속도로까지의 거리  \n",
    "- DIS: 직업센터의 거리  \n",
    "- TAX: 재산세율  \n",
    "\n",
    "종속 변수(결과: 예측하고자 하는 값)\n",
    "- MEDV: 주택가격"
   ]
  },
  {
   "cell_type": "code",
   "execution_count": 30,
   "id": "75ac289a-2864-4d22-9772-13552f451646",
   "metadata": {},
   "outputs": [
    {
     "data": {
      "text/html": [
       "<div>\n",
       "<style scoped>\n",
       "    .dataframe tbody tr th:only-of-type {\n",
       "        vertical-align: middle;\n",
       "    }\n",
       "\n",
       "    .dataframe tbody tr th {\n",
       "        vertical-align: top;\n",
       "    }\n",
       "\n",
       "    .dataframe thead th {\n",
       "        text-align: right;\n",
       "    }\n",
       "</style>\n",
       "<table border=\"1\" class=\"dataframe\">\n",
       "  <thead>\n",
       "    <tr style=\"text-align: right;\">\n",
       "      <th></th>\n",
       "      <th>CRIM</th>\n",
       "      <th>ZN</th>\n",
       "      <th>INDUS</th>\n",
       "      <th>CHAS</th>\n",
       "      <th>NOX</th>\n",
       "      <th>RM</th>\n",
       "      <th>AGE</th>\n",
       "      <th>DIS</th>\n",
       "      <th>RAD</th>\n",
       "      <th>TAX</th>\n",
       "      <th>PTRATIO</th>\n",
       "      <th>B</th>\n",
       "      <th>LSTAT</th>\n",
       "      <th>MEDV</th>\n",
       "      <th>CAT.MEDV</th>\n",
       "    </tr>\n",
       "  </thead>\n",
       "  <tbody>\n",
       "    <tr>\n",
       "      <th>0</th>\n",
       "      <td>0.00632</td>\n",
       "      <td>18.0</td>\n",
       "      <td>2.31</td>\n",
       "      <td>0</td>\n",
       "      <td>0.538</td>\n",
       "      <td>6.575</td>\n",
       "      <td>65.2</td>\n",
       "      <td>4.0900</td>\n",
       "      <td>1</td>\n",
       "      <td>296</td>\n",
       "      <td>15.3</td>\n",
       "      <td>396.90</td>\n",
       "      <td>4.98</td>\n",
       "      <td>24.0</td>\n",
       "      <td>0</td>\n",
       "    </tr>\n",
       "    <tr>\n",
       "      <th>1</th>\n",
       "      <td>0.02731</td>\n",
       "      <td>0.0</td>\n",
       "      <td>7.07</td>\n",
       "      <td>0</td>\n",
       "      <td>0.469</td>\n",
       "      <td>6.421</td>\n",
       "      <td>78.9</td>\n",
       "      <td>4.9671</td>\n",
       "      <td>2</td>\n",
       "      <td>242</td>\n",
       "      <td>17.8</td>\n",
       "      <td>396.90</td>\n",
       "      <td>9.14</td>\n",
       "      <td>21.6</td>\n",
       "      <td>0</td>\n",
       "    </tr>\n",
       "    <tr>\n",
       "      <th>2</th>\n",
       "      <td>0.02729</td>\n",
       "      <td>0.0</td>\n",
       "      <td>7.07</td>\n",
       "      <td>0</td>\n",
       "      <td>0.469</td>\n",
       "      <td>7.185</td>\n",
       "      <td>61.1</td>\n",
       "      <td>4.9671</td>\n",
       "      <td>2</td>\n",
       "      <td>242</td>\n",
       "      <td>17.8</td>\n",
       "      <td>392.83</td>\n",
       "      <td>4.03</td>\n",
       "      <td>34.7</td>\n",
       "      <td>1</td>\n",
       "    </tr>\n",
       "    <tr>\n",
       "      <th>3</th>\n",
       "      <td>0.03237</td>\n",
       "      <td>0.0</td>\n",
       "      <td>2.18</td>\n",
       "      <td>0</td>\n",
       "      <td>0.458</td>\n",
       "      <td>6.998</td>\n",
       "      <td>45.8</td>\n",
       "      <td>6.0622</td>\n",
       "      <td>3</td>\n",
       "      <td>222</td>\n",
       "      <td>18.7</td>\n",
       "      <td>394.63</td>\n",
       "      <td>2.94</td>\n",
       "      <td>33.4</td>\n",
       "      <td>1</td>\n",
       "    </tr>\n",
       "    <tr>\n",
       "      <th>4</th>\n",
       "      <td>0.06905</td>\n",
       "      <td>0.0</td>\n",
       "      <td>2.18</td>\n",
       "      <td>0</td>\n",
       "      <td>0.458</td>\n",
       "      <td>7.147</td>\n",
       "      <td>54.2</td>\n",
       "      <td>6.0622</td>\n",
       "      <td>3</td>\n",
       "      <td>222</td>\n",
       "      <td>18.7</td>\n",
       "      <td>396.90</td>\n",
       "      <td>5.33</td>\n",
       "      <td>36.2</td>\n",
       "      <td>1</td>\n",
       "    </tr>\n",
       "    <tr>\n",
       "      <th>...</th>\n",
       "      <td>...</td>\n",
       "      <td>...</td>\n",
       "      <td>...</td>\n",
       "      <td>...</td>\n",
       "      <td>...</td>\n",
       "      <td>...</td>\n",
       "      <td>...</td>\n",
       "      <td>...</td>\n",
       "      <td>...</td>\n",
       "      <td>...</td>\n",
       "      <td>...</td>\n",
       "      <td>...</td>\n",
       "      <td>...</td>\n",
       "      <td>...</td>\n",
       "      <td>...</td>\n",
       "    </tr>\n",
       "    <tr>\n",
       "      <th>501</th>\n",
       "      <td>0.06263</td>\n",
       "      <td>0.0</td>\n",
       "      <td>11.93</td>\n",
       "      <td>0</td>\n",
       "      <td>0.573</td>\n",
       "      <td>6.593</td>\n",
       "      <td>69.1</td>\n",
       "      <td>2.4786</td>\n",
       "      <td>1</td>\n",
       "      <td>273</td>\n",
       "      <td>21.0</td>\n",
       "      <td>391.99</td>\n",
       "      <td>9.67</td>\n",
       "      <td>22.4</td>\n",
       "      <td>0</td>\n",
       "    </tr>\n",
       "    <tr>\n",
       "      <th>502</th>\n",
       "      <td>0.04527</td>\n",
       "      <td>0.0</td>\n",
       "      <td>11.93</td>\n",
       "      <td>0</td>\n",
       "      <td>0.573</td>\n",
       "      <td>6.120</td>\n",
       "      <td>76.7</td>\n",
       "      <td>2.2875</td>\n",
       "      <td>1</td>\n",
       "      <td>273</td>\n",
       "      <td>21.0</td>\n",
       "      <td>396.90</td>\n",
       "      <td>9.08</td>\n",
       "      <td>20.6</td>\n",
       "      <td>0</td>\n",
       "    </tr>\n",
       "    <tr>\n",
       "      <th>503</th>\n",
       "      <td>0.06076</td>\n",
       "      <td>0.0</td>\n",
       "      <td>11.93</td>\n",
       "      <td>0</td>\n",
       "      <td>0.573</td>\n",
       "      <td>6.976</td>\n",
       "      <td>91.0</td>\n",
       "      <td>2.1675</td>\n",
       "      <td>1</td>\n",
       "      <td>273</td>\n",
       "      <td>21.0</td>\n",
       "      <td>396.90</td>\n",
       "      <td>5.64</td>\n",
       "      <td>23.9</td>\n",
       "      <td>0</td>\n",
       "    </tr>\n",
       "    <tr>\n",
       "      <th>504</th>\n",
       "      <td>0.10959</td>\n",
       "      <td>0.0</td>\n",
       "      <td>11.93</td>\n",
       "      <td>0</td>\n",
       "      <td>0.573</td>\n",
       "      <td>6.794</td>\n",
       "      <td>89.3</td>\n",
       "      <td>2.3889</td>\n",
       "      <td>1</td>\n",
       "      <td>273</td>\n",
       "      <td>21.0</td>\n",
       "      <td>393.45</td>\n",
       "      <td>6.48</td>\n",
       "      <td>22.0</td>\n",
       "      <td>0</td>\n",
       "    </tr>\n",
       "    <tr>\n",
       "      <th>505</th>\n",
       "      <td>0.04741</td>\n",
       "      <td>0.0</td>\n",
       "      <td>11.93</td>\n",
       "      <td>0</td>\n",
       "      <td>0.573</td>\n",
       "      <td>6.030</td>\n",
       "      <td>80.8</td>\n",
       "      <td>2.5050</td>\n",
       "      <td>1</td>\n",
       "      <td>273</td>\n",
       "      <td>21.0</td>\n",
       "      <td>396.90</td>\n",
       "      <td>7.88</td>\n",
       "      <td>11.9</td>\n",
       "      <td>0</td>\n",
       "    </tr>\n",
       "  </tbody>\n",
       "</table>\n",
       "<p>506 rows × 15 columns</p>\n",
       "</div>"
      ],
      "text/plain": [
       "        CRIM    ZN  INDUS  CHAS    NOX     RM   AGE     DIS  RAD  TAX  \\\n",
       "0    0.00632  18.0   2.31     0  0.538  6.575  65.2  4.0900    1  296   \n",
       "1    0.02731   0.0   7.07     0  0.469  6.421  78.9  4.9671    2  242   \n",
       "2    0.02729   0.0   7.07     0  0.469  7.185  61.1  4.9671    2  242   \n",
       "3    0.03237   0.0   2.18     0  0.458  6.998  45.8  6.0622    3  222   \n",
       "4    0.06905   0.0   2.18     0  0.458  7.147  54.2  6.0622    3  222   \n",
       "..       ...   ...    ...   ...    ...    ...   ...     ...  ...  ...   \n",
       "501  0.06263   0.0  11.93     0  0.573  6.593  69.1  2.4786    1  273   \n",
       "502  0.04527   0.0  11.93     0  0.573  6.120  76.7  2.2875    1  273   \n",
       "503  0.06076   0.0  11.93     0  0.573  6.976  91.0  2.1675    1  273   \n",
       "504  0.10959   0.0  11.93     0  0.573  6.794  89.3  2.3889    1  273   \n",
       "505  0.04741   0.0  11.93     0  0.573  6.030  80.8  2.5050    1  273   \n",
       "\n",
       "     PTRATIO       B  LSTAT  MEDV  CAT.MEDV  \n",
       "0       15.3  396.90   4.98  24.0         0  \n",
       "1       17.8  396.90   9.14  21.6         0  \n",
       "2       17.8  392.83   4.03  34.7         1  \n",
       "3       18.7  394.63   2.94  33.4         1  \n",
       "4       18.7  396.90   5.33  36.2         1  \n",
       "..       ...     ...    ...   ...       ...  \n",
       "501     21.0  391.99   9.67  22.4         0  \n",
       "502     21.0  396.90   9.08  20.6         0  \n",
       "503     21.0  396.90   5.64  23.9         0  \n",
       "504     21.0  393.45   6.48  22.0         0  \n",
       "505     21.0  396.90   7.88  11.9         0  \n",
       "\n",
       "[506 rows x 15 columns]"
      ]
     },
     "execution_count": 30,
     "metadata": {},
     "output_type": "execute_result"
    }
   ],
   "source": [
    "boston"
   ]
  },
  {
   "cell_type": "markdown",
   "id": "3fc5e0d8-c556-488b-896f-f544ce05e580",
   "metadata": {},
   "source": [
    "#### Cat.MEDV는 MEDV에서 파생된 칼럼이기에 없애준다."
   ]
  },
  {
   "cell_type": "code",
   "execution_count": 36,
   "id": "8e91cd07-5b8a-489d-9ee0-54e85000af18",
   "metadata": {},
   "outputs": [
    {
     "data": {
      "image/png": "[encoded data removed]",
      "text/plain": [
       "<Figure size 640x480 with 2 Axes>"
      ]
     },
     "metadata": {},
     "output_type": "display_data"
    }
   ],
   "source": [
    "sns.heatmap(boston[['MEDV', 'CAT.MEDV']].corr(),annot = True)\n",
    "plt.show()"
   ]
  },
  {
   "cell_type": "code",
   "execution_count": 38,
   "id": "f1d63683-c6bf-4410-9a91-b7490b0a93ec",
   "metadata": {},
   "outputs": [],
   "source": [
    "boston.drop(labels=\"CAT.MEDV\",axis=1,inplace=True)"
   ]
  },
  {
   "cell_type": "markdown",
   "id": "6e3662dc-7930-412a-8e6d-d30625fd6386",
   "metadata": {},
   "source": [
    "### 1.2 독립변수 <-> 종속변수 나누기"
   ]
  },
  {
   "cell_type": "code",
   "execution_count": 41,
   "id": "d3e86910-caab-4711-a961-d225410a69d4",
   "metadata": {},
   "outputs": [],
   "source": [
    "X = boston.drop(labels='MEDV',axis=1)\n",
    "y = boston[\"MEDV\"]"
   ]
  },
  {
   "cell_type": "markdown",
   "id": "ba778b74-35e9-4680-a4d2-7214d0d237fd",
   "metadata": {},
   "source": [
    "## 2단계 : 다중공산성 제거"
   ]
  },
  {
   "cell_type": "markdown",
   "id": "290517fe-b5bb-4d5d-b028-421d4c3f51bf",
   "metadata": {},
   "source": [
    "### 2.1 다중공산성 확인 - 상관계수 이용"
   ]
  },
  {
   "cell_type": "code",
   "execution_count": 51,
   "id": "7fe67708-f2b1-48d1-a9d0-fa2589372059",
   "metadata": {},
   "outputs": [
    {
     "data": {
      "image/png": "[encoded data removed]",
      "text/plain": [
       "<Figure size 2000x1500 with 2 Axes>"
      ]
     },
     "metadata": {},
     "output_type": "display_data"
    }
   ],
   "source": [
    "plt.figure(figsize=(20,15))\n",
    "sns.heatmap(X.corr(), annot = True)\n",
    "plt.show()"
   ]
  },
  {
   "cell_type": "code",
   "execution_count": 53,
   "id": "6fe3126f-ac1f-4323-84fc-13752571be33",
   "metadata": {},
   "outputs": [
    {
     "data": {
      "text/html": [
       "<div>\n",
       "<style scoped>\n",
       "    .dataframe tbody tr th:only-of-type {\n",
       "        vertical-align: middle;\n",
       "    }\n",
       "\n",
       "    .dataframe tbody tr th {\n",
       "        vertical-align: top;\n",
       "    }\n",
       "\n",
       "    .dataframe thead th {\n",
       "        text-align: right;\n",
       "    }\n",
       "</style>\n",
       "<table border=\"1\" class=\"dataframe\">\n",
       "  <thead>\n",
       "    <tr style=\"text-align: right;\">\n",
       "      <th></th>\n",
       "      <th>CRIM</th>\n",
       "      <th>ZN</th>\n",
       "      <th>INDUS</th>\n",
       "      <th>CHAS</th>\n",
       "      <th>NOX</th>\n",
       "      <th>RM</th>\n",
       "      <th>AGE</th>\n",
       "      <th>DIS</th>\n",
       "      <th>RAD</th>\n",
       "      <th>TAX</th>\n",
       "      <th>PTRATIO</th>\n",
       "      <th>B</th>\n",
       "      <th>LSTAT</th>\n",
       "    </tr>\n",
       "  </thead>\n",
       "  <tbody>\n",
       "    <tr>\n",
       "      <th>CRIM</th>\n",
       "      <td>1.000000</td>\n",
       "      <td>-0.200469</td>\n",
       "      <td>0.406583</td>\n",
       "      <td>-0.055892</td>\n",
       "      <td>0.420972</td>\n",
       "      <td>-0.219247</td>\n",
       "      <td>0.352734</td>\n",
       "      <td>-0.379670</td>\n",
       "      <td>0.625505</td>\n",
       "      <td>0.582764</td>\n",
       "      <td>0.289946</td>\n",
       "      <td>-0.385064</td>\n",
       "      <td>0.455621</td>\n",
       "    </tr>\n",
       "    <tr>\n",
       "      <th>ZN</th>\n",
       "      <td>-0.200469</td>\n",
       "      <td>1.000000</td>\n",
       "      <td>-0.533828</td>\n",
       "      <td>-0.042697</td>\n",
       "      <td>-0.516604</td>\n",
       "      <td>0.311991</td>\n",
       "      <td>-0.569537</td>\n",
       "      <td>0.664408</td>\n",
       "      <td>-0.311948</td>\n",
       "      <td>-0.314563</td>\n",
       "      <td>-0.391679</td>\n",
       "      <td>0.175520</td>\n",
       "      <td>-0.412995</td>\n",
       "    </tr>\n",
       "    <tr>\n",
       "      <th>INDUS</th>\n",
       "      <td>0.406583</td>\n",
       "      <td>-0.533828</td>\n",
       "      <td>1.000000</td>\n",
       "      <td>0.062938</td>\n",
       "      <td>0.763651</td>\n",
       "      <td>-0.391676</td>\n",
       "      <td>0.644779</td>\n",
       "      <td>-0.708027</td>\n",
       "      <td>0.595129</td>\n",
       "      <td>0.720760</td>\n",
       "      <td>0.383248</td>\n",
       "      <td>-0.356977</td>\n",
       "      <td>0.603800</td>\n",
       "    </tr>\n",
       "    <tr>\n",
       "      <th>CHAS</th>\n",
       "      <td>-0.055892</td>\n",
       "      <td>-0.042697</td>\n",
       "      <td>0.062938</td>\n",
       "      <td>1.000000</td>\n",
       "      <td>0.091203</td>\n",
       "      <td>0.091251</td>\n",
       "      <td>0.086518</td>\n",
       "      <td>-0.099176</td>\n",
       "      <td>-0.007368</td>\n",
       "      <td>-0.035587</td>\n",
       "      <td>-0.121515</td>\n",
       "      <td>0.048788</td>\n",
       "      <td>-0.053929</td>\n",
       "    </tr>\n",
       "    <tr>\n",
       "      <th>NOX</th>\n",
       "      <td>0.420972</td>\n",
       "      <td>-0.516604</td>\n",
       "      <td>0.763651</td>\n",
       "      <td>0.091203</td>\n",
       "      <td>1.000000</td>\n",
       "      <td>-0.302188</td>\n",
       "      <td>0.731470</td>\n",
       "      <td>-0.769230</td>\n",
       "      <td>0.611441</td>\n",
       "      <td>0.668023</td>\n",
       "      <td>0.188933</td>\n",
       "      <td>-0.380051</td>\n",
       "      <td>0.590879</td>\n",
       "    </tr>\n",
       "    <tr>\n",
       "      <th>RM</th>\n",
       "      <td>-0.219247</td>\n",
       "      <td>0.311991</td>\n",
       "      <td>-0.391676</td>\n",
       "      <td>0.091251</td>\n",
       "      <td>-0.302188</td>\n",
       "      <td>1.000000</td>\n",
       "      <td>-0.240265</td>\n",
       "      <td>0.205246</td>\n",
       "      <td>-0.209847</td>\n",
       "      <td>-0.292048</td>\n",
       "      <td>-0.355501</td>\n",
       "      <td>0.128069</td>\n",
       "      <td>-0.613808</td>\n",
       "    </tr>\n",
       "    <tr>\n",
       "      <th>AGE</th>\n",
       "      <td>0.352734</td>\n",
       "      <td>-0.569537</td>\n",
       "      <td>0.644779</td>\n",
       "      <td>0.086518</td>\n",
       "      <td>0.731470</td>\n",
       "      <td>-0.240265</td>\n",
       "      <td>1.000000</td>\n",
       "      <td>-0.747881</td>\n",
       "      <td>0.456022</td>\n",
       "      <td>0.506456</td>\n",
       "      <td>0.261515</td>\n",
       "      <td>-0.273534</td>\n",
       "      <td>0.602339</td>\n",
       "    </tr>\n",
       "    <tr>\n",
       "      <th>DIS</th>\n",
       "      <td>-0.379670</td>\n",
       "      <td>0.664408</td>\n",
       "      <td>-0.708027</td>\n",
       "      <td>-0.099176</td>\n",
       "      <td>-0.769230</td>\n",
       "      <td>0.205246</td>\n",
       "      <td>-0.747881</td>\n",
       "      <td>1.000000</td>\n",
       "      <td>-0.494588</td>\n",
       "      <td>-0.534432</td>\n",
       "      <td>-0.232471</td>\n",
       "      <td>0.291512</td>\n",
       "      <td>-0.496996</td>\n",
       "    </tr>\n",
       "    <tr>\n",
       "      <th>RAD</th>\n",
       "      <td>0.625505</td>\n",
       "      <td>-0.311948</td>\n",
       "      <td>0.595129</td>\n",
       "      <td>-0.007368</td>\n",
       "      <td>0.611441</td>\n",
       "      <td>-0.209847</td>\n",
       "      <td>0.456022</td>\n",
       "      <td>-0.494588</td>\n",
       "      <td>1.000000</td>\n",
       "      <td>0.910228</td>\n",
       "      <td>0.464741</td>\n",
       "      <td>-0.444413</td>\n",
       "      <td>0.488676</td>\n",
       "    </tr>\n",
       "    <tr>\n",
       "      <th>TAX</th>\n",
       "      <td>0.582764</td>\n",
       "      <td>-0.314563</td>\n",
       "      <td>0.720760</td>\n",
       "      <td>-0.035587</td>\n",
       "      <td>0.668023</td>\n",
       "      <td>-0.292048</td>\n",
       "      <td>0.506456</td>\n",
       "      <td>-0.534432</td>\n",
       "      <td>0.910228</td>\n",
       "      <td>1.000000</td>\n",
       "      <td>0.460853</td>\n",
       "      <td>-0.441808</td>\n",
       "      <td>0.543993</td>\n",
       "    </tr>\n",
       "    <tr>\n",
       "      <th>PTRATIO</th>\n",
       "      <td>0.289946</td>\n",
       "      <td>-0.391679</td>\n",
       "      <td>0.383248</td>\n",
       "      <td>-0.121515</td>\n",
       "      <td>0.188933</td>\n",
       "      <td>-0.355501</td>\n",
       "      <td>0.261515</td>\n",
       "      <td>-0.232471</td>\n",
       "      <td>0.464741</td>\n",
       "      <td>0.460853</td>\n",
       "      <td>1.000000</td>\n",
       "      <td>-0.177383</td>\n",
       "      <td>0.374044</td>\n",
       "    </tr>\n",
       "    <tr>\n",
       "      <th>B</th>\n",
       "      <td>-0.385064</td>\n",
       "      <td>0.175520</td>\n",
       "      <td>-0.356977</td>\n",
       "      <td>0.048788</td>\n",
       "      <td>-0.380051</td>\n",
       "      <td>0.128069</td>\n",
       "      <td>-0.273534</td>\n",
       "      <td>0.291512</td>\n",
       "      <td>-0.444413</td>\n",
       "      <td>-0.441808</td>\n",
       "      <td>-0.177383</td>\n",
       "      <td>1.000000</td>\n",
       "      <td>-0.366087</td>\n",
       "    </tr>\n",
       "    <tr>\n",
       "      <th>LSTAT</th>\n",
       "      <td>0.455621</td>\n",
       "      <td>-0.412995</td>\n",
       "      <td>0.603800</td>\n",
       "      <td>-0.053929</td>\n",
       "      <td>0.590879</td>\n",
       "      <td>-0.613808</td>\n",
       "      <td>0.602339</td>\n",
       "      <td>-0.496996</td>\n",
       "      <td>0.488676</td>\n",
       "      <td>0.543993</td>\n",
       "      <td>0.374044</td>\n",
       "      <td>-0.366087</td>\n",
       "      <td>1.000000</td>\n",
       "    </tr>\n",
       "  </tbody>\n",
       "</table>\n",
       "</div>"
      ],
      "text/plain": [
       "             CRIM        ZN     INDUS      CHAS       NOX        RM       AGE  \\\n",
       "CRIM     1.000000 -0.200469  0.406583 -0.055892  0.420972 -0.219247  0.352734   \n",
       "ZN      -0.200469  1.000000 -0.533828 -0.042697 -0.516604  0.311991 -0.569537   \n",
       "INDUS    0.406583 -0.533828  1.000000  0.062938  0.763651 -0.391676  0.644779   \n",
       "CHAS    -0.055892 -0.042697  0.062938  1.000000  0.091203  0.091251  0.086518   \n",
       "NOX      0.420972 -0.516604  0.763651  0.091203  1.000000 -0.302188  0.731470   \n",
       "RM      -0.219247  0.311991 -0.391676  0.091251 -0.302188  1.000000 -0.240265   \n",
       "AGE      0.352734 -0.569537  0.644779  0.086518  0.731470 -0.240265  1.000000   \n",
       "DIS     -0.379670  0.664408 -0.708027 -0.099176 -0.769230  0.205246 -0.747881   \n",
       "RAD      0.625505 -0.311948  0.595129 -0.007368  0.611441 -0.209847  0.456022   \n",
       "TAX      0.582764 -0.314563  0.720760 -0.035587  0.668023 -0.292048  0.506456   \n",
       "PTRATIO  0.289946 -0.391679  0.383248 -0.121515  0.188933 -0.355501  0.261515   \n",
       "B       -0.385064  0.175520 -0.356977  0.048788 -0.380051  0.128069 -0.273534   \n",
       "LSTAT    0.455621 -0.412995  0.603800 -0.053929  0.590879 -0.613808  0.602339   \n",
       "\n",
       "              DIS       RAD       TAX   PTRATIO         B     LSTAT  \n",
       "CRIM    -0.379670  0.625505  0.582764  0.289946 -0.385064  0.455621  \n",
       "ZN       0.664408 -0.311948 -0.314563 -0.391679  0.175520 -0.412995  \n",
       "INDUS   -0.708027  0.595129  0.720760  0.383248 -0.356977  0.603800  \n",
       "CHAS    -0.099176 -0.007368 -0.035587 -0.121515  0.048788 -0.053929  \n",
       "NOX     -0.769230  0.611441  0.668023  0.188933 -0.380051  0.590879  \n",
       "RM       0.205246 -0.209847 -0.292048 -0.355501  0.128069 -0.613808  \n",
       "AGE     -0.747881  0.456022  0.506456  0.261515 -0.273534  0.602339  \n",
       "DIS      1.000000 -0.494588 -0.534432 -0.232471  0.291512 -0.496996  \n",
       "RAD     -0.494588  1.000000  0.910228  0.464741 -0.444413  0.488676  \n",
       "TAX     -0.534432  0.910228  1.000000  0.460853 -0.441808  0.543993  \n",
       "PTRATIO -0.232471  0.464741  0.460853  1.000000 -0.177383  0.374044  \n",
       "B        0.291512 -0.444413 -0.441808 -0.177383  1.000000 -0.366087  \n",
       "LSTAT   -0.496996  0.488676  0.543993  0.374044 -0.366087  1.000000  "
      ]
     },
     "execution_count": 53,
     "metadata": {},
     "output_type": "execute_result"
    }
   ],
   "source": [
    "#상관계수 확인\n",
    "X.corr()"
   ]
  },
  {
   "cell_type": "markdown",
   "id": "fffbc152-bd06-404e-9f2d-f5bc7e440759",
   "metadata": {},
   "source": [
    "#### TAX랑 RAD가 심상치 않아 보인다... VIF로도 확인해보자"
   ]
  },
  {
   "cell_type": "code",
   "execution_count": 63,
   "id": "53e8a3e6-7a11-4754-9a0e-f4b45083a1aa",
   "metadata": {},
   "outputs": [
    {
     "name": "stdout",
     "output_type": "stream",
     "text": [
      "   Features        VIF\n",
      "0      CRIM   2.100373\n",
      "1        ZN   2.844013\n",
      "2     INDUS  14.485758\n",
      "3      CHAS   1.152952\n",
      "4       NOX  73.894947\n",
      "5        RM  77.948283\n",
      "6       AGE  21.386850\n",
      "7       DIS  14.699652\n",
      "8       RAD  15.167725\n",
      "9       TAX  61.227274\n",
      "10  PTRATIO  85.029547\n",
      "11        B  20.104943\n",
      "12    LSTAT  11.102025\n"
     ]
    }
   ],
   "source": [
    "def vif(X):\n",
    "    vif_data = pd.DataFrame()\n",
    "    vif_data[\"Features\"] = X.columns\n",
    "    vif_data[\"VIF\"] = [variance_inflation_factor(X.values, i) for i in range(X.shape[1])]\n",
    "    print(vif_data)\n",
    "vif(X)"
   ]
  },
  {
   "cell_type": "markdown",
   "id": "9c54a27e-f856-492f-b215-5e9d86e0a00d",
   "metadata": {},
   "source": [
    "##### 히트맵으로 봤을 땐 TAX와 RAD가 가장 큰 문제로 보였는데, VIF로 보니 PTRATIO가 더 심각하다.    \n",
    "-> 찾아보니 다중공산성 확인할 때에는 VIF가 더 정확하다고 함!    \n",
    "-> VIF 기준으로 하나씩 없애본다"
   ]
  },
  {
   "cell_type": "code",
   "execution_count": 68,
   "id": "b3fe1341-9c25-4482-9221-a477e728901b",
   "metadata": {},
   "outputs": [
    {
     "name": "stdout",
     "output_type": "stream",
     "text": [
      "   Features        VIF\n",
      "0      CRIM   2.099345\n",
      "1        ZN   2.451624\n",
      "2     INDUS  14.275283\n",
      "3      CHAS   1.142167\n",
      "4       NOX  73.894171\n",
      "5        RM  60.598846\n",
      "6       AGE  21.361234\n",
      "7       DIS  12.221605\n",
      "8       RAD  15.159162\n",
      "9       TAX  59.301541\n",
      "10        B  18.614751\n",
      "11    LSTAT  10.138324\n"
     ]
    }
   ],
   "source": [
    "vif(X.drop('PTRATIO', axis = 1))"
   ]
  },
  {
   "cell_type": "code",
   "execution_count": 72,
   "id": "350c533d-b509-432c-aafc-abc373349c01",
   "metadata": {},
   "outputs": [
    {
     "name": "stdout",
     "output_type": "stream",
     "text": [
      "   Features        VIF\n",
      "0      CRIM   2.097537\n",
      "1        ZN   2.449661\n",
      "2     INDUS  13.150904\n",
      "3      CHAS   1.138277\n",
      "4        RM  41.406746\n",
      "5       AGE  19.889623\n",
      "6       DIS  12.032952\n",
      "7       RAD  15.155012\n",
      "8       TAX  57.720347\n",
      "9         B  18.396072\n",
      "10    LSTAT   9.207840\n"
     ]
    }
   ],
   "source": [
    "vif(X.drop(['PTRATIO', 'NOX'], axis = 1))"
   ]
  },
  {
   "cell_type": "code",
   "execution_count": 74,
   "id": "1fe257c7-21d1-4845-8d29-03d5e87cdd53",
   "metadata": {},
   "outputs": [
    {
     "name": "stdout",
     "output_type": "stream",
     "text": [
      "  Features        VIF\n",
      "0     CRIM   2.097466\n",
      "1       ZN   2.375219\n",
      "2    INDUS   9.290080\n",
      "3     CHAS   1.118613\n",
      "4       RM  39.069063\n",
      "5      AGE  19.780944\n",
      "6      DIS  11.817803\n",
      "7      RAD   4.965633\n",
      "8        B  18.289917\n",
      "9    LSTAT   9.046248\n"
     ]
    }
   ],
   "source": [
    "vif(X.drop(['PTRATIO', 'NOX', 'TAX'], axis = 1))"
   ]
  },
  {
   "cell_type": "code",
   "execution_count": 76,
   "id": "5416d926-0291-46cb-b1e2-065ef14de660",
   "metadata": {},
   "outputs": [
    {
     "name": "stdout",
     "output_type": "stream",
     "text": [
      "  Features        VIF\n",
      "0     CRIM   2.095367\n",
      "1       ZN   2.334763\n",
      "2    INDUS   9.016142\n",
      "3     CHAS   1.116229\n",
      "4      AGE  14.000758\n",
      "5      DIS   8.447694\n",
      "6      RAD   4.771767\n",
      "7        B  13.537020\n",
      "8    LSTAT   8.358925\n"
     ]
    }
   ],
   "source": [
    "vif(X.drop(['PTRATIO', 'NOX', 'TAX', 'RM'], axis = 1))"
   ]
  },
  {
   "cell_type": "code",
   "execution_count": 78,
   "id": "26feeb53-6eef-4ef8-ae66-75e1a4b272d7",
   "metadata": {},
   "outputs": [
    {
     "name": "stdout",
     "output_type": "stream",
     "text": [
      "  Features        VIF\n",
      "0     CRIM   2.095211\n",
      "1       ZN   2.313889\n",
      "2    INDUS   8.205465\n",
      "3     CHAS   1.106350\n",
      "4      DIS   8.209371\n",
      "5      RAD   4.689836\n",
      "6        B  10.074224\n",
      "7    LSTAT   6.856889\n"
     ]
    }
   ],
   "source": [
    "vif(X.drop(['PTRATIO', 'NOX', 'TAX', 'RM', 'AGE'], axis = 1))"
   ]
  },
  {
   "cell_type": "markdown",
   "id": "f52ca960-6f2e-4493-9b28-7eb1f028b96e",
   "metadata": {},
   "source": [
    "#### 이정도면 다중공산성이 어느정도 해결된 것 같다!"
   ]
  },
  {
   "cell_type": "markdown",
   "id": "a0d0f85c-25b3-468b-b97b-8eded2c616cd",
   "metadata": {},
   "source": [
    "## 3단계 : 모델 평가"
   ]
  },
  {
   "cell_type": "markdown",
   "id": "98f20cc3-3312-46fa-8e4c-307ff0a30286",
   "metadata": {},
   "source": [
    "### 3.1 statsmodel 방식으로 모델 평가해보기"
   ]
  },
  {
   "cell_type": "code",
   "execution_count": 89,
   "id": "380419b8-a6f1-4452-aa40-efab626fecfe",
   "metadata": {},
   "outputs": [],
   "source": [
    "#다중공산성이 높은 변수 지우기\n",
    "boston.drop(labels=['PTRATIO', 'NOX', 'TAX', 'RM', 'AGE'],axis=1,inplace=True)\n",
    "\n",
    "#독립변수, 종속변수 나누기\n",
    "X = boston.drop(labels='MEDV',axis=1)\n",
    "y = boston[\"MEDV\"]\n",
    "\n",
    "#train, test 나누기\n",
    "X_train, X_test, y_train, y_test = train_test_split(X, y, test_size=0.2, random_state=2021)\n",
    "\n",
    "#상수항 추가 -> sklearn은 필요X\n",
    "X_train = sm.add_constant(X_train)\n",
    "\n",
    "model = sm.OLS(y_train, X_train)\n",
    "model_trained = model.fit()   "
   ]
  },
  {
   "cell_type": "code",
   "execution_count": 91,
   "id": "4440f6fc-60c8-4a5d-bd7a-f8ed05f27670",
   "metadata": {},
   "outputs": [
    {
     "name": "stdout",
     "output_type": "stream",
     "text": [
      "                            OLS Regression Results                            \n",
      "==============================================================================\n",
      "Dep. Variable:                   MEDV   R-squared:                       0.662\n",
      "Model:                            OLS   Adj. R-squared:                  0.656\n",
      "Method:                 Least Squares   F-statistic:                     96.92\n",
      "Date:                Wed, 26 Mar 2025   Prob (F-statistic):           2.66e-88\n",
      "Time:                        18:30:54   Log-Likelihood:                -1261.9\n",
      "No. Observations:                 404   AIC:                             2542.\n",
      "Df Residuals:                     395   BIC:                             2578.\n",
      "Df Model:                           8                                         \n",
      "Covariance Type:            nonrobust                                         \n",
      "==============================================================================\n",
      "                 coef    std err          t      P>|t|      [0.025      0.975]\n",
      "------------------------------------------------------------------------------\n",
      "const         40.4240      1.969     20.533      0.000      36.554      44.295\n",
      "CRIM          -0.1106      0.039     -2.832      0.005      -0.187      -0.034\n",
      "ZN             0.1010      0.016      6.275      0.000       0.069       0.133\n",
      "INDUS         -0.3090      0.066     -4.717      0.000      -0.438      -0.180\n",
      "CHAS           4.5311      1.160      3.906      0.000       2.250       6.812\n",
      "DIS           -1.9576      0.219     -8.955      0.000      -2.387      -1.528\n",
      "RAD            0.0728      0.046      1.572      0.117      -0.018       0.164\n",
      "B              0.0070      0.003      2.048      0.041       0.000       0.014\n",
      "LSTAT         -0.8856      0.053    -16.620      0.000      -0.990      -0.781\n",
      "==============================================================================\n",
      "Omnibus:                       90.557   Durbin-Watson:                   1.923\n",
      "Prob(Omnibus):                  0.000   Jarque-Bera (JB):              176.988\n",
      "Skew:                           1.213   Prob(JB):                     3.70e-39\n",
      "Kurtosis:                       5.152   Cond. No.                     2.63e+03\n",
      "==============================================================================\n",
      "\n",
      "Notes:\n",
      "[1] Standard Errors assume that the covariance matrix of the errors is correctly specified.\n",
      "[2] The condition number is large, 2.63e+03. This might indicate that there are\n",
      "strong multicollinearity or other numerical problems.\n"
     ]
    }
   ],
   "source": [
    "#결과 출력\n",
    "print(model_trained.summary())"
   ]
  },
  {
   "cell_type": "markdown",
   "id": "a3d97c35-4353-400e-a49a-c8cb22ea7f33",
   "metadata": {},
   "source": [
    "##### RAD의 p값이 높게 나타났다 -> 제거해준다"
   ]
  },
  {
   "cell_type": "code",
   "execution_count": 95,
   "id": "1cbc07ea-0a0c-4ce1-a583-0b111759a7ab",
   "metadata": {},
   "outputs": [
    {
     "name": "stdout",
     "output_type": "stream",
     "text": [
      "                            OLS Regression Results                            \n",
      "==============================================================================\n",
      "Dep. Variable:                   MEDV   R-squared:                       0.660\n",
      "Model:                            OLS   Adj. R-squared:                  0.654\n",
      "Method:                 Least Squares   F-statistic:                     110.0\n",
      "Date:                Wed, 26 Mar 2025   Prob (F-statistic):           8.29e-89\n",
      "Time:                        18:33:33   Log-Likelihood:                -1263.2\n",
      "No. Observations:                 404   AIC:                             2542.\n",
      "Df Residuals:                     396   BIC:                             2574.\n",
      "Df Model:                           7                                         \n",
      "Covariance Type:            nonrobust                                         \n",
      "==============================================================================\n",
      "                 coef    std err          t      P>|t|      [0.025      0.975]\n",
      "------------------------------------------------------------------------------\n",
      "const         41.1062      1.924     21.367      0.000      37.324      44.888\n",
      "CRIM          -0.0842      0.035     -2.384      0.018      -0.154      -0.015\n",
      "ZN             0.1015      0.016      6.300      0.000       0.070       0.133\n",
      "INDUS         -0.2802      0.063     -4.447      0.000      -0.404      -0.156\n",
      "CHAS           4.5469      1.162      3.912      0.000       2.262       6.832\n",
      "DIS           -1.9841      0.218     -9.086      0.000      -2.413      -1.555\n",
      "B              0.0060      0.003      1.781      0.076      -0.001       0.013\n",
      "LSTAT         -0.8811      0.053    -16.529      0.000      -0.986      -0.776\n",
      "==============================================================================\n",
      "Omnibus:                       92.383   Durbin-Watson:                   1.920\n",
      "Prob(Omnibus):                  0.000   Jarque-Bera (JB):              186.697\n",
      "Skew:                           1.218   Prob(JB):                     2.88e-41\n",
      "Kurtosis:                       5.271   Cond. No.                     2.57e+03\n",
      "==============================================================================\n",
      "\n",
      "Notes:\n",
      "[1] Standard Errors assume that the covariance matrix of the errors is correctly specified.\n",
      "[2] The condition number is large, 2.57e+03. This might indicate that there are\n",
      "strong multicollinearity or other numerical problems.\n"
     ]
    }
   ],
   "source": [
    "model = sm.OLS(y_train, X_train.drop(['RAD'], axis=1))\n",
    "model_trained = model.fit()\n",
    "print(model_trained.summary())"
   ]
  },
  {
   "cell_type": "markdown",
   "id": "23dbf11c-d174-4222-998d-2af3020d7aa0",
   "metadata": {},
   "source": [
    "이번엔 B가 p값이 높게 나왔다.. 다시 드랍해서 확인해본다"
   ]
  },
  {
   "cell_type": "code",
   "execution_count": 98,
   "id": "bac5e086-7654-491f-a618-92870a30f5e9",
   "metadata": {},
   "outputs": [
    {
     "name": "stdout",
     "output_type": "stream",
     "text": [
      "                            OLS Regression Results                            \n",
      "==============================================================================\n",
      "Dep. Variable:                   MEDV   R-squared:                       0.658\n",
      "Model:                            OLS   Adj. R-squared:                  0.652\n",
      "Method:                 Least Squares   F-statistic:                     127.1\n",
      "Date:                Wed, 26 Mar 2025   Prob (F-statistic):           3.38e-89\n",
      "Time:                        18:41:25   Log-Likelihood:                -1264.8\n",
      "No. Observations:                 404   AIC:                             2544.\n",
      "Df Residuals:                     397   BIC:                             2572.\n",
      "Df Model:                           6                                         \n",
      "Covariance Type:            nonrobust                                         \n",
      "==============================================================================\n",
      "                 coef    std err          t      P>|t|      [0.025      0.975]\n",
      "------------------------------------------------------------------------------\n",
      "const         43.5294      1.364     31.922      0.000      40.849      46.210\n",
      "CRIM          -0.0977      0.035     -2.822      0.005      -0.166      -0.030\n",
      "ZN             0.1004      0.016      6.219      0.000       0.069       0.132\n",
      "INDUS         -0.2924      0.063     -4.654      0.000      -0.416      -0.169\n",
      "CHAS           4.5994      1.165      3.948      0.000       2.309       6.890\n",
      "DIS           -1.9718      0.219     -9.010      0.000      -2.402      -1.542\n",
      "LSTAT         -0.8930      0.053    -16.838      0.000      -0.997      -0.789\n",
      "==============================================================================\n",
      "Omnibus:                       89.522   Durbin-Watson:                   1.920\n",
      "Prob(Omnibus):                  0.000   Jarque-Bera (JB):              177.509\n",
      "Skew:                           1.191   Prob(JB):                     2.85e-39\n",
      "Kurtosis:                       5.207   Cond. No.                         138.\n",
      "==============================================================================\n",
      "\n",
      "Notes:\n",
      "[1] Standard Errors assume that the covariance matrix of the errors is correctly specified.\n"
     ]
    }
   ],
   "source": [
    "model = sm.OLS(y_train, X_train.drop(['RAD', 'B'], axis=1))\n",
    "model_trained = model.fit()\n",
    "print(model_trained.summary())"
   ]
  },
  {
   "cell_type": "markdown",
   "id": "a0c629cb-2e83-4a56-b84f-d5ad121cfefe",
   "metadata": {},
   "source": [
    "### 이제 p값이 0.05 이상인 것도 없고 R-squared 값이 0.658로 실습때보다 결과가 좋아보인다."
   ]
  },
  {
   "cell_type": "markdown",
   "id": "214bf0cc-4c5f-47ea-9be7-d55c4273d9f3",
   "metadata": {},
   "source": [
    "### 3.2 test 데이터 모델 성능 평가하기"
   ]
  },
  {
   "cell_type": "code",
   "execution_count": 104,
   "id": "f0197154-e390-467e-bf8f-e0236041f8d9",
   "metadata": {},
   "outputs": [],
   "source": [
    "X_test = sm.add_constant(X_test)"
   ]
  },
  {
   "cell_type": "code",
   "execution_count": 106,
   "id": "ee37a405-f673-4cff-9a55-0a7dd3703e87",
   "metadata": {},
   "outputs": [
    {
     "data": {
      "text/plain": [
       "210    21.949147\n",
       "24     17.845786\n",
       "36     24.928098\n",
       "439    13.306045\n",
       "161    32.230723\n",
       "         ...    \n",
       "8       3.743818\n",
       "317    18.427402\n",
       "390    18.480123\n",
       "482    24.693029\n",
       "50     18.532883\n",
       "Length: 102, dtype: float64"
      ]
     },
     "execution_count": 106,
     "metadata": {},
     "output_type": "execute_result"
    }
   ],
   "source": [
    "y_test_pred = model_trained.predict(X_test.drop(['RAD', 'B'], axis=1))\n",
    "y_test_pred"
   ]
  },
  {
   "cell_type": "code",
   "execution_count": 108,
   "id": "296b5338-523d-4e30-a0f1-438aa0115f81",
   "metadata": {},
   "outputs": [
    {
     "name": "stdout",
     "output_type": "stream",
     "text": [
      "31.97049015951644\n"
     ]
    }
   ],
   "source": [
    "print(mean_squared_error(y_test, y_test_pred))"
   ]
  },
  {
   "cell_type": "code",
   "execution_count": 110,
   "id": "f8467b07-ddc6-4b9c-b49f-9e88023fa525",
   "metadata": {},
   "outputs": [
    {
     "name": "stdout",
     "output_type": "stream",
     "text": [
      "4.115901828914597\n"
     ]
    }
   ],
   "source": [
    "print(mean_absolute_error(y_test, y_test_pred))"
   ]
  },
  {
   "cell_type": "code",
   "execution_count": 112,
   "id": "6191337f-5b30-4b5a-8363-0ebee4649294",
   "metadata": {},
   "outputs": [
    {
     "name": "stdout",
     "output_type": "stream",
     "text": [
      "0.4994937477085015\n"
     ]
    }
   ],
   "source": [
    "print(r2_score(y_test, y_test_pred))"
   ]
  },
  {
   "cell_type": "code",
   "execution_count": 114,
   "id": "5a194140-66e3-4780-bf5f-68cde09eb89c",
   "metadata": {},
   "outputs": [
    {
     "name": "stdout",
     "output_type": "stream",
     "text": [
      "Testing MSE: 31.970\n",
      "Testing MAE: 4.116\n",
      "Testing R2: 0.499\n"
     ]
    }
   ],
   "source": [
    "print('Testing MSE: {:.3f}'.format(mean_squared_error(y_test, y_test_pred)))\n",
    "print('Testing MAE: {:.3f}'.format(mean_absolute_error(y_test, y_test_pred)))\n",
    "print('Testing R2: {:.3f}'.format(r2_score(y_test, y_test_pred)))"
   ]
  },
  {
   "cell_type": "markdown",
   "id": "97c9f5fb-0508-4470-b413-ffe5095adfbc",
   "metadata": {},
   "source": [
    "### 이 회귀모델은 test데이터에 대해 49.9퍼센트(약 50퍼센트) 정도의 설명력을 보여준다. 실습때보다 설명력을 조금이라도 높여서 뿌듯하다!!"
   ]
  },
  {
   "cell_type": "code",
   "execution_count": null,
   "id": "cd2131d0-6ad5-4d8c-97d5-502d613d37bf",
   "metadata": {},
   "outputs": [],
   "source": []
  }
 ],
 "metadata": {
  "kernelspec": {
   "display_name": "Python 3 (ipykernel)",
   "language": "python",
   "name": "python3"
  },
  "language_info": {
   "codemirror_mode": {
    "name": "ipython",
    "version": 3
   },
   "file_extension": ".py",
   "mimetype": "text/x-python",
   "name": "python",
   "nbconvert_exporter": "python",
   "pygments_lexer": "ipython3",
   "version": "3.11.7"
  }
 },
 "nbformat": 4,
 "nbformat_minor": 5
}
