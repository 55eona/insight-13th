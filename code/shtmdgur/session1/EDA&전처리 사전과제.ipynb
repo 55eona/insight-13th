{
 "cells": [
  {
   "cell_type": "markdown",
   "id": "81cb82c2-f297-44bd-b665-d33e14521a0f",
   "metadata": {},
   "source": [
    "EDA: 데이터를 파악  \n",
    "전처리: 데이터를 손질"
   ]
  },
  {
   "cell_type": "markdown",
   "id": "7829e7d7-ca5f-4b45-9a57-ebb014ed60eb",
   "metadata": {},
   "source": [
    "## **EDA**\n",
    "### 대상\n",
    "- 일변량: 데이터를 설명하고 패턴 찾기\n",
    "- 다변량: 변수 간의 관계 보기\n",
    "### 종류\n",
    "- 시각화/비시각화\n",
    "### 유형\n",
    "- 대상/변수에 따라 일변량 비시각화, 일변량 시각화, 다변량 비시각화, 다변량 시각화로 나누어짐\n",
    "- 주어진 데이터의 어느 부분을 어떻게 볼거냐?에따라 달라짐"
   ]
  },
  {
   "cell_type": "markdown",
   "id": "50cfaf51-a5b4-49a3-a67c-15d14f7e66fd",
   "metadata": {},
   "source": [
    "## 데이터 확인\n",
    "### 읽기/쓰기\n",
    "- 절대경로: 처음~끝까지의 경로 다 쓰는 방법. 고정적\n",
    "- 상대경로: 현재 작업 중인 폴더 기준으로 상하위, 같은 폴더 내의 디렉토리 등으로 표현 및 이동\n",
    "- 입출력\n",
    "    - csv, json, excel 등의 파일 읽기 및 쓰기\n",
    "    - pandas를 통해 dataframe으로 읽어오기\n",
    "### 데이터셋 파악\n",
    "- head()를 통해 데이터 프레임 보기\n",
    "- 변수 데이터 확인 {범주헝:[명목형,순서형],수치형:[이산형,연속형]}. 범주형|수치형&순서 O|X가 기준\n",
    "### 데이터 분포 확인 -> 시각화"
   ]
  },
  {
   "cell_type": "markdown",
   "id": "ae8316b3-b7ca-4c03-afa1-5c14ce7ecf97",
   "metadata": {},
   "source": [
    "## **전처리**\n",
    "- 분석을 위해 적절하게 가공하는 것. 이러한 가공을 통해 데이터 품질을 높이고 정확한 분석을 실시\n",
    "- 정제, 변환, 필터링, 통합 등이 있음\n",
    "### 결측값 처리\n",
    "1. 결측값 확인\n",
    "   - info(), value_counts(dropna=False), isnull/notnull, replace()\n",
    "2. 결측값 처리\n",
    "   - 삭제\n",
    "     - 행/열 기준, 하나라도 존재 시|모든 값이 결측값일 시 를 기준으로 삭제\n",
    "     - 원본 데이터를 변경할 수도, 안할 수도 있음\n",
    "     - 무작위로 발생한 결측값이 아닌, 관측치를 삭제하지 말 것\n",
    "    - 대체\n",
    "      - 평균값, 최빈값 등 활용\n",
    "      - 일괄 대체 vs 유사 유형 대체(범주형 변수 활용, 유사한 범주에 따라 대체)\n",
    "      - fillna()\n",
    "### 이상치 처리\n",
    "1. 이상치 확인\n",
    "   - 통계 통해 확인(describe())/시각화 통해 확인(botplot)\n",
    "   - z-score 통해 확인(정규분포)\n",
    "   - tukey fences 통해 확인 (사분위, IQR)\n",
    "2. 이상치 제거\n",
    "   - hummon error -> 전체 삭제\n",
    "   - 수집한 관측지의 양이 적음 -> 대체\n",
    "   - 이상치지만 분석에 필요함 (자연 발생)1 -> 변수화\n",
    "   - 자연발생2 -> 리샘플링(케이스 분리)\n",
    "### 피처(feature) 엔지니어링  \n",
    "컴퓨터가 문제를 잘 이해하도록 피처(변수)들을 적절하게 변형하거나 처리함\n",
    "도메인 지식+기존의 변수를 활용\n",
    "새로운 데이터/변수의 추가 없이 더 유용한 분석을 하도록 함 (도메인 지식이 중요)\n",
    "\n",
    "- 레이블인코딩 vs 원핫인코딩\n",
    "  - 범주형 변수를... 0~n-1의 숫자로 변환 vs 이진 벡터(0|1)로 변환\n",
    "- 구간화(binning)\n",
    "  - 연속 데이터를 일정한 구간으로 나눠 이산적인 값으로 나타냄\n",
    "  - 도메인 지식 활용\n",
    "- 변환\n",
    "  - 기존의 피처를 다른 피처로 변환해 변수 추가\n",
    "  - 도메인 지식 활용\n",
    "- 스케일링\n",
    "  - 변수의 값 범위를 일정한 수준으로 맞추기 (왜곡 방지를 위한 정규화 작업)\n",
    "  - 표준화(평균=1,분산=0), minmaxscaler(최솟값=0,최댓값=1) 등 있음"
   ]
  },
  {
   "cell_type": "markdown",
   "id": "eaf8c4ae-6005-4ad4-873e-b8860bed5271",
   "metadata": {},
   "source": [
    "## 시각화\n",
    "일반적으로 matplotlib, seaborn 활용\n",
    "전처리 이후 데이터의 특성을 파악하고, 그에 맞게 시각화\n",
    "\n",
    "### 다양한 그래프\n",
    "- botplot\n",
    "- countplot, hisplot\n",
    "- displot, kdeplot\n",
    "- barplot, pointplot\n",
    "- scatterplot, regplot\n",
    "- catplot\n",
    "- pieplot\n",
    "- heatmap\n",
    "- violinplot\n",
    "- pairplot (여러 그래프 한번에)"
   ]
  },
  {
   "cell_type": "code",
   "execution_count": null,
   "id": "4c37498e-538c-4d51-a62b-61eb372b808c",
   "metadata": {},
   "outputs": [],
   "source": []
  }
 ],
 "metadata": {
  "kernelspec": {
   "display_name": "Python 3 (ipykernel)",
   "language": "python",
   "name": "python3"
  },
  "language_info": {
   "codemirror_mode": {
    "name": "ipython",
    "version": 3
   },
   "file_extension": ".py",
   "mimetype": "text/x-python",
   "name": "python",
   "nbconvert_exporter": "python",
   "pygments_lexer": "ipython3",
   "version": "3.12.3"
  }
 },
 "nbformat": 4,
 "nbformat_minor": 5
}
