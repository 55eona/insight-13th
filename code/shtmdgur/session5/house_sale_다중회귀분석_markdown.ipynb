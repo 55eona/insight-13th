{
 "cells": [
  {
   "cell_type": "markdown",
   "id": "145a23b2-098c-4de8-9e96-0eb5223344b9",
   "metadata": {},
   "source": [
    "### 1. 사전 검증"
   ]
  },
  {
   "cell_type": "markdown",
   "id": "1b46f0bf-172d-4fcb-8065-958d83cc2cb3",
   "metadata": {},
   "source": [
    "- 변수 확인\n",
    "  - 독립변수와 종속변수 확인하기\n",
    "    - sqft_living, sqft_lot는 상관관계가 높을 수 있겠구나 싶음\n",
    "    - sqft_above+sqft_basement=sqft_living의 관계도 알아볼 수 있음\n",
    "    - 그 외에도 독립변수들 간의 관계성을 도메인 지식을 통해 알아볼 수 있다."
   ]
  },
  {
   "cell_type": "markdown",
   "id": "4e67a97f-55d2-4000-8e2e-d55d64f36e98",
   "metadata": {},
   "source": [
    "- 기본적으로 확인할 것\n",
    "1. 결측치 확인 -> df.isnull().sum()\n",
    "2. 각 변수의 data type 확인 -> df.info()\n",
    "3. 기본적인 통계 기술값 확인 -> df.describe()  \n",
    "   -> 과제에서는 추가적으로 median, skew, kurtosis, null값까지 확인"
   ]
  },
  {
   "cell_type": "markdown",
   "id": "3db06fd8-469e-4fc1-b1fa-d9fd2ed565f0",
   "metadata": {},
   "source": [
    "종속변수(타겟)의 왜도가 치우쳐진것을 확인함  \n",
    "-> 시각화(hist)를 통해서도 확인  \n",
    "-> 자연로그 취해서 정규분포 형태로 만들어주기"
   ]
  },
  {
   "cell_type": "markdown",
   "id": "2693b5ba-cf71-4c23-9803-cd8e0de6436a",
   "metadata": {},
   "source": [
    "함수를 통해 object, int, float 타입을 분류해서 데이터 살펴봄  \n",
    "-> 확인 결과 data변수가 object형, 전처리 필요"
   ]
  },
  {
   "cell_type": "markdown",
   "id": "2a4dd448-8c5a-4e3b-b499-04a2f87d1163",
   "metadata": {},
   "source": [
    "-> date 컬럼에서 필요한 부분 astype하고 새로운 컬럼에 저장"
   ]
  },
  {
   "cell_type": "markdown",
   "id": "03e5e202-147e-4d5b-859c-b2dd81fdfbd3",
   "metadata": {},
   "source": [
    "도메인 지식에 따라 기존의 변수들을 활용하여 새로운 변수를 만들어낼 수도 있음.  \n",
    "ex. sold-built_years = date2 - yr_built\n",
    "\n",
    "lambda & apply 잘 활용하기  \n",
    "lambda로 하고 싶은 처리 수행 하고 apply로 반복문 안쓰고 일괄 처리"
   ]
  },
  {
   "cell_type": "markdown",
   "id": "3a63f195-5f55-41c0-90a9-4dc6af47ed91",
   "metadata": {},
   "source": [
    "- 전처리 이후 독립변수의 분포 및 종속변수와의 선형관계 파악 (시각화)\n",
    "  - 분포 -> histogram으로 파악\n",
    "  - 선형 관계 -> 변수 선정 이후 pairplot으로 파악\n",
    "    -> price와 sqft_living간의 선형관계 볼 수 있음"
   ]
  },
  {
   "cell_type": "markdown",
   "id": "233b76e4-f733-4bc1-881e-f811bba44499",
   "metadata": {},
   "source": [
    "- heatmap을 통해 독립변수와 종속변수의 상관관계, 독립변수 간의 상관관계도 시각화 해보자"
   ]
  },
  {
   "cell_type": "code",
   "execution_count": 4,
   "id": "625c30bb-4153-4463-81ce-bcc40628accf",
   "metadata": {},
   "outputs": [
    {
     "data": {
      "text/plain": [
       "'\\nmask = np.zeros_like(df_corr, dtype=bool)\\nmask[np.triu_indices_from(mask)] = True\\n\\n-> heatmap의 대각선 위쪽 절반을 가릴 수 있음'"
      ]
     },
     "execution_count": 4,
     "metadata": {},
     "output_type": "execute_result"
    }
   ],
   "source": [
    "'''\n",
    "mask = np.zeros_like(df_corr, dtype=bool)\n",
    "mask[np.triu_indices_from(mask)] = True\n",
    "\n",
    "-> heatmap의 대각선 위쪽 절반을 가릴 수 있음'''"
   ]
  },
  {
   "cell_type": "markdown",
   "id": "a5b96be0-4059-4fc5-b79c-45f5c8cb638f",
   "metadata": {},
   "source": [
    "이후, price와 상관관계가 높은 변수들을 asceding=Flase를 통해 추려서 확인해볼 수 있음  \n",
    "-> 상관관계가 높은 세 변수를 찾아볼 수 있었다."
   ]
  },
  {
   "cell_type": "markdown",
   "id": "cb0fbe02-6668-4014-bc3d-b1d1950f2b77",
   "metadata": {},
   "source": [
    "- 선택한 독립 변수들의 분포를 살펴보기  \n",
    "-> 세 변수들의 분포가 비슷하네?  \n",
    "-> 만약 다중공선성이 존재한다면, price와 가장 상관관계가 높은 sqft_living으로 분석해야겠다  \n",
    "-> 독립변수 1개가 되므로 단순 선형 회귀 분석으로 할 생각"
   ]
  },
  {
   "cell_type": "markdown",
   "id": "562aa79d-9fdb-4e21-a153-cfa0711130f8",
   "metadata": {},
   "source": [
    "- 모델링 하기 전에 독립변수와 종속변수의 선형 관계 확인\n",
    "  - jointplot사용\n",
    "    - 산점도&회귀선 + 커널밀도함수로 분포까지 같이 볼 수 있음"
   ]
  },
  {
   "cell_type": "markdown",
   "id": "e8f74e67-1e94-4d71-9ea4-fee12ff14c4a",
   "metadata": {},
   "source": [
    "### 2. 모델 생성 및 fit"
   ]
  },
  {
   "cell_type": "markdown",
   "id": "241ea3c8-bfed-43ea-8e4a-f69e081adde9",
   "metadata": {},
   "source": [
    "- '항상 상수항 추가하기!'  \n",
    "X=sm.add_constant(X,has_constant='add')\n",
    "\n",
    "상수항 y값인데 왜 독립변수인 X에 추가하는지 궁금해서 찾아봄\n",
    "-> 벡터 계산이므로 독립변수 벡터에 모든 값이 1인 열을 추가해서 계산 -> 상수항이 추가됨"
   ]
  },
  {
   "cell_type": "markdown",
   "id": "ab7e0e3c-c437-47ce-9d34-e58987df7f15",
   "metadata": {},
   "source": [
    "- 모델 fit\n",
    "  - statsmodel에서 OLS import하고 fit 시키기\n",
    "  - 이후 summary를 통해 결과 확인\n",
    "    - 확인 결과 p값이 유의수준보다 훨씬 낮음, 귀무가설 기각 가능 & 모델의 통계적 유의성 확보"
   ]
  },
  {
   "cell_type": "markdown",
   "id": "5748ff52-d910-4089-a1ca-09a2b1a81075",
   "metadata": {},
   "source": [
    "- 잔차 확인  \n",
    "result_model.resid.plot()으로 잔차 확인 가능  \n",
    "시각화는 또또 plt.show()"
   ]
  },
  {
   "cell_type": "markdown",
   "id": "c851774b-7a80-433d-9c70-a69617f77894",
   "metadata": {},
   "source": [
    "### 2. 다중 선형 회귀"
   ]
  },
  {
   "cell_type": "markdown",
   "id": "2735ec08-e0f9-45ef-9953-6b784823bb73",
   "metadata": {},
   "source": [
    "- 연속형 반응변수 하나에 설명변수가 둘 이상\n",
    "- 다중공선성과 차원의 저주 문제가 발생할 수 있음"
   ]
  },
  {
   "cell_type": "markdown",
   "id": "8df95eb1-e4b0-4333-94f7-e11bdc8ee635",
   "metadata": {},
   "source": [
    "id를 제외한 모든 독립변수를 사용해 모델을 만들어 본 후, 독립변수를 선별해서 다시 선형 회귀 분석 실시.  \n",
    "다 때려보고 그 중 괜찮은 것을 고르는 것이 좋다고 함 ~"
   ]
  },
  {
   "cell_type": "markdown",
   "id": "551a7a80-a58e-44ac-a32c-dafe410cef8a",
   "metadata": {},
   "source": [
    "list(df.columns)를 columns 변수에 저장하고, 쓰지 않을 column을 not_used 변수에 저장  \n",
    "이후 반복문으로 쓰지 않을 column들을 remove하고  \n",
    "columns만 선택한 df 선언해서 df_reg에 저장"
   ]
  },
  {
   "cell_type": "markdown",
   "id": "9e853f0e-4a1c-4154-a960-824333661939",
   "metadata": {},
   "source": [
    "df_reg에 상수항 추가해서 df_kc_reg에 저장  \n",
    "feature_columns에 df_kc_reg에서 뽑아낸 price를 제외한 변수들을 리스트로 저장  \n",
    "이때, df_kc_reg.columns.difference(['price'])를 통해 price를 뺀다.  \n",
    "\n",
    "difference: 차집합 계산, set에서만 사용 가능하지만, index 객체도 set처럼 계산 가능해서 위처럼 사용 가능"
   ]
  },
  {
   "cell_type": "markdown",
   "id": "c30e8a86-211b-4319-ae77-6815ac8e7d70",
   "metadata": {},
   "source": [
    "이후 X,y에 독립변수, 종속변수 넣고 모델링 및 결과 확인하기"
   ]
  },
  {
   "cell_type": "markdown",
   "id": "5b907091-cadc-48f5-a519-4390ac7b6ae2",
   "metadata": {},
   "source": [
    "결과를 보니 p값도 0에 가깝고, R-squared값도 0.701로 잘 만든 모델처럼 보임  \n",
    "but, 다중공선성 확인하기 (오버피팅 가능성)"
   ]
  },
  {
   "cell_type": "markdown",
   "id": "733b5157-31c1-4fb5-add6-b4121ac0dcb6",
   "metadata": {},
   "source": [
    "확인 결과 다중공선성 문제가 발생하는 것을 확인할 수 있음  \n",
    "\n",
    "VIF=inf(무한대)가 나오는 경우:  \n",
    "VIF=1/(1-R^2)인데, 변수 X_i가 나머지 변수로 회귀했을때의 결정계수가 1인 경우 분모가 0이 되어(0에 수렴?) VIF가 inf가 되버림."
   ]
  },
  {
   "cell_type": "markdown",
   "id": "6881d47e-7afc-4969-82fa-e17d2f989ecb",
   "metadata": {},
   "source": [
    "'bedrooms','sqft_living','waterfront','view','sold-built_years','price'만 독립변수로 선택해서 모델링하기\n",
    "\n",
    "마찬가지로 df_reg에 독립변수들과 종속변수 넣고, 상수항들 추가해주고 price를 빼주기   \n",
    "-> 근데 여기서 df_reg를 만들고 거기에 add.constant를 하면 price에도 상수항 계산하는게 아닌가? 했는데 알고보니 add.constant하면 데이터프레임에 상수열을 추가하는거고, 그 데이터프레임에서 price를 제외시키므로 종속변수에 상수항이 추가될 일은 없음"
   ]
  },
  {
   "cell_type": "markdown",
   "id": "ae3b96cf-0037-4803-80c1-b72c4a6c9f6a",
   "metadata": {},
   "source": [
    "결과를 확인해보니 p값이 유의수준보다 낮아 통계적 유의성 확인 가능  \n",
    "이후 다중공선성을 확인해보자  \n",
    "-> 다중공선성이 줄어듬을 확인할 수 있음"
   ]
  },
  {
   "cell_type": "markdown",
   "id": "0aeeb16f-37b9-4373-b28c-be91460e34ae",
   "metadata": {},
   "source": [
    "### 회귀모형의 가정 진단\n",
    "\n",
    "선형성, 정규성, 독립성, 오차항의 자기상관, 등분산성, 오차항의 평균==0인가?를 검정해준다."
   ]
  },
  {
   "cell_type": "markdown",
   "id": "67d4ffe3-6476-4253-a4dd-5d008e87d4a0",
   "metadata": {},
   "source": [
    "1. 선형성 검정"
   ]
  },
  {
   "cell_type": "markdown",
   "id": "4a060332-0c60-4cd6-a04a-3a138cff438f",
   "metadata": {},
   "source": [
    "- scatter로 검정\n",
    "- fitted변수에 result_model_2.fittedvalues를 저장\n",
    "  -> 모델을 통해 예측된 값들을 fitted에 저장\n",
    "\n",
    "- fitted의 최소/최대값을 plot의 x,y값에 넣어 대각선을 그림"
   ]
  },
  {
   "cell_type": "markdown",
   "id": "86383a6c-e719-4dd8-b8d1-5057267d29fa",
   "metadata": {},
   "source": [
    "시각화 결과 y=x를 따라 어느정도 우상향하는 모습을 보임  \n",
    "또한, 데이터가 심하게 곡선으로 휘는 형태를 보이지는 않으므로 선형성을 만족한다고 할 수 있음"
   ]
  },
  {
   "cell_type": "markdown",
   "id": "450ca553-3698-42bc-bc3d-b3cf21c566fe",
   "metadata": {},
   "source": [
    "2. 정규성 검정"
   ]
  },
  {
   "cell_type": "markdown",
   "id": "c5e20f2e-323a-415b-8f10-aa5cc4652b82",
   "metadata": {},
   "source": [
    "- 모델의 잔차를 qqplot에 넣어 모델의 정규성을 검정해본다.\n",
    "  - - result_model_2.resid: 모델의 잔차"
   ]
  },
  {
   "cell_type": "markdown",
   "id": "370ac9d7-5408-478a-b316-edc9b1635c01",
   "metadata": {},
   "source": [
    "- 잔차를 히스토그램(+kde)으로도 그려봐 정규분포 모양인지 확인해본다."
   ]
  },
  {
   "cell_type": "markdown",
   "id": "dcff268b-391e-443a-9067-088db990e07f",
   "metadata": {},
   "source": [
    "- 잔차와 예측값을 구해 예측값을 x축, 잔차를 y축에 놓고 scatter를 그려 잔차 패턴을 확인해본다\n",
    "- fitted=result_model_2.predict()나, pred=result_model_2.predict(X)나 둘 다 예측값을 나타낸다\n",
    "  - 보통 predict()를 하면 내부적으로 모델이 기억하고 있는 X값을 자동으로 사용해서 같다고 한다."
   ]
  },
  {
   "cell_type": "markdown",
   "id": "953d0f35-0907-4c96-bdcb-9829056a42f7",
   "metadata": {},
   "source": [
    "- 사피로 - 월크 검정\n",
    "  - '데이터는 정규분포를 따른다'를 귀무가설로 설정하고 p-value계산\n",
    "\n",
    "- 계산 결과가 0.05보다 작음 -> 정규성 없다고 해야하나?\n",
    "- but, 관측치가 매우 높아 p값이 낮아질 수도 있음. qq플롯을 보자"
   ]
  },
  {
   "cell_type": "markdown",
   "id": "1d47fca5-a586-4482-97ec-f9026c284035",
   "metadata": {},
   "source": [
    "3. 독립성 검정"
   ]
  },
  {
   "cell_type": "markdown",
   "id": "f305c7d2-02ed-4fcc-b775-dcede74b4b7e",
   "metadata": {},
   "source": [
    "다중공선성 확인했으니 pass"
   ]
  },
  {
   "cell_type": "markdown",
   "id": "0fba6888-372b-4b19-b3c1-ae2137a2c850",
   "metadata": {},
   "source": [
    "4. 오차항의 자기상관 검정"
   ]
  },
  {
   "cell_type": "markdown",
   "id": "4fb10b64-f90e-4462-b00c-413239ee87e4",
   "metadata": {},
   "source": [
    "- ACF와 Durbin-Watson으로 독립성 만족 여부를 확인할 수 있음\n",
    "- Durbin-Watson이 2에 가까우면 자기상관이 없다고 할 수 있음\n",
    "- 결과가 1.956이므로 자기상관이 없다"
   ]
  },
  {
   "cell_type": "markdown",
   "id": "b7eb0164-8768-4790-8659-d04f6dd5ea32",
   "metadata": {},
   "source": [
    "5. 등분산성"
   ]
  },
  {
   "cell_type": "markdown",
   "id": "ba0074c3-3b5a-4745-b876-21400a006006",
   "metadata": {},
   "source": [
    "- displot과 resid의 선형그래프(plot)를 통해 잔차의 등분산성 확인\n",
    "- 대부분 -1~1사이에 있으므로 등분산성 만족!"
   ]
  },
  {
   "cell_type": "markdown",
   "id": "ef18612b-f866-40ee-a55e-9e5da281669e",
   "metadata": {},
   "source": [
    "6. 오차항의 평균이 0인가?"
   ]
  },
  {
   "cell_type": "markdown",
   "id": "65d2b562-7b59-4166-8da7-ec3da48541ee",
   "metadata": {},
   "source": [
    "- np.mean(result_model_2.resid)로 평균 확인\n",
    "- 0에 수렴하므로 만족한다고 할 수 있다."
   ]
  },
  {
   "cell_type": "markdown",
   "id": "7373f889-9099-4fc8-812a-25d338d2c4b7",
   "metadata": {},
   "source": [
    "기본 가정 6가지를 다 만족  \n",
    "그러므로 이 모델은 적합하다고 할 수 있다 ~"
   ]
  },
  {
   "cell_type": "code",
   "execution_count": null,
   "id": "a089aa93-4415-4710-80ab-8030853fbc6e",
   "metadata": {},
   "outputs": [],
   "source": []
  }
 ],
 "metadata": {
  "kernelspec": {
   "display_name": "Python 3 (ipykernel)",
   "language": "python",
   "name": "python3"
  },
  "language_info": {
   "codemirror_mode": {
    "name": "ipython",
    "version": 3
   },
   "file_extension": ".py",
   "mimetype": "text/x-python",
   "name": "python",
   "nbconvert_exporter": "python",
   "pygments_lexer": "ipython3",
   "version": "3.12.3"
  }
 },
 "nbformat": 4,
 "nbformat_minor": 5
}
