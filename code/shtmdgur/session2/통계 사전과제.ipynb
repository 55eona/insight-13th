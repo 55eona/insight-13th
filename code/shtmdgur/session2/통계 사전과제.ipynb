{
 "cells": [
  {
   "cell_type": "markdown",
   "id": "7a937d66-147f-4ced-a7f5-25ffc2491ea1",
   "metadata": {},
   "source": [
    "## 통계란?\n",
    "- 데이터로부터 의미를 찾는 것, 미래를 예측하는 것\n",
    "- 질적 자료 (숫자 표현 x)\n",
    "  - 명목척도\n",
    "    - 범주만 나타냄\n",
    "  - 서열척도\n",
    "    - 범주의 순서 비교 가능\n",
    "- 양적 자료 (숫자 표현 o)\n",
    "  - 구간 척도\n",
    "    - 등간격 -> 크고 작은 정도의 표현 가능. but 원점 존재 x\n",
    "  - 비율척도\n",
    "    - 절대적인 원점 존재, 연속적인 수 가능"
   ]
  },
  {
   "cell_type": "markdown",
   "id": "47ba917b-2bae-469c-83b1-25c5d4cb36c4",
   "metadata": {},
   "source": [
    "## 기술 통계\n",
    "\n",
    "### 기술 통계란?\n",
    "- 데이터를 요약, 설명\n",
    "- 수치 기술 통계, 시각화 기술 통계\n",
    "\n",
    "### 중심 경향성\n",
    "- 평균\n",
    "- 중앙값\n",
    "- 최빈값\n",
    "- 왜도 (데이터 분포의 비대칭성 나타냄)\n",
    "\n",
    "### 산포도\n",
    "- 분산\n",
    "- 표준편차\n",
    "- 범위\n",
    "- 사분위수\n",
    "- 사분위간 범위\n",
    "- 변동계수; (표준편차/평균)*100"
   ]
  },
  {
   "cell_type": "markdown",
   "id": "f5d2817d-d2f6-40c8-bd01-2c1b8cea5da3",
   "metadata": {},
   "source": [
    "## 추론통계 - 추정\n",
    "\n",
    "### 추론 통계란?\n",
    "- 표본 집단을 통한 모집단 정보 추론\n",
    "\n",
    "### 확률 분포\n",
    "- 확률 분포 : 확률 변수가 특정한 값을 가질 확률을 나타내는 함수\n",
    "- 확률 변수 : 모든 경우의 수를 특정 값으로 대응시키는 함수\n",
    "\n",
    "- 이산확률분포\n",
    "- 연속확률분포\n",
    "\n",
    "### 대표적인 분포 모형\n",
    "- 정규 분포\n",
    "- T분포\n",
    "  - 자유도를 매개변수로 가지고, 자유도가 커질수록 표준정규분포에 수렴\n",
    "  - 모평균/모평군 간의 차이 추정\n",
    "- 카이제곱분포\n",
    "  - 자유도를 매개변수로 가지고, 자유도가 커질수록 중심이 오른쪽으로, 더 대칭적으로 변화 (정규분포에 가까워짐)\n",
    "  - 독립성 검정, 적합도 검정 등에 사용"
   ]
  },
  {
   "cell_type": "markdown",
   "id": "667d98d5-309d-4472-976b-e3d68720c959",
   "metadata": {},
   "source": [
    "## 추론 통계 - 검정\n",
    "\n",
    "### 가설 검정의 절차\n",
    "- 가설 설정(귀무가설, 대립가설) - 유의 수준 설정 - 검정통계량 산출 - 가설 기각/채택 판단\n",
    "\n",
    "### 데이터의 자료형에 따른 검정 방법\n",
    "- 수치형<->수치형 : 피어슨 상관분석\n",
    "  - 두 변수간 선형 상관관계가 존재하는지/안하는지\n",
    "- 범주형<->수치형 : f-test(anova), t-test\n",
    "  - 두 그룹의 평균이 차이가 있는지, 없는지\n",
    "  - t-test는 범주 2개, anova는 범주 3개 이상일 때 사용\n",
    "- 범주형<->범주형 : Chi2-test"
   ]
  },
  {
   "cell_type": "code",
   "execution_count": null,
   "id": "4cea03de-4bb9-45af-9c1b-33dc7ffc17c4",
   "metadata": {},
   "outputs": [],
   "source": []
  }
 ],
 "metadata": {
  "kernelspec": {
   "display_name": "Python 3 (ipykernel)",
   "language": "python",
   "name": "python3"
  },
  "language_info": {
   "codemirror_mode": {
    "name": "ipython",
    "version": 3
   },
   "file_extension": ".py",
   "mimetype": "text/x-python",
   "name": "python",
   "nbconvert_exporter": "python",
   "pygments_lexer": "ipython3",
   "version": "3.12.3"
  }
 },
 "nbformat": 4,
 "nbformat_minor": 5
}
