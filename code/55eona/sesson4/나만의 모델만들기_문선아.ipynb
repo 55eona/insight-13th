{
 "cells": [
  {
   "cell_type": "code",
   "execution_count": 19,
   "id": "9ebeb2b1-0d04-4d27-b2e4-7ff4fb20deea",
   "metadata": {},
   "outputs": [],
   "source": [
    "import numpy as np\n",
    "import pandas as pd\n",
    "\n",
    "import scipy as sp\n",
    "import scipy.stats as stats\n",
    "\n",
    "import statsmodels.api as sm\n",
    "from statsmodels.formula.api import ols\n",
    "\n",
    "from sklearn.model_selection import train_test_split\n",
    "from sklearn.metrics import mean_squared_error, r2_score, mean_absolute_error\n",
    "\n",
    "import seaborn as sns\n",
    "import matplotlib.pyplot as plt"
   ]
  },
  {
   "cell_type": "markdown",
   "id": "f0631dfc-60ff-4269-97ea-f8c64a475fa2",
   "metadata": {},
   "source": [
    "실습에서 진행했던 거와 마찬가지로 house_price.csv를 불러오고,\n",
    "MEDV에서 파생된 칼럼인 CAT.MEDV은 drop하기"
   ]
  },
  {
   "cell_type": "code",
   "execution_count": 3,
   "id": "0635eac3-bdd2-4d3e-82dc-daef1f61eb1c",
   "metadata": {},
   "outputs": [],
   "source": [
    "data = pd.read_csv('house_price.csv')\n",
    "data.drop(labels=['CAT.MEDV'], axis=1, inplace=True)"
   ]
  },
  {
   "cell_type": "code",
   "execution_count": 4,
   "id": "57f12ab9-aea7-4c78-ae47-9c200de6406a",
   "metadata": {},
   "outputs": [],
   "source": [
    "X = data.drop(labels='MEDV', axis=1) # 집값 컬럼을 제외하고, 데이터프레임 형태로 변환\n",
    "y = data['MEDV'] # 집값 컬럼만을 데이터프레임 형태로 변환"
   ]
  },
  {
   "cell_type": "markdown",
   "id": "98797991-33fe-4dd7-bd87-070a85c18c31",
   "metadata": {},
   "source": [
    "## 다중공선성 확인하기"
   ]
  },
  {
   "cell_type": "code",
   "execution_count": 5,
   "id": "dd7b546b-5159-4043-8d93-50b8be39fbf2",
   "metadata": {},
   "outputs": [
    {
     "name": "stdout",
     "output_type": "stream",
     "text": [
      "   Features        VIF\n",
      "0      CRIM   2.100373\n",
      "1        ZN   2.844013\n",
      "2     INDUS  14.485758\n",
      "3      CHAS   1.152952\n",
      "4       NOX  73.894947\n",
      "5        RM  77.948283\n",
      "6       AGE  21.386850\n",
      "7       DIS  14.699652\n",
      "8       RAD  15.167725\n",
      "9       TAX  61.227274\n",
      "10  PTRATIO  85.029547\n",
      "11        B  20.104943\n",
      "12    LSTAT  11.102025\n"
     ]
    }
   ],
   "source": [
    "from statsmodels.stats.outliers_influence import variance_inflation_factor \n",
    "\n",
    "def vif(X):\n",
    "    vif_data = pd.DataFrame()\n",
    "    vif_data[\"Features\"] = X.columns\n",
    "    vif_data[\"VIF\"] = [variance_inflation_factor(X.values, i) for i in range(X.shape[1])]\n",
    "    print(vif_data)\n",
    "vif(X)"
   ]
  },
  {
   "cell_type": "markdown",
   "id": "45901678-4420-49bc-8aaf-4b7739f15faf",
   "metadata": {},
   "source": [
    "VIF가 가장 높은 PTRATIO 삭제하기"
   ]
  },
  {
   "cell_type": "code",
   "execution_count": 6,
   "id": "173187ba-0dac-4dd5-b056-ba3f0a8938ba",
   "metadata": {},
   "outputs": [
    {
     "name": "stdout",
     "output_type": "stream",
     "text": [
      "   Features        VIF\n",
      "0      CRIM   2.099345\n",
      "1        ZN   2.451624\n",
      "2     INDUS  14.275283\n",
      "3      CHAS   1.142167\n",
      "4       NOX  73.894171\n",
      "5        RM  60.598846\n",
      "6       AGE  21.361234\n",
      "7       DIS  12.221605\n",
      "8       RAD  15.159162\n",
      "9       TAX  59.301541\n",
      "10        B  18.614751\n",
      "11    LSTAT  10.138324\n"
     ]
    }
   ],
   "source": [
    "vif(X.drop('PTRATIO', axis=1))"
   ]
  },
  {
   "cell_type": "markdown",
   "id": "a773d5d9-4403-4212-84ed-8ca4209605a0",
   "metadata": {},
   "source": [
    "NOX 삭제해보기"
   ]
  },
  {
   "cell_type": "code",
   "execution_count": 7,
   "id": "49d7d1ec-7514-48ea-adeb-0ecd565cb353",
   "metadata": {},
   "outputs": [
    {
     "name": "stdout",
     "output_type": "stream",
     "text": [
      "   Features        VIF\n",
      "0      CRIM   2.097537\n",
      "1        ZN   2.449661\n",
      "2     INDUS  13.150904\n",
      "3      CHAS   1.138277\n",
      "4        RM  41.406746\n",
      "5       AGE  19.889623\n",
      "6       DIS  12.032952\n",
      "7       RAD  15.155012\n",
      "8       TAX  57.720347\n",
      "9         B  18.396072\n",
      "10    LSTAT   9.207840\n"
     ]
    }
   ],
   "source": [
    "vif(X.drop(['PTRATIO','NOX'], axis=1))"
   ]
  },
  {
   "cell_type": "markdown",
   "id": "455d20f1-c184-4272-8052-2f20bd62b12a",
   "metadata": {},
   "source": [
    "TAX 삭제해보기"
   ]
  },
  {
   "cell_type": "code",
   "execution_count": 8,
   "id": "4fe2747c-94d3-437c-8fa3-331d1452f595",
   "metadata": {},
   "outputs": [
    {
     "name": "stdout",
     "output_type": "stream",
     "text": [
      "  Features        VIF\n",
      "0     CRIM   2.097466\n",
      "1       ZN   2.375219\n",
      "2    INDUS   9.290080\n",
      "3     CHAS   1.118613\n",
      "4       RM  39.069063\n",
      "5      AGE  19.780944\n",
      "6      DIS  11.817803\n",
      "7      RAD   4.965633\n",
      "8        B  18.289917\n",
      "9    LSTAT   9.046248\n"
     ]
    }
   ],
   "source": [
    "vif(X.drop(['PTRATIO','TAX', 'NOX'], axis=1))"
   ]
  },
  {
   "cell_type": "markdown",
   "id": "95b73d58-2b72-4d98-af4f-10ccf9f26ea5",
   "metadata": {},
   "source": [
    "RM 삭제해보기"
   ]
  },
  {
   "cell_type": "code",
   "execution_count": 9,
   "id": "2a13fdc0-164a-499b-8d88-3969484ca479",
   "metadata": {},
   "outputs": [
    {
     "name": "stdout",
     "output_type": "stream",
     "text": [
      "  Features        VIF\n",
      "0     CRIM   2.095367\n",
      "1       ZN   2.334763\n",
      "2    INDUS   9.016142\n",
      "3     CHAS   1.116229\n",
      "4      AGE  14.000758\n",
      "5      DIS   8.447694\n",
      "6      RAD   4.771767\n",
      "7        B  13.537020\n",
      "8    LSTAT   8.358925\n"
     ]
    }
   ],
   "source": [
    "vif(X.drop(['PTRATIO','TAX', 'NOX', 'RM'], axis=1))"
   ]
  },
  {
   "cell_type": "markdown",
   "id": "698ce265-3fb8-441f-9e60-80480b0fb760",
   "metadata": {},
   "source": [
    "### 모델 훈련하기"
   ]
  },
  {
   "cell_type": "code",
   "execution_count": 10,
   "id": "9051be81-56d6-4584-b4ec-12528734f054",
   "metadata": {},
   "outputs": [],
   "source": [
    "X.drop(['PTRATIO','TAX', 'NOX', 'RM'], axis=1, inplace = True)"
   ]
  },
  {
   "cell_type": "markdown",
   "id": "93a1cd48-c59d-4bc8-b6f0-59ace798c49a",
   "metadata": {},
   "source": [
    "훈련 데이터와 테스트 데이터 나누기"
   ]
  },
  {
   "cell_type": "code",
   "execution_count": 11,
   "id": "f1a82b35-a090-47df-a614-ee0f9ded87ef",
   "metadata": {},
   "outputs": [],
   "source": [
    "X_train, X_test, y_train, y_test = train_test_split(X, y, test_size= 0.2, random_state = 2025)"
   ]
  },
  {
   "cell_type": "markdown",
   "id": "e3dbeb9c-da4a-4f5c-ae39-9e973480cc15",
   "metadata": {},
   "source": [
    "상수항 추가하기"
   ]
  },
  {
   "cell_type": "code",
   "execution_count": 12,
   "id": "c22192b4-2a49-452d-a587-8561d4278b90",
   "metadata": {},
   "outputs": [],
   "source": [
    "X_train = sm.add_constant(X_train)"
   ]
  },
  {
   "cell_type": "code",
   "execution_count": 13,
   "id": "96ad35ee-6fa2-433d-8bb9-f7ab3752b478",
   "metadata": {},
   "outputs": [
    {
     "name": "stdout",
     "output_type": "stream",
     "text": [
      "                            OLS Regression Results                            \n",
      "==============================================================================\n",
      "Dep. Variable:                   MEDV   R-squared:                       0.635\n",
      "Model:                            OLS   Adj. R-squared:                  0.627\n",
      "Method:                 Least Squares   F-statistic:                     76.24\n",
      "Date:                Wed, 26 Mar 2025   Prob (F-statistic):           1.03e-80\n",
      "Time:                        01:36:14   Log-Likelihood:                -1265.8\n",
      "No. Observations:                 404   AIC:                             2552.\n",
      "Df Residuals:                     394   BIC:                             2592.\n",
      "Df Model:                           9                                         \n",
      "Covariance Type:            nonrobust                                         \n",
      "==============================================================================\n",
      "                 coef    std err          t      P>|t|      [0.025      0.975]\n",
      "------------------------------------------------------------------------------\n",
      "const         41.0537      2.408     17.049      0.000      36.320      45.788\n",
      "CRIM          -0.1143      0.046     -2.470      0.014      -0.205      -0.023\n",
      "ZN             0.1082      0.017      6.271      0.000       0.074       0.142\n",
      "INDUS         -0.2380      0.067     -3.548      0.000      -0.370      -0.106\n",
      "CHAS           3.3176      1.234      2.688      0.008       0.891       5.744\n",
      "AGE            0.0034      0.016      0.210      0.834      -0.028       0.035\n",
      "DIS           -1.9142      0.247     -7.735      0.000      -2.401      -1.428\n",
      "RAD            0.0091      0.047      0.192      0.848      -0.084       0.102\n",
      "B              0.0039      0.004      1.053      0.293      -0.003       0.011\n",
      "LSTAT         -0.8998      0.056    -16.025      0.000      -1.010      -0.789\n",
      "==============================================================================\n",
      "Omnibus:                      102.248   Durbin-Watson:                   1.992\n",
      "Prob(Omnibus):                  0.000   Jarque-Bera (JB):              220.076\n",
      "Skew:                           1.313   Prob(JB):                     1.63e-48\n",
      "Kurtosis:                       5.485   Cond. No.                     3.25e+03\n",
      "==============================================================================\n",
      "\n",
      "Notes:\n",
      "[1] Standard Errors assume that the covariance matrix of the errors is correctly specified.\n",
      "[2] The condition number is large, 3.25e+03. This might indicate that there are\n",
      "strong multicollinearity or other numerical problems.\n"
     ]
    }
   ],
   "source": [
    "model = sm.OLS(y_train, X_train)\n",
    "model_trained = model.fit()\n",
    "print(model_trained.summary())"
   ]
  },
  {
   "cell_type": "markdown",
   "id": "a5602252-84be-463b-9148-760e6730036c",
   "metadata": {},
   "source": [
    "p-value가 0.05가 넘어가는 AGE, RAD, B 칼럼 삭제하고, 모델 훈련하기"
   ]
  },
  {
   "cell_type": "code",
   "execution_count": 14,
   "id": "d1f9b84e-6c4f-4200-a097-389b3ab1de5c",
   "metadata": {},
   "outputs": [
    {
     "name": "stdout",
     "output_type": "stream",
     "text": [
      "                            OLS Regression Results                            \n",
      "==============================================================================\n",
      "Dep. Variable:                   MEDV   R-squared:                       0.634\n",
      "Model:                            OLS   Adj. R-squared:                  0.629\n",
      "Method:                 Least Squares   F-statistic:                     114.7\n",
      "Date:                Wed, 26 Mar 2025   Prob (F-statistic):           1.66e-83\n",
      "Time:                        01:36:27   Log-Likelihood:                -1266.4\n",
      "No. Observations:                 404   AIC:                             2547.\n",
      "Df Residuals:                     397   BIC:                             2575.\n",
      "Df Model:                           6                                         \n",
      "Covariance Type:            nonrobust                                         \n",
      "==============================================================================\n",
      "                 coef    std err          t      P>|t|      [0.025      0.975]\n",
      "------------------------------------------------------------------------------\n",
      "const         42.9665      1.338     32.116      0.000      40.336      45.597\n",
      "CRIM          -0.1213      0.040     -3.009      0.003      -0.200      -0.042\n",
      "ZN             0.1075      0.017      6.262      0.000       0.074       0.141\n",
      "INDUS         -0.2382      0.063     -3.763      0.000      -0.363      -0.114\n",
      "CHAS           3.3974      1.227      2.768      0.006       0.984       5.810\n",
      "DIS           -1.9362      0.220     -8.805      0.000      -2.368      -1.504\n",
      "LSTAT         -0.9050      0.053    -17.092      0.000      -1.009      -0.801\n",
      "==============================================================================\n",
      "Omnibus:                      102.926   Durbin-Watson:                   1.993\n",
      "Prob(Omnibus):                  0.000   Jarque-Bera (JB):              222.520\n",
      "Skew:                           1.319   Prob(JB):                     4.79e-49\n",
      "Kurtosis:                       5.501   Cond. No.                         126.\n",
      "==============================================================================\n",
      "\n",
      "Notes:\n",
      "[1] Standard Errors assume that the covariance matrix of the errors is correctly specified.\n"
     ]
    }
   ],
   "source": [
    "model = sm.OLS(y_train, X_train.drop(labels=['AGE', 'RAD', 'B'], axis=1))\n",
    "model_trained = model.fit()\n",
    "print(model_trained.summary())"
   ]
  },
  {
   "cell_type": "markdown",
   "id": "0871ebf1-8ce8-4956-9d7b-8fa4c5ba01d3",
   "metadata": {},
   "source": [
    "### 테스트 실행하기"
   ]
  },
  {
   "cell_type": "code",
   "execution_count": 15,
   "id": "60b392c6-619d-4e37-8107-c51acba15ec7",
   "metadata": {},
   "outputs": [
    {
     "data": {
      "text/plain": [
       "428    14.537780\n",
       "237    29.115458\n",
       "120    19.471100\n",
       "372    30.825746\n",
       "74     25.532768\n",
       "         ...    \n",
       "346    14.931139\n",
       "84     23.930834\n",
       "326    25.119641\n",
       "386     7.262333\n",
       "256    36.660988\n",
       "Length: 102, dtype: float64"
      ]
     },
     "execution_count": 15,
     "metadata": {},
     "output_type": "execute_result"
    }
   ],
   "source": [
    "X_test = sm.add_constant(X_test)\n",
    "y_test_pred = model_trained.predict(X_test.drop(['AGE', 'RAD', 'B'], axis=1))\n",
    "y_test_pred"
   ]
  },
  {
   "cell_type": "code",
   "execution_count": 16,
   "id": "aae831bb-c7ad-4e15-afd9-e4d694e47cf7",
   "metadata": {},
   "outputs": [
    {
     "name": "stdout",
     "output_type": "stream",
     "text": [
      "MSE: 31.540971477616445\n",
      "MAE: 4.323155359717776\n",
      "R^2: 0.6232093326630168\n"
     ]
    }
   ],
   "source": [
    "print(f'MSE: {mean_squared_error(y_test, y_test_pred)}')\n",
    "print(f'MAE: {mean_absolute_error(y_test, y_test_pred)}')\n",
    "print(f'R^2: {r2_score(y_test, y_test_pred)}')"
   ]
  },
  {
   "cell_type": "markdown",
   "id": "b636d438-e2d3-469f-9e32-2dcd21b5970a",
   "metadata": {},
   "source": [
    "이 회귀모델은 TEST 데이터에 대해 62퍼센트 정도의 설명력을 가지고 있다.<BR>\n",
    "실습파일에서의 R score보다 더 높으나, MSE와 MAE 역시 실습파일와 비슷한 값을 보여주고 있다."
   ]
  },
  {
   "cell_type": "markdown",
   "id": "22c0b0f7-2149-4fe9-ae04-2d315e674f7b",
   "metadata": {},
   "source": [
    "R square, MSE, MAE만으로는 예측값과 데이터값의 차이에 대해서 잘 실감이 안나는 것 같아서 (GPT의 도움을 받아ㅎ) 그래프를 그려보았습니다!"
   ]
  },
  {
   "cell_type": "code",
   "execution_count": 20,
   "id": "27f0ab41-cbc7-45e1-9719-631d41cd30b6",
   "metadata": {},
   "outputs": [
    {
     "data": {
      "text/plain": [
       "<Axes: ylabel='Density'>"
      ]
     },
     "execution_count": 20,
     "metadata": {},
     "output_type": "execute_result"
    },
    {
     "data": {
      "image/png": "[encoded data removed]",
      "text/plain": [
       "<Figure size 640x480 with 1 Axes>"
      ]
     },
     "metadata": {},
     "output_type": "display_data"
    }
   ],
   "source": [
    "sns.kdeplot(y_test - y_test_pred)"
   ]
  },
  {
   "cell_type": "code",
   "execution_count": 21,
   "id": "671cb5fc-a7a3-45d1-ab6e-d7bca3058d40",
   "metadata": {},
   "outputs": [
    {
     "data": {
      "image/png": "[encoded data removed]",
      "text/plain": [
       "<Figure size 640x480 with 1 Axes>"
      ]
     },
     "metadata": {},
     "output_type": "display_data"
    }
   ],
   "source": [
    "plt.scatter(y_test, y_test_pred, alpha=0.6, label='Pred', marker='x')\n",
    "plt.plot([min(y_test), max(y_test)], [min(y_test), max(y_test)], 'k--', label='Ideal')\n",
    "plt.legend()\n",
    "plt.grid(True)"
   ]
  },
  {
   "cell_type": "code",
   "execution_count": null,
   "id": "7c89e00c-4370-454f-af28-6647553e3f57",
   "metadata": {},
   "outputs": [],
   "source": []
  }
 ],
 "metadata": {
  "kernelspec": {
   "display_name": "Python 3 (ipykernel)",
   "language": "python",
   "name": "python3"
  },
  "language_info": {
   "codemirror_mode": {
    "name": "ipython",
    "version": 3
   },
   "file_extension": ".py",
   "mimetype": "text/x-python",
   "name": "python",
   "nbconvert_exporter": "python",
   "pygments_lexer": "ipython3",
   "version": "3.12.4"
  }
 },
 "nbformat": 4,
 "nbformat_minor": 5
}
