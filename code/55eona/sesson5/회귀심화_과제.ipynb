{
 "cells": [
  {
   "cell_type": "markdown",
   "id": "f156e1db-3b53-4b7a-bcc7-491ccd1238a2",
   "metadata": {},
   "source": [
    "## 느낀점\n",
    "\n",
    "실습 때도 물론 많은 도움이 되었지만, 시간에 쫓겨 급하게 진행하는 경우가 종종 있어 아쉬웠다. 그래서 이번에는 하나의 데이터셋을 두고 회귀 분석 프로세스를 차근차근 살펴볼 수 있어서 좋았다.\n",
    "처음에는 많은 칼럼과 방대한 데이터 양 때문에 막막했지만, 교육세션 때 배운 내용을 차례대로 적용해보니 점점 분석의 윤곽이 잡혀가는 과정이 신기했다. 물론 아직은 익숙하지 않아서 강의 자료를 옆에 띄워놓고 계속 참고하긴 했지만, 그만큼 하나씩 따라가며 이해할 수 있어 좋았다.\n",
    "\n",
    "\n",
    "## 배운점\n",
    "\n",
    "#### 상관관계가 높은 변수를 추릴때, 정렬을 사용해서 확인하면 편리하다!\n",
    "```python\n",
    "`df_corr.sort_values(by='price', ascending=False)[['price']]\n",
    "```\n",
    "#### 회귀분석에서 상수항 추가는 필수니까 코드 가능하면 잊어버리지 말기!\n",
    "```python\n",
    "X = sm.add_constant(X, has_constant=\"add\")\n",
    "```\n",
    "\n",
    "#### 자기상관 가정 확인 중 ACF 그래프 코드\n",
    "```python\n",
    "sm.graphics.tsa.plot_acf(result_model_2.resid)\n",
    "plt.show()\n",
    "```\n",
    "\n",
    "#### 오차의 등분산성 가정 확인 그래프 코드\n",
    "```python\n",
    "sns.distplot(result_model_2.resid) \n",
    "result_model_2.resid.plot()\n",
    "plt.show()\n",
    "```"
   ]
  },
  {
   "cell_type": "code",
   "execution_count": null,
   "id": "4f5d29c9-97c5-4fef-be67-39c471e5f489",
   "metadata": {},
   "outputs": [],
   "source": []
  }
 ],
 "metadata": {
  "kernelspec": {
   "display_name": "Python 3 (ipykernel)",
   "language": "python",
   "name": "python3"
  },
  "language_info": {
   "codemirror_mode": {
    "name": "ipython",
    "version": 3
   },
   "file_extension": ".py",
   "mimetype": "text/x-python",
   "name": "python",
   "nbconvert_exporter": "python",
   "pygments_lexer": "ipython3",
   "version": "3.12.4"
  }
 },
 "nbformat": 4,
 "nbformat_minor": 5
}
