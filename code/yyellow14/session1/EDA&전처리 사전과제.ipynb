{
 "cells": [
  {
   "cell_type": "markdown",
   "metadata": {},
   "source": [
    "# __EDA & 전처리__\n",
    "---"
   ]
  },
  {
   "cell_type": "markdown",
   "metadata": {},
   "source": [
    "### __데이터 분석 프로세스__\n",
    "- 데이터 수집\n",
    "- 데이터 탐색(EDA): 수집한 데이터를 여러 가지 방식으로 파악\n",
    "- 데이터 전처리: 데이터 분석(모델링)을 위해 데이터를 적절한 방식으로 손질\n",
    "- 데이터 모델링: 모델을 구축\n",
    "---\n",
    "\n"
   ]
  },
  {
   "cell_type": "markdown",
   "metadata": {},
   "source": [
    "### __EDA의 개념__\n",
    "- 데이터 분석(모델링)을 위해 데이터를 여러 가지 방식으로 파악하는 모든 과정\n",
    "- Exploratory Data Analysis\n",
    "##### EDA 대상(일변량/다변량)\n",
    "- Univariate(일변량): 파악하려는 변수가 한 개. 데이터를 설명하고 존재하는 패턴을 찾는 것이 주요 목적\n",
    "- Multi-variate(다변량): 파악하려는 변수가 여러 개. 여러 변수들 간의 관계를 보는 것이 주요 목적. 변수를 동시에 확인하기 전에 개별 데이터를 먼저 파악하는 것이 오류에 대처하기 용이.\n",
    "##### EDA 종류(시각화/비시각화)\n",
    "- Graphic(시각화)\n",
    "- Non-Graphic(비시각화)\n",
    "##### EDA 유형\n",
    "- Uni-Non Graphic(일변량 비시각화): 주어진 데이터의 Distribution을 확인하는 것이 주목적.\n",
    "- Uni-Graphic(일변량 시각화): 주어진 데이터를 전체적으로 살펴보는 것이 주목적.\n",
    "- Multi-Non Graphic(다변량 비시각화): 주어진 둘 이상의 변수 간 관계를 확인하는 것이 주목적.\n",
    "- Multi-Graphic(다변량 시각화): 주어진 둘 이상의 변수 간 관계를 전체적으로 살펴보는 것이 주목적\n",
    "---"
   ]
  },
  {
   "cell_type": "markdown",
   "metadata": {},
   "source": [
    "### __데이터 확인__\n",
    "##### 데이터 읽기/쓰기\n",
    "- 절대경로: `pd.read_csv('/Users/ldbzoey/__Insight/2025_1st/교육팀/EDA실습준비/titanic.csv')`\n",
    "- 상대경로: `pd.read_csv('./titanic.csv')`\n",
    "##### 데이터셋 파악하기\n",
    "- 데이터 프레임 보기: `head(n)`\n",
    "- 데이터 변수 확인: 변수 정의 확인, 변수 유형 확인, 변수 자료형 확인\n",
    "- 데이터 분포 확인\n",
    "---"
   ]
  },
  {
   "cell_type": "markdown",
   "metadata": {},
   "source": [
    "### __전처리__\n",
    "##### 결측값 처리\n",
    "- 결측값 확인: `info()`, `value_counts(dropna=False)`, `isnull()`, `notnull()`, `replace()`\n",
    "- 결측값 처리: 삭제, 대체\n",
    "##### 이상치 처리\n",
    "- 통계를 통해 확인: `describe()`\n",
    "- 시각화를 통해 확인 `boxplot()`\n",
    "- Z-score를 통해 확인\n",
    "- Tukey Fences을 통해 확인\n",
    "##### 이상치 제거\n",
    "- 전체 삭제\n",
    "- 다른 값으로 대체\n",
    "- 변수화\n",
    "- 리샘플링\n",
    "##### 피처 엔지니어링(변수 가공)\n",
    "- Label Encoding vs One-hot Encoding\n",
    "- 구간화(binning)\n",
    "- 변환\n",
    "- 스케일링\n",
    "---"
   ]
  },
  {
   "cell_type": "markdown",
   "metadata": {},
   "source": [
    "### __시각화__\n",
    "- boxplot\n",
    "- countplot, histplot\n",
    "- displot, kdeplot\n",
    "- barplot, pointplot\n",
    "- scatterplot, regplot\n",
    "- catplot\n",
    "- pitplot\n",
    "- heatmap\n",
    "- violinplot\n",
    "- pairplot\n",
    "---"
   ]
  }
 ],
 "metadata": {
  "language_info": {
   "name": "python"
  }
 },
 "nbformat": 4,
 "nbformat_minor": 2
}
