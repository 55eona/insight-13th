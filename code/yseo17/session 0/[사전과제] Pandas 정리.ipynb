{
 "cells": [
  {
   "cell_type": "markdown",
   "id": "a073ba7b-8fa3-4a00-b78c-b01fd1a1c5c6",
   "metadata": {},
   "source": [
    "# 0. Pandas 기초"
   ]
  },
  {
   "cell_type": "code",
   "execution_count": 5,
   "id": "10cbde7a-9875-43ec-bc30-531c41c10409",
   "metadata": {},
   "outputs": [],
   "source": [
    "import pandas as pd # pandas 불러오기"
   ]
  },
  {
   "cell_type": "code",
   "execution_count": null,
   "id": "b530cfcf-d31e-499b-a76a-7a2986529637",
   "metadata": {},
   "outputs": [],
   "source": [
    "df = pd.read_csv('파일 경로') # 파일 읽기"
   ]
  },
  {
   "cell_type": "markdown",
   "id": "20f8874d-2510-467d-bb0e-33d21643f9fe",
   "metadata": {},
   "source": [
    "# 1. 데이터프레임의 구성"
   ]
  },
  {
   "cell_type": "markdown",
   "id": "6eecd712-57ac-4ff2-9546-dd88010cf962",
   "metadata": {},
   "source": [
    "- 데이터프레임 = pandas에서 사용되는 데이터 오브젝트. series가 1차원 배열이라면, dataframe은 2차원 배열이다.\n",
    "## 1-1. index, column\n",
    "- 데이터프레임은 행(index)과 열(column)로 나뉘어져 있다.\n",
    "- 행과 열로 데이터의 위치를 나타낼 수 있다.\n",
    "\n",
    "## 1-2. Series\n",
    "- 값과 인덱스로 이루어진 1차원 자료구조\n",
    "- 데이터타입이 모두 같아야 한다\n",
    "- 시리즈를 생성할 때, 인덱스 미지정 시 0, 1, 2, 3, ... 의 정수형 인덱스가 디폴트로 설정된다\n",
    "- 데이터프레임에서 특정 열 하나를 추출 = series 형태로 추출된다"
   ]
  },
  {
   "cell_type": "code",
   "execution_count": null,
   "id": "7878c5c2-1e10-4377-98ec-cfcbd2c9d01f",
   "metadata": {},
   "outputs": [],
   "source": [
    "# series, index에 리스트가 있을 때, 시리즈 만드는 방법\n",
    "ser = pd.Series(series, index = index)"
   ]
  },
  {
   "cell_type": "markdown",
   "id": "eddc8990-d814-4a1f-91b4-1047c0ccdd68",
   "metadata": {},
   "source": [
    "## 1-3. Dataframe\n",
    "- 행+열로 이루어진 2차원 배열. 길이가 같은 시리즈들의 집합\n",
    "- column마다 다른 데이터 타입을 가질 수 있다"
   ]
  },
  {
   "cell_type": "code",
   "execution_count": null,
   "id": "3070236a-d0ef-4f9c-a866-aad1c7d0df80",
   "metadata": {},
   "outputs": [],
   "source": [
    "pd.DataFrame(data) # dictionary 형태의 객체 data를 할당하여 데이터프레임 생성 가능"
   ]
  },
  {
   "cell_type": "markdown",
   "id": "4b626ef5-9ba2-4ac9-be91-48c01cad26ac",
   "metadata": {},
   "source": [
    "## 1-4. 데이터 확인하기"
   ]
  },
  {
   "cell_type": "code",
   "execution_count": null,
   "id": "556a272f-aeb6-4f06-a806-618376f398c1",
   "metadata": {},
   "outputs": [],
   "source": [
    "# 데이터프레임의 일부 확인하기\n",
    "df.head()\n",
    "df.tail()\n",
    "\n",
    "# 데이터에 대한 정보 확인하기\n",
    "df.shape\n",
    "df.dtypes\n",
    "df.describe() # 수치형 데이터에 대한 통계\n",
    "df[''].unique() # 특정 열의 개별값들 (중복 제외)\n",
    "df.isnull() # 결측치 확인\n",
    "df.info()\n",
    "\n",
    "# 데이터의 개수 세기\n",
    "df.count()\n",
    "df[''].value_counts()"
   ]
  },
  {
   "cell_type": "markdown",
   "id": "7e355ebb-fd4f-43ca-a977-d41de81c8688",
   "metadata": {},
   "source": [
    "# 2. 데이터 추출\n",
    "-> 필요한 데이터만 따로 뽑아내 가공하기 위해서는 데이터 추출이 필요하다."
   ]
  },
  {
   "cell_type": "markdown",
   "id": "aaf159b8-e723-46a6-9702-114a7600d499",
   "metadata": {},
   "source": [
    "## 2-1. 인덱싱, 슬라이싱\n",
    "- 인덱싱 : 특정 데이터를 지목\n",
    "- 슬라이싱 : 어떤 범위의 데이터를 지목\n",
    "\n",
    "## 2-2. 행단위 데이터 추출 (loc, iloc)\n",
    "- loc : 행단위 데이터 추출\n",
    "- iloc : loc와 유사, but '정수형 인덱스 번호'를 인자로 한다\n",
    "- 데이터의 양이 많아지면 iloc이 속도 측면에서 유리하다"
   ]
  },
  {
   "cell_type": "code",
   "execution_count": null,
   "id": "38525825-170c-487b-af65-558d5e651a4c",
   "metadata": {},
   "outputs": [],
   "source": [
    "df.loc[1]\n",
    "df.iloc[1:4, 1:]"
   ]
  },
  {
   "cell_type": "markdown",
   "id": "eb68e56d-62a7-4ced-9c9f-75e9ed7b286c",
   "metadata": {},
   "source": [
    "## 2-3. 열단위 데이터 추출 - 컬럼명\n",
    "- 열 단위 인덱싱 시에는 loc/iloc보다 column명으로 인덱싱이 더 직관적이다\n",
    "\n",
    "## 2-4. 불리언 인덱싱\n",
    "- 특정 조건에 만족하는 데이터를 추출하고자 할 때 사용한다\n",
    "\n",
    "## 2-5. 인덱스 설정\n",
    "- 데이터프레임에서 디폴트 인덱스는 0, 1, 2, ... 의 정수형 숫자이지만, 변경 또한 가능하다. "
   ]
  },
  {
   "cell_type": "code",
   "execution_count": null,
   "id": "ef0c2f28-1480-4814-a33c-54433bf042bb",
   "metadata": {},
   "outputs": [],
   "source": [
    "df['열 이름'] # 열단위 추출\n",
    "df[df['노트북 브랜드'] == '애플'] # 불리언 인덱싱\n",
    "\n",
    "# 인덱스 설정\n",
    "df.set_index()\n",
    "df.reset_index()\n",
    "df.reindex()"
   ]
  },
  {
   "cell_type": "markdown",
   "id": "aa197bf3-d1f3-4db0-9e64-70106177229b",
   "metadata": {},
   "source": [
    "# 3. 데이터 조작\n",
    "## 3-1. 데이터 추가, 삭제\n",
    "- \"inplace = True\" : 파괴적 방식. 디폴트가 비파괴적 방식의 메서드를 사용하면서 원본을 직접 바꾸고자 할 때 사용한다\n",
    "- axis : axis = 0이면 행 방향, 1일떄에는 열 방향으로 작업을 수행"
   ]
  },
  {
   "cell_type": "code",
   "execution_count": null,
   "id": "3355d7e9-b19e-4268-85ee-f718ee9b539b",
   "metadata": {},
   "outputs": [],
   "source": [
    "df'new column name'] = list1 # 특정 리스트를 데이터프레임에 추가\n",
    "df.drop(labels, axis) # 특정 열 삭제"
   ]
  },
  {
   "cell_type": "markdown",
   "id": "54257f48-2923-47c5-8475-7be7ad8237c3",
   "metadata": {},
   "source": [
    "## 3-2. 데이터 정렬\n",
    "- 인덱스 기준 또는 특정 열의 값을 기준으로 정렬할 수 있다.\n",
    "\n",
    "## 3-3. 데이터 변환\n",
    "- astype로 데이터의 자료형 변환이 가능하다.\n",
    "- 혹은, 데이터의 값 자체를 변환할 수도 있다.\n",
    "\n",
    "## 3-4. 데이터프레임 병합\n",
    "- concat : 두 df 이어붙이기, axis를 활용하여 행/열방향 결합할 수 있다.\n",
    "- merge : 공통 항목을 기분으로 병합. = 공통되는 열이나 인덱스가 있어야 한다. how, on 인자를 통해 어느 열을 기준으로, 어떻게 붙일 지 지정할 수 있다. "
   ]
  },
  {
   "cell_type": "code",
   "execution_count": null,
   "id": "1277fb81-2aea-4973-9df1-ebfe05c7f1ae",
   "metadata": {},
   "outputs": [],
   "source": [
    "df.sort_index #인덱스 기준 정렬\n",
    "df.sort_values['열 이름'] # 특정 열의 값을 기준으로 정렬\n",
    "\n",
    "df[''] = df[''].astype(int) #수치형 변환\n",
    "df.replace(바꾸고 싶은 값, 바꿀 값)\n",
    "\n",
    "df = pd.concat([df1, df2], axis = 0)\n",
    "df = pd.merge(df1, df2, how = 'inner', on = '...')"
   ]
  }
 ],
 "metadata": {
  "kernelspec": {
   "display_name": "Python 3 (ipykernel)",
   "language": "python",
   "name": "python3"
  },
  "language_info": {
   "codemirror_mode": {
    "name": "ipython",
    "version": 3
   },
   "file_extension": ".py",
   "mimetype": "text/x-python",
   "name": "python",
   "nbconvert_exporter": "python",
   "pygments_lexer": "ipython3",
   "version": "3.12.4"
  }
 },
 "nbformat": 4,
 "nbformat_minor": 5
}
