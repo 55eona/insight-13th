{
 "cells": [
  {
   "cell_type": "markdown",
   "id": "5281640a-d567-4e98-afa3-91da321d9387",
   "metadata": {},
   "source": [
    "# 0. 데이터 분석 프로세스\n",
    "- 데이터 수집\n",
    "- 데이터 탐색 (EDA) : 데이터 파악하기. \n",
    "- 데이터 전처리 : 데이터를 적절한 방식으로 손질. 결측치와 이상치 처리를 통해 왜곡을 예방.\n",
    "- 데이터 모델링 : 예측, 분류, 군집 등 데이터로부터 유용한 정보를 추출하기 위해 모델을 구축."
   ]
  },
  {
   "cell_type": "markdown",
   "id": "cff7c494-fd31-409a-b5b6-0cefa67bc6a5",
   "metadata": {},
   "source": [
    "# 1. EDA의 개념\n",
    "- 주어진 데이터에 대해 알아보는 것 , 시각화, 패턴 발견, 특이성 확인, 가설 검정 등을 할 수 있다.\n",
    "- 탐색과 이해 : 데이터 해석이나 문제 정의가 제대로 되지 않는다면 이후 분석 과정에서도 문제를 일으킬 수 있다.\n",
    "- EDA의 대상 : 일변량 (변수 한 개 안에 존재하는 패턴 찾기), 다변량 (여러 변수간의 관계 확인)/ 개별 데이터를 먼저 파악한 후 여러 변수를 비교한다.\n",
    "- EDA의 종류 : 시각화와 비시각화\n",
    "- EDA의 유형 : 데이터 변수의 개수, 결과 파악 방법, 데이터 유형에 따라 [일변량 비시각화, 일변량 시각화, 다변량 비시각화, 다변량 시각화] 중 EDA 유형을 구분할 수 있다."
   ]
  },
  {
   "cell_type": "markdown",
   "id": "fab661c2-93fa-44ee-a765-0901cee1f795",
   "metadata": {},
   "source": [
    "# 2. 데이터 확인\n",
    "- 데이터 불러오기 : 절대경로(root 파일부터, C:\\Users\\...)와 상대경로 (현재 작업중인 디렉토리 기준)\n",
    "- 데이터 입출력 : read_csv, to_csv처럼, 데이터 읽기/쓰기 시 확장자에 따라 사용하는 함수가 다르다. (csv, json, html, excel, sql 등)\n",
    "- csv = 쉼표로 구분되는 데이터 파일\n",
    "- excel 파일 - sheet_name 을 통해 불러올 시트 지정 가능\n",
    "- 한글 포함한 파일의 인코딩 오류 시, encoding  'cp949'\n",
    "- .head() 등을 통해 데이터 프레임 보기\n",
    "- 데이터 변수의 유형과 자료형 확인 : 범주형 (질적 데이터. 명목형과 순서형), 수치형(양적 데이터. 이산형과 연속형)\n",
    "- 데이터 분포 확인 : 단변수 분석을 통해 전처리 아이디어를 얻을 수 있음"
   ]
  },
  {
   "cell_type": "markdown",
   "id": "3dc9ba4b-67b2-4a81-b79e-b57a99b6eae2",
   "metadata": {},
   "source": [
    "# 3. 전처리\n",
    "- 모델링을 위해 데이터를 적절한 방식으로 손질하는 과정\n",
    "- 전처리는 데이터의 품질을 높일 수 있으며, 이를 통해 머신러닝 등 데이터 분석의 정확도를 향상시킬 수 있다.\n",
    "  \n",
    "## 결측값 처리\n",
    "- .info(), .isnull().sum() 등을 통해 결측값을 확인\n",
    "- 결측값을 삭제(결측이 무작위인 경우)하거나 대체 (최빈값, 평균값 등)\n",
    "  \n",
    "## 이상치 처리\n",
    "- 통계를 통한 확인 : .describe()\n",
    "- 시각화를 통해 확인 : box plot을 그려 이상치 확인\n",
    "- z-score을 통해 확인 : z값이 2-3을 넘어가면 이상치로 간주\n",
    "- Tukey Fences을 통해 확인 : [Q1 - (1.5 * IQR), Q3 + (1.5 * IQR)] 외의 범위인 경우 이상치로 판단\n",
    "- 이런 이상치를 전체 삭제 / 다른 값으로 대체 / 변수화 / 리샘플링 할 수 있다.\n",
    "  \n",
    "## 피처 엔지니어링\n",
    "- = 피처(=변수) 가공\n",
    "- 문제를 컴퓨터가 잘 이해할 수 있도록 피처들의 형태를 변형, 또는 적절하게 처리한다.\n",
    "- 데이터 전처리의 마지막 단계, 더 유용하게 만드는 과정.\n",
    "  \n",
    "### 레이블인코딩과 원핫인코딩\n",
    "- 텍스트로 주어지는 값을 숫자로 바꾸는 작업\n",
    "- label encoding : 범주형 변수를 0~n-1까지의 숫자로 변환 (ex. apple - 1, chicken - 2, ...)\n",
    "- one-hot encoding : 범주형 변수를 이진 벡터로 변환 (ex. is_apple column에 0 또는 1로 표시, pd.get_dummmies() 이용)\n",
    "  \n",
    "### 구간화\n",
    "- 연속 데이터를 일정한 구간으로 나누어 분석\n",
    "- pd.cut()이용.\n",
    "\n",
    "### 변환\n",
    "- 기존의 피처를 다른 피처로 변환하여 변수를 추가\n",
    "- ex. '검수일자' 날짜 데이터가 있을 때, '검수요일' 피처를 추가한다.\n",
    "\n",
    "### 스케일링\n",
    "- 서로 다른 변수의 값 범위를 일정한 수준으로 맞추는 작업\n",
    "- 스케일링을 하기 전에 이상치 제거 필수\n",
    "- standardscaler (µ=0, var= 1로 변경) / minmaxscaler (모든 피처가 0-1사이로) 등"
   ]
  },
  {
   "cell_type": "markdown",
   "id": "46768928-55bb-485d-8362-e83810b9dfbe",
   "metadata": {},
   "source": [
    "# 4. 시각화\n",
    "- matplotlib, seaborn 등을 사용하여 그래프, 차트, 그림, 도표 등의 시각적 요소로 변환하여 패턴, 관계, 추세 등을 파악한다.\n",
    "- 범주/수치형 파악 -> 결측/이상치 확인 -> 시각화 방식 결정 (막대, 선, 파이, 산점도 등)\n",
    "\n",
    "## 파라미터\n",
    "- 함수 사용 시 \"파라미터 = 인자\"형식으로 전달하여 원하는 형태의 그래프를 그린다.\n",
    "- ex. hue = 'Sex'를 통해 성별에 따라 바그래프의 색상을 설정할 수 있음\n",
    "\n",
    "## 다양한 그래프 톺아보기\n",
    "- 상자수염그림 / countplot(범주형), histplot(수치형) / displot, kdeplot / barplot, pointplot / scatterplot, regplot(회귀선 o) / catplot / pieplot / heatmap / violinplot / pairplot 등"
   ]
  }
 ],
 "metadata": {
  "kernelspec": {
   "display_name": "Python 3 (ipykernel)",
   "language": "python",
   "name": "python3"
  },
  "language_info": {
   "codemirror_mode": {
    "name": "ipython",
    "version": 3
   },
   "file_extension": ".py",
   "mimetype": "text/x-python",
   "name": "python",
   "nbconvert_exporter": "python",
   "pygments_lexer": "ipython3",
   "version": "3.12.4"
  }
 },
 "nbformat": 4,
 "nbformat_minor": 5
}
