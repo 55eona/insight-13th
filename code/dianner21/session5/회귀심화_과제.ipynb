{
 "cells": [
  {
   "cell_type": "markdown",
   "id": "65bdc516-d532-4562-8a48-5426a5bd845e",
   "metadata": {},
   "source": [
    "# 배운점 및 느낀 점\n",
    "- 회귀 분석 프로세스의 실제 흐름을 확인하였다.\n",
    "- 회귀모델을 생성하고 평가하는 과정을 반복함으로 모델의 성능이 개선됨을 확인하였다.\n",
    "\n",
    "# 회귀 분석 프로세스 정리 \n",
    "## 사전 검증 (선형성과 독립성 확인)\n",
    "1. **변수 살피기**\n",
    "2. **결측치, column의 data type, 기술 통계값**(중간값, 왜도, 첨도 추가)을 확인\n",
    "   - 치우친 **왜도**: log를 취해 정규분포 형태로 조정\n",
    "   - **형태 변환**: date column의 앞 네 자리를 추출해 int로 형태 변환\n",
    "   - **새로운 변수 추가**:연도를 표시하는 두 데이터 **date2와 yr_built의 차이**를 새로운 변수로 추가\n",
    "3. 시각화\n",
    "   **히스토그램, 산점도, 히트맵 등**을 통해 **종속변수와 독립변수**, 또는 **독립변수 간**의 상관관계 분석\n",
    "\n",
    "## 모델 생성\n",
    "### <선형 회귀 분석>\n",
    "1. 상수항 추가\n",
    "2. 데이터를 fit하고 summary를 통해 확인\n",
    "3. 유의성 검정: P>|t|(p-value)의 유의 확률이 유의 수준(0.05)보다 작을 경우 귀무가설 기각\n",
    "4. 잔차 확인\n",
    "\n",
    "### <다중 선형 회귀>\n",
    "1. 모든 독립변수에 대해 다중선형회귀 fit\n",
    "2. 독립 변수들의 p>|t| (p-value)와 R-squared 값 확인\n",
    "3. 모든 변수의 다중공선성 문제를 확인-> 변수 선별\n",
    "4. 1번으로 돌아가기\n",
    "\n",
    "\n",
    "## 가정진단\n",
    "생성된 모델에 대한 **기본 가정을 검정**한다.\n",
    "\n",
    "1. 선형 관계\n",
    "2. 독립성\n",
    "3. 오차의 정규성\n",
    "4. 오차의 등분산성\n",
    "5. 오차항의 자기상관\n",
    "6. 오차항의 평균이 0인가?\n"
   ]
  },
  {
   "cell_type": "code",
   "execution_count": null,
   "id": "0f15983d-f429-4cb3-9790-e838946bfe0d",
   "metadata": {},
   "outputs": [],
   "source": []
  }
 ],
 "metadata": {
  "kernelspec": {
   "display_name": "Python 3 (ipykernel)",
   "language": "python",
   "name": "python3"
  },
  "language_info": {
   "codemirror_mode": {
    "name": "ipython",
    "version": 3
   },
   "file_extension": ".py",
   "mimetype": "text/x-python",
   "name": "python",
   "nbconvert_exporter": "python",
   "pygments_lexer": "ipython3",
   "version": "3.9.13"
  }
 },
 "nbformat": 4,
 "nbformat_minor": 5
}
