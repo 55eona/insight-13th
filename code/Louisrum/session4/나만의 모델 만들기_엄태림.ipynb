{
 "cells": [
  {
   "cell_type": "markdown",
   "id": "a87b902f-0ad4-415c-903f-4766a7b7801d",
   "metadata": {},
   "source": [
    "<h1> Data Description</h1>\n",
    "\n",
    "- 활용 데이터 : 공공데이터(Boston Housing Data)\n",
    "- 1978년 보스턴 주택 가격에 대한 데이터(506 X 14)"
   ]
  },
  {
   "cell_type": "markdown",
   "id": "cdcef267-5465-4691-8847-df8e83aa374a",
   "metadata": {},
   "source": [
    "데이터 구조  \n",
    "- 데이터: 1978년 보스턴 주택 가격  \n",
    "- 관측치 개수: 506개\n",
    "- 변수 개수: 설명변수 13개 / 반응변수 1개\n",
    "\n",
    "독립 변수(원인: 예측값을 설명할 수 있는 변수)      \n",
    "- CRIM: 범죄율  \n",
    "- INDUS: 비소매상업지역 면적 비율  \n",
    "- NOX: 일산화질소 농도  \n",
    "- RM: 주택당 방 수  \n",
    "- LSTAT: 인구 중 하위 계층 비율  \n",
    "- B: 인구 중 흑인 비율  \n",
    "- PTRATIO: 학생/교사 비율  \n",
    "- ZN: 25,000 평방피트를 초과 거주지역 비율  \n",
    "- CHAS: 찰스강의 경계에 위치한 경우는 1, 아니면 0  \n",
    "- AGE: 1940년 이전에 건축된 주택의 비율  \n",
    "- RAD: 방사형 고속도로까지의 거리  \n",
    "- DIS: 직업센터의 거리  \n",
    "- TAX: 재산세율  \n",
    "\n",
    "종속 변수(결과: 예측하고자 하는 값)\n",
    "- MEDV: 주택가격"
   ]
  },
  {
   "cell_type": "markdown",
   "id": "473ed5cf-63cc-4981-b080-54e668614d1a",
   "metadata": {},
   "source": [
    "분석에 필요한 라이브러리들을 임포트합니다\n",
    "- 기계학습 분석에 필요한 라이브러리들은 하단에서 각각의 구성 함수가 사용될 때 임포트를 해서, 어떤 함수를 쓸 때 어떤 라이브러리를 불러와야하는지 익힐 예정입니다"
   ]
  },
  {
   "cell_type": "code",
   "execution_count": 557,
   "id": "b38c68e6-e585-40f2-ad9d-f2313c3edb74",
   "metadata": {},
   "outputs": [
    {
     "data": {
      "text/plain": [
       "'\\n\\nimport scipy as sp\\nimport scipy.stats as stats\\n\\nimport statsmodels.api as sm\\nfrom statsmodels.formula.api import ols\\n\\nfrom sklearn.model_selection import train_test_split\\nfrom sklearn.metrics import mean_squared_error, r2, mean_absolute_error\\n\\n'"
      ]
     },
     "execution_count": 557,
     "metadata": {},
     "output_type": "execute_result"
    }
   ],
   "source": [
    "import numpy as np\n",
    "import pandas as pd\n",
    "import seaborn as sns\n",
    "import matplotlib.pyplot as plt\n",
    "\n",
    "'''\n",
    "\n",
    "import scipy as sp\n",
    "import scipy.stats as stats\n",
    "\n",
    "\n",
    "\n",
    "from sklearn.metrics import mean_squared_error, r2, mean_absolute_error\n",
    "\n",
    "'''"
   ]
  },
  {
   "cell_type": "markdown",
   "id": "ca03f8f2-f1ee-4551-a659-d1ed100c5b18",
   "metadata": {},
   "source": [
    "데이터를 불러오고, 열어봅니다"
   ]
  },
  {
   "cell_type": "code",
   "execution_count": 559,
   "id": "a2a90bef-0bb0-43ea-8585-54396e56ef23",
   "metadata": {},
   "outputs": [
    {
     "data": {
      "text/html": [
       "<div>\n",
       "<style scoped>\n",
       "    .dataframe tbody tr th:only-of-type {\n",
       "        vertical-align: middle;\n",
       "    }\n",
       "\n",
       "    .dataframe tbody tr th {\n",
       "        vertical-align: top;\n",
       "    }\n",
       "\n",
       "    .dataframe thead th {\n",
       "        text-align: right;\n",
       "    }\n",
       "</style>\n",
       "<table border=\"1\" class=\"dataframe\">\n",
       "  <thead>\n",
       "    <tr style=\"text-align: right;\">\n",
       "      <th></th>\n",
       "      <th>CRIM</th>\n",
       "      <th>ZN</th>\n",
       "      <th>INDUS</th>\n",
       "      <th>CHAS</th>\n",
       "      <th>NOX</th>\n",
       "      <th>RM</th>\n",
       "      <th>AGE</th>\n",
       "      <th>DIS</th>\n",
       "      <th>RAD</th>\n",
       "      <th>TAX</th>\n",
       "      <th>PTRATIO</th>\n",
       "      <th>B</th>\n",
       "      <th>LSTAT</th>\n",
       "      <th>MEDV</th>\n",
       "      <th>CAT.MEDV</th>\n",
       "    </tr>\n",
       "  </thead>\n",
       "  <tbody>\n",
       "    <tr>\n",
       "      <th>0</th>\n",
       "      <td>0.00632</td>\n",
       "      <td>18.0</td>\n",
       "      <td>2.31</td>\n",
       "      <td>0</td>\n",
       "      <td>0.538</td>\n",
       "      <td>6.575</td>\n",
       "      <td>65.2</td>\n",
       "      <td>4.0900</td>\n",
       "      <td>1</td>\n",
       "      <td>296</td>\n",
       "      <td>15.3</td>\n",
       "      <td>396.90</td>\n",
       "      <td>4.98</td>\n",
       "      <td>24.0</td>\n",
       "      <td>0</td>\n",
       "    </tr>\n",
       "    <tr>\n",
       "      <th>1</th>\n",
       "      <td>0.02731</td>\n",
       "      <td>0.0</td>\n",
       "      <td>7.07</td>\n",
       "      <td>0</td>\n",
       "      <td>0.469</td>\n",
       "      <td>6.421</td>\n",
       "      <td>78.9</td>\n",
       "      <td>4.9671</td>\n",
       "      <td>2</td>\n",
       "      <td>242</td>\n",
       "      <td>17.8</td>\n",
       "      <td>396.90</td>\n",
       "      <td>9.14</td>\n",
       "      <td>21.6</td>\n",
       "      <td>0</td>\n",
       "    </tr>\n",
       "    <tr>\n",
       "      <th>2</th>\n",
       "      <td>0.02729</td>\n",
       "      <td>0.0</td>\n",
       "      <td>7.07</td>\n",
       "      <td>0</td>\n",
       "      <td>0.469</td>\n",
       "      <td>7.185</td>\n",
       "      <td>61.1</td>\n",
       "      <td>4.9671</td>\n",
       "      <td>2</td>\n",
       "      <td>242</td>\n",
       "      <td>17.8</td>\n",
       "      <td>392.83</td>\n",
       "      <td>4.03</td>\n",
       "      <td>34.7</td>\n",
       "      <td>1</td>\n",
       "    </tr>\n",
       "    <tr>\n",
       "      <th>3</th>\n",
       "      <td>0.03237</td>\n",
       "      <td>0.0</td>\n",
       "      <td>2.18</td>\n",
       "      <td>0</td>\n",
       "      <td>0.458</td>\n",
       "      <td>6.998</td>\n",
       "      <td>45.8</td>\n",
       "      <td>6.0622</td>\n",
       "      <td>3</td>\n",
       "      <td>222</td>\n",
       "      <td>18.7</td>\n",
       "      <td>394.63</td>\n",
       "      <td>2.94</td>\n",
       "      <td>33.4</td>\n",
       "      <td>1</td>\n",
       "    </tr>\n",
       "    <tr>\n",
       "      <th>4</th>\n",
       "      <td>0.06905</td>\n",
       "      <td>0.0</td>\n",
       "      <td>2.18</td>\n",
       "      <td>0</td>\n",
       "      <td>0.458</td>\n",
       "      <td>7.147</td>\n",
       "      <td>54.2</td>\n",
       "      <td>6.0622</td>\n",
       "      <td>3</td>\n",
       "      <td>222</td>\n",
       "      <td>18.7</td>\n",
       "      <td>396.90</td>\n",
       "      <td>5.33</td>\n",
       "      <td>36.2</td>\n",
       "      <td>1</td>\n",
       "    </tr>\n",
       "    <tr>\n",
       "      <th>...</th>\n",
       "      <td>...</td>\n",
       "      <td>...</td>\n",
       "      <td>...</td>\n",
       "      <td>...</td>\n",
       "      <td>...</td>\n",
       "      <td>...</td>\n",
       "      <td>...</td>\n",
       "      <td>...</td>\n",
       "      <td>...</td>\n",
       "      <td>...</td>\n",
       "      <td>...</td>\n",
       "      <td>...</td>\n",
       "      <td>...</td>\n",
       "      <td>...</td>\n",
       "      <td>...</td>\n",
       "    </tr>\n",
       "    <tr>\n",
       "      <th>501</th>\n",
       "      <td>0.06263</td>\n",
       "      <td>0.0</td>\n",
       "      <td>11.93</td>\n",
       "      <td>0</td>\n",
       "      <td>0.573</td>\n",
       "      <td>6.593</td>\n",
       "      <td>69.1</td>\n",
       "      <td>2.4786</td>\n",
       "      <td>1</td>\n",
       "      <td>273</td>\n",
       "      <td>21.0</td>\n",
       "      <td>391.99</td>\n",
       "      <td>9.67</td>\n",
       "      <td>22.4</td>\n",
       "      <td>0</td>\n",
       "    </tr>\n",
       "    <tr>\n",
       "      <th>502</th>\n",
       "      <td>0.04527</td>\n",
       "      <td>0.0</td>\n",
       "      <td>11.93</td>\n",
       "      <td>0</td>\n",
       "      <td>0.573</td>\n",
       "      <td>6.120</td>\n",
       "      <td>76.7</td>\n",
       "      <td>2.2875</td>\n",
       "      <td>1</td>\n",
       "      <td>273</td>\n",
       "      <td>21.0</td>\n",
       "      <td>396.90</td>\n",
       "      <td>9.08</td>\n",
       "      <td>20.6</td>\n",
       "      <td>0</td>\n",
       "    </tr>\n",
       "    <tr>\n",
       "      <th>503</th>\n",
       "      <td>0.06076</td>\n",
       "      <td>0.0</td>\n",
       "      <td>11.93</td>\n",
       "      <td>0</td>\n",
       "      <td>0.573</td>\n",
       "      <td>6.976</td>\n",
       "      <td>91.0</td>\n",
       "      <td>2.1675</td>\n",
       "      <td>1</td>\n",
       "      <td>273</td>\n",
       "      <td>21.0</td>\n",
       "      <td>396.90</td>\n",
       "      <td>5.64</td>\n",
       "      <td>23.9</td>\n",
       "      <td>0</td>\n",
       "    </tr>\n",
       "    <tr>\n",
       "      <th>504</th>\n",
       "      <td>0.10959</td>\n",
       "      <td>0.0</td>\n",
       "      <td>11.93</td>\n",
       "      <td>0</td>\n",
       "      <td>0.573</td>\n",
       "      <td>6.794</td>\n",
       "      <td>89.3</td>\n",
       "      <td>2.3889</td>\n",
       "      <td>1</td>\n",
       "      <td>273</td>\n",
       "      <td>21.0</td>\n",
       "      <td>393.45</td>\n",
       "      <td>6.48</td>\n",
       "      <td>22.0</td>\n",
       "      <td>0</td>\n",
       "    </tr>\n",
       "    <tr>\n",
       "      <th>505</th>\n",
       "      <td>0.04741</td>\n",
       "      <td>0.0</td>\n",
       "      <td>11.93</td>\n",
       "      <td>0</td>\n",
       "      <td>0.573</td>\n",
       "      <td>6.030</td>\n",
       "      <td>80.8</td>\n",
       "      <td>2.5050</td>\n",
       "      <td>1</td>\n",
       "      <td>273</td>\n",
       "      <td>21.0</td>\n",
       "      <td>396.90</td>\n",
       "      <td>7.88</td>\n",
       "      <td>11.9</td>\n",
       "      <td>0</td>\n",
       "    </tr>\n",
       "  </tbody>\n",
       "</table>\n",
       "<p>506 rows × 15 columns</p>\n",
       "</div>"
      ],
      "text/plain": [
       "        CRIM    ZN  INDUS  CHAS    NOX     RM   AGE     DIS  RAD  TAX  \\\n",
       "0    0.00632  18.0   2.31     0  0.538  6.575  65.2  4.0900    1  296   \n",
       "1    0.02731   0.0   7.07     0  0.469  6.421  78.9  4.9671    2  242   \n",
       "2    0.02729   0.0   7.07     0  0.469  7.185  61.1  4.9671    2  242   \n",
       "3    0.03237   0.0   2.18     0  0.458  6.998  45.8  6.0622    3  222   \n",
       "4    0.06905   0.0   2.18     0  0.458  7.147  54.2  6.0622    3  222   \n",
       "..       ...   ...    ...   ...    ...    ...   ...     ...  ...  ...   \n",
       "501  0.06263   0.0  11.93     0  0.573  6.593  69.1  2.4786    1  273   \n",
       "502  0.04527   0.0  11.93     0  0.573  6.120  76.7  2.2875    1  273   \n",
       "503  0.06076   0.0  11.93     0  0.573  6.976  91.0  2.1675    1  273   \n",
       "504  0.10959   0.0  11.93     0  0.573  6.794  89.3  2.3889    1  273   \n",
       "505  0.04741   0.0  11.93     0  0.573  6.030  80.8  2.5050    1  273   \n",
       "\n",
       "     PTRATIO       B  LSTAT  MEDV  CAT.MEDV  \n",
       "0       15.3  396.90   4.98  24.0         0  \n",
       "1       17.8  396.90   9.14  21.6         0  \n",
       "2       17.8  392.83   4.03  34.7         1  \n",
       "3       18.7  394.63   2.94  33.4         1  \n",
       "4       18.7  396.90   5.33  36.2         1  \n",
       "..       ...     ...    ...   ...       ...  \n",
       "501     21.0  391.99   9.67  22.4         0  \n",
       "502     21.0  396.90   9.08  20.6         0  \n",
       "503     21.0  396.90   5.64  23.9         0  \n",
       "504     21.0  393.45   6.48  22.0         0  \n",
       "505     21.0  396.90   7.88  11.9         0  \n",
       "\n",
       "[506 rows x 15 columns]"
      ]
     },
     "execution_count": 559,
     "metadata": {},
     "output_type": "execute_result"
    }
   ],
   "source": [
    "boston = pd.read_csv('./house_price.csv')\n",
    "boston"
   ]
  },
  {
   "cell_type": "markdown",
   "id": "7426d1cd-311e-408d-b109-113f66ea0dd1",
   "metadata": {},
   "source": [
    "데이터 정보도 확인해보구요"
   ]
  },
  {
   "cell_type": "code",
   "execution_count": 561,
   "id": "f6ee2532-f35a-4eb7-8989-5cdbc006e24a",
   "metadata": {},
   "outputs": [
    {
     "name": "stdout",
     "output_type": "stream",
     "text": [
      "<class 'pandas.core.frame.DataFrame'>\n",
      "RangeIndex: 506 entries, 0 to 505\n",
      "Data columns (total 15 columns):\n",
      " #   Column    Non-Null Count  Dtype  \n",
      "---  ------    --------------  -----  \n",
      " 0   CRIM      506 non-null    float64\n",
      " 1   ZN        506 non-null    float64\n",
      " 2   INDUS     506 non-null    float64\n",
      " 3   CHAS      506 non-null    int64  \n",
      " 4   NOX       506 non-null    float64\n",
      " 5   RM        506 non-null    float64\n",
      " 6   AGE       506 non-null    float64\n",
      " 7   DIS       506 non-null    float64\n",
      " 8   RAD       506 non-null    int64  \n",
      " 9   TAX       506 non-null    int64  \n",
      " 10  PTRATIO   506 non-null    float64\n",
      " 11  B         506 non-null    float64\n",
      " 12  LSTAT     506 non-null    float64\n",
      " 13  MEDV      506 non-null    float64\n",
      " 14  CAT.MEDV  506 non-null    int64  \n",
      "dtypes: float64(11), int64(4)\n",
      "memory usage: 59.4 KB\n"
     ]
    }
   ],
   "source": [
    "boston.info()"
   ]
  },
  {
   "cell_type": "markdown",
   "id": "dcab00bb-c993-4eed-9acb-c3a5fce6c2b1",
   "metadata": {},
   "source": [
    "실습에서는 CAT.MEDV가 MEDV에서 파생된 칼럼이라고, 간단히 EDA 해보고 drop했는데, 여기서는 CAT.MEDV가 어떻게 파생된 것인지 한번 찾아볼게요(순수 재미용)\n"
   ]
  },
  {
   "cell_type": "markdown",
   "id": "3343235b-2af1-46dc-b8a9-8731c1897088",
   "metadata": {},
   "source": [
    "먼저 히트맵으로 상관계수를 확인해봅시다!"
   ]
  },
  {
   "cell_type": "code",
   "execution_count": 564,
   "id": "10f50093-a3d3-4bf8-99d7-4a5bbfde04ae",
   "metadata": {},
   "outputs": [
    {
     "data": {
      "image/png": "[encoded data removed]",
      "text/plain": [
       "<Figure size 640x480 with 2 Axes>"
      ]
     },
     "metadata": {},
     "output_type": "display_data"
    }
   ],
   "source": [
    "import seaborn as sns\n",
    "sns.heatmap(boston[['MEDV', 'CAT.MEDV']].corr(),annot = True)\n",
    "plt.show()"
   ]
  },
  {
   "cell_type": "markdown",
   "id": "5f23d13a-df38-4541-9065-c1bdbbfaa664",
   "metadata": {},
   "source": [
    "굉장히 높은 상관계수가 나타나는 부분을 알 수 있습니다\n",
    "\n",
    "칼럼의 이름과 boston을 출력했을때 나타나는 값을 바탕으로 유추해봤을때, CAT.MEDV는 MEDV를 범주형으로 나눴을 가능성이 있습니다\n",
    "\n",
    "정말로 그런지 value_counts()를 통해 확인해보겠습니다\n"
   ]
  },
  {
   "cell_type": "code",
   "execution_count": 566,
   "id": "a4170c3e-dca7-42e0-aaf1-e9a732c52b87",
   "metadata": {},
   "outputs": [
    {
     "data": {
      "text/plain": [
       "CAT.MEDV\n",
       "0    422\n",
       "1     84\n",
       "Name: count, dtype: int64"
      ]
     },
     "execution_count": 566,
     "metadata": {},
     "output_type": "execute_result"
    }
   ],
   "source": [
    "boston['CAT.MEDV'].value_counts()"
   ]
  },
  {
   "cell_type": "markdown",
   "id": "18f7182b-b225-4944-8b2c-98e05143d4f5",
   "metadata": {},
   "source": [
    "확인 결과, 정말로 0과 1 두 가지 범주로 나뉜 자료임을 알 수 있어요\n",
    "\n",
    "처음에 info()로 확인했다시피, MEDV 칼럼은 float형 자료였지요\n",
    "\n",
    "아마도 float 자료형을 특정 기준으로 pd.cut() 등으로 잘라서 나눴을 것으로 보이네요\n",
    "\n",
    "그래서 그 컷 기준을 보기 위해, MEDV와 CAT.MEDV을 슬라이싱하고, CAT.MEDV을 기준으로 그룹화한 뒤 MEDV의 통계치를 확인해볼게요"
   ]
  },
  {
   "cell_type": "code",
   "execution_count": 568,
   "id": "d764e9d7-2c5a-453d-ad45-25952c06356c",
   "metadata": {},
   "outputs": [
    {
     "name": "stdout",
     "output_type": "stream",
     "text": [
      "           MEDV                                                       \n",
      "          count       mean       std   min    25%    50%     75%   max\n",
      "CAT.MEDV                                                              \n",
      "0         422.0  19.295261  5.287401   5.0  15.60  20.00  23.075  29.9\n",
      "1          84.0  38.797619  7.199046  30.1  32.85  36.15  45.550  50.0\n"
     ]
    }
   ],
   "source": [
    "print(boston[['MEDV', 'CAT.MEDV']].groupby('CAT.MEDV').describe())"
   ]
  },
  {
   "cell_type": "markdown",
   "id": "699e3ef4-a82f-4f47-91f0-691c946f2317",
   "metadata": {},
   "source": [
    "결과를 보니 CAT.MEDV이 0일때 최댓값이 29.9, CAT.MEDV이 1일때 최솟값이 30.1이네요\n",
    "\n",
    "그럼 CAT.MEDV는 30을 기준으로 MEDV 값을 범주화한 칼럼인 것 같네요!\n",
    "\n",
    "이제 궁금증은 해결됐고, 저한테는 해당 칼럼이 필요없으니 실습 자료처럼 지워버리겠습니다"
   ]
  },
  {
   "cell_type": "code",
   "execution_count": 570,
   "id": "69fc92f4-0816-4fce-92ec-0fb3fab94368",
   "metadata": {},
   "outputs": [],
   "source": [
    "boston.drop(labels=\"CAT.MEDV\",axis=1,inplace=True)"
   ]
  },
  {
   "cell_type": "markdown",
   "id": "66d631ce-d851-4ec4-b892-c42a392c1d5c",
   "metadata": {},
   "source": [
    "본격적인 실습에 들어가기 앞서...\n",
    "-\n",
    "MEDV 말고 다른 종속변수를 체크하고 싶어 다른 변수를 종속변수로 정하고 분석해볼게요\n",
    "\n",
    "저는 CRIM을 종속변수로 하여 분석을 진행해보고자 하는데, 이를 위해 CRIM이 종속변수가 될 수 있을지 확인해보겠습니다.\n",
    "\n"
   ]
  },
  {
   "cell_type": "markdown",
   "id": "b876dfcc-3daf-4a14-938d-838bc25f8dae",
   "metadata": {},
   "source": [
    ">먼저 종속변수 후보 CRIM이 다른 변수와 어떤 관계를 가지고 있는지 확인해보겠습니다"
   ]
  },
  {
   "cell_type": "code",
   "execution_count": 573,
   "id": "e666b443-a65a-4f3c-9991-47106a391f19",
   "metadata": {},
   "outputs": [
    {
     "data": {
      "text/plain": [
       "CRIM       1.000000\n",
       "RAD        0.625505\n",
       "TAX        0.582764\n",
       "LSTAT      0.455621\n",
       "NOX        0.420972\n",
       "INDUS      0.406583\n",
       "AGE        0.352734\n",
       "PTRATIO    0.289946\n",
       "CHAS      -0.055892\n",
       "ZN        -0.200469\n",
       "RM        -0.219247\n",
       "DIS       -0.379670\n",
       "B         -0.385064\n",
       "MEDV      -0.388305\n",
       "Name: CRIM, dtype: float64"
      ]
     },
     "execution_count": 573,
     "metadata": {},
     "output_type": "execute_result"
    }
   ],
   "source": [
    "boston.corr()['CRIM'].sort_values(ascending=False)"
   ]
  },
  {
   "cell_type": "markdown",
   "id": "7d0a64df-65ac-400e-8605-e24765e72238",
   "metadata": {},
   "source": [
    ">RAD, TAX, LSTAT, NOX 등이 0.4 보다 큰 값이 나왔습니다. 해당 변수가 연관성이 존재하므로, CRIM을 종속변수로 볼 여지가 있습니다. 더 확실하게 하기 위해, 간단한 회귀를 돌려보도록 하겠습니다"
   ]
  },
  {
   "cell_type": "code",
   "execution_count": 575,
   "id": "551bf61a-122b-4fd0-91b4-eaf8f0e75c08",
   "metadata": {},
   "outputs": [
    {
     "name": "stdout",
     "output_type": "stream",
     "text": [
      "                            OLS Regression Results                            \n",
      "==============================================================================\n",
      "Dep. Variable:                   CRIM   R-squared:                       0.454\n",
      "Model:                            OLS   Adj. R-squared:                  0.440\n",
      "Method:                 Least Squares   F-statistic:                     31.47\n",
      "Date:                Wed, 26 Mar 2025   Prob (F-statistic):           1.57e-56\n",
      "Time:                        09:33:28   Log-Likelihood:                -1653.3\n",
      "No. Observations:                 506   AIC:                             3335.\n",
      "Df Residuals:                     492   BIC:                             3394.\n",
      "Df Model:                          13                                         \n",
      "Covariance Type:            nonrobust                                         \n",
      "==============================================================================\n",
      "                 coef    std err          t      P>|t|      [0.025      0.975]\n",
      "------------------------------------------------------------------------------\n",
      "const         17.0332      7.235      2.354      0.019       2.818      31.248\n",
      "ZN             0.0449      0.019      2.394      0.017       0.008       0.082\n",
      "INDUS         -0.0639      0.083     -0.766      0.444      -0.228       0.100\n",
      "CHAS          -0.7491      1.180     -0.635      0.526      -3.068       1.570\n",
      "NOX          -10.3135      5.276     -1.955      0.051     -20.679       0.052\n",
      "RM             0.4301      0.613      0.702      0.483      -0.774       1.634\n",
      "AGE            0.0015      0.018      0.081      0.935      -0.034       0.037\n",
      "DIS           -0.9872      0.282     -3.503      0.001      -1.541      -0.433\n",
      "RAD            0.5882      0.088      6.680      0.000       0.415       0.761\n",
      "TAX           -0.0038      0.005     -0.733      0.464      -0.014       0.006\n",
      "PTRATIO       -0.2711      0.186     -1.454      0.147      -0.637       0.095\n",
      "B             -0.0075      0.004     -2.052      0.041      -0.015      -0.000\n",
      "LSTAT          0.1262      0.076      1.667      0.096      -0.023       0.275\n",
      "MEDV          -0.1989      0.061     -3.287      0.001      -0.318      -0.080\n",
      "==============================================================================\n",
      "Omnibus:                      666.613   Durbin-Watson:                   1.519\n",
      "Prob(Omnibus):                  0.000   Jarque-Bera (JB):            84887.625\n",
      "Skew:                           6.617   Prob(JB):                         0.00\n",
      "Kurtosis:                      65.058   Cond. No.                     1.58e+04\n",
      "==============================================================================\n",
      "\n",
      "Notes:\n",
      "[1] Standard Errors assume that the covariance matrix of the errors is correctly specified.\n",
      "[2] The condition number is large, 1.58e+04. This might indicate that there are\n",
      "strong multicollinearity or other numerical problems.\n"
     ]
    }
   ],
   "source": [
    "Xx = boston.drop(columns=['CRIM'])\n",
    "yy = boston['CRIM']\n",
    "\n",
    "import statsmodels.api as sm\n",
    "Xx_tmp = sm.add_constant(Xx)\n",
    "\n",
    "model = sm.OLS(yy, Xx_tmp).fit()\n",
    "print(model.summary())"
   ]
  },
  {
   "cell_type": "markdown",
   "id": "08591826-f159-47bd-86ea-9e99f5a96a79",
   "metadata": {},
   "source": [
    ">간단히 분석한 결과를 봤을 때, 전체 모델의 p값이 0.001보다 작은 유의한 모델이고, 설명계수가 0.454로 괜찮은 것으로 보아, 다른 변수들을 바탕으로 설명할 수 있는 종속변수로서 CRIM을 설정해도 된다는 판단이 들었어요."
   ]
  },
  {
   "cell_type": "markdown",
   "id": "dddc8891-63ee-43a1-8dcf-46acadb2ccb6",
   "metadata": {},
   "source": [
    "CRIM을 종속변수로 하는 모델을 만들고, 평가까지 해보겠습니다!\n",
    "-"
   ]
  },
  {
   "cell_type": "markdown",
   "id": "81c0d7d5-a35e-421e-b9cc-d4a8e1df51bd",
   "metadata": {},
   "source": [
    "다중공산성 문제를 해소하기 위해서, vif 지수를 체크하고 검사를 진행할 예정인데요. 상단의 회귀분석 결과에서 유의한 변수로 나왔던 요소 다중공산성 검사 후 삭제될 가능성이 우려되, CRIM 변수를 설명하는데 유의하지 않던 변수들을 제거한 후 공산성 검사를 해볼게요 (NOX는 0.051이 나왔지만, 엄밀하게 한 검사가 아니니 일단 제거하지 않고 둘게요)"
   ]
  },
  {
   "cell_type": "code",
   "execution_count": 587,
   "id": "fd7d770b-bdf7-4516-a1d4-09dd064896e7",
   "metadata": {},
   "outputs": [
    {
     "name": "stdout",
     "output_type": "stream",
     "text": [
      "  Features        VIF\n",
      "0       ZN   2.368412\n",
      "1      NOX  17.879835\n",
      "2      DIS   7.612110\n",
      "3      RAD   3.922059\n",
      "4        B  18.512226\n",
      "5     MEDV   8.358658\n"
     ]
    }
   ],
   "source": [
    "from statsmodels.stats.outliers_influence import variance_inflation_factor\n",
    "def vif(X):\n",
    "    vif_data = pd.DataFrame()\n",
    "    vif_data[\"Features\"] = X.columns\n",
    "    vif_data[\"VIF\"] = [variance_inflation_factor(X.values, i) for i in range(X.shape[1])]\n",
    "    print(vif_data)\n",
    "\n",
    "boston.drop(['INDUS', 'CHAS', 'RM', 'AGE', 'TAX', 'PTRATIO', 'LSTAT'], axis=1, inplace=True)\n",
    "X = boston.drop(columns=['CRIM'])\n",
    "y = boston['CRIM']\n",
    "vif(X)\n"
   ]
  },
  {
   "cell_type": "markdown",
   "id": "fff1c3bf-3365-431b-ba15-2461c7c0c336",
   "metadata": {},
   "source": [
    "다중공산성을 확인해본 결과, NOX와 B는 10 이상으로 꽤 큰 숫자가 나왔어요. 그래서 이 둘도 지워줄게요"
   ]
  },
  {
   "cell_type": "code",
   "execution_count": 599,
   "id": "5c8af246-87b3-43d2-871b-8acf120f0259",
   "metadata": {},
   "outputs": [
    {
     "name": "stdout",
     "output_type": "stream",
     "text": [
      "  Features       VIF\n",
      "0       ZN  2.002788\n",
      "1      DIS  5.048768\n",
      "2      RAD  1.650688\n",
      "3     MEDV  4.367313\n"
     ]
    }
   ],
   "source": [
    "boston.drop(['NOX', 'B'],axis=1, inplace=True)\n",
    "vif(X)"
   ]
  },
  {
   "cell_type": "markdown",
   "id": "e16d58a8-b223-4bb1-bbef-55b45d3910f3",
   "metadata": {},
   "source": [
    "이제 다중공산성이 어느정도 해결됐어요.\n",
    "<B>모델평가</B>를 이제 해볼게요!"
   ]
  },
  {
   "cell_type": "markdown",
   "id": "562e459b-8c2e-4355-b8fb-1744a8eeabae",
   "metadata": {},
   "source": [
    "먼저 train set과 test set을 나누겠습니다.\n",
    "\n",
    "이 기능을 사용하려면 위에서 아껴왔던 라이브러리를 사용해야겠지요. sklearn.model_selection에서 train_test_split을 불러오고, 사용 구문은 하단과 같아요\n",
    "\n",
    "X_train, X_test, y_train, y_test = train_test_split(X, y, test_size={숫자}, random_state={숫자})\n",
    "\n",
    "좌변은 독립변수 X와 y를 train set과 test set으로 나누는 것을 의미하고\n",
    "\n",
    "우변의 train_test_split() 함수 안의 구문은 독립변수명, 종속변수명, test_size는 전체 데이터 중 몇 퍼센트를 테스트용으로 사용할 것인지 나누는 기준, random_state는 데이터를 섞을 떄의 시드 역할을 합니다\n",
    "- random_state에 특정 값을 설정하여 고정하는 이유는, 이걸 고정함으로서 매번 같은 방식으로 섞을 수 있어요.\n",
    "- 그렇지 않으면 매번 실행할 때마다 결과가 달라질 수 있기 때문에, 실험 결과를 일관되게 비교하기 위해서는 아무 값이나 제공하면 된다네요"
   ]
  },
  {
   "cell_type": "code",
   "execution_count": 608,
   "id": "fea2c62e-2fd6-40a4-8795-061c5d6123fe",
   "metadata": {},
   "outputs": [],
   "source": [
    "from sklearn.model_selection import train_test_split\n",
    "\n",
    "X_train, X_test, y_train, y_test = train_test_split(X, y, test_size=0.2, random_state=2021)"
   ]
  },
  {
   "cell_type": "markdown",
   "id": "c414ba43-51e4-4afb-bbfc-06f2485ef7cf",
   "metadata": {},
   "source": [
    "위의 방식으로 훈련셋과 테스트셋을 나눠줬어요. 이제 statsmodels를 사용하여 선형회귀모델을 생성, 학습하고, 모델을 출력까지 해볼게요"
   ]
  },
  {
   "cell_type": "code",
   "execution_count": 620,
   "id": "73cf3ebe-dc19-4d66-ba5f-cf58c3e14d03",
   "metadata": {},
   "outputs": [
    {
     "name": "stdout",
     "output_type": "stream",
     "text": [
      "                            OLS Regression Results                            \n",
      "==============================================================================\n",
      "Dep. Variable:                   CRIM   R-squared:                       0.422\n",
      "Model:                            OLS   Adj. R-squared:                  0.416\n",
      "Method:                 Least Squares   F-statistic:                     72.91\n",
      "Date:                Wed, 26 Mar 2025   Prob (F-statistic):           2.48e-46\n",
      "Time:                        10:21:08   Log-Likelihood:                -1365.2\n",
      "No. Observations:                 404   AIC:                             2740.\n",
      "Df Residuals:                     399   BIC:                             2760.\n",
      "Df Model:                           4                                         \n",
      "Covariance Type:            nonrobust                                         \n",
      "==============================================================================\n",
      "                 coef    std err          t      P>|t|      [0.025      0.975]\n",
      "------------------------------------------------------------------------------\n",
      "const          6.1448      1.633      3.763      0.000       2.935       9.355\n",
      "ZN             0.0657      0.021      3.093      0.002       0.024       0.107\n",
      "DIS           -0.8117      0.249     -3.257      0.001      -1.302      -0.322\n",
      "RAD            0.5169      0.049     10.570      0.000       0.421       0.613\n",
      "MEDV          -0.2203      0.042     -5.183      0.000      -0.304      -0.137\n",
      "==============================================================================\n",
      "Omnibus:                      500.172   Durbin-Watson:                   2.046\n",
      "Prob(Omnibus):                  0.000   Jarque-Bera (JB):            41172.792\n",
      "Skew:                           5.869   Prob(JB):                         0.00\n",
      "Kurtosis:                      51.043   Cond. No.                         149.\n",
      "==============================================================================\n",
      "\n",
      "Notes:\n",
      "[1] Standard Errors assume that the covariance matrix of the errors is correctly specified.\n"
     ]
    }
   ],
   "source": [
    "import statsmodels.api as sm\n",
    "from statsmodels.formula.api import ols\n",
    "\n",
    "X_train = sm.add_constant(X_train)\n",
    "X_test = sm.add_constant(X_test)\n",
    "\n",
    "model = sm.OLS(y_train, X_train)\n",
    "model_fitted = model.fit()\n",
    "\n",
    "print(model_fitted.summary())"
   ]
  },
  {
   "cell_type": "code",
   "execution_count": null,
   "id": "8a7f8316-a591-48ce-bc0d-01be58092aee",
   "metadata": {},
   "outputs": [],
   "source": []
  },
  {
   "cell_type": "markdown",
   "id": "78914b9a-01cd-4938-8ff3-ee5d58e84dd4",
   "metadata": {},
   "source": [
    "t에 대한 p값이 높은 변수를 초기에 제거하고 시작하니, 최종 모델에서도 큰 이상이 나타나지 않았어요!"
   ]
  },
  {
   "cell_type": "markdown",
   "id": "06bfa977-3d1a-4b24-a18a-e3255ced3676",
   "metadata": {},
   "source": [
    "test 데이터로 모델 성능을 평가해보겠습니다. mse, mae, r2 값을 구하는 모듈을 import 해줍니다.\n"
   ]
  },
  {
   "cell_type": "code",
   "execution_count": null,
   "id": "ee77cd5a-45ba-48fc-bf68-0456c684f4be",
   "metadata": {},
   "outputs": [],
   "source": [
    "from sklearn.metrics import mean_squared_error, r2_score, mean_absolute_error"
   ]
  },
  {
   "cell_type": "code",
   "execution_count": null,
   "id": "433da1aa-b365-4448-b820-5a1e5b28089f",
   "metadata": {},
   "outputs": [],
   "source": []
  },
  {
   "cell_type": "markdown",
   "id": "6c350cf4-4e2d-4807-82e9-f49806541d75",
   "metadata": {},
   "source": [
    "이제 모델의 예측값을 저장할 y_test_pred 변수를 확인해볼게요"
   ]
  },
  {
   "cell_type": "code",
   "execution_count": 648,
   "id": "4050d217-9ee5-4613-9537-55fdfb039242",
   "metadata": {},
   "outputs": [
    {
     "data": {
      "text/plain": [
       "210     0.285977\n",
       "24      1.205379\n",
       "36      1.582562\n",
       "439    14.257118\n",
       "161    -3.882865\n",
       "         ...    \n",
       "8       0.979458\n",
       "317     0.578960\n",
       "390    13.661818\n",
       "482    10.276640\n",
       "50     -0.278611\n",
       "Length: 102, dtype: float64"
      ]
     },
     "execution_count": 648,
     "metadata": {},
     "output_type": "execute_result"
    }
   ],
   "source": [
    "y_test_pred = model_fitted.predict(X_test)\n",
    "y_test_pred"
   ]
  },
  {
   "cell_type": "markdown",
   "id": "a9c89102-ab20-4920-b8d0-6901b2fcbffd",
   "metadata": {},
   "source": [
    "MSE를 확인하겠습니다."
   ]
  },
  {
   "cell_type": "code",
   "execution_count": 651,
   "id": "0ff8b225-e1fc-482b-ad99-419273956ae7",
   "metadata": {},
   "outputs": [
    {
     "name": "stdout",
     "output_type": "stream",
     "text": [
      "8.602905549039713\n"
     ]
    }
   ],
   "source": [
    "print(mean_squared_error(y_test, y_test_pred))"
   ]
  },
  {
   "cell_type": "markdown",
   "id": "7e78f23d-5943-4c8f-86ef-b96d26382d49",
   "metadata": {},
   "source": [
    "MAE를 확인하겠습니다."
   ]
  },
  {
   "cell_type": "code",
   "execution_count": 654,
   "id": "89c8314e-d9a7-4f7e-9d3c-a71d61e7df44",
   "metadata": {},
   "outputs": [
    {
     "name": "stdout",
     "output_type": "stream",
     "text": [
      "2.047355448280093\n"
     ]
    }
   ],
   "source": [
    "print(mean_absolute_error(y_test, y_test_pred))"
   ]
  },
  {
   "cell_type": "markdown",
   "id": "1781298a-c324-45e5-b709-6e0c84e133f6",
   "metadata": {},
   "source": [
    "마지막으로 결정계수를 확인할게요!"
   ]
  },
  {
   "cell_type": "code",
   "execution_count": 657,
   "id": "e2fb1b45-a335-4560-b18c-762cce5951d3",
   "metadata": {},
   "outputs": [
    {
     "name": "stdout",
     "output_type": "stream",
     "text": [
      "0.5211582148041117\n"
     ]
    }
   ],
   "source": [
    "print(r2_score(y_test, y_test_pred))"
   ]
  },
  {
   "cell_type": "markdown",
   "id": "55721d46-95e9-4ad2-9e38-2fa13cbcfea2",
   "metadata": {},
   "source": [
    "이 모델은 test 데이터에 대해 52퍼센트의 설명력을 보이네요!"
   ]
  },
  {
   "cell_type": "code",
   "execution_count": 660,
   "id": "66c6bc55-2b14-4de8-91fa-8235e5c42f1b",
   "metadata": {},
   "outputs": [
    {
     "name": "stdout",
     "output_type": "stream",
     "text": [
      "Testing MSE: 8.603\n",
      "Testing MAE: 2.047\n",
      "Testing R2: 0.521\n"
     ]
    }
   ],
   "source": [
    "print('Testing MSE: {:.3f}'.format(mean_squared_error(y_test, y_test_pred)))\n",
    "print('Testing MAE: {:.3f}'.format(mean_absolute_error(y_test, y_test_pred)))\n",
    "print('Testing R2: {:.3f}'.format(r2_score(y_test, y_test_pred)))"
   ]
  },
  {
   "cell_type": "markdown",
   "id": "c0ffb9e8-e883-46b0-9fd7-d54f5b396084",
   "metadata": {},
   "source": [
    "종속변수를 바꿔서 해봤는데 나름 괜찮은 모델이 나온 것 같아요!"
   ]
  },
  {
   "cell_type": "markdown",
   "id": "2860486c-a0c5-4a49-9595-dd862edac751",
   "metadata": {},
   "source": [
    "끝!\n",
    "-\n",
    "\n",
    "종속변수를 바꿔봤는데 나름 잘 된 것 같네요 ㅎㅎ"
   ]
  }
 ],
 "metadata": {
  "kernelspec": {
   "display_name": "Python [conda env:base] *",
   "language": "python",
   "name": "conda-base-py"
  },
  "language_info": {
   "codemirror_mode": {
    "name": "ipython",
    "version": 3
   },
   "file_extension": ".py",
   "mimetype": "text/x-python",
   "name": "python",
   "nbconvert_exporter": "python",
   "pygments_lexer": "ipython3",
   "version": "3.12.9"
  }
 },
 "nbformat": 4,
 "nbformat_minor": 5
}
