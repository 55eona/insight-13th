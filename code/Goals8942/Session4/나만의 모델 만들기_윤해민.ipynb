{
 "cells": [
  {
   "cell_type": "markdown",
   "id": "cc4fc40e-98e0-4ff3-b372-50120d05a86d",
   "metadata": {},
   "source": [
    "### 필요한 library import"
   ]
  },
  {
   "cell_type": "code",
   "execution_count": 2,
   "id": "6391cfc0-16a8-4127-895c-52e55b441ede",
   "metadata": {},
   "outputs": [],
   "source": [
    "import pandas as pd\n",
    "import numpy as np\n",
    "import matplotlib.pyplot as plt\n",
    "import seaborn as sns\n",
    "from sklearn.linear_model import LinearRegression\n",
    "from sklearn.model_selection import train_test_split\n",
    "from sklearn.metrics import mean_squared_error, r2_score, mean_absolute_error\n",
    "import scipy as sp\n",
    "import scipy.stats as stats\n",
    "import statsmodels.api as sm\n",
    "from statsmodels.formula.api import ols\n",
    "from statsmodels.stats.outliers_influence import variance_inflation_factor "
   ]
  },
  {
   "cell_type": "markdown",
   "id": "283fea23-8184-4afa-acda-3666d9e49722",
   "metadata": {},
   "source": [
    "### house_price.csv 파일 불러오기"
   ]
  },
  {
   "cell_type": "code",
   "execution_count": 4,
   "id": "54126db1-9bd4-4e32-b94e-67d2f60a8ded",
   "metadata": {},
   "outputs": [],
   "source": [
    "data=pd.read_csv('../../Session/Session4/house_price.csv')"
   ]
  },
  {
   "cell_type": "code",
   "execution_count": 5,
   "id": "6f528044-3af0-47b7-aaa8-0e0c94708483",
   "metadata": {},
   "outputs": [
    {
     "data": {
      "text/html": [
       "<div>\n",
       "<style scoped>\n",
       "    .dataframe tbody tr th:only-of-type {\n",
       "        vertical-align: middle;\n",
       "    }\n",
       "\n",
       "    .dataframe tbody tr th {\n",
       "        vertical-align: top;\n",
       "    }\n",
       "\n",
       "    .dataframe thead th {\n",
       "        text-align: right;\n",
       "    }\n",
       "</style>\n",
       "<table border=\"1\" class=\"dataframe\">\n",
       "  <thead>\n",
       "    <tr style=\"text-align: right;\">\n",
       "      <th></th>\n",
       "      <th>CRIM</th>\n",
       "      <th>ZN</th>\n",
       "      <th>INDUS</th>\n",
       "      <th>CHAS</th>\n",
       "      <th>NOX</th>\n",
       "      <th>RM</th>\n",
       "      <th>AGE</th>\n",
       "      <th>DIS</th>\n",
       "      <th>RAD</th>\n",
       "      <th>TAX</th>\n",
       "      <th>PTRATIO</th>\n",
       "      <th>B</th>\n",
       "      <th>LSTAT</th>\n",
       "      <th>MEDV</th>\n",
       "      <th>CAT.MEDV</th>\n",
       "    </tr>\n",
       "  </thead>\n",
       "  <tbody>\n",
       "    <tr>\n",
       "      <th>0</th>\n",
       "      <td>0.00632</td>\n",
       "      <td>18.0</td>\n",
       "      <td>2.31</td>\n",
       "      <td>0</td>\n",
       "      <td>0.538</td>\n",
       "      <td>6.575</td>\n",
       "      <td>65.2</td>\n",
       "      <td>4.0900</td>\n",
       "      <td>1</td>\n",
       "      <td>296</td>\n",
       "      <td>15.3</td>\n",
       "      <td>396.90</td>\n",
       "      <td>4.98</td>\n",
       "      <td>24.0</td>\n",
       "      <td>0</td>\n",
       "    </tr>\n",
       "    <tr>\n",
       "      <th>1</th>\n",
       "      <td>0.02731</td>\n",
       "      <td>0.0</td>\n",
       "      <td>7.07</td>\n",
       "      <td>0</td>\n",
       "      <td>0.469</td>\n",
       "      <td>6.421</td>\n",
       "      <td>78.9</td>\n",
       "      <td>4.9671</td>\n",
       "      <td>2</td>\n",
       "      <td>242</td>\n",
       "      <td>17.8</td>\n",
       "      <td>396.90</td>\n",
       "      <td>9.14</td>\n",
       "      <td>21.6</td>\n",
       "      <td>0</td>\n",
       "    </tr>\n",
       "    <tr>\n",
       "      <th>2</th>\n",
       "      <td>0.02729</td>\n",
       "      <td>0.0</td>\n",
       "      <td>7.07</td>\n",
       "      <td>0</td>\n",
       "      <td>0.469</td>\n",
       "      <td>7.185</td>\n",
       "      <td>61.1</td>\n",
       "      <td>4.9671</td>\n",
       "      <td>2</td>\n",
       "      <td>242</td>\n",
       "      <td>17.8</td>\n",
       "      <td>392.83</td>\n",
       "      <td>4.03</td>\n",
       "      <td>34.7</td>\n",
       "      <td>1</td>\n",
       "    </tr>\n",
       "    <tr>\n",
       "      <th>3</th>\n",
       "      <td>0.03237</td>\n",
       "      <td>0.0</td>\n",
       "      <td>2.18</td>\n",
       "      <td>0</td>\n",
       "      <td>0.458</td>\n",
       "      <td>6.998</td>\n",
       "      <td>45.8</td>\n",
       "      <td>6.0622</td>\n",
       "      <td>3</td>\n",
       "      <td>222</td>\n",
       "      <td>18.7</td>\n",
       "      <td>394.63</td>\n",
       "      <td>2.94</td>\n",
       "      <td>33.4</td>\n",
       "      <td>1</td>\n",
       "    </tr>\n",
       "    <tr>\n",
       "      <th>4</th>\n",
       "      <td>0.06905</td>\n",
       "      <td>0.0</td>\n",
       "      <td>2.18</td>\n",
       "      <td>0</td>\n",
       "      <td>0.458</td>\n",
       "      <td>7.147</td>\n",
       "      <td>54.2</td>\n",
       "      <td>6.0622</td>\n",
       "      <td>3</td>\n",
       "      <td>222</td>\n",
       "      <td>18.7</td>\n",
       "      <td>396.90</td>\n",
       "      <td>5.33</td>\n",
       "      <td>36.2</td>\n",
       "      <td>1</td>\n",
       "    </tr>\n",
       "    <tr>\n",
       "      <th>...</th>\n",
       "      <td>...</td>\n",
       "      <td>...</td>\n",
       "      <td>...</td>\n",
       "      <td>...</td>\n",
       "      <td>...</td>\n",
       "      <td>...</td>\n",
       "      <td>...</td>\n",
       "      <td>...</td>\n",
       "      <td>...</td>\n",
       "      <td>...</td>\n",
       "      <td>...</td>\n",
       "      <td>...</td>\n",
       "      <td>...</td>\n",
       "      <td>...</td>\n",
       "      <td>...</td>\n",
       "    </tr>\n",
       "    <tr>\n",
       "      <th>501</th>\n",
       "      <td>0.06263</td>\n",
       "      <td>0.0</td>\n",
       "      <td>11.93</td>\n",
       "      <td>0</td>\n",
       "      <td>0.573</td>\n",
       "      <td>6.593</td>\n",
       "      <td>69.1</td>\n",
       "      <td>2.4786</td>\n",
       "      <td>1</td>\n",
       "      <td>273</td>\n",
       "      <td>21.0</td>\n",
       "      <td>391.99</td>\n",
       "      <td>9.67</td>\n",
       "      <td>22.4</td>\n",
       "      <td>0</td>\n",
       "    </tr>\n",
       "    <tr>\n",
       "      <th>502</th>\n",
       "      <td>0.04527</td>\n",
       "      <td>0.0</td>\n",
       "      <td>11.93</td>\n",
       "      <td>0</td>\n",
       "      <td>0.573</td>\n",
       "      <td>6.120</td>\n",
       "      <td>76.7</td>\n",
       "      <td>2.2875</td>\n",
       "      <td>1</td>\n",
       "      <td>273</td>\n",
       "      <td>21.0</td>\n",
       "      <td>396.90</td>\n",
       "      <td>9.08</td>\n",
       "      <td>20.6</td>\n",
       "      <td>0</td>\n",
       "    </tr>\n",
       "    <tr>\n",
       "      <th>503</th>\n",
       "      <td>0.06076</td>\n",
       "      <td>0.0</td>\n",
       "      <td>11.93</td>\n",
       "      <td>0</td>\n",
       "      <td>0.573</td>\n",
       "      <td>6.976</td>\n",
       "      <td>91.0</td>\n",
       "      <td>2.1675</td>\n",
       "      <td>1</td>\n",
       "      <td>273</td>\n",
       "      <td>21.0</td>\n",
       "      <td>396.90</td>\n",
       "      <td>5.64</td>\n",
       "      <td>23.9</td>\n",
       "      <td>0</td>\n",
       "    </tr>\n",
       "    <tr>\n",
       "      <th>504</th>\n",
       "      <td>0.10959</td>\n",
       "      <td>0.0</td>\n",
       "      <td>11.93</td>\n",
       "      <td>0</td>\n",
       "      <td>0.573</td>\n",
       "      <td>6.794</td>\n",
       "      <td>89.3</td>\n",
       "      <td>2.3889</td>\n",
       "      <td>1</td>\n",
       "      <td>273</td>\n",
       "      <td>21.0</td>\n",
       "      <td>393.45</td>\n",
       "      <td>6.48</td>\n",
       "      <td>22.0</td>\n",
       "      <td>0</td>\n",
       "    </tr>\n",
       "    <tr>\n",
       "      <th>505</th>\n",
       "      <td>0.04741</td>\n",
       "      <td>0.0</td>\n",
       "      <td>11.93</td>\n",
       "      <td>0</td>\n",
       "      <td>0.573</td>\n",
       "      <td>6.030</td>\n",
       "      <td>80.8</td>\n",
       "      <td>2.5050</td>\n",
       "      <td>1</td>\n",
       "      <td>273</td>\n",
       "      <td>21.0</td>\n",
       "      <td>396.90</td>\n",
       "      <td>7.88</td>\n",
       "      <td>11.9</td>\n",
       "      <td>0</td>\n",
       "    </tr>\n",
       "  </tbody>\n",
       "</table>\n",
       "<p>506 rows × 15 columns</p>\n",
       "</div>"
      ],
      "text/plain": [
       "        CRIM    ZN  INDUS  CHAS    NOX     RM   AGE     DIS  RAD  TAX  \\\n",
       "0    0.00632  18.0   2.31     0  0.538  6.575  65.2  4.0900    1  296   \n",
       "1    0.02731   0.0   7.07     0  0.469  6.421  78.9  4.9671    2  242   \n",
       "2    0.02729   0.0   7.07     0  0.469  7.185  61.1  4.9671    2  242   \n",
       "3    0.03237   0.0   2.18     0  0.458  6.998  45.8  6.0622    3  222   \n",
       "4    0.06905   0.0   2.18     0  0.458  7.147  54.2  6.0622    3  222   \n",
       "..       ...   ...    ...   ...    ...    ...   ...     ...  ...  ...   \n",
       "501  0.06263   0.0  11.93     0  0.573  6.593  69.1  2.4786    1  273   \n",
       "502  0.04527   0.0  11.93     0  0.573  6.120  76.7  2.2875    1  273   \n",
       "503  0.06076   0.0  11.93     0  0.573  6.976  91.0  2.1675    1  273   \n",
       "504  0.10959   0.0  11.93     0  0.573  6.794  89.3  2.3889    1  273   \n",
       "505  0.04741   0.0  11.93     0  0.573  6.030  80.8  2.5050    1  273   \n",
       "\n",
       "     PTRATIO       B  LSTAT  MEDV  CAT.MEDV  \n",
       "0       15.3  396.90   4.98  24.0         0  \n",
       "1       17.8  396.90   9.14  21.6         0  \n",
       "2       17.8  392.83   4.03  34.7         1  \n",
       "3       18.7  394.63   2.94  33.4         1  \n",
       "4       18.7  396.90   5.33  36.2         1  \n",
       "..       ...     ...    ...   ...       ...  \n",
       "501     21.0  391.99   9.67  22.4         0  \n",
       "502     21.0  396.90   9.08  20.6         0  \n",
       "503     21.0  396.90   5.64  23.9         0  \n",
       "504     21.0  393.45   6.48  22.0         0  \n",
       "505     21.0  396.90   7.88  11.9         0  \n",
       "\n",
       "[506 rows x 15 columns]"
      ]
     },
     "execution_count": 5,
     "metadata": {},
     "output_type": "execute_result"
    }
   ],
   "source": [
    "data"
   ]
  },
  {
   "cell_type": "markdown",
   "id": "373ab19f-f9ba-4c11-b195-2a5bb3d8c99f",
   "metadata": {},
   "source": [
    "### heatmap을 통한 MEDV, CAT.MEDV 상관관계 분석"
   ]
  },
  {
   "cell_type": "code",
   "execution_count": 7,
   "id": "0861a3d2-7f4e-4b72-8e66-d3535c0ce69a",
   "metadata": {},
   "outputs": [
    {
     "data": {
      "image/png": "[encoded data removed]",
      "text/plain": [
       "<Figure size 640x480 with 2 Axes>"
      ]
     },
     "metadata": {},
     "output_type": "display_data"
    }
   ],
   "source": [
    "sns.heatmap(data[['MEDV', 'CAT.MEDV']].corr(),annot = True)\n",
    "plt.show()"
   ]
  },
  {
   "cell_type": "markdown",
   "id": "0d63bf9d-8fd3-4e2e-882e-388a15ae9d36",
   "metadata": {},
   "source": [
    "MEDV는 회귀 모델에서 사용될 반응 변수 - CAT.MEDV는 MEDV에서 파생된 변수(상관관계 높음)이기 때문에 삭제"
   ]
  },
  {
   "cell_type": "code",
   "execution_count": 9,
   "id": "c2d76010-8d3a-417a-8bf4-11f04d2963cd",
   "metadata": {},
   "outputs": [],
   "source": [
    "data.drop('CAT.MEDV', axis=1, inplace=True)"
   ]
  },
  {
   "cell_type": "code",
   "execution_count": 53,
   "id": "1b4d58f6-3eb2-4b2c-ade4-280298842b49",
   "metadata": {},
   "outputs": [
    {
     "data": {
      "text/html": [
       "<div>\n",
       "<style scoped>\n",
       "    .dataframe tbody tr th:only-of-type {\n",
       "        vertical-align: middle;\n",
       "    }\n",
       "\n",
       "    .dataframe tbody tr th {\n",
       "        vertical-align: top;\n",
       "    }\n",
       "\n",
       "    .dataframe thead th {\n",
       "        text-align: right;\n",
       "    }\n",
       "</style>\n",
       "<table border=\"1\" class=\"dataframe\">\n",
       "  <thead>\n",
       "    <tr style=\"text-align: right;\">\n",
       "      <th></th>\n",
       "      <th>CRIM</th>\n",
       "      <th>ZN</th>\n",
       "      <th>INDUS</th>\n",
       "      <th>CHAS</th>\n",
       "      <th>NOX</th>\n",
       "      <th>RM</th>\n",
       "      <th>AGE</th>\n",
       "      <th>DIS</th>\n",
       "      <th>RAD</th>\n",
       "      <th>TAX</th>\n",
       "      <th>PTRATIO</th>\n",
       "      <th>B</th>\n",
       "      <th>LSTAT</th>\n",
       "      <th>MEDV</th>\n",
       "    </tr>\n",
       "  </thead>\n",
       "  <tbody>\n",
       "    <tr>\n",
       "      <th>0</th>\n",
       "      <td>0.00632</td>\n",
       "      <td>18.0</td>\n",
       "      <td>2.31</td>\n",
       "      <td>0</td>\n",
       "      <td>0.538</td>\n",
       "      <td>6.575</td>\n",
       "      <td>65.2</td>\n",
       "      <td>4.0900</td>\n",
       "      <td>1</td>\n",
       "      <td>296</td>\n",
       "      <td>15.3</td>\n",
       "      <td>396.90</td>\n",
       "      <td>4.98</td>\n",
       "      <td>24.0</td>\n",
       "    </tr>\n",
       "    <tr>\n",
       "      <th>1</th>\n",
       "      <td>0.02731</td>\n",
       "      <td>0.0</td>\n",
       "      <td>7.07</td>\n",
       "      <td>0</td>\n",
       "      <td>0.469</td>\n",
       "      <td>6.421</td>\n",
       "      <td>78.9</td>\n",
       "      <td>4.9671</td>\n",
       "      <td>2</td>\n",
       "      <td>242</td>\n",
       "      <td>17.8</td>\n",
       "      <td>396.90</td>\n",
       "      <td>9.14</td>\n",
       "      <td>21.6</td>\n",
       "    </tr>\n",
       "    <tr>\n",
       "      <th>2</th>\n",
       "      <td>0.02729</td>\n",
       "      <td>0.0</td>\n",
       "      <td>7.07</td>\n",
       "      <td>0</td>\n",
       "      <td>0.469</td>\n",
       "      <td>7.185</td>\n",
       "      <td>61.1</td>\n",
       "      <td>4.9671</td>\n",
       "      <td>2</td>\n",
       "      <td>242</td>\n",
       "      <td>17.8</td>\n",
       "      <td>392.83</td>\n",
       "      <td>4.03</td>\n",
       "      <td>34.7</td>\n",
       "    </tr>\n",
       "    <tr>\n",
       "      <th>3</th>\n",
       "      <td>0.03237</td>\n",
       "      <td>0.0</td>\n",
       "      <td>2.18</td>\n",
       "      <td>0</td>\n",
       "      <td>0.458</td>\n",
       "      <td>6.998</td>\n",
       "      <td>45.8</td>\n",
       "      <td>6.0622</td>\n",
       "      <td>3</td>\n",
       "      <td>222</td>\n",
       "      <td>18.7</td>\n",
       "      <td>394.63</td>\n",
       "      <td>2.94</td>\n",
       "      <td>33.4</td>\n",
       "    </tr>\n",
       "    <tr>\n",
       "      <th>4</th>\n",
       "      <td>0.06905</td>\n",
       "      <td>0.0</td>\n",
       "      <td>2.18</td>\n",
       "      <td>0</td>\n",
       "      <td>0.458</td>\n",
       "      <td>7.147</td>\n",
       "      <td>54.2</td>\n",
       "      <td>6.0622</td>\n",
       "      <td>3</td>\n",
       "      <td>222</td>\n",
       "      <td>18.7</td>\n",
       "      <td>396.90</td>\n",
       "      <td>5.33</td>\n",
       "      <td>36.2</td>\n",
       "    </tr>\n",
       "    <tr>\n",
       "      <th>...</th>\n",
       "      <td>...</td>\n",
       "      <td>...</td>\n",
       "      <td>...</td>\n",
       "      <td>...</td>\n",
       "      <td>...</td>\n",
       "      <td>...</td>\n",
       "      <td>...</td>\n",
       "      <td>...</td>\n",
       "      <td>...</td>\n",
       "      <td>...</td>\n",
       "      <td>...</td>\n",
       "      <td>...</td>\n",
       "      <td>...</td>\n",
       "      <td>...</td>\n",
       "    </tr>\n",
       "    <tr>\n",
       "      <th>501</th>\n",
       "      <td>0.06263</td>\n",
       "      <td>0.0</td>\n",
       "      <td>11.93</td>\n",
       "      <td>0</td>\n",
       "      <td>0.573</td>\n",
       "      <td>6.593</td>\n",
       "      <td>69.1</td>\n",
       "      <td>2.4786</td>\n",
       "      <td>1</td>\n",
       "      <td>273</td>\n",
       "      <td>21.0</td>\n",
       "      <td>391.99</td>\n",
       "      <td>9.67</td>\n",
       "      <td>22.4</td>\n",
       "    </tr>\n",
       "    <tr>\n",
       "      <th>502</th>\n",
       "      <td>0.04527</td>\n",
       "      <td>0.0</td>\n",
       "      <td>11.93</td>\n",
       "      <td>0</td>\n",
       "      <td>0.573</td>\n",
       "      <td>6.120</td>\n",
       "      <td>76.7</td>\n",
       "      <td>2.2875</td>\n",
       "      <td>1</td>\n",
       "      <td>273</td>\n",
       "      <td>21.0</td>\n",
       "      <td>396.90</td>\n",
       "      <td>9.08</td>\n",
       "      <td>20.6</td>\n",
       "    </tr>\n",
       "    <tr>\n",
       "      <th>503</th>\n",
       "      <td>0.06076</td>\n",
       "      <td>0.0</td>\n",
       "      <td>11.93</td>\n",
       "      <td>0</td>\n",
       "      <td>0.573</td>\n",
       "      <td>6.976</td>\n",
       "      <td>91.0</td>\n",
       "      <td>2.1675</td>\n",
       "      <td>1</td>\n",
       "      <td>273</td>\n",
       "      <td>21.0</td>\n",
       "      <td>396.90</td>\n",
       "      <td>5.64</td>\n",
       "      <td>23.9</td>\n",
       "    </tr>\n",
       "    <tr>\n",
       "      <th>504</th>\n",
       "      <td>0.10959</td>\n",
       "      <td>0.0</td>\n",
       "      <td>11.93</td>\n",
       "      <td>0</td>\n",
       "      <td>0.573</td>\n",
       "      <td>6.794</td>\n",
       "      <td>89.3</td>\n",
       "      <td>2.3889</td>\n",
       "      <td>1</td>\n",
       "      <td>273</td>\n",
       "      <td>21.0</td>\n",
       "      <td>393.45</td>\n",
       "      <td>6.48</td>\n",
       "      <td>22.0</td>\n",
       "    </tr>\n",
       "    <tr>\n",
       "      <th>505</th>\n",
       "      <td>0.04741</td>\n",
       "      <td>0.0</td>\n",
       "      <td>11.93</td>\n",
       "      <td>0</td>\n",
       "      <td>0.573</td>\n",
       "      <td>6.030</td>\n",
       "      <td>80.8</td>\n",
       "      <td>2.5050</td>\n",
       "      <td>1</td>\n",
       "      <td>273</td>\n",
       "      <td>21.0</td>\n",
       "      <td>396.90</td>\n",
       "      <td>7.88</td>\n",
       "      <td>11.9</td>\n",
       "    </tr>\n",
       "  </tbody>\n",
       "</table>\n",
       "<p>506 rows × 14 columns</p>\n",
       "</div>"
      ],
      "text/plain": [
       "        CRIM    ZN  INDUS  CHAS    NOX     RM   AGE     DIS  RAD  TAX  \\\n",
       "0    0.00632  18.0   2.31     0  0.538  6.575  65.2  4.0900    1  296   \n",
       "1    0.02731   0.0   7.07     0  0.469  6.421  78.9  4.9671    2  242   \n",
       "2    0.02729   0.0   7.07     0  0.469  7.185  61.1  4.9671    2  242   \n",
       "3    0.03237   0.0   2.18     0  0.458  6.998  45.8  6.0622    3  222   \n",
       "4    0.06905   0.0   2.18     0  0.458  7.147  54.2  6.0622    3  222   \n",
       "..       ...   ...    ...   ...    ...    ...   ...     ...  ...  ...   \n",
       "501  0.06263   0.0  11.93     0  0.573  6.593  69.1  2.4786    1  273   \n",
       "502  0.04527   0.0  11.93     0  0.573  6.120  76.7  2.2875    1  273   \n",
       "503  0.06076   0.0  11.93     0  0.573  6.976  91.0  2.1675    1  273   \n",
       "504  0.10959   0.0  11.93     0  0.573  6.794  89.3  2.3889    1  273   \n",
       "505  0.04741   0.0  11.93     0  0.573  6.030  80.8  2.5050    1  273   \n",
       "\n",
       "     PTRATIO       B  LSTAT  MEDV  \n",
       "0       15.3  396.90   4.98  24.0  \n",
       "1       17.8  396.90   9.14  21.6  \n",
       "2       17.8  392.83   4.03  34.7  \n",
       "3       18.7  394.63   2.94  33.4  \n",
       "4       18.7  396.90   5.33  36.2  \n",
       "..       ...     ...    ...   ...  \n",
       "501     21.0  391.99   9.67  22.4  \n",
       "502     21.0  396.90   9.08  20.6  \n",
       "503     21.0  396.90   5.64  23.9  \n",
       "504     21.0  393.45   6.48  22.0  \n",
       "505     21.0  396.90   7.88  11.9  \n",
       "\n",
       "[506 rows x 14 columns]"
      ]
     },
     "execution_count": 53,
     "metadata": {},
     "output_type": "execute_result"
    }
   ],
   "source": [
    "data"
   ]
  },
  {
   "cell_type": "markdown",
   "id": "9e14d9ac-a701-4a01-8c77-cff6b9f47a89",
   "metadata": {},
   "source": [
    "### 설명변수 x와 반응변수 y 나누기"
   ]
  },
  {
   "cell_type": "code",
   "execution_count": 55,
   "id": "ed8ce8cf-9d41-4cc2-8e13-44134d54e19e",
   "metadata": {},
   "outputs": [],
   "source": [
    "x=data.loc[:,'CRIM':'LSTAT']\n",
    "y=data[['MEDV']]"
   ]
  },
  {
   "cell_type": "code",
   "execution_count": 13,
   "id": "b689432e-f0dd-42c6-88e1-50f144d9d009",
   "metadata": {},
   "outputs": [
    {
     "data": {
      "text/html": [
       "<div>\n",
       "<style scoped>\n",
       "    .dataframe tbody tr th:only-of-type {\n",
       "        vertical-align: middle;\n",
       "    }\n",
       "\n",
       "    .dataframe tbody tr th {\n",
       "        vertical-align: top;\n",
       "    }\n",
       "\n",
       "    .dataframe thead th {\n",
       "        text-align: right;\n",
       "    }\n",
       "</style>\n",
       "<table border=\"1\" class=\"dataframe\">\n",
       "  <thead>\n",
       "    <tr style=\"text-align: right;\">\n",
       "      <th></th>\n",
       "      <th>CRIM</th>\n",
       "      <th>ZN</th>\n",
       "      <th>INDUS</th>\n",
       "      <th>CHAS</th>\n",
       "      <th>NOX</th>\n",
       "      <th>RM</th>\n",
       "      <th>AGE</th>\n",
       "      <th>DIS</th>\n",
       "      <th>RAD</th>\n",
       "      <th>TAX</th>\n",
       "      <th>PTRATIO</th>\n",
       "      <th>B</th>\n",
       "      <th>LSTAT</th>\n",
       "    </tr>\n",
       "  </thead>\n",
       "  <tbody>\n",
       "    <tr>\n",
       "      <th>0</th>\n",
       "      <td>0.00632</td>\n",
       "      <td>18.0</td>\n",
       "      <td>2.31</td>\n",
       "      <td>0</td>\n",
       "      <td>0.538</td>\n",
       "      <td>6.575</td>\n",
       "      <td>65.2</td>\n",
       "      <td>4.0900</td>\n",
       "      <td>1</td>\n",
       "      <td>296</td>\n",
       "      <td>15.3</td>\n",
       "      <td>396.90</td>\n",
       "      <td>4.98</td>\n",
       "    </tr>\n",
       "    <tr>\n",
       "      <th>1</th>\n",
       "      <td>0.02731</td>\n",
       "      <td>0.0</td>\n",
       "      <td>7.07</td>\n",
       "      <td>0</td>\n",
       "      <td>0.469</td>\n",
       "      <td>6.421</td>\n",
       "      <td>78.9</td>\n",
       "      <td>4.9671</td>\n",
       "      <td>2</td>\n",
       "      <td>242</td>\n",
       "      <td>17.8</td>\n",
       "      <td>396.90</td>\n",
       "      <td>9.14</td>\n",
       "    </tr>\n",
       "    <tr>\n",
       "      <th>2</th>\n",
       "      <td>0.02729</td>\n",
       "      <td>0.0</td>\n",
       "      <td>7.07</td>\n",
       "      <td>0</td>\n",
       "      <td>0.469</td>\n",
       "      <td>7.185</td>\n",
       "      <td>61.1</td>\n",
       "      <td>4.9671</td>\n",
       "      <td>2</td>\n",
       "      <td>242</td>\n",
       "      <td>17.8</td>\n",
       "      <td>392.83</td>\n",
       "      <td>4.03</td>\n",
       "    </tr>\n",
       "    <tr>\n",
       "      <th>3</th>\n",
       "      <td>0.03237</td>\n",
       "      <td>0.0</td>\n",
       "      <td>2.18</td>\n",
       "      <td>0</td>\n",
       "      <td>0.458</td>\n",
       "      <td>6.998</td>\n",
       "      <td>45.8</td>\n",
       "      <td>6.0622</td>\n",
       "      <td>3</td>\n",
       "      <td>222</td>\n",
       "      <td>18.7</td>\n",
       "      <td>394.63</td>\n",
       "      <td>2.94</td>\n",
       "    </tr>\n",
       "    <tr>\n",
       "      <th>4</th>\n",
       "      <td>0.06905</td>\n",
       "      <td>0.0</td>\n",
       "      <td>2.18</td>\n",
       "      <td>0</td>\n",
       "      <td>0.458</td>\n",
       "      <td>7.147</td>\n",
       "      <td>54.2</td>\n",
       "      <td>6.0622</td>\n",
       "      <td>3</td>\n",
       "      <td>222</td>\n",
       "      <td>18.7</td>\n",
       "      <td>396.90</td>\n",
       "      <td>5.33</td>\n",
       "    </tr>\n",
       "    <tr>\n",
       "      <th>...</th>\n",
       "      <td>...</td>\n",
       "      <td>...</td>\n",
       "      <td>...</td>\n",
       "      <td>...</td>\n",
       "      <td>...</td>\n",
       "      <td>...</td>\n",
       "      <td>...</td>\n",
       "      <td>...</td>\n",
       "      <td>...</td>\n",
       "      <td>...</td>\n",
       "      <td>...</td>\n",
       "      <td>...</td>\n",
       "      <td>...</td>\n",
       "    </tr>\n",
       "    <tr>\n",
       "      <th>501</th>\n",
       "      <td>0.06263</td>\n",
       "      <td>0.0</td>\n",
       "      <td>11.93</td>\n",
       "      <td>0</td>\n",
       "      <td>0.573</td>\n",
       "      <td>6.593</td>\n",
       "      <td>69.1</td>\n",
       "      <td>2.4786</td>\n",
       "      <td>1</td>\n",
       "      <td>273</td>\n",
       "      <td>21.0</td>\n",
       "      <td>391.99</td>\n",
       "      <td>9.67</td>\n",
       "    </tr>\n",
       "    <tr>\n",
       "      <th>502</th>\n",
       "      <td>0.04527</td>\n",
       "      <td>0.0</td>\n",
       "      <td>11.93</td>\n",
       "      <td>0</td>\n",
       "      <td>0.573</td>\n",
       "      <td>6.120</td>\n",
       "      <td>76.7</td>\n",
       "      <td>2.2875</td>\n",
       "      <td>1</td>\n",
       "      <td>273</td>\n",
       "      <td>21.0</td>\n",
       "      <td>396.90</td>\n",
       "      <td>9.08</td>\n",
       "    </tr>\n",
       "    <tr>\n",
       "      <th>503</th>\n",
       "      <td>0.06076</td>\n",
       "      <td>0.0</td>\n",
       "      <td>11.93</td>\n",
       "      <td>0</td>\n",
       "      <td>0.573</td>\n",
       "      <td>6.976</td>\n",
       "      <td>91.0</td>\n",
       "      <td>2.1675</td>\n",
       "      <td>1</td>\n",
       "      <td>273</td>\n",
       "      <td>21.0</td>\n",
       "      <td>396.90</td>\n",
       "      <td>5.64</td>\n",
       "    </tr>\n",
       "    <tr>\n",
       "      <th>504</th>\n",
       "      <td>0.10959</td>\n",
       "      <td>0.0</td>\n",
       "      <td>11.93</td>\n",
       "      <td>0</td>\n",
       "      <td>0.573</td>\n",
       "      <td>6.794</td>\n",
       "      <td>89.3</td>\n",
       "      <td>2.3889</td>\n",
       "      <td>1</td>\n",
       "      <td>273</td>\n",
       "      <td>21.0</td>\n",
       "      <td>393.45</td>\n",
       "      <td>6.48</td>\n",
       "    </tr>\n",
       "    <tr>\n",
       "      <th>505</th>\n",
       "      <td>0.04741</td>\n",
       "      <td>0.0</td>\n",
       "      <td>11.93</td>\n",
       "      <td>0</td>\n",
       "      <td>0.573</td>\n",
       "      <td>6.030</td>\n",
       "      <td>80.8</td>\n",
       "      <td>2.5050</td>\n",
       "      <td>1</td>\n",
       "      <td>273</td>\n",
       "      <td>21.0</td>\n",
       "      <td>396.90</td>\n",
       "      <td>7.88</td>\n",
       "    </tr>\n",
       "  </tbody>\n",
       "</table>\n",
       "<p>506 rows × 13 columns</p>\n",
       "</div>"
      ],
      "text/plain": [
       "        CRIM    ZN  INDUS  CHAS    NOX     RM   AGE     DIS  RAD  TAX  \\\n",
       "0    0.00632  18.0   2.31     0  0.538  6.575  65.2  4.0900    1  296   \n",
       "1    0.02731   0.0   7.07     0  0.469  6.421  78.9  4.9671    2  242   \n",
       "2    0.02729   0.0   7.07     0  0.469  7.185  61.1  4.9671    2  242   \n",
       "3    0.03237   0.0   2.18     0  0.458  6.998  45.8  6.0622    3  222   \n",
       "4    0.06905   0.0   2.18     0  0.458  7.147  54.2  6.0622    3  222   \n",
       "..       ...   ...    ...   ...    ...    ...   ...     ...  ...  ...   \n",
       "501  0.06263   0.0  11.93     0  0.573  6.593  69.1  2.4786    1  273   \n",
       "502  0.04527   0.0  11.93     0  0.573  6.120  76.7  2.2875    1  273   \n",
       "503  0.06076   0.0  11.93     0  0.573  6.976  91.0  2.1675    1  273   \n",
       "504  0.10959   0.0  11.93     0  0.573  6.794  89.3  2.3889    1  273   \n",
       "505  0.04741   0.0  11.93     0  0.573  6.030  80.8  2.5050    1  273   \n",
       "\n",
       "     PTRATIO       B  LSTAT  \n",
       "0       15.3  396.90   4.98  \n",
       "1       17.8  396.90   9.14  \n",
       "2       17.8  392.83   4.03  \n",
       "3       18.7  394.63   2.94  \n",
       "4       18.7  396.90   5.33  \n",
       "..       ...     ...    ...  \n",
       "501     21.0  391.99   9.67  \n",
       "502     21.0  396.90   9.08  \n",
       "503     21.0  396.90   5.64  \n",
       "504     21.0  393.45   6.48  \n",
       "505     21.0  396.90   7.88  \n",
       "\n",
       "[506 rows x 13 columns]"
      ]
     },
     "execution_count": 13,
     "metadata": {},
     "output_type": "execute_result"
    }
   ],
   "source": [
    "x"
   ]
  },
  {
   "cell_type": "code",
   "execution_count": 14,
   "id": "82537879-2efe-46be-ab14-029d716db427",
   "metadata": {},
   "outputs": [
    {
     "data": {
      "text/html": [
       "<div>\n",
       "<style scoped>\n",
       "    .dataframe tbody tr th:only-of-type {\n",
       "        vertical-align: middle;\n",
       "    }\n",
       "\n",
       "    .dataframe tbody tr th {\n",
       "        vertical-align: top;\n",
       "    }\n",
       "\n",
       "    .dataframe thead th {\n",
       "        text-align: right;\n",
       "    }\n",
       "</style>\n",
       "<table border=\"1\" class=\"dataframe\">\n",
       "  <thead>\n",
       "    <tr style=\"text-align: right;\">\n",
       "      <th></th>\n",
       "      <th>MEDV</th>\n",
       "    </tr>\n",
       "  </thead>\n",
       "  <tbody>\n",
       "    <tr>\n",
       "      <th>0</th>\n",
       "      <td>24.0</td>\n",
       "    </tr>\n",
       "    <tr>\n",
       "      <th>1</th>\n",
       "      <td>21.6</td>\n",
       "    </tr>\n",
       "    <tr>\n",
       "      <th>2</th>\n",
       "      <td>34.7</td>\n",
       "    </tr>\n",
       "    <tr>\n",
       "      <th>3</th>\n",
       "      <td>33.4</td>\n",
       "    </tr>\n",
       "    <tr>\n",
       "      <th>4</th>\n",
       "      <td>36.2</td>\n",
       "    </tr>\n",
       "    <tr>\n",
       "      <th>...</th>\n",
       "      <td>...</td>\n",
       "    </tr>\n",
       "    <tr>\n",
       "      <th>501</th>\n",
       "      <td>22.4</td>\n",
       "    </tr>\n",
       "    <tr>\n",
       "      <th>502</th>\n",
       "      <td>20.6</td>\n",
       "    </tr>\n",
       "    <tr>\n",
       "      <th>503</th>\n",
       "      <td>23.9</td>\n",
       "    </tr>\n",
       "    <tr>\n",
       "      <th>504</th>\n",
       "      <td>22.0</td>\n",
       "    </tr>\n",
       "    <tr>\n",
       "      <th>505</th>\n",
       "      <td>11.9</td>\n",
       "    </tr>\n",
       "  </tbody>\n",
       "</table>\n",
       "<p>506 rows × 1 columns</p>\n",
       "</div>"
      ],
      "text/plain": [
       "     MEDV\n",
       "0    24.0\n",
       "1    21.6\n",
       "2    34.7\n",
       "3    33.4\n",
       "4    36.2\n",
       "..    ...\n",
       "501  22.4\n",
       "502  20.6\n",
       "503  23.9\n",
       "504  22.0\n",
       "505  11.9\n",
       "\n",
       "[506 rows x 1 columns]"
      ]
     },
     "execution_count": 14,
     "metadata": {},
     "output_type": "execute_result"
    }
   ],
   "source": [
    "y"
   ]
  },
  {
   "cell_type": "markdown",
   "id": "37dfff86-da10-4594-ae8d-98d530039f60",
   "metadata": {},
   "source": [
    "### 설명변수의 다중공선성 확인 (상관계수 확인 - heatmap)"
   ]
  },
  {
   "cell_type": "code",
   "execution_count": 16,
   "id": "516c7576-9eb6-45b0-9006-f45d853c190c",
   "metadata": {},
   "outputs": [
    {
     "data": {
      "text/plain": [
       "<Axes: >"
      ]
     },
     "execution_count": 16,
     "metadata": {},
     "output_type": "execute_result"
    },
    {
     "data": {
      "image/png": "[encoded data removed]",
      "text/plain": [
       "<Figure size 2000x1500 with 2 Axes>"
      ]
     },
     "metadata": {},
     "output_type": "display_data"
    }
   ],
   "source": [
    "plt.figure(figsize=(20,15))\n",
    "sns.heatmap(x.corr(),annot=True)"
   ]
  },
  {
   "cell_type": "markdown",
   "id": "fc4c3c01-02b0-49e0-b518-ec4e52e0726b",
   "metadata": {},
   "source": [
    "너무 많아서 복잡함 - 숫자도 잘 안 보임 - 특정 수치(상관계수 절대치 0.7)를 기준으로 상관관계 높은지 낮은지 구분해 봄"
   ]
  },
  {
   "cell_type": "code",
   "execution_count": 18,
   "id": "4fb6e80c-3dee-4ed6-867b-36ea63f5d00f",
   "metadata": {},
   "outputs": [
    {
     "data": {
      "text/plain": [
       "<Axes: >"
      ]
     },
     "execution_count": 18,
     "metadata": {},
     "output_type": "execute_result"
    },
    {
     "data": {
      "image/png": "[encoded data removed]",
      "text/plain": [
       "<Figure size 2000x1500 with 2 Axes>"
      ]
     },
     "metadata": {},
     "output_type": "display_data"
    }
   ],
   "source": [
    "plt.figure(figsize=(20,15))\n",
    "sns.heatmap ((x.corr()>=0.7) | (x.corr()<=-0.7), annot=True)"
   ]
  },
  {
   "cell_type": "markdown",
   "id": "b27f6eae-c26c-4a89-83d1-fe0c2889c275",
   "metadata": {},
   "source": [
    "NOX-INDUS, AGE-NOX, DIS -INDUS, DIS-NOX, DIS-AGE, TAX-INDUS, TAX-RAD 총 7개의 변수 관계에서 절대치 0.7 이상의 상관관계 보임\n",
    "- NOX, DIS, INDUS, TAX, RAD 피처들에 유의해 보자"
   ]
  },
  {
   "cell_type": "markdown",
   "id": "565292ba-b93b-4c96-8319-b92f5a53d4b3",
   "metadata": {},
   "source": [
    "VIF를 통한 검증 추가"
   ]
  },
  {
   "cell_type": "code",
   "execution_count": 21,
   "id": "d6d4a039-f2d2-4a1c-8a1d-9e5ad3aa9d0d",
   "metadata": {},
   "outputs": [
    {
     "name": "stdout",
     "output_type": "stream",
     "text": [
      "   Features        VIF\n",
      "0      CRIM   2.100373\n",
      "1        ZN   2.844013\n",
      "2     INDUS  14.485758\n",
      "3      CHAS   1.152952\n",
      "4       NOX  73.894947\n",
      "5        RM  77.948283\n",
      "6       AGE  21.386850\n",
      "7       DIS  14.699652\n",
      "8       RAD  15.167725\n",
      "9       TAX  61.227274\n",
      "10  PTRATIO  85.029547\n",
      "11        B  20.104943\n",
      "12    LSTAT  11.102025\n"
     ]
    }
   ],
   "source": [
    "def vif(x):\n",
    "    vif_data = pd.DataFrame()\n",
    "    vif_data[\"Features\"] = x.columns\n",
    "    vif_data[\"VIF\"] = [variance_inflation_factor(x.values, i) for i in range(x.shape[1])]\n",
    "    print(vif_data)\n",
    "vif(x)"
   ]
  },
  {
   "cell_type": "markdown",
   "id": "a5c045db-3ae1-4382-9bbf-c737da7e9e94",
   "metadata": {},
   "source": [
    "PTRATIO, RM, NOX, TAX 변수의 VIF가 특히 높게 나온다 - 차례대로 제거해 보면서 VIF 변화를 보겠다"
   ]
  },
  {
   "cell_type": "code",
   "execution_count": 23,
   "id": "19b7cdff-c140-421c-89df-a470e04f8aa4",
   "metadata": {},
   "outputs": [
    {
     "name": "stdout",
     "output_type": "stream",
     "text": [
      "   Features        VIF\n",
      "0      CRIM   2.099345\n",
      "1        ZN   2.451624\n",
      "2     INDUS  14.275283\n",
      "3      CHAS   1.142167\n",
      "4       NOX  73.894171\n",
      "5        RM  60.598846\n",
      "6       AGE  21.361234\n",
      "7       DIS  12.221605\n",
      "8       RAD  15.159162\n",
      "9       TAX  59.301541\n",
      "10        B  18.614751\n",
      "11    LSTAT  10.138324\n"
     ]
    }
   ],
   "source": [
    "vif(x.drop('PTRATIO', axis=1))"
   ]
  },
  {
   "cell_type": "code",
   "execution_count": 24,
   "id": "f9de09b3-e848-4078-a388-455fb3cf9466",
   "metadata": {},
   "outputs": [
    {
     "name": "stdout",
     "output_type": "stream",
     "text": [
      "  Features        VIF\n",
      "0     CRIM   2.095375\n",
      "1       ZN   2.432618\n",
      "2    INDUS  13.149180\n",
      "3     CHAS   1.131756\n",
      "4      AGE  14.795487\n",
      "5      DIS   9.234022\n",
      "6      RAD  15.045607\n",
      "7      TAX  54.461654\n",
      "8        B  14.233397\n",
      "9    LSTAT   8.396362\n"
     ]
    }
   ],
   "source": [
    "vif(x.drop(['PTRATIO','RM', 'NOX'], axis=1))"
   ]
  },
  {
   "cell_type": "code",
   "execution_count": 25,
   "id": "f1056422-6c25-4e7e-bf14-4c1b9010146b",
   "metadata": {
    "scrolled": true
   },
   "outputs": [
    {
     "name": "stdout",
     "output_type": "stream",
     "text": [
      "  Features        VIF\n",
      "0     CRIM   2.095367\n",
      "1       ZN   2.334763\n",
      "2    INDUS   9.016142\n",
      "3     CHAS   1.116229\n",
      "4      AGE  14.000758\n",
      "5      DIS   8.447694\n",
      "6      RAD   4.771767\n",
      "7        B  13.537020\n",
      "8    LSTAT   8.358925\n"
     ]
    }
   ],
   "source": [
    "vif(x.drop(['PTRATIO','RM', 'NOX','TAX'], axis=1))"
   ]
  },
  {
   "cell_type": "markdown",
   "id": "6f0a0edf-e1ef-484b-a796-4d3336c0026b",
   "metadata": {},
   "source": [
    "아직 VIF가 10을 넘기는 변수가 AGE와 B 2개가 존재한다 - 2개도 추가로 지워보겠다\n"
   ]
  },
  {
   "cell_type": "code",
   "execution_count": 27,
   "id": "449140d1-e07d-4a32-879a-560612b46c1a",
   "metadata": {},
   "outputs": [
    {
     "name": "stdout",
     "output_type": "stream",
     "text": [
      "  Features        VIF\n",
      "0     CRIM   2.095211\n",
      "1       ZN   2.313889\n",
      "2    INDUS   8.205465\n",
      "3     CHAS   1.106350\n",
      "4      DIS   8.209371\n",
      "5      RAD   4.689836\n",
      "6        B  10.074224\n",
      "7    LSTAT   6.856889\n"
     ]
    }
   ],
   "source": [
    "vif(x.drop(['PTRATIO','RM', 'NOX','TAX','AGE'], axis=1))"
   ]
  },
  {
   "cell_type": "code",
   "execution_count": 28,
   "id": "b7b7d2fa-335b-4643-8797-b916f9f096d2",
   "metadata": {},
   "outputs": [
    {
     "name": "stdout",
     "output_type": "stream",
     "text": [
      "  Features       VIF\n",
      "0     CRIM  2.067135\n",
      "1       ZN  2.299351\n",
      "2    INDUS  6.900077\n",
      "3     CHAS  1.086574\n",
      "4      DIS  3.968908\n",
      "5      RAD  4.678181\n",
      "6    LSTAT  6.726973\n"
     ]
    }
   ],
   "source": [
    "vif(x.drop(['PTRATIO','RM', 'NOX','TAX','AGE','B'], axis=1))"
   ]
  },
  {
   "cell_type": "markdown",
   "id": "0fca1a64-cbbe-46bc-8183-cf8d633059c2",
   "metadata": {},
   "source": [
    "이제 적당한 VIF 수치를 갖는 적절한 Feature들을 골라낸 것 같다 - 실제 설명 변수에 반영해 주자"
   ]
  },
  {
   "cell_type": "code",
   "execution_count": 57,
   "id": "fd66f128-5872-4555-9032-bb5cae2600c0",
   "metadata": {},
   "outputs": [],
   "source": [
    "x.drop(['PTRATIO','RM', 'NOX','TAX','AGE','B'],axis=1,inplace=True)"
   ]
  },
  {
   "cell_type": "code",
   "execution_count": 31,
   "id": "bbe16e2d-d697-4ef5-be67-90dbbf18dd61",
   "metadata": {},
   "outputs": [
    {
     "data": {
      "text/html": [
       "<div>\n",
       "<style scoped>\n",
       "    .dataframe tbody tr th:only-of-type {\n",
       "        vertical-align: middle;\n",
       "    }\n",
       "\n",
       "    .dataframe tbody tr th {\n",
       "        vertical-align: top;\n",
       "    }\n",
       "\n",
       "    .dataframe thead th {\n",
       "        text-align: right;\n",
       "    }\n",
       "</style>\n",
       "<table border=\"1\" class=\"dataframe\">\n",
       "  <thead>\n",
       "    <tr style=\"text-align: right;\">\n",
       "      <th></th>\n",
       "      <th>CRIM</th>\n",
       "      <th>ZN</th>\n",
       "      <th>INDUS</th>\n",
       "      <th>CHAS</th>\n",
       "      <th>DIS</th>\n",
       "      <th>RAD</th>\n",
       "      <th>LSTAT</th>\n",
       "    </tr>\n",
       "  </thead>\n",
       "  <tbody>\n",
       "    <tr>\n",
       "      <th>0</th>\n",
       "      <td>0.00632</td>\n",
       "      <td>18.0</td>\n",
       "      <td>2.31</td>\n",
       "      <td>0</td>\n",
       "      <td>4.0900</td>\n",
       "      <td>1</td>\n",
       "      <td>4.98</td>\n",
       "    </tr>\n",
       "    <tr>\n",
       "      <th>1</th>\n",
       "      <td>0.02731</td>\n",
       "      <td>0.0</td>\n",
       "      <td>7.07</td>\n",
       "      <td>0</td>\n",
       "      <td>4.9671</td>\n",
       "      <td>2</td>\n",
       "      <td>9.14</td>\n",
       "    </tr>\n",
       "    <tr>\n",
       "      <th>2</th>\n",
       "      <td>0.02729</td>\n",
       "      <td>0.0</td>\n",
       "      <td>7.07</td>\n",
       "      <td>0</td>\n",
       "      <td>4.9671</td>\n",
       "      <td>2</td>\n",
       "      <td>4.03</td>\n",
       "    </tr>\n",
       "    <tr>\n",
       "      <th>3</th>\n",
       "      <td>0.03237</td>\n",
       "      <td>0.0</td>\n",
       "      <td>2.18</td>\n",
       "      <td>0</td>\n",
       "      <td>6.0622</td>\n",
       "      <td>3</td>\n",
       "      <td>2.94</td>\n",
       "    </tr>\n",
       "    <tr>\n",
       "      <th>4</th>\n",
       "      <td>0.06905</td>\n",
       "      <td>0.0</td>\n",
       "      <td>2.18</td>\n",
       "      <td>0</td>\n",
       "      <td>6.0622</td>\n",
       "      <td>3</td>\n",
       "      <td>5.33</td>\n",
       "    </tr>\n",
       "    <tr>\n",
       "      <th>...</th>\n",
       "      <td>...</td>\n",
       "      <td>...</td>\n",
       "      <td>...</td>\n",
       "      <td>...</td>\n",
       "      <td>...</td>\n",
       "      <td>...</td>\n",
       "      <td>...</td>\n",
       "    </tr>\n",
       "    <tr>\n",
       "      <th>501</th>\n",
       "      <td>0.06263</td>\n",
       "      <td>0.0</td>\n",
       "      <td>11.93</td>\n",
       "      <td>0</td>\n",
       "      <td>2.4786</td>\n",
       "      <td>1</td>\n",
       "      <td>9.67</td>\n",
       "    </tr>\n",
       "    <tr>\n",
       "      <th>502</th>\n",
       "      <td>0.04527</td>\n",
       "      <td>0.0</td>\n",
       "      <td>11.93</td>\n",
       "      <td>0</td>\n",
       "      <td>2.2875</td>\n",
       "      <td>1</td>\n",
       "      <td>9.08</td>\n",
       "    </tr>\n",
       "    <tr>\n",
       "      <th>503</th>\n",
       "      <td>0.06076</td>\n",
       "      <td>0.0</td>\n",
       "      <td>11.93</td>\n",
       "      <td>0</td>\n",
       "      <td>2.1675</td>\n",
       "      <td>1</td>\n",
       "      <td>5.64</td>\n",
       "    </tr>\n",
       "    <tr>\n",
       "      <th>504</th>\n",
       "      <td>0.10959</td>\n",
       "      <td>0.0</td>\n",
       "      <td>11.93</td>\n",
       "      <td>0</td>\n",
       "      <td>2.3889</td>\n",
       "      <td>1</td>\n",
       "      <td>6.48</td>\n",
       "    </tr>\n",
       "    <tr>\n",
       "      <th>505</th>\n",
       "      <td>0.04741</td>\n",
       "      <td>0.0</td>\n",
       "      <td>11.93</td>\n",
       "      <td>0</td>\n",
       "      <td>2.5050</td>\n",
       "      <td>1</td>\n",
       "      <td>7.88</td>\n",
       "    </tr>\n",
       "  </tbody>\n",
       "</table>\n",
       "<p>506 rows × 7 columns</p>\n",
       "</div>"
      ],
      "text/plain": [
       "        CRIM    ZN  INDUS  CHAS     DIS  RAD  LSTAT\n",
       "0    0.00632  18.0   2.31     0  4.0900    1   4.98\n",
       "1    0.02731   0.0   7.07     0  4.9671    2   9.14\n",
       "2    0.02729   0.0   7.07     0  4.9671    2   4.03\n",
       "3    0.03237   0.0   2.18     0  6.0622    3   2.94\n",
       "4    0.06905   0.0   2.18     0  6.0622    3   5.33\n",
       "..       ...   ...    ...   ...     ...  ...    ...\n",
       "501  0.06263   0.0  11.93     0  2.4786    1   9.67\n",
       "502  0.04527   0.0  11.93     0  2.2875    1   9.08\n",
       "503  0.06076   0.0  11.93     0  2.1675    1   5.64\n",
       "504  0.10959   0.0  11.93     0  2.3889    1   6.48\n",
       "505  0.04741   0.0  11.93     0  2.5050    1   7.88\n",
       "\n",
       "[506 rows x 7 columns]"
      ]
     },
     "execution_count": 31,
     "metadata": {},
     "output_type": "execute_result"
    }
   ],
   "source": [
    "x"
   ]
  },
  {
   "cell_type": "markdown",
   "id": "4a3b7e8e-8512-46c2-89a6-6ace6d03fe21",
   "metadata": {},
   "source": [
    "### 반응변수와 설명변수 train, test 데이터로 나누기"
   ]
  },
  {
   "cell_type": "code",
   "execution_count": 59,
   "id": "0c279555-8ddf-440d-a94f-0d628a5e534e",
   "metadata": {},
   "outputs": [],
   "source": [
    "x_train, x_test, y_train, y_test  = train_test_split(x,y,test_size=0.2,random_state=2025)"
   ]
  },
  {
   "cell_type": "markdown",
   "id": "3a52ad57-577d-4e1d-804e-2b7010139d40",
   "metadata": {},
   "source": [
    "## Sklearn 모듈을 활용한 회귀모델 구현"
   ]
  },
  {
   "cell_type": "markdown",
   "id": "af53d839-31fb-48a5-b368-957dedf7c5da",
   "metadata": {},
   "source": [
    "train 데이터를 이용해서 다중회귀분석 모델 학습 + x_test 데이터를 이용해 예상치 출력 "
   ]
  },
  {
   "cell_type": "code",
   "execution_count": 36,
   "id": "ef75fea2-4c8c-4429-b882-656e67c912a3",
   "metadata": {},
   "outputs": [
    {
     "data": {
      "text/plain": [
       "array([[14.53693542],\n",
       "       [29.11515168],\n",
       "       [19.47247304],\n",
       "       [30.82487542],\n",
       "       [25.53308156],\n",
       "       [21.84259165],\n",
       "       [15.63727286],\n",
       "       [38.03919313],\n",
       "       [33.70384865],\n",
       "       [14.71024113],\n",
       "       [19.51448523],\n",
       "       [20.14547233],\n",
       "       [22.14587992],\n",
       "       [20.65439044],\n",
       "       [12.73855111],\n",
       "       [21.89494375],\n",
       "       [-3.56882333],\n",
       "       [31.92760766],\n",
       "       [13.16823528],\n",
       "       [22.72446896],\n",
       "       [28.01483437],\n",
       "       [24.45780446],\n",
       "       [ 5.72855094],\n",
       "       [24.12240469],\n",
       "       [23.91219375],\n",
       "       [25.01074205],\n",
       "       [12.24169573],\n",
       "       [18.93527088],\n",
       "       [25.33665814],\n",
       "       [25.87761879],\n",
       "       [21.68057535],\n",
       "       [18.35545526],\n",
       "       [22.50598354],\n",
       "       [26.67888317],\n",
       "       [15.14476024],\n",
       "       [32.4810248 ],\n",
       "       [20.15518956],\n",
       "       [10.22137487],\n",
       "       [15.3894718 ],\n",
       "       [25.80465405],\n",
       "       [ 2.04154318],\n",
       "       [34.8971228 ],\n",
       "       [22.34972051],\n",
       "       [24.64894992],\n",
       "       [24.21055431],\n",
       "       [17.34076408],\n",
       "       [29.86386876],\n",
       "       [18.06233656],\n",
       "       [26.33821874],\n",
       "       [24.61055103],\n",
       "       [27.02687204],\n",
       "       [24.70718474],\n",
       "       [25.99096886],\n",
       "       [33.72935781],\n",
       "       [31.92422197],\n",
       "       [24.29876046],\n",
       "       [25.92261959],\n",
       "       [30.01649762],\n",
       "       [13.93014701],\n",
       "       [27.23786264],\n",
       "       [ 2.25980309],\n",
       "       [18.34680519],\n",
       "       [16.57850048],\n",
       "       [20.36539989],\n",
       "       [ 5.97132696],\n",
       "       [16.23659674],\n",
       "       [16.87156415],\n",
       "       [21.23003143],\n",
       "       [23.32255359],\n",
       "       [17.42627921],\n",
       "       [26.70722354],\n",
       "       [26.29005649],\n",
       "       [23.39033085],\n",
       "       [23.11207847],\n",
       "       [19.0816979 ],\n",
       "       [31.68613436],\n",
       "       [13.56560664],\n",
       "       [31.28269268],\n",
       "       [28.02269134],\n",
       "       [ 8.31443475],\n",
       "       [22.59029329],\n",
       "       [26.02334423],\n",
       "       [32.70893707],\n",
       "       [23.4848467 ],\n",
       "       [37.46002437],\n",
       "       [20.03731304],\n",
       "       [17.68521222],\n",
       "       [20.92474345],\n",
       "       [35.68396489],\n",
       "       [31.75218469],\n",
       "       [ 6.86411501],\n",
       "       [11.2452192 ],\n",
       "       [25.23425437],\n",
       "       [23.05008979],\n",
       "       [30.50298026],\n",
       "       [41.4919551 ],\n",
       "       [11.16242589],\n",
       "       [14.9311891 ],\n",
       "       [23.93097247],\n",
       "       [25.11966194],\n",
       "       [ 7.26240234],\n",
       "       [36.66113306]])"
      ]
     },
     "execution_count": 36,
     "metadata": {},
     "output_type": "execute_result"
    }
   ],
   "source": [
    "Lr_skl=LinearRegression()\n",
    "Lr_skl.fit(x_train,y_train)\n",
    "y_pred_skl=Lr_skl.predict(x_test)\n",
    "y_pred_skl"
   ]
  },
  {
   "cell_type": "markdown",
   "id": "c844912d-bf1f-44ba-a470-1a192699a25a",
   "metadata": {},
   "source": [
    "모델 평가 - MSE, MAE, R2-Score"
   ]
  },
  {
   "cell_type": "code",
   "execution_count": 38,
   "id": "3d3c6e85-7623-4490-b89a-0170c10c7a26",
   "metadata": {},
   "outputs": [
    {
     "name": "stdout",
     "output_type": "stream",
     "text": [
      "mse: 31.541286212549785\n",
      "mae: 4.323161420394853\n",
      "r2 score: 0.62320557281733\n"
     ]
    }
   ],
   "source": [
    "test_mse_skl = mean_squared_error(y_test, y_pred_skl)\n",
    "test_mae_skl = mean_absolute_error(y_test,y_pred_skl)\n",
    "test_r2_skl = r2_score(y_test, y_pred_skl)\n",
    "print('mse:',test_mse_skl)\n",
    "print('mae:',test_mae_skl)\n",
    "print('r2 score:',test_r2_skl)"
   ]
  },
  {
   "cell_type": "markdown",
   "id": "c11be43c-7e1b-4ba0-9257-519de7841b58",
   "metadata": {},
   "source": [
    "해당 숫자들에 대한 내용은 다음 시간 [회귀 심화]  세션에서 더 배울 것이니 일단 해석을 챗 지피티에게 맡겨 보자\n",
    "- MSE, MAE를 보면 예측 오차가 어느 정도 존재함 (숫자가 작을 수록 더 정확)\n",
    "- r2 점수가 0.6223으로 나쁘지 않음 (모델이 데이터를 62.3% 정도 설명할 수 있는 수준)\n",
    "- 아직 개선의 여지가 있음"
   ]
  },
  {
   "cell_type": "markdown",
   "id": "e62f74fe-33aa-4a3f-9fca-7eb22bb22559",
   "metadata": {},
   "source": [
    "## StatModels 모듈 활용한 회귀모델"
   ]
  },
  {
   "cell_type": "code",
   "execution_count": 61,
   "id": "e171d014-c25d-4370-9762-f393ba226b5a",
   "metadata": {},
   "outputs": [
    {
     "name": "stdout",
     "output_type": "stream",
     "text": [
      "                            OLS Regression Results                            \n",
      "==============================================================================\n",
      "Dep. Variable:                   MEDV   R-squared:                       0.634\n",
      "Model:                            OLS   Adj. R-squared:                  0.628\n",
      "Method:                 Least Squares   F-statistic:                     98.06\n",
      "Date:                Tue, 25 Mar 2025   Prob (F-statistic):           1.86e-82\n",
      "Time:                        19:22:57   Log-Likelihood:                -1266.4\n",
      "No. Observations:                 404   AIC:                             2549.\n",
      "Df Residuals:                     396   BIC:                             2581.\n",
      "Df Model:                           7                                         \n",
      "Covariance Type:            nonrobust                                         \n",
      "==============================================================================\n",
      "                 coef    std err          t      P>|t|      [0.025      0.975]\n",
      "------------------------------------------------------------------------------\n",
      "const         42.9668      1.347     31.906      0.000      40.319      45.614\n",
      "CRIM          -0.1212      0.046     -2.649      0.008      -0.211      -0.031\n",
      "ZN             0.1075      0.017      6.247      0.000       0.074       0.141\n",
      "INDUS         -0.2382      0.067     -3.571      0.000      -0.369      -0.107\n",
      "CHAS           3.3974      1.229      2.764      0.006       0.981       5.813\n",
      "DIS           -1.9362      0.221     -8.772      0.000      -2.370      -1.502\n",
      "RAD           -0.0001      0.046     -0.002      0.998      -0.091       0.091\n",
      "LSTAT         -0.9050      0.053    -17.015      0.000      -1.010      -0.800\n",
      "==============================================================================\n",
      "Omnibus:                      102.928   Durbin-Watson:                   1.993\n",
      "Prob(Omnibus):                  0.000   Jarque-Bera (JB):              222.533\n",
      "Skew:                           1.320   Prob(JB):                     4.76e-49\n",
      "Kurtosis:                       5.501   Cond. No.                         130.\n",
      "==============================================================================\n",
      "\n",
      "Notes:\n",
      "[1] Standard Errors assume that the covariance matrix of the errors is correctly specified.\n"
     ]
    }
   ],
   "source": [
    "x_train=sm.add_constant(x_train)\n",
    "model=sm.OLS(y_train,x_train)\n",
    "model_trained=model.fit()\n",
    "print(model_trained.summary())"
   ]
  },
  {
   "cell_type": "markdown",
   "id": "8585b4af-1fda-4c30-a962-88f12993130b",
   "metadata": {},
   "source": [
    "RAD 피처의 P값이 0.998로 매우매우 높게 나타남 -> 제거해주자"
   ]
  },
  {
   "cell_type": "code",
   "execution_count": 63,
   "id": "34dbe2fd-26f2-466b-8d6c-e32a31354464",
   "metadata": {},
   "outputs": [
    {
     "name": "stdout",
     "output_type": "stream",
     "text": [
      "                            OLS Regression Results                            \n",
      "==============================================================================\n",
      "Dep. Variable:                   MEDV   R-squared:                       0.634\n",
      "Model:                            OLS   Adj. R-squared:                  0.629\n",
      "Method:                 Least Squares   F-statistic:                     114.7\n",
      "Date:                Tue, 25 Mar 2025   Prob (F-statistic):           1.66e-83\n",
      "Time:                        19:23:02   Log-Likelihood:                -1266.4\n",
      "No. Observations:                 404   AIC:                             2547.\n",
      "Df Residuals:                     397   BIC:                             2575.\n",
      "Df Model:                           6                                         \n",
      "Covariance Type:            nonrobust                                         \n",
      "==============================================================================\n",
      "                 coef    std err          t      P>|t|      [0.025      0.975]\n",
      "------------------------------------------------------------------------------\n",
      "const         42.9665      1.338     32.116      0.000      40.336      45.597\n",
      "CRIM          -0.1213      0.040     -3.009      0.003      -0.200      -0.042\n",
      "ZN             0.1075      0.017      6.262      0.000       0.074       0.141\n",
      "INDUS         -0.2382      0.063     -3.763      0.000      -0.363      -0.114\n",
      "CHAS           3.3974      1.227      2.768      0.006       0.984       5.810\n",
      "DIS           -1.9362      0.220     -8.805      0.000      -2.368      -1.504\n",
      "LSTAT         -0.9050      0.053    -17.092      0.000      -1.009      -0.801\n",
      "==============================================================================\n",
      "Omnibus:                      102.926   Durbin-Watson:                   1.993\n",
      "Prob(Omnibus):                  0.000   Jarque-Bera (JB):              222.520\n",
      "Skew:                           1.319   Prob(JB):                     4.79e-49\n",
      "Kurtosis:                       5.501   Cond. No.                         126.\n",
      "==============================================================================\n",
      "\n",
      "Notes:\n",
      "[1] Standard Errors assume that the covariance matrix of the errors is correctly specified.\n"
     ]
    }
   ],
   "source": [
    "x_train=sm.add_constant(x_train.drop('RAD',axis=1))\n",
    "model=sm.OLS(y_train,x_train)\n",
    "model_trained=model.fit()\n",
    "print(model_trained.summary())"
   ]
  },
  {
   "cell_type": "markdown",
   "id": "64742b49-9b7e-4a8b-b853-8edbb7467bc0",
   "metadata": {},
   "source": [
    "x_test 데이터를 이용한 예측치 산출"
   ]
  },
  {
   "cell_type": "code",
   "execution_count": 65,
   "id": "e8970015-3a9c-46d6-a35a-5cc6ac6648c2",
   "metadata": {},
   "outputs": [
    {
     "data": {
      "text/plain": [
       "428    14.537780\n",
       "237    29.115458\n",
       "120    19.471100\n",
       "372    30.825746\n",
       "74     25.532768\n",
       "         ...    \n",
       "346    14.931139\n",
       "84     23.930834\n",
       "326    25.119641\n",
       "386     7.262333\n",
       "256    36.660988\n",
       "Length: 102, dtype: float64"
      ]
     },
     "execution_count": 65,
     "metadata": {},
     "output_type": "execute_result"
    }
   ],
   "source": [
    "x_test=sm.add_constant(x_test.drop('RAD',axis=1))\n",
    "y_pred_sm=model_trained.predict(x_test)\n",
    "y_pred_sm"
   ]
  },
  {
   "cell_type": "markdown",
   "id": "ee394cc4-d884-4ed7-a6bf-5b1d50bdb678",
   "metadata": {},
   "source": [
    "성능 평가 - MSE, MAE, R2-Score"
   ]
  },
  {
   "cell_type": "code",
   "execution_count": 105,
   "id": "69905354-3e4e-45ab-b7ed-829a6e6114bb",
   "metadata": {},
   "outputs": [
    {
     "name": "stdout",
     "output_type": "stream",
     "text": [
      "mse: 31.54097147761651\n",
      "mae: 4.323155359717784\n",
      "r2 score: 0.623209332663016\n"
     ]
    }
   ],
   "source": [
    "test_mse_sm = mean_squared_error(y_test, y_pred_sm)\n",
    "test_mae_sm = mean_absolute_error(y_test,y_pred_sm)\n",
    "test_r2_sm = r2_score(y_test, y_pred_sm)\n",
    "print('mse:',test_mse_sm)\n",
    "print('mae:',test_mae_sm)\n",
    "print('r2 score:',test_r2_sm)"
   ]
  },
  {
   "cell_type": "markdown",
   "id": "a245baf0-50b8-497a-ba75-11969b4bde20",
   "metadata": {},
   "source": [
    "SKlearn을 사용한 모델과 동일한 결과가 나타남"
   ]
  },
  {
   "cell_type": "markdown",
   "id": "d28c348f-03e4-4e79-9511-0d4a89ced4d7",
   "metadata": {},
   "source": [
    "### 모델 개선 - 피처를 너무 많이 삭제했나 싶음 - VIF를 통한 피처 제거 단계에서 삭제 피처들을 줄여서 다시 해보겠음"
   ]
  },
  {
   "cell_type": "code",
   "execution_count": 180,
   "id": "9cf7ac10-dcdd-498d-ac47-c71b8718fe2b",
   "metadata": {},
   "outputs": [],
   "source": [
    "data_new=pd.read_csv('../../Session/Session4/house_price.csv')"
   ]
  },
  {
   "cell_type": "code",
   "execution_count": 182,
   "id": "30f17253-491e-462b-9f60-de52e2102efa",
   "metadata": {},
   "outputs": [
    {
     "data": {
      "text/html": [
       "<div>\n",
       "<style scoped>\n",
       "    .dataframe tbody tr th:only-of-type {\n",
       "        vertical-align: middle;\n",
       "    }\n",
       "\n",
       "    .dataframe tbody tr th {\n",
       "        vertical-align: top;\n",
       "    }\n",
       "\n",
       "    .dataframe thead th {\n",
       "        text-align: right;\n",
       "    }\n",
       "</style>\n",
       "<table border=\"1\" class=\"dataframe\">\n",
       "  <thead>\n",
       "    <tr style=\"text-align: right;\">\n",
       "      <th></th>\n",
       "      <th>CRIM</th>\n",
       "      <th>ZN</th>\n",
       "      <th>INDUS</th>\n",
       "      <th>CHAS</th>\n",
       "      <th>NOX</th>\n",
       "      <th>RM</th>\n",
       "      <th>AGE</th>\n",
       "      <th>DIS</th>\n",
       "      <th>RAD</th>\n",
       "      <th>TAX</th>\n",
       "      <th>PTRATIO</th>\n",
       "      <th>B</th>\n",
       "      <th>LSTAT</th>\n",
       "      <th>MEDV</th>\n",
       "      <th>CAT.MEDV</th>\n",
       "    </tr>\n",
       "  </thead>\n",
       "  <tbody>\n",
       "    <tr>\n",
       "      <th>0</th>\n",
       "      <td>0.00632</td>\n",
       "      <td>18.0</td>\n",
       "      <td>2.31</td>\n",
       "      <td>0</td>\n",
       "      <td>0.538</td>\n",
       "      <td>6.575</td>\n",
       "      <td>65.2</td>\n",
       "      <td>4.0900</td>\n",
       "      <td>1</td>\n",
       "      <td>296</td>\n",
       "      <td>15.3</td>\n",
       "      <td>396.90</td>\n",
       "      <td>4.98</td>\n",
       "      <td>24.0</td>\n",
       "      <td>0</td>\n",
       "    </tr>\n",
       "    <tr>\n",
       "      <th>1</th>\n",
       "      <td>0.02731</td>\n",
       "      <td>0.0</td>\n",
       "      <td>7.07</td>\n",
       "      <td>0</td>\n",
       "      <td>0.469</td>\n",
       "      <td>6.421</td>\n",
       "      <td>78.9</td>\n",
       "      <td>4.9671</td>\n",
       "      <td>2</td>\n",
       "      <td>242</td>\n",
       "      <td>17.8</td>\n",
       "      <td>396.90</td>\n",
       "      <td>9.14</td>\n",
       "      <td>21.6</td>\n",
       "      <td>0</td>\n",
       "    </tr>\n",
       "    <tr>\n",
       "      <th>2</th>\n",
       "      <td>0.02729</td>\n",
       "      <td>0.0</td>\n",
       "      <td>7.07</td>\n",
       "      <td>0</td>\n",
       "      <td>0.469</td>\n",
       "      <td>7.185</td>\n",
       "      <td>61.1</td>\n",
       "      <td>4.9671</td>\n",
       "      <td>2</td>\n",
       "      <td>242</td>\n",
       "      <td>17.8</td>\n",
       "      <td>392.83</td>\n",
       "      <td>4.03</td>\n",
       "      <td>34.7</td>\n",
       "      <td>1</td>\n",
       "    </tr>\n",
       "    <tr>\n",
       "      <th>3</th>\n",
       "      <td>0.03237</td>\n",
       "      <td>0.0</td>\n",
       "      <td>2.18</td>\n",
       "      <td>0</td>\n",
       "      <td>0.458</td>\n",
       "      <td>6.998</td>\n",
       "      <td>45.8</td>\n",
       "      <td>6.0622</td>\n",
       "      <td>3</td>\n",
       "      <td>222</td>\n",
       "      <td>18.7</td>\n",
       "      <td>394.63</td>\n",
       "      <td>2.94</td>\n",
       "      <td>33.4</td>\n",
       "      <td>1</td>\n",
       "    </tr>\n",
       "    <tr>\n",
       "      <th>4</th>\n",
       "      <td>0.06905</td>\n",
       "      <td>0.0</td>\n",
       "      <td>2.18</td>\n",
       "      <td>0</td>\n",
       "      <td>0.458</td>\n",
       "      <td>7.147</td>\n",
       "      <td>54.2</td>\n",
       "      <td>6.0622</td>\n",
       "      <td>3</td>\n",
       "      <td>222</td>\n",
       "      <td>18.7</td>\n",
       "      <td>396.90</td>\n",
       "      <td>5.33</td>\n",
       "      <td>36.2</td>\n",
       "      <td>1</td>\n",
       "    </tr>\n",
       "  </tbody>\n",
       "</table>\n",
       "</div>"
      ],
      "text/plain": [
       "      CRIM    ZN  INDUS  CHAS    NOX     RM   AGE     DIS  RAD  TAX  PTRATIO  \\\n",
       "0  0.00632  18.0   2.31     0  0.538  6.575  65.2  4.0900    1  296     15.3   \n",
       "1  0.02731   0.0   7.07     0  0.469  6.421  78.9  4.9671    2  242     17.8   \n",
       "2  0.02729   0.0   7.07     0  0.469  7.185  61.1  4.9671    2  242     17.8   \n",
       "3  0.03237   0.0   2.18     0  0.458  6.998  45.8  6.0622    3  222     18.7   \n",
       "4  0.06905   0.0   2.18     0  0.458  7.147  54.2  6.0622    3  222     18.7   \n",
       "\n",
       "        B  LSTAT  MEDV  CAT.MEDV  \n",
       "0  396.90   4.98  24.0         0  \n",
       "1  396.90   9.14  21.6         0  \n",
       "2  392.83   4.03  34.7         1  \n",
       "3  394.63   2.94  33.4         1  \n",
       "4  396.90   5.33  36.2         1  "
      ]
     },
     "execution_count": 182,
     "metadata": {},
     "output_type": "execute_result"
    }
   ],
   "source": [
    "data_new.head()"
   ]
  },
  {
   "cell_type": "code",
   "execution_count": 184,
   "id": "2d61e008-67e0-44a8-b859-f3fe0214914a",
   "metadata": {},
   "outputs": [],
   "source": [
    "X=data_new.loc[:,'CRIM':'LSTAT']\n",
    "Y=data_new['MEDV']"
   ]
  },
  {
   "cell_type": "code",
   "execution_count": 186,
   "id": "be6df628-a3d8-492b-bb2e-88161f984a27",
   "metadata": {},
   "outputs": [
    {
     "name": "stdout",
     "output_type": "stream",
     "text": [
      "  Features        VIF\n",
      "0     CRIM   2.095367\n",
      "1       ZN   2.334763\n",
      "2    INDUS   9.016142\n",
      "3     CHAS   1.116229\n",
      "4      AGE  14.000758\n",
      "5      DIS   8.447694\n",
      "6      RAD   4.771767\n",
      "7        B  13.537020\n",
      "8    LSTAT   8.358925\n"
     ]
    }
   ],
   "source": [
    "vif(X.drop(['PTRATIO','RM', 'NOX','TAX'], axis=1))"
   ]
  },
  {
   "cell_type": "markdown",
   "id": "5d237496-b9de-4652-bf98-a2ac90bf5efa",
   "metadata": {},
   "source": [
    "적당히 VIF 기준을 15로 올려 잡아서, 총 9개의 피처로 모델 재학습 해보겠다"
   ]
  },
  {
   "cell_type": "code",
   "execution_count": 189,
   "id": "2fdfd97d-ac23-43f6-ac89-7e8ba9bd15fa",
   "metadata": {},
   "outputs": [],
   "source": [
    "X.drop(['PTRATIO','RM', 'NOX','TAX'],axis=1,inplace=True)"
   ]
  },
  {
   "cell_type": "code",
   "execution_count": 191,
   "id": "acc62303-8616-42f1-a610-fedf69a5cb33",
   "metadata": {},
   "outputs": [],
   "source": [
    "X_train, X_test, Y_train, Y_test = train_test_split(X,Y,test_size=0.2,random_state=2025)"
   ]
  },
  {
   "cell_type": "code",
   "execution_count": 109,
   "id": "10a27ff9-5ac4-43e0-83da-19d3446ce8f0",
   "metadata": {},
   "outputs": [
    {
     "name": "stdout",
     "output_type": "stream",
     "text": [
      "                            OLS Regression Results                            \n",
      "==============================================================================\n",
      "Dep. Variable:                   MEDV   R-squared:                       0.635\n",
      "Model:                            OLS   Adj. R-squared:                  0.627\n",
      "Method:                 Least Squares   F-statistic:                     76.24\n",
      "Date:                Tue, 25 Mar 2025   Prob (F-statistic):           1.03e-80\n",
      "Time:                        19:33:32   Log-Likelihood:                -1265.8\n",
      "No. Observations:                 404   AIC:                             2552.\n",
      "Df Residuals:                     394   BIC:                             2592.\n",
      "Df Model:                           9                                         \n",
      "Covariance Type:            nonrobust                                         \n",
      "==============================================================================\n",
      "                 coef    std err          t      P>|t|      [0.025      0.975]\n",
      "------------------------------------------------------------------------------\n",
      "const         41.0537      2.408     17.049      0.000      36.320      45.788\n",
      "CRIM          -0.1143      0.046     -2.470      0.014      -0.205      -0.023\n",
      "ZN             0.1082      0.017      6.271      0.000       0.074       0.142\n",
      "INDUS         -0.2380      0.067     -3.548      0.000      -0.370      -0.106\n",
      "CHAS           3.3176      1.234      2.688      0.008       0.891       5.744\n",
      "AGE            0.0034      0.016      0.210      0.834      -0.028       0.035\n",
      "DIS           -1.9142      0.247     -7.735      0.000      -2.401      -1.428\n",
      "RAD            0.0091      0.047      0.192      0.848      -0.084       0.102\n",
      "B              0.0039      0.004      1.053      0.293      -0.003       0.011\n",
      "LSTAT         -0.8998      0.056    -16.025      0.000      -1.010      -0.789\n",
      "==============================================================================\n",
      "Omnibus:                      102.248   Durbin-Watson:                   1.992\n",
      "Prob(Omnibus):                  0.000   Jarque-Bera (JB):              220.076\n",
      "Skew:                           1.313   Prob(JB):                     1.63e-48\n",
      "Kurtosis:                       5.485   Cond. No.                     3.25e+03\n",
      "==============================================================================\n",
      "\n",
      "Notes:\n",
      "[1] Standard Errors assume that the covariance matrix of the errors is correctly specified.\n",
      "[2] The condition number is large, 3.25e+03. This might indicate that there are\n",
      "strong multicollinearity or other numerical problems.\n"
     ]
    }
   ],
   "source": [
    "X_train=sm.add_constant(X_train)\n",
    "model=sm.OLS(Y_train,X_train)\n",
    "model_trained=model.fit()\n",
    "print(model_trained.summary())"
   ]
  },
  {
   "cell_type": "markdown",
   "id": "8d7a0ebd-318e-4e67-a1f5-89e4eb4d2acf",
   "metadata": {},
   "source": [
    "AGE, RAD, B 피처의 P값이 0.05 이상으로 높게 나온다 - 그렇다고 제거해 버리면 아까와 똑같은 결과가 나올 것 같다 \n",
    "- 일단 그대로 예측치 산출 + 모델 평가 진행해 보자"
   ]
  },
  {
   "cell_type": "code",
   "execution_count": 111,
   "id": "f2b17069-25f6-457f-a863-932ac8cc5470",
   "metadata": {},
   "outputs": [
    {
     "data": {
      "text/plain": [
       "428    13.698604\n",
       "237    29.167557\n",
       "120    19.469505\n",
       "372    30.851973\n",
       "74     25.364636\n",
       "         ...    \n",
       "346    14.895097\n",
       "84     23.919587\n",
       "326    25.059774\n",
       "386     7.817020\n",
       "256    36.630816\n",
       "Length: 102, dtype: float64"
      ]
     },
     "execution_count": 111,
     "metadata": {},
     "output_type": "execute_result"
    }
   ],
   "source": [
    "X_test=sm.add_constant(X_test)\n",
    "Y_pred_sm=model_trained.predict(X_test)\n",
    "Y_pred_sm"
   ]
  },
  {
   "cell_type": "code",
   "execution_count": 113,
   "id": "dca7c2bb-3b31-4db2-be30-ecaa2970f2b5",
   "metadata": {},
   "outputs": [
    {
     "name": "stdout",
     "output_type": "stream",
     "text": [
      "mse: 30.65973061697161\n",
      "mae: 4.230210190553614\n",
      "r2 score: 0.6337366980678085\n"
     ]
    }
   ],
   "source": [
    "test_mse_sm_new = mean_squared_error(Y_test, Y_pred_sm)\n",
    "test_mae_sm_new = mean_absolute_error(Y_test,Y_pred_sm)\n",
    "test_r2_sm_new = r2_score(Y_test, Y_pred_sm)\n",
    "print('mse:',test_mse_sm_new)\n",
    "print('mae:',test_mae_sm_new)\n",
    "print('r2 score:',test_r2_sm_new)"
   ]
  },
  {
   "cell_type": "markdown",
   "id": "49319d12-2b85-42ce-8e7b-952b24dc690e",
   "metadata": {},
   "source": [
    "약간의 변동은 있지만, 거의 똑같은 수준의 점수가 나온다 "
   ]
  },
  {
   "cell_type": "markdown",
   "id": "42edbaf5-6f08-4629-8f91-99261c821a78",
   "metadata": {},
   "source": [
    "그럼 높은 P값을 보이는 피처들을 제거해서 다시 모델을 학습, 평가해 보겠다"
   ]
  },
  {
   "cell_type": "code",
   "execution_count": 121,
   "id": "6a3dc012-7234-4b43-b441-b4fde070447f",
   "metadata": {},
   "outputs": [
    {
     "name": "stdout",
     "output_type": "stream",
     "text": [
      "                            OLS Regression Results                            \n",
      "==============================================================================\n",
      "Dep. Variable:                   MEDV   R-squared:                       0.634\n",
      "Model:                            OLS   Adj. R-squared:                  0.629\n",
      "Method:                 Least Squares   F-statistic:                     114.7\n",
      "Date:                Tue, 25 Mar 2025   Prob (F-statistic):           1.66e-83\n",
      "Time:                        19:36:34   Log-Likelihood:                -1266.4\n",
      "No. Observations:                 404   AIC:                             2547.\n",
      "Df Residuals:                     397   BIC:                             2575.\n",
      "Df Model:                           6                                         \n",
      "Covariance Type:            nonrobust                                         \n",
      "==============================================================================\n",
      "                 coef    std err          t      P>|t|      [0.025      0.975]\n",
      "------------------------------------------------------------------------------\n",
      "const         42.9665      1.338     32.116      0.000      40.336      45.597\n",
      "CRIM          -0.1213      0.040     -3.009      0.003      -0.200      -0.042\n",
      "ZN             0.1075      0.017      6.262      0.000       0.074       0.141\n",
      "INDUS         -0.2382      0.063     -3.763      0.000      -0.363      -0.114\n",
      "CHAS           3.3974      1.227      2.768      0.006       0.984       5.810\n",
      "DIS           -1.9362      0.220     -8.805      0.000      -2.368      -1.504\n",
      "LSTAT         -0.9050      0.053    -17.092      0.000      -1.009      -0.801\n",
      "==============================================================================\n",
      "Omnibus:                      102.926   Durbin-Watson:                   1.993\n",
      "Prob(Omnibus):                  0.000   Jarque-Bera (JB):              222.520\n",
      "Skew:                           1.319   Prob(JB):                     4.79e-49\n",
      "Kurtosis:                       5.501   Cond. No.                         126.\n",
      "==============================================================================\n",
      "\n",
      "Notes:\n",
      "[1] Standard Errors assume that the covariance matrix of the errors is correctly specified.\n"
     ]
    }
   ],
   "source": [
    "X_train=sm.add_constant(X_train.drop(['AGE','RAD','B'],axis=1))\n",
    "model=sm.OLS(Y_train,X_train)\n",
    "model_trained=model.fit()\n",
    "print(model_trained.summary())"
   ]
  },
  {
   "cell_type": "code",
   "execution_count": 125,
   "id": "8c320c0a-5905-4670-b03f-396c26fef061",
   "metadata": {},
   "outputs": [
    {
     "data": {
      "text/plain": [
       "428    14.537780\n",
       "237    29.115458\n",
       "120    19.471100\n",
       "372    30.825746\n",
       "74     25.532768\n",
       "         ...    \n",
       "346    14.931139\n",
       "84     23.930834\n",
       "326    25.119641\n",
       "386     7.262333\n",
       "256    36.660988\n",
       "Length: 102, dtype: float64"
      ]
     },
     "execution_count": 125,
     "metadata": {},
     "output_type": "execute_result"
    }
   ],
   "source": [
    "X_test=sm.add_constant(X_test)\n",
    "Y_pred_sm=model_trained.predict(X_test)\n",
    "Y_pred_sm"
   ]
  },
  {
   "cell_type": "code",
   "execution_count": 127,
   "id": "a50a1b27-2b26-4e58-95cf-6bb5c679045a",
   "metadata": {},
   "outputs": [
    {
     "name": "stdout",
     "output_type": "stream",
     "text": [
      "mse: 31.54097147761651\n",
      "mae: 4.323155359717784\n",
      "r2 score: 0.623209332663016\n"
     ]
    }
   ],
   "source": [
    "test_mse_sm_new = mean_squared_error(Y_test, Y_pred_sm)\n",
    "test_mae_sm_new = mean_absolute_error(Y_test,Y_pred_sm)\n",
    "test_r2_sm_new = r2_score(Y_test, Y_pred_sm)\n",
    "print('mse:',test_mse_sm_new)\n",
    "print('mae:',test_mae_sm_new)\n",
    "print('r2 score:',test_r2_sm_new)"
   ]
  },
  {
   "cell_type": "markdown",
   "id": "c77de214-b6ee-45cd-908a-5c461d96e73e",
   "metadata": {},
   "source": [
    "역시 아까와 똑같은 결과가 나온다"
   ]
  },
  {
   "cell_type": "markdown",
   "id": "4cc4a322-30e2-4953-9099-deef0454aa9f",
   "metadata": {},
   "source": [
    "그렇다면 이제 p값이 0.8을 넘는 AGE와 RAD만 제거해 보자"
   ]
  },
  {
   "cell_type": "code",
   "execution_count": 162,
   "id": "e4397b8d-437d-4bb3-aa45-c324bcdab447",
   "metadata": {},
   "outputs": [
    {
     "name": "stdout",
     "output_type": "stream",
     "text": [
      "                            OLS Regression Results                            \n",
      "==============================================================================\n",
      "Dep. Variable:                   MEDV   R-squared:                       0.635\n",
      "Model:                            OLS   Adj. R-squared:                  0.629\n",
      "Method:                 Least Squares   F-statistic:                     98.49\n",
      "Date:                Tue, 25 Mar 2025   Prob (F-statistic):           1.09e-82\n",
      "Time:                        19:46:48   Log-Likelihood:                -1265.9\n",
      "No. Observations:                 404   AIC:                             2548.\n",
      "Df Residuals:                     396   BIC:                             2580.\n",
      "Df Model:                           7                                         \n",
      "Covariance Type:            nonrobust                                         \n",
      "==============================================================================\n",
      "                 coef    std err          t      P>|t|      [0.025      0.975]\n",
      "------------------------------------------------------------------------------\n",
      "const         41.4021      2.015     20.545      0.000      37.440      45.364\n",
      "CRIM          -0.1103      0.042     -2.648      0.008      -0.192      -0.028\n",
      "ZN             0.1082      0.017      6.298      0.000       0.074       0.142\n",
      "INDUS         -0.2326      0.064     -3.661      0.000      -0.357      -0.108\n",
      "CHAS           3.3393      1.229      2.718      0.007       0.924       5.755\n",
      "DIS           -1.9407      0.220     -8.824      0.000      -2.373      -1.508\n",
      "B              0.0038      0.004      1.038      0.300      -0.003       0.011\n",
      "LSTAT         -0.8959      0.054    -16.695      0.000      -1.001      -0.790\n",
      "==============================================================================\n",
      "Omnibus:                      102.937   Durbin-Watson:                   1.995\n",
      "Prob(Omnibus):                  0.000   Jarque-Bera (JB):              223.032\n",
      "Skew:                           1.318   Prob(JB):                     3.71e-49\n",
      "Kurtosis:                       5.509   Cond. No.                     2.69e+03\n",
      "==============================================================================\n",
      "\n",
      "Notes:\n",
      "[1] Standard Errors assume that the covariance matrix of the errors is correctly specified.\n",
      "[2] The condition number is large, 2.69e+03. This might indicate that there are\n",
      "strong multicollinearity or other numerical problems.\n"
     ]
    }
   ],
   "source": [
    "X_train=sm.add_constant(X_train.drop(['AGE','RAD'],axis=1))\n",
    "model=sm.OLS(Y_train,X_train)\n",
    "model_trained=model.fit()\n",
    "print(model_trained.summary())"
   ]
  },
  {
   "cell_type": "code",
   "execution_count": 172,
   "id": "a5343045-8631-4dbd-85a0-ddd2f9898114",
   "metadata": {},
   "outputs": [
    {
     "name": "stdout",
     "output_type": "stream",
     "text": [
      "mse: 30.7838234298553\n",
      "mae: 4.238766028867748\n",
      "r2 score: 0.6322542765827459\n"
     ]
    }
   ],
   "source": [
    "X_test=sm.add_constant(X_test.drop(['AGE','RAD'],axis=1))\n",
    "Y_pred_sm=model_trained.predict(X_test)\n",
    "test_mse_sm_new = mean_squared_error(Y_test, Y_pred_sm)\n",
    "test_mae_sm_new = mean_absolute_error(Y_test,Y_pred_sm)\n",
    "test_r2_sm_new = r2_score(Y_test, Y_pred_sm)\n",
    "print('mse:',test_mse_sm_new)\n",
    "print('mae:',test_mae_sm_new)\n",
    "print('r2 score:',test_r2_sm_new)"
   ]
  },
  {
   "cell_type": "markdown",
   "id": "5a291535-79ad-444d-b963-c38071828b96",
   "metadata": {},
   "source": [
    "이 것도 결과가 크게 다르지 않다.."
   ]
  },
  {
   "cell_type": "markdown",
   "id": "ca2fe8b1-9f54-4f6c-86e3-05c75ce25575",
   "metadata": {},
   "source": [
    "그럼 이제 AGE, RAD 2개 중 하나만 제거해 보자 - 둘 중 P값이 더 높은 RAD"
   ]
  },
  {
   "cell_type": "code",
   "execution_count": 194,
   "id": "bba395dd-3ef9-4292-8da1-a7d6e465b778",
   "metadata": {},
   "outputs": [
    {
     "name": "stdout",
     "output_type": "stream",
     "text": [
      "                            OLS Regression Results                            \n",
      "==============================================================================\n",
      "Dep. Variable:                   MEDV   R-squared:                       0.635\n",
      "Model:                            OLS   Adj. R-squared:                  0.628\n",
      "Method:                 Least Squares   F-statistic:                     85.97\n",
      "Date:                Tue, 25 Mar 2025   Prob (F-statistic):           1.10e-81\n",
      "Time:                        19:52:55   Log-Likelihood:                -1265.9\n",
      "No. Observations:                 404   AIC:                             2550.\n",
      "Df Residuals:                     395   BIC:                             2586.\n",
      "Df Model:                           8                                         \n",
      "Covariance Type:            nonrobust                                         \n",
      "==============================================================================\n",
      "                 coef    std err          t      P>|t|      [0.025      0.975]\n",
      "------------------------------------------------------------------------------\n",
      "const         41.1274      2.374     17.321      0.000      36.459      45.795\n",
      "CRIM          -0.1104      0.042     -2.648      0.008      -0.192      -0.028\n",
      "ZN             0.1084      0.017      6.292      0.000       0.075       0.142\n",
      "INDUS         -0.2342      0.064     -3.658      0.000      -0.360      -0.108\n",
      "CHAS           3.3211      1.233      2.694      0.007       0.898       5.745\n",
      "AGE            0.0036      0.016      0.220      0.826      -0.028       0.035\n",
      "DIS           -1.9161      0.247     -7.759      0.000      -2.402      -1.431\n",
      "B              0.0038      0.004      1.037      0.301      -0.003       0.011\n",
      "LSTAT         -0.8994      0.056    -16.048      0.000      -1.010      -0.789\n",
      "==============================================================================\n",
      "Omnibus:                      102.401   Durbin-Watson:                   1.993\n",
      "Prob(Omnibus):                  0.000   Jarque-Bera (JB):              221.024\n",
      "Skew:                           1.313   Prob(JB):                     1.01e-48\n",
      "Kurtosis:                       5.496   Cond. No.                     3.21e+03\n",
      "==============================================================================\n",
      "\n",
      "Notes:\n",
      "[1] Standard Errors assume that the covariance matrix of the errors is correctly specified.\n",
      "[2] The condition number is large, 3.21e+03. This might indicate that there are\n",
      "strong multicollinearity or other numerical problems.\n"
     ]
    }
   ],
   "source": [
    "X_train=sm.add_constant(X_train.drop(['RAD'],axis=1))\n",
    "model=sm.OLS(Y_train,X_train)\n",
    "model_trained=model.fit()\n",
    "print(model_trained.summary())"
   ]
  },
  {
   "cell_type": "code",
   "execution_count": 196,
   "id": "a345fb8a-8d49-4bd7-bfc8-5f4ce71f3e91",
   "metadata": {},
   "outputs": [
    {
     "name": "stdout",
     "output_type": "stream",
     "text": [
      "mse: 30.711644680621884\n",
      "mae: 4.232027717184091\n",
      "r2 score: 0.6331165290060902\n"
     ]
    }
   ],
   "source": [
    "X_test=sm.add_constant(X_test.drop(['RAD'],axis=1))\n",
    "Y_pred_sm=model_trained.predict(X_test)\n",
    "test_mse_sm_new = mean_squared_error(Y_test, Y_pred_sm)\n",
    "test_mae_sm_new = mean_absolute_error(Y_test,Y_pred_sm)\n",
    "test_r2_sm_new = r2_score(Y_test, Y_pred_sm)\n",
    "print('mse:',test_mse_sm_new)\n",
    "print('mae:',test_mae_sm_new)\n",
    "print('r2 score:',test_r2_sm_new)"
   ]
  },
  {
   "cell_type": "markdown",
   "id": "2b35248f-bf26-49b2-880a-147b706f44ec",
   "metadata": {},
   "source": [
    "RAD를 없애도 AGE의 P값은 여전히 높고, 모델 결과도 비슷하다"
   ]
  },
  {
   "cell_type": "markdown",
   "id": "8e6b18c9-694f-42f7-9884-7fecec6a961c",
   "metadata": {},
   "source": [
    "내가 할 수 있는 건 여기까지인 것 같다 (r2 score : 약 62~3%의 설명력)\\\n",
    "모델의 설명력을 개선할 수 있는 방법에 대한 민희 누나의 피드백을 기다려 보자"
   ]
  }
 ],
 "metadata": {
  "kernelspec": {
   "display_name": "Python [conda env:base] *",
   "language": "python",
   "name": "conda-base-py"
  },
  "language_info": {
   "codemirror_mode": {
    "name": "ipython",
    "version": 3
   },
   "file_extension": ".py",
   "mimetype": "text/x-python",
   "name": "python",
   "nbconvert_exporter": "python",
   "pygments_lexer": "ipython3",
   "version": "3.12.7"
  }
 },
 "nbformat": 4,
 "nbformat_minor": 5
}
