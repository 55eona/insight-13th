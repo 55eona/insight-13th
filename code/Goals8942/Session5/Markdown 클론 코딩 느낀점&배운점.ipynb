{
 "cells": [
  {
   "cell_type": "markdown",
   "id": "801edb71-7137-41dd-862f-1ca161080cc5",
   "metadata": {},
   "source": [
    "# 느낀 점"
   ]
  },
  {
   "cell_type": "markdown",
   "id": "f7c8beb7-a27c-41f8-aa68-7b6a6079672a",
   "metadata": {},
   "source": [
    "실제 데이터 분석 과정에서 회귀 분석을 사용할 때, 어떤 흐름/순서로 각 단계를 진행해야 하는지에 대한 감을 잡아 볼 수 있었다.\\\n",
    "교육 세션에서 배운 내용과 클론 코딩 내용을 더해 간단히 정리해 보자면 다음과 같은 큰 흐름이 있는 것 같다.\n",
    "\n",
    "1. 데이터 탐색 + 전처리\\\n",
    "   (변수 간 상관관계 + 선형성 + 다중공선성 등의 정보 확인)\\\n",
    "   -> 회귀 분석 활용 여부 + 다중/단순 결정\n",
    "2. 모델 생성 및 모델 적합\n",
    "3. 모델 평가 + 회귀모형 가정 진단\\\n",
    "   -> 모델 성능 개선\n",
    "\n",
    "전체적인 흐름은 위의 단계를 따르되, 상황•필요에 따라 각 단계를 왔다갔다 해야 할 수도 있음!"
   ]
  },
  {
   "cell_type": "markdown",
   "id": "07616fb6-d3de-4a47-b043-1f23530cf775",
   "metadata": {},
   "source": [
    "인사이콘에서 회귀 모델을 사용할 기회가 있다면, 이 실습 자료를 잘 참고해서 하나 하나 단계를 잘 따라 적용해 보면서 이 지식을 체화하면 좋을 것 같다.\n",
    "\n",
    "이러한 데이터 분석 과정의 처음부터 끝까지 혼자 계획하고 실행할 수 있는 역량을 갖추기 위해서 앞으로도 열심히 배우고 노력해 보겠다!"
   ]
  },
  {
   "cell_type": "markdown",
   "id": "66e13dde-2f38-4a8b-b23c-08ba225f716c",
   "metadata": {},
   "source": [
    "# 배운 점"
   ]
  },
  {
   "cell_type": "markdown",
   "id": "dda4459c-6147-4901-9e56-6c10271611f6",
   "metadata": {},
   "source": [
    "- 데이터 분석의 시작: 각 '변수'가 무엇을 의미하는지 구체적으로 정의\\\n",
    "-> 그 후, 목표로 하는 타겟 변수를 설정 (그 외는 설명 변수 후보)"
   ]
  },
  {
   "cell_type": "markdown",
   "id": "a1c0d214-ee4f-4f9d-9f01-c726d2c92d29",
   "metadata": {},
   "source": [
    "- index 1로 시작하는 방법: df.index +=1 "
   ]
  },
  {
   "cell_type": "markdown",
   "id": "39c6b104-d2b2-46c6-a6aa-2ecfdcad91d7",
   "metadata": {},
   "source": [
    "\n",
    "\n",
    "- 아래 코드에서 'enumerate'는 뭔지 + for문 안에는 존재하지만, 함수 내용 안에는 존재하지 않는 'idx' 변수는 왜, 어디에 사용되는 건지 궁금해서 GPT에게 질문해 봄\n",
    "\n",
    "for idx, val in enumerate(df_stats.index):\\\n",
    "    median_results.append(df[val].median())\\\n",
    "    skew_results.append(df[val].skew())\\\n",
    "    kurtosis_results.append(df[val].kurtosis())\\\n",
    "    null_results.append(df[val].isnull().sum())\\\n",
    "    \n",
    "enumerate()는 반복문에서 인덱스와 값을 동시에 얻을 때 사용하는 함수 -> 그래서 변수에 (idx, val)의 쌍을 변수로 가짐\n",
    "\n",
    "GPT에게 물어본 결과, 위 반복문 조건에 다음과 같은 코드를 활용해도 같은 결과값을 얻을 수 있었음\\\n",
    "for val in df_stats.index:\n",
    "\n",
    "*이 코드에서 enumerate를 사용한 특별한 이유가 따로 있었는지 궁금함!*"
   ]
  },
  {
   "cell_type": "markdown",
   "id": "0262bf44-023b-4f3f-ac55-bff900ce2da5",
   "metadata": {},
   "source": [
    "- hist() 함수에서 density 옵션의 의미\n",
    "\n",
    "df.hist(figsize=(22,18), density=True)\\\n",
    "-> y축 값이 확률밀도함수로 변환\\\n",
    "-> 데이터를 확률 분포 형태로 나타내고 싶을 때 사용\\\n",
    "-> 전체 데이터 크기에 관계없이 비교 가능 (정규 분포 곡선 등과 쉽게 비교 가능)\n",
    " \n",
    "df.hist(figsize=(22,18), density=True)\\\n",
    "-> y축 값이 도수(count), 즉 구간(bin) 내 데이터 개수\\\n",
    "-> 실제 데이터 개수 표현"
   ]
  },
  {
   "cell_type": "markdown",
   "id": "4b752ff9-9a78-4018-a267-4a088f17e9e2",
   "metadata": {},
   "source": [
    "- 히트맵 그리기 중 추가 내용\n",
    "1. sns.diverging_palette()\n",
    "    - 양의 값과 음의 값 대비시켜 색상 지정하는 팔레트 만들기\n",
    "    - cmap = sns.diverging_palette(240, 10, n=9, as_cmap=True): 컬러맵(cmap) 지정\n",
    "          - diverging_palette: 양의 값과 음의 값을 구분하는 색상 팔레트\n",
    "\n",
    "2. mask = np.zeros_like(df_corr,dtype=bool)\n",
    "    - df_corr와 같은 크기 배열을 만들고, 모든 값을 False(0)으로 초기화\n",
    "  \n",
    "3. mask[np.triu_indices_from(mask)]=True\n",
    "    - np.triu_indices_from(mask) : 행렬의 상삼각형 부분 (대각선 포함 위쪽 부분)의 인덱스\n",
    "    - mask[~]=True : 선택한 부분을 True로 설정\n",
    "\n",
    "4. sns.heatmap(mask=mask, cmap=cmap, fmt='.2f')\n",
    "    - mask: 선택한 부분 (True) 가리기\n",
    "    - cmap: 히트맵의 색상 팔레트(컬러맵) 설정\n",
    "    - fmt = '.2f' : 소수점 2번째 자리까지 표\n"
   ]
  },
  {
   "cell_type": "markdown",
   "id": "fb1efc65-4482-4086-aeec-ab43b135399d",
   "metadata": {},
   "source": [
    "- add_constant()\n",
    "독립 변수 행렬 X 앞에 1로 채워진 열 추가\\\n",
    "-> y=b0 + b1*x1 + b2*x2 ...의 회귀식에서 \"b0\"\\\n",
    "-> 회귀 모델에 절편을 추가해 더 정확한 예측"
   ]
  },
  {
   "cell_type": "markdown",
   "id": "25352e58-5648-4f04-abee-d2db929b80c9",
   "metadata": {},
   "source": [
    "- 잔차도표 그리는 코드\\\n",
    "result_model.resid.plot()"
   ]
  },
  {
   "cell_type": "markdown",
   "id": "ca8c7c16-8687-4c06-b003-ed4d5a742862",
   "metadata": {},
   "source": [
    "- 회귀 분석의 예측값을 가져오는 코드\n",
    "  1. .fittedvalues\n",
    "     - 학습에 사용된 데이터를 활용한 예측값 산출\n",
    "     - 함수 X: ()없음\n",
    "  2. predict()\n",
    "     - 새로운 데이터를 활용한 예측값 산출\n",
    "     - 함수"
   ]
  },
  {
   "cell_type": "markdown",
   "id": "7d5ad535-1173-43a2-9f26-c47de34c9ed4",
   "metadata": {},
   "source": [
    "- 잔차와 Fitted Values 산점도 해석\\\n",
    "분포에서 특정한 패턴이 보이지 않으면(무작위 분포) -> 잘 적합된 모델\\\n",
    "패턴이 있거나, 잔차의 크기 변화가 크면 -> 문제 해결 필요"
   ]
  },
  {
   "cell_type": "markdown",
   "id": "138c09ac-e97f-4981-89e3-765ee59369c7",
   "metadata": {},
   "source": [
    "- 샤피로-윌크 검정 (정규성 검정)에서 중요한 내용\\\n",
    "H0(귀무가설): 데이터가 정규분포를 따른다\\\n",
    "H1(대립가설): 데이터가 정규분포를 따르지 않는다.\\\n",
    "-> P값이 0.05 이상, 귀무가설을 기각하지 못할 때 : 정규성 가정 성립\n",
    "\n",
    "But, 관측치 개수가 너무 많은 경우, Q-Q 플롯 등 다른 검정 방법도 같이 보고 판단 필요"
   ]
  },
  {
   "cell_type": "markdown",
   "id": "af5c2c5f-5760-4bb8-a798-6d1db6e18771",
   "metadata": {},
   "source": [
    "- 다중공선성 확인 = 독립성 검정\\\n",
    "설명 변수들이 서로에 대해 얼마나 독립적인지 검정 = 다중공선성 확인"
   ]
  },
  {
   "cell_type": "markdown",
   "id": "a9115d22-40bc-4824-8569-d4efa4f8ec5c",
   "metadata": {},
   "source": [
    "- ACF 그래프 해석\\\n",
    "x축: 시점 간의 차이(lag) 또는 간격\\\n",
    "y축: 각 lag에 대해 자기상관 계수\\\n",
    "-> 과거 값이 현재 값에 미치는 영향 (자기상관)\n",
    "\n",
    "- 예제 그래프 해석\\\n",
    "x축 0에서 자기상관이 1, 그 이후는 0에 수렴\\\n",
    "'x=0, y=1'의 의미는 시점 간 차이가 0 즉 현재라는 의미라서, 본인과 본인의 자기상관 계수는 1\\\n",
    "*이렇게 해석하는 것이 맞나?*"
   ]
  },
  {
   "cell_type": "code",
   "execution_count": null,
   "id": "41df2502-6fa4-46fb-9f5a-f59bf1da2578",
   "metadata": {},
   "outputs": [],
   "source": []
  }
 ],
 "metadata": {
  "kernelspec": {
   "display_name": "Python [conda env:base] *",
   "language": "python",
   "name": "conda-base-py"
  },
  "language_info": {
   "codemirror_mode": {
    "name": "ipython",
    "version": 3
   },
   "file_extension": ".py",
   "mimetype": "text/x-python",
   "name": "python",
   "nbconvert_exporter": "python",
   "pygments_lexer": "ipython3",
   "version": "3.12.7"
  }
 },
 "nbformat": 4,
 "nbformat_minor": 5
}
