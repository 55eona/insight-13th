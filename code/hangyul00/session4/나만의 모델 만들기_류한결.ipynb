{
 "cells": [
  {
   "cell_type": "markdown",
   "id": "8a2a9b11-9de3-4380-87be-6eaa25adc20a",
   "metadata": {},
   "source": [
    "우선, 필요한 라이브러리를 불러오고, boston이라는 이름으로 파일 읽어오기"
   ]
  },
  {
   "cell_type": "code",
   "execution_count": 9,
   "id": "ed0e77cb-c37b-426f-8876-302eb156c936",
   "metadata": {},
   "outputs": [],
   "source": [
    "import numpy as np\n",
    "import pandas as pd\n",
    "\n",
    "import scipy as sp\n",
    "import scipy.stats as stats\n",
    "\n",
    "import statsmodels.api as sm\n",
    "from statsmodels.formula.api import ols\n",
    "\n",
    "from sklearn.model_selection import train_test_split\n",
    "from sklearn.metrics import mean_squared_error, r2_score, mean_absolute_error\n",
    "\n",
    "import seaborn as sns\n",
    "import matplotlib.pyplot as plt\n",
    "\n",
    "boston = pd.read_csv(\"house_price.csv\")"
   ]
  },
  {
   "cell_type": "code",
   "execution_count": 11,
   "id": "86afedcf-3b70-4032-81e8-bf009ff18872",
   "metadata": {},
   "outputs": [
    {
     "data": {
      "text/html": [
       "<div>\n",
       "<style scoped>\n",
       "    .dataframe tbody tr th:only-of-type {\n",
       "        vertical-align: middle;\n",
       "    }\n",
       "\n",
       "    .dataframe tbody tr th {\n",
       "        vertical-align: top;\n",
       "    }\n",
       "\n",
       "    .dataframe thead th {\n",
       "        text-align: right;\n",
       "    }\n",
       "</style>\n",
       "<table border=\"1\" class=\"dataframe\">\n",
       "  <thead>\n",
       "    <tr style=\"text-align: right;\">\n",
       "      <th></th>\n",
       "      <th>CRIM</th>\n",
       "      <th>ZN</th>\n",
       "      <th>INDUS</th>\n",
       "      <th>CHAS</th>\n",
       "      <th>NOX</th>\n",
       "      <th>RM</th>\n",
       "      <th>AGE</th>\n",
       "      <th>DIS</th>\n",
       "      <th>RAD</th>\n",
       "      <th>TAX</th>\n",
       "      <th>PTRATIO</th>\n",
       "      <th>B</th>\n",
       "      <th>LSTAT</th>\n",
       "      <th>MEDV</th>\n",
       "      <th>CAT.MEDV</th>\n",
       "    </tr>\n",
       "  </thead>\n",
       "  <tbody>\n",
       "    <tr>\n",
       "      <th>0</th>\n",
       "      <td>0.00632</td>\n",
       "      <td>18.0</td>\n",
       "      <td>2.31</td>\n",
       "      <td>0</td>\n",
       "      <td>0.538</td>\n",
       "      <td>6.575</td>\n",
       "      <td>65.2</td>\n",
       "      <td>4.0900</td>\n",
       "      <td>1</td>\n",
       "      <td>296</td>\n",
       "      <td>15.3</td>\n",
       "      <td>396.90</td>\n",
       "      <td>4.98</td>\n",
       "      <td>24.0</td>\n",
       "      <td>0</td>\n",
       "    </tr>\n",
       "    <tr>\n",
       "      <th>1</th>\n",
       "      <td>0.02731</td>\n",
       "      <td>0.0</td>\n",
       "      <td>7.07</td>\n",
       "      <td>0</td>\n",
       "      <td>0.469</td>\n",
       "      <td>6.421</td>\n",
       "      <td>78.9</td>\n",
       "      <td>4.9671</td>\n",
       "      <td>2</td>\n",
       "      <td>242</td>\n",
       "      <td>17.8</td>\n",
       "      <td>396.90</td>\n",
       "      <td>9.14</td>\n",
       "      <td>21.6</td>\n",
       "      <td>0</td>\n",
       "    </tr>\n",
       "    <tr>\n",
       "      <th>2</th>\n",
       "      <td>0.02729</td>\n",
       "      <td>0.0</td>\n",
       "      <td>7.07</td>\n",
       "      <td>0</td>\n",
       "      <td>0.469</td>\n",
       "      <td>7.185</td>\n",
       "      <td>61.1</td>\n",
       "      <td>4.9671</td>\n",
       "      <td>2</td>\n",
       "      <td>242</td>\n",
       "      <td>17.8</td>\n",
       "      <td>392.83</td>\n",
       "      <td>4.03</td>\n",
       "      <td>34.7</td>\n",
       "      <td>1</td>\n",
       "    </tr>\n",
       "    <tr>\n",
       "      <th>3</th>\n",
       "      <td>0.03237</td>\n",
       "      <td>0.0</td>\n",
       "      <td>2.18</td>\n",
       "      <td>0</td>\n",
       "      <td>0.458</td>\n",
       "      <td>6.998</td>\n",
       "      <td>45.8</td>\n",
       "      <td>6.0622</td>\n",
       "      <td>3</td>\n",
       "      <td>222</td>\n",
       "      <td>18.7</td>\n",
       "      <td>394.63</td>\n",
       "      <td>2.94</td>\n",
       "      <td>33.4</td>\n",
       "      <td>1</td>\n",
       "    </tr>\n",
       "    <tr>\n",
       "      <th>4</th>\n",
       "      <td>0.06905</td>\n",
       "      <td>0.0</td>\n",
       "      <td>2.18</td>\n",
       "      <td>0</td>\n",
       "      <td>0.458</td>\n",
       "      <td>7.147</td>\n",
       "      <td>54.2</td>\n",
       "      <td>6.0622</td>\n",
       "      <td>3</td>\n",
       "      <td>222</td>\n",
       "      <td>18.7</td>\n",
       "      <td>396.90</td>\n",
       "      <td>5.33</td>\n",
       "      <td>36.2</td>\n",
       "      <td>1</td>\n",
       "    </tr>\n",
       "    <tr>\n",
       "      <th>...</th>\n",
       "      <td>...</td>\n",
       "      <td>...</td>\n",
       "      <td>...</td>\n",
       "      <td>...</td>\n",
       "      <td>...</td>\n",
       "      <td>...</td>\n",
       "      <td>...</td>\n",
       "      <td>...</td>\n",
       "      <td>...</td>\n",
       "      <td>...</td>\n",
       "      <td>...</td>\n",
       "      <td>...</td>\n",
       "      <td>...</td>\n",
       "      <td>...</td>\n",
       "      <td>...</td>\n",
       "    </tr>\n",
       "    <tr>\n",
       "      <th>501</th>\n",
       "      <td>0.06263</td>\n",
       "      <td>0.0</td>\n",
       "      <td>11.93</td>\n",
       "      <td>0</td>\n",
       "      <td>0.573</td>\n",
       "      <td>6.593</td>\n",
       "      <td>69.1</td>\n",
       "      <td>2.4786</td>\n",
       "      <td>1</td>\n",
       "      <td>273</td>\n",
       "      <td>21.0</td>\n",
       "      <td>391.99</td>\n",
       "      <td>9.67</td>\n",
       "      <td>22.4</td>\n",
       "      <td>0</td>\n",
       "    </tr>\n",
       "    <tr>\n",
       "      <th>502</th>\n",
       "      <td>0.04527</td>\n",
       "      <td>0.0</td>\n",
       "      <td>11.93</td>\n",
       "      <td>0</td>\n",
       "      <td>0.573</td>\n",
       "      <td>6.120</td>\n",
       "      <td>76.7</td>\n",
       "      <td>2.2875</td>\n",
       "      <td>1</td>\n",
       "      <td>273</td>\n",
       "      <td>21.0</td>\n",
       "      <td>396.90</td>\n",
       "      <td>9.08</td>\n",
       "      <td>20.6</td>\n",
       "      <td>0</td>\n",
       "    </tr>\n",
       "    <tr>\n",
       "      <th>503</th>\n",
       "      <td>0.06076</td>\n",
       "      <td>0.0</td>\n",
       "      <td>11.93</td>\n",
       "      <td>0</td>\n",
       "      <td>0.573</td>\n",
       "      <td>6.976</td>\n",
       "      <td>91.0</td>\n",
       "      <td>2.1675</td>\n",
       "      <td>1</td>\n",
       "      <td>273</td>\n",
       "      <td>21.0</td>\n",
       "      <td>396.90</td>\n",
       "      <td>5.64</td>\n",
       "      <td>23.9</td>\n",
       "      <td>0</td>\n",
       "    </tr>\n",
       "    <tr>\n",
       "      <th>504</th>\n",
       "      <td>0.10959</td>\n",
       "      <td>0.0</td>\n",
       "      <td>11.93</td>\n",
       "      <td>0</td>\n",
       "      <td>0.573</td>\n",
       "      <td>6.794</td>\n",
       "      <td>89.3</td>\n",
       "      <td>2.3889</td>\n",
       "      <td>1</td>\n",
       "      <td>273</td>\n",
       "      <td>21.0</td>\n",
       "      <td>393.45</td>\n",
       "      <td>6.48</td>\n",
       "      <td>22.0</td>\n",
       "      <td>0</td>\n",
       "    </tr>\n",
       "    <tr>\n",
       "      <th>505</th>\n",
       "      <td>0.04741</td>\n",
       "      <td>0.0</td>\n",
       "      <td>11.93</td>\n",
       "      <td>0</td>\n",
       "      <td>0.573</td>\n",
       "      <td>6.030</td>\n",
       "      <td>80.8</td>\n",
       "      <td>2.5050</td>\n",
       "      <td>1</td>\n",
       "      <td>273</td>\n",
       "      <td>21.0</td>\n",
       "      <td>396.90</td>\n",
       "      <td>7.88</td>\n",
       "      <td>11.9</td>\n",
       "      <td>0</td>\n",
       "    </tr>\n",
       "  </tbody>\n",
       "</table>\n",
       "<p>506 rows × 15 columns</p>\n",
       "</div>"
      ],
      "text/plain": [
       "        CRIM    ZN  INDUS  CHAS    NOX     RM   AGE     DIS  RAD  TAX  \\\n",
       "0    0.00632  18.0   2.31     0  0.538  6.575  65.2  4.0900    1  296   \n",
       "1    0.02731   0.0   7.07     0  0.469  6.421  78.9  4.9671    2  242   \n",
       "2    0.02729   0.0   7.07     0  0.469  7.185  61.1  4.9671    2  242   \n",
       "3    0.03237   0.0   2.18     0  0.458  6.998  45.8  6.0622    3  222   \n",
       "4    0.06905   0.0   2.18     0  0.458  7.147  54.2  6.0622    3  222   \n",
       "..       ...   ...    ...   ...    ...    ...   ...     ...  ...  ...   \n",
       "501  0.06263   0.0  11.93     0  0.573  6.593  69.1  2.4786    1  273   \n",
       "502  0.04527   0.0  11.93     0  0.573  6.120  76.7  2.2875    1  273   \n",
       "503  0.06076   0.0  11.93     0  0.573  6.976  91.0  2.1675    1  273   \n",
       "504  0.10959   0.0  11.93     0  0.573  6.794  89.3  2.3889    1  273   \n",
       "505  0.04741   0.0  11.93     0  0.573  6.030  80.8  2.5050    1  273   \n",
       "\n",
       "     PTRATIO       B  LSTAT  MEDV  CAT.MEDV  \n",
       "0       15.3  396.90   4.98  24.0         0  \n",
       "1       17.8  396.90   9.14  21.6         0  \n",
       "2       17.8  392.83   4.03  34.7         1  \n",
       "3       18.7  394.63   2.94  33.4         1  \n",
       "4       18.7  396.90   5.33  36.2         1  \n",
       "..       ...     ...    ...   ...       ...  \n",
       "501     21.0  391.99   9.67  22.4         0  \n",
       "502     21.0  396.90   9.08  20.6         0  \n",
       "503     21.0  396.90   5.64  23.9         0  \n",
       "504     21.0  393.45   6.48  22.0         0  \n",
       "505     21.0  396.90   7.88  11.9         0  \n",
       "\n",
       "[506 rows x 15 columns]"
      ]
     },
     "execution_count": 11,
     "metadata": {},
     "output_type": "execute_result"
    }
   ],
   "source": [
    "boston"
   ]
  },
  {
   "cell_type": "markdown",
   "id": "2921c0fc-15e4-4088-af2a-5582c6488697",
   "metadata": {},
   "source": [
    "독립변수\n",
    "1. CRIM: 범죄율\n",
    "2. ZN: 25000 평방피트를 초과 거주지역 비율\n",
    "3. INDUS: 비-소매상업지역 면접 비율\n",
    "4. CHAS: 찰스강의 경계에 위치한 경우는 1, 아니면 0\n",
    "5. NOX: 일산화질소 농도\n",
    "6. RM: 주택당 방 수\n",
    "7. AGE: 1940년 이전에 전축된 주택의 비율\n",
    "8. DIS: 직업센터의 거리\n",
    "9. RAD: 방사형 고속도로까지의 거리\n",
    "10. TAX: 재산세율\n",
    "11. PTRATIO: 학생/교사 비율\n",
    "12. B: 인구 중 흑인 비율\n",
    "13. LSTAT: 인구 중 하위 계층 비율\n",
    "\n",
    "종속변수\n",
    "1. MEDV: 주택가격\n",
    "\n",
    "우선, ZN은 25000평방피트를 초과하는 거주지역의 비율인데, 25000평방피트를 초과하는 주택의 비율의 수가 많지 않을 것으로 예상되어 제외한다.\n",
    "또한, CHAS의 경우 찰스강에 인접하더라도 공장지역인 경우 주택가격이 낮을 수 있고, 공장지역이 아닌데 찰스강에 인접한 경우에는 주택가격이 높을 수 있으므로 상관관계를 정확히 파악하기 어려우므로 제외한다.\n",
    "위의 CSV 파일을 봤을 때, 25000평방피트를 초과하는 거주지역의 비율이 18%가 되는 지역과 0%인 지역 사이에 AGE 변수와 NOX 변수가 크게 관련이 없음이 보이므로 AGE와 NOX 변수를 제외한다.\n",
    "\n",
    "따라서, CRIM, INDUS, RM, DIS, RAD, TAX, PTRATIO, B, LSTAT을 독립변수로 활용한다."
   ]
  },
  {
   "cell_type": "markdown",
   "id": "3c4bfa94-2b24-492a-a7dc-e22ff0ac6dc5",
   "metadata": {},
   "source": [
    "한편, CAT.MEDV는 MEDV에서 파생된 속성으로 보이기 때문에 둘의 상관관계를 파악하여 둘이 비슷한 변수인 경우에는 사용하지 않는 것이 좋다."
   ]
  },
  {
   "cell_type": "code",
   "execution_count": 20,
   "id": "ef73e111-b789-4a69-97c0-e6790677f820",
   "metadata": {},
   "outputs": [
    {
     "data": {
      "image/png": "[encoded data removed]",
      "text/plain": [
       "<Figure size 640x480 with 2 Axes>"
      ]
     },
     "metadata": {},
     "output_type": "display_data"
    }
   ],
   "source": [
    "import seaborn as sns\n",
    "sns.heatmap(boston[['MEDV','CAT.MEDV']].corr(),annot=True)\n",
    "plt.show()"
   ]
  },
  {
   "cell_type": "markdown",
   "id": "9747e924-66d4-4926-9d18-08a3c8c35316",
   "metadata": {},
   "source": [
    "둘의 상관관계가 높음을 알 수 있으므로 CAT.MEDV는 drop으로 없애야한다."
   ]
  },
  {
   "cell_type": "code",
   "execution_count": 23,
   "id": "288716d1-b903-4bb5-8b71-1f48d138b226",
   "metadata": {},
   "outputs": [],
   "source": [
    "boston.drop(labels=\"CAT.MEDV\",axis=1,inplace=True)"
   ]
  },
  {
   "cell_type": "markdown",
   "id": "622ec6d3-2ed9-442d-9b04-ff1ce33e4c75",
   "metadata": {},
   "source": [
    "ZN CHAS AGE NOX 이 네 변수를 제외하기로 했으므로 마찬가지로 drop으로 업애야한다."
   ]
  },
  {
   "cell_type": "code",
   "execution_count": 26,
   "id": "4eaa7910-b5b8-4fe1-a34d-007229444865",
   "metadata": {},
   "outputs": [],
   "source": [
    "boston.drop(labels=['ZN','CHAS','AGE','NOX'],axis=1,inplace=True)"
   ]
  },
  {
   "cell_type": "markdown",
   "id": "110c8500-bc13-42e5-b5c1-06b9c94f7db7",
   "metadata": {},
   "source": [
    "## 독립변수와 종속변수 나누기\n",
    "\n",
    "X를 독립변수, y를 종속변수로 나눠야 한다.\n",
    "즉, 독립변수에는 MEDV컬럼이 제외되어야 하고, 종속변수에는 MEDV컬럼만이 사용되어야 한다."
   ]
  },
  {
   "cell_type": "code",
   "execution_count": 29,
   "id": "9971ff73-5296-4918-9ee1-d55f2d4aad62",
   "metadata": {},
   "outputs": [],
   "source": [
    "X = boston.drop(labels='MEDV',axis=1)\n",
    "y = boston[\"MEDV\"]"
   ]
  },
  {
   "cell_type": "markdown",
   "id": "93009756-ca6c-4c83-b146-b59da6d3b9b7",
   "metadata": {},
   "source": [
    "## 테스트데이터와 훈련데이터로 나누기\n",
    "\n",
    "모델을 학습시키기 위해 훈련데이터를 구분하고, 모델을 검증하기 위하여 테스트데이터를 나눠야 한다.\n",
    "이때, train_test_split을 사용해야 한다."
   ]
  },
  {
   "cell_type": "code",
   "execution_count": 32,
   "id": "56491b76-9c4e-4d3b-a20f-936b8e490cac",
   "metadata": {},
   "outputs": [],
   "source": [
    "X_train, X_test, y_train, y_test = train_test_split(X, y, test_size=0.2, random_state=2021)"
   ]
  },
  {
   "cell_type": "markdown",
   "id": "e6dd5b6a-a4df-4d96-9411-588122ed63b7",
   "metadata": {},
   "source": [
    "## Sklearn으로 다중회귀하기"
   ]
  },
  {
   "cell_type": "code",
   "execution_count": 35,
   "id": "fe9f24b8-4af2-4bd0-a7b7-0e0ba71c95a4",
   "metadata": {},
   "outputs": [
    {
     "data": {
      "text/plain": [
       "array([18.72935254, 16.3944723 , 22.19315123, 14.27243425, 38.06800633,\n",
       "       19.98331626, 27.42033891, 26.39077175, 20.35968628, 33.00873039,\n",
       "       39.12748826, 25.59575437, 16.99236382, 43.75185773, 34.62982889,\n",
       "       23.82290775, 21.72379818,  9.3661695 ,  8.99643452, 31.5204371 ,\n",
       "       22.83789124, 13.47768637, 12.58949501, 32.03851238, 12.93907855,\n",
       "       19.08189259, 20.7025474 , 26.28930951, 22.58203773, 12.30361311,\n",
       "       19.97622575, 28.719066  , 12.66855428, 25.30813383, 28.98413845,\n",
       "       17.02192129, 25.77152131, 18.79174127, 33.25880978, 23.41354717,\n",
       "       19.80325546, 27.79287976, 28.9252903 , 32.1925701 ,  8.44482764,\n",
       "       28.82666381, 22.63531577, 27.42913631, 24.48106499, 28.57145084,\n",
       "       12.41970707, 42.21094489, 20.71206297, 31.84651249, 19.74699538,\n",
       "       22.40676933, 25.40856676, 23.73937893, 30.89532053, 23.60446519,\n",
       "       36.3297726 , 21.25375795, 12.93880774, 24.99676055, 26.53337031,\n",
       "       21.16658853, 22.85473651, 26.73516505, 20.96295562,  0.98066745,\n",
       "       21.45337361, 36.40407899, 25.69535875, 27.20878587, 23.90773706,\n",
       "        9.24264102, 19.71723543, 16.91726413, 25.44019478, 22.23566388,\n",
       "       18.03055514, 14.21139139,  9.75416013, 15.76578808, 25.98525358,\n",
       "       24.63267875, 27.14491774, 15.50677283, 28.87428149, 19.70227121,\n",
       "       27.56572357, 13.6223837 , 31.39716428, 22.10176392, 22.92053533,\n",
       "       18.98386112, 27.72873012, 10.59461466, 18.59157074, 18.33496149,\n",
       "       29.39235441, 20.96120155])"
      ]
     },
     "execution_count": 35,
     "metadata": {},
     "output_type": "execute_result"
    }
   ],
   "source": [
    "from sklearn.linear_model import LinearRegression   #선형회귀 불러오기\n",
    "Lr_skl = LinearRegression()  #Lr_skl 변수에 선형회귀를 저장\n",
    "Lr_skl.fit(X_train,y_train)  #Lr_skl에 훈련데이터들을 fit 시키기\n",
    "y_pred_skl=Lr_skl.predict(X_test) #fit 시켰으니까 독립변수의 테스트데이터들로 예측해서 y_pred_skl변수에 저장하기\n",
    "y_pred_skl"
   ]
  },
  {
   "cell_type": "markdown",
   "id": "3d2c2500-76c5-4997-bbbe-6eb91d4ab97f",
   "metadata": {},
   "source": [
    "위에 나오는 데이터들은 학습데이터들로 학습시키고 나서, 미리 제외해둔 테스트데이터의 종속변수들 넣었을 때 어떤 값들이 나타나는지 확인한 것!"
   ]
  },
  {
   "cell_type": "markdown",
   "id": "3228f518-c3b2-4bfe-afce-d44baf02a36f",
   "metadata": {},
   "source": [
    "## 다중공선성 확인\n",
    "\n",
    "위의 다중회귀는 독립변수가 상당히 많아서 정확성이 떨어질 수 있다. 즉, 다중공선성을 확인해서 필요없는 변수를 제거할 필요가 있다."
   ]
  },
  {
   "cell_type": "code",
   "execution_count": 41,
   "id": "e6575973-3530-4dad-b4d0-3bf2b09c67c1",
   "metadata": {},
   "outputs": [
    {
     "data": {
      "image/png": "[encoded data removed]",
      "text/plain": [
       "<Figure size 2000x1500 with 2 Axes>"
      ]
     },
     "metadata": {},
     "output_type": "display_data"
    }
   ],
   "source": [
    "import seaborn as sns\n",
    "plt.figure(figsize=(20,15))\n",
    "\n",
    "sns.heatmap(X_train.corr(), annot=True)\n",
    "plt.show()"
   ]
  },
  {
   "cell_type": "code",
   "execution_count": 43,
   "id": "10eb1dc1-2681-4aae-acff-3256b9fd63d9",
   "metadata": {},
   "outputs": [
    {
     "data": {
      "text/html": [
       "<div>\n",
       "<style scoped>\n",
       "    .dataframe tbody tr th:only-of-type {\n",
       "        vertical-align: middle;\n",
       "    }\n",
       "\n",
       "    .dataframe tbody tr th {\n",
       "        vertical-align: top;\n",
       "    }\n",
       "\n",
       "    .dataframe thead th {\n",
       "        text-align: right;\n",
       "    }\n",
       "</style>\n",
       "<table border=\"1\" class=\"dataframe\">\n",
       "  <thead>\n",
       "    <tr style=\"text-align: right;\">\n",
       "      <th></th>\n",
       "      <th>CRIM</th>\n",
       "      <th>INDUS</th>\n",
       "      <th>RM</th>\n",
       "      <th>DIS</th>\n",
       "      <th>RAD</th>\n",
       "      <th>TAX</th>\n",
       "      <th>PTRATIO</th>\n",
       "      <th>B</th>\n",
       "      <th>LSTAT</th>\n",
       "    </tr>\n",
       "  </thead>\n",
       "  <tbody>\n",
       "    <tr>\n",
       "      <th>CRIM</th>\n",
       "      <td>1.000000</td>\n",
       "      <td>0.406583</td>\n",
       "      <td>-0.219247</td>\n",
       "      <td>-0.379670</td>\n",
       "      <td>0.625505</td>\n",
       "      <td>0.582764</td>\n",
       "      <td>0.289946</td>\n",
       "      <td>-0.385064</td>\n",
       "      <td>0.455621</td>\n",
       "    </tr>\n",
       "    <tr>\n",
       "      <th>INDUS</th>\n",
       "      <td>0.406583</td>\n",
       "      <td>1.000000</td>\n",
       "      <td>-0.391676</td>\n",
       "      <td>-0.708027</td>\n",
       "      <td>0.595129</td>\n",
       "      <td>0.720760</td>\n",
       "      <td>0.383248</td>\n",
       "      <td>-0.356977</td>\n",
       "      <td>0.603800</td>\n",
       "    </tr>\n",
       "    <tr>\n",
       "      <th>RM</th>\n",
       "      <td>-0.219247</td>\n",
       "      <td>-0.391676</td>\n",
       "      <td>1.000000</td>\n",
       "      <td>0.205246</td>\n",
       "      <td>-0.209847</td>\n",
       "      <td>-0.292048</td>\n",
       "      <td>-0.355501</td>\n",
       "      <td>0.128069</td>\n",
       "      <td>-0.613808</td>\n",
       "    </tr>\n",
       "    <tr>\n",
       "      <th>DIS</th>\n",
       "      <td>-0.379670</td>\n",
       "      <td>-0.708027</td>\n",
       "      <td>0.205246</td>\n",
       "      <td>1.000000</td>\n",
       "      <td>-0.494588</td>\n",
       "      <td>-0.534432</td>\n",
       "      <td>-0.232471</td>\n",
       "      <td>0.291512</td>\n",
       "      <td>-0.496996</td>\n",
       "    </tr>\n",
       "    <tr>\n",
       "      <th>RAD</th>\n",
       "      <td>0.625505</td>\n",
       "      <td>0.595129</td>\n",
       "      <td>-0.209847</td>\n",
       "      <td>-0.494588</td>\n",
       "      <td>1.000000</td>\n",
       "      <td>0.910228</td>\n",
       "      <td>0.464741</td>\n",
       "      <td>-0.444413</td>\n",
       "      <td>0.488676</td>\n",
       "    </tr>\n",
       "    <tr>\n",
       "      <th>TAX</th>\n",
       "      <td>0.582764</td>\n",
       "      <td>0.720760</td>\n",
       "      <td>-0.292048</td>\n",
       "      <td>-0.534432</td>\n",
       "      <td>0.910228</td>\n",
       "      <td>1.000000</td>\n",
       "      <td>0.460853</td>\n",
       "      <td>-0.441808</td>\n",
       "      <td>0.543993</td>\n",
       "    </tr>\n",
       "    <tr>\n",
       "      <th>PTRATIO</th>\n",
       "      <td>0.289946</td>\n",
       "      <td>0.383248</td>\n",
       "      <td>-0.355501</td>\n",
       "      <td>-0.232471</td>\n",
       "      <td>0.464741</td>\n",
       "      <td>0.460853</td>\n",
       "      <td>1.000000</td>\n",
       "      <td>-0.177383</td>\n",
       "      <td>0.374044</td>\n",
       "    </tr>\n",
       "    <tr>\n",
       "      <th>B</th>\n",
       "      <td>-0.385064</td>\n",
       "      <td>-0.356977</td>\n",
       "      <td>0.128069</td>\n",
       "      <td>0.291512</td>\n",
       "      <td>-0.444413</td>\n",
       "      <td>-0.441808</td>\n",
       "      <td>-0.177383</td>\n",
       "      <td>1.000000</td>\n",
       "      <td>-0.366087</td>\n",
       "    </tr>\n",
       "    <tr>\n",
       "      <th>LSTAT</th>\n",
       "      <td>0.455621</td>\n",
       "      <td>0.603800</td>\n",
       "      <td>-0.613808</td>\n",
       "      <td>-0.496996</td>\n",
       "      <td>0.488676</td>\n",
       "      <td>0.543993</td>\n",
       "      <td>0.374044</td>\n",
       "      <td>-0.366087</td>\n",
       "      <td>1.000000</td>\n",
       "    </tr>\n",
       "  </tbody>\n",
       "</table>\n",
       "</div>"
      ],
      "text/plain": [
       "             CRIM     INDUS        RM       DIS       RAD       TAX   PTRATIO  \\\n",
       "CRIM     1.000000  0.406583 -0.219247 -0.379670  0.625505  0.582764  0.289946   \n",
       "INDUS    0.406583  1.000000 -0.391676 -0.708027  0.595129  0.720760  0.383248   \n",
       "RM      -0.219247 -0.391676  1.000000  0.205246 -0.209847 -0.292048 -0.355501   \n",
       "DIS     -0.379670 -0.708027  0.205246  1.000000 -0.494588 -0.534432 -0.232471   \n",
       "RAD      0.625505  0.595129 -0.209847 -0.494588  1.000000  0.910228  0.464741   \n",
       "TAX      0.582764  0.720760 -0.292048 -0.534432  0.910228  1.000000  0.460853   \n",
       "PTRATIO  0.289946  0.383248 -0.355501 -0.232471  0.464741  0.460853  1.000000   \n",
       "B       -0.385064 -0.356977  0.128069  0.291512 -0.444413 -0.441808 -0.177383   \n",
       "LSTAT    0.455621  0.603800 -0.613808 -0.496996  0.488676  0.543993  0.374044   \n",
       "\n",
       "                B     LSTAT  \n",
       "CRIM    -0.385064  0.455621  \n",
       "INDUS   -0.356977  0.603800  \n",
       "RM       0.128069 -0.613808  \n",
       "DIS      0.291512 -0.496996  \n",
       "RAD     -0.444413  0.488676  \n",
       "TAX     -0.441808  0.543993  \n",
       "PTRATIO -0.177383  0.374044  \n",
       "B        1.000000 -0.366087  \n",
       "LSTAT   -0.366087  1.000000  "
      ]
     },
     "execution_count": 43,
     "metadata": {},
     "output_type": "execute_result"
    }
   ],
   "source": [
    "X.corr()"
   ]
  },
  {
   "cell_type": "markdown",
   "id": "e6ba702c-c406-475e-89e6-0ca0d6af54d0",
   "metadata": {},
   "source": [
    "## VIF를 이용하여 다중공선성 확인하기\n",
    "\n",
    "VIF=1: 독립변수는 다른 변수와 상관관계가 전혀 없음\n",
    "\n",
    "VIF<5: 일반적으로 다중공선성 문제가 없음\n",
    "\n",
    "VIF>5: 다중공선성의 징후가 있을 수 있으며, 주의가 필요\n",
    "\n",
    "VIF>10: 다중공선성이 심각하여 조치가 필요"
   ]
  },
  {
   "cell_type": "code",
   "execution_count": 49,
   "id": "6c739a81-d1ec-4fbd-99c2-4efa8f2642cd",
   "metadata": {},
   "outputs": [
    {
     "name": "stdout",
     "output_type": "stream",
     "text": [
      "  features        VIF\n",
      "0     CRIM   2.075253\n",
      "1    INDUS  12.804961\n",
      "2       RM  45.076407\n",
      "3      DIS   8.605255\n",
      "4      RAD  14.776126\n",
      "5      TAX  55.845442\n",
      "6  PTRATIO  71.868133\n",
      "7        B  19.672618\n",
      "8    LSTAT   8.175348\n"
     ]
    }
   ],
   "source": [
    "from statsmodels.stats.outliers_influence import variance_inflation_factor\n",
    "\n",
    "def vif(X):\n",
    "    vif_data = pd.DataFrame()             #vif에 대한 데이터를 데이터프레임에 넣는다.\n",
    "    vif_data[\"features\"] = X.columns      #이때, vif에 대한 데이터의 피처들을 컬럼으로 잡는다.\n",
    "    vif_data[\"VIF\"] = [variance_inflation_factor(X.values, i) for i in range(X.shape[1])]\n",
    "    print(vif_data)                       #X(독립변수)의 열의 개수만큼 반복할건데, 그 독립변수의 value값들을 확인할거다.\n",
    "vif(X)"
   ]
  },
  {
   "cell_type": "markdown",
   "id": "7c9d8058-5008-4412-93da-65c4ba50d9cc",
   "metadata": {},
   "source": [
    "vif가 높은 변수를 하나 없애면, 다시 다른 변수에도 영향을 미쳐서 하나씩 제거하면서 확인해야한다."
   ]
  },
  {
   "cell_type": "code",
   "execution_count": 56,
   "id": "fa8a98fc-b1e7-4a3e-9f0c-d5690099be35",
   "metadata": {},
   "outputs": [
    {
     "name": "stdout",
     "output_type": "stream",
     "text": [
      "  features        VIF\n",
      "0     CRIM   2.075087\n",
      "1    INDUS  12.371064\n",
      "2       RM  30.317344\n",
      "3      DIS   7.831135\n",
      "4      RAD  14.724239\n",
      "5      TAX  55.012137\n",
      "6        B  18.004590\n",
      "7    LSTAT   6.911632\n"
     ]
    }
   ],
   "source": [
    "vif(X.drop('PTRATIO',axis=1))"
   ]
  },
  {
   "cell_type": "code",
   "execution_count": 60,
   "id": "5cc2c9bf-6ebb-445b-b1ac-be498596c5b3",
   "metadata": {},
   "outputs": [
    {
     "name": "stdout",
     "output_type": "stream",
     "text": [
      "  features        VIF\n",
      "0     CRIM   2.074638\n",
      "1    INDUS   8.882269\n",
      "2       RM  27.323636\n",
      "3      DIS   7.422942\n",
      "4      RAD   4.964237\n",
      "5        B  17.938068\n",
      "6    LSTAT   6.693725\n"
     ]
    }
   ],
   "source": [
    "vif(X.drop(['PTRATIO','TAX'],axis=1))"
   ]
  },
  {
   "cell_type": "code",
   "execution_count": 62,
   "id": "23408166-82ac-4ec4-90a1-7d075128eaf3",
   "metadata": {},
   "outputs": [
    {
     "name": "stdout",
     "output_type": "stream",
     "text": [
      "  features       VIF\n",
      "0     CRIM  2.072454\n",
      "1    INDUS  8.028123\n",
      "2      DIS  5.595192\n",
      "3      RAD  4.685531\n",
      "4        B  9.836965\n",
      "5    LSTAT  6.688106\n"
     ]
    }
   ],
   "source": [
    "vif(X.drop(['PTRATIO','TAX','RM'],axis=1))"
   ]
  },
  {
   "cell_type": "markdown",
   "id": "0bc7c80c-f9f4-41e3-a60b-e43d64a5d4b8",
   "metadata": {},
   "source": [
    "PTRATIO, TAX, RM 변수를 지운 결과 모두 10보다 작은 값이 나타났다."
   ]
  },
  {
   "cell_type": "markdown",
   "id": "f504b81b-cfea-4d99-93db-cacd9184ad0d",
   "metadata": {},
   "source": [
    "# 모델 평가하기\n",
    "\n",
    "사용하지 않는 컬럼을 DROP, 다중공선성 확인, t값과 p-value 확인 진행하기"
   ]
  },
  {
   "cell_type": "code",
   "execution_count": 68,
   "id": "2919784c-d0d5-4aa7-a83b-9b7b90ca4362",
   "metadata": {},
   "outputs": [
    {
     "data": {
      "text/plain": [
       "array([18.32149123, 19.28496812, 26.12188589, 14.1200673 , 32.81190183,\n",
       "       21.1603642 , 29.69459758, 27.13049659, 20.2611886 , 31.04387443,\n",
       "       31.18549664, 22.81274617, 16.87531038, 33.56852845, 31.70430628,\n",
       "       21.68072844, 22.41486216,  7.45960301,  4.91792445, 31.03307838,\n",
       "       26.57793604, 15.23046545, 15.79201682, 32.27015569, 16.74234339,\n",
       "       15.66156331, 18.18461224, 28.32476908, 25.86201206, 12.15212086,\n",
       "       20.77868394, 30.57475227, 13.78292739, 25.77125334, 29.2163753 ,\n",
       "       19.93341313, 25.25913897, 16.61021528, 30.99165325, 22.00932709,\n",
       "       21.74017088, 26.02565841, 28.30485519, 30.55028291,  6.602527  ,\n",
       "       28.45880718, 26.14569166, 26.38765797, 25.73104148, 29.04026998,\n",
       "       12.72623417, 31.89399741, 21.10866333, 32.4578974 , 15.68657308,\n",
       "       21.17504873, 28.04223456, 25.57140396, 28.69948481, 28.02926512,\n",
       "       34.35713731, 26.6252044 , 10.54313519, 23.59056956, 26.60409723,\n",
       "       25.80267258, 27.73385933, 28.9556556 , 22.72285277,  1.41055171,\n",
       "       18.42669024, 30.3076166 , 25.6619457 , 24.56068614, 27.94085649,\n",
       "       21.59102691, 22.05786985, 17.35212146, 25.19165555, 22.7888669 ,\n",
       "       13.65269143, 20.75595003, 11.2897503 , 16.53871053, 22.78205087,\n",
       "       21.36780286, 27.17457832, 11.76139011, 31.20553899, 20.65800766,\n",
       "       23.90642937, 16.54199814, 32.322083  , 23.70987919, 26.20567473,\n",
       "       19.802275  , 27.49155559,  4.03926875, 19.62970839, 19.7281074 ,\n",
       "       27.53110222, 19.59780747])"
      ]
     },
     "execution_count": 68,
     "metadata": {},
     "output_type": "execute_result"
    }
   ],
   "source": [
    "boston.drop(labels=['PTRATIO','TAX','RM'],axis=1,inplace=True)\n",
    "\n",
    "X = boston.drop(labels=\"MEDV\", axis=1)\n",
    "y = boston['MEDV']\n",
    "\n",
    "X_train, X_test, y_train, y_test = train_test_split(X, y, test_size=0.2, random_state=2021)\n",
    "\n",
    "from sklearn.linear_model import LinearRegression\n",
    "lr_skl = LinearRegression()\n",
    "lr_skl.fit(X_train, y_train)\n",
    "y_pred_skl = lr_skl.predict(X_test)     #훈련데이터들을 학습해서 테스트데이터들로 나타낸 결과\n",
    "y_pred_skl"
   ]
  },
  {
   "cell_type": "code",
   "execution_count": 70,
   "id": "c0f74478-6eab-4a53-8271-c85fef7ffe39",
   "metadata": {},
   "outputs": [
    {
     "name": "stdout",
     "output_type": "stream",
     "text": [
      "                            OLS Regression Results                            \n",
      "==============================================================================\n",
      "Dep. Variable:                   MEDV   R-squared:                       0.613\n",
      "Model:                            OLS   Adj. R-squared:                  0.607\n",
      "Method:                 Least Squares   F-statistic:                     104.6\n",
      "Date:                Tue, 25 Mar 2025   Prob (F-statistic):           1.36e-78\n",
      "Time:                        11:48:44   Log-Likelihood:                -1289.8\n",
      "No. Observations:                 404   AIC:                             2594.\n",
      "Df Residuals:                     397   BIC:                             2622.\n",
      "Df Model:                           6                                         \n",
      "Covariance Type:            nonrobust                                         \n",
      "==============================================================================\n",
      "                 coef    std err          t      P>|t|      [0.025      0.975]\n",
      "------------------------------------------------------------------------------\n",
      "const         40.7534      2.093     19.476      0.000      36.640      44.867\n",
      "CRIM          -0.0922      0.041     -2.222      0.027      -0.174      -0.011\n",
      "INDUS         -0.3231      0.070     -4.641      0.000      -0.460      -0.186\n",
      "DIS           -1.3686      0.201     -6.798      0.000      -1.764      -0.973\n",
      "RAD            0.0814      0.049      1.644      0.101      -0.016       0.179\n",
      "B              0.0066      0.004      1.819      0.070      -0.001       0.014\n",
      "LSTAT         -0.9619      0.056    -17.246      0.000      -1.072      -0.852\n",
      "==============================================================================\n",
      "Omnibus:                       95.208   Durbin-Watson:                   1.827\n",
      "Prob(Omnibus):                  0.000   Jarque-Bera (JB):              179.741\n",
      "Skew:                           1.299   Prob(JB):                     9.33e-40\n",
      "Kurtosis:                       4.981   Cond. No.                     2.61e+03\n",
      "==============================================================================\n",
      "\n",
      "Notes:\n",
      "[1] Standard Errors assume that the covariance matrix of the errors is correctly specified.\n",
      "[2] The condition number is large, 2.61e+03. This might indicate that there are\n",
      "strong multicollinearity or other numerical problems.\n"
     ]
    }
   ],
   "source": [
    "from sklearn.metrics import mean_squared_error, r2_score, mean_absolute_error\n",
    "\n",
    "test_mse_skl = mean_squared_error(y_test, y_pred_skl)\n",
    "test_mae_skl = mean_absolute_error(y_test, y_pred_skl)\n",
    "test_r2_skl = r2_score(y_test, y_pred_skl)\n",
    "\n",
    "X_train = sm.add_constant(X_train)     #statasmodels에서는 상수항 추가를 직접 작성해야 한다.\n",
    "\n",
    "model=sm.OLS(y_train,X_train)          #최소제곱법으로 모델 생성\n",
    "model_trained=model.fit()              #모델을 학습시키기 위해 fit 사용\n",
    "\n",
    "print(model_trained.summary())         #학습시킨 모델에 대한 요약 "
   ]
  },
  {
   "cell_type": "markdown",
   "id": "79bf1a41-f135-4afa-937c-ac8428474c1c",
   "metadata": {},
   "source": [
    "## 결과\n",
    "\n",
    "P>|t| 값을 확인하면 0.05보다 작아야 유의미한데, rad와 b를 제외하고는 0.05보다 작은, 즉 유의미한 수치를 보이고 있다.\n",
    "또한, 마찬가지로 t값을 확인하면 rad와 b를 제외하고는 상관도가 매우 큰 것을 확인할 수 있다."
   ]
  },
  {
   "cell_type": "code",
   "execution_count": null,
   "id": "1110cb32-4d75-4f49-b09d-591590b55b49",
   "metadata": {},
   "outputs": [],
   "source": []
  }
 ],
 "metadata": {
  "kernelspec": {
   "display_name": "Python [conda env:base] *",
   "language": "python",
   "name": "conda-base-py"
  },
  "language_info": {
   "codemirror_mode": {
    "name": "ipython",
    "version": 3
   },
   "file_extension": ".py",
   "mimetype": "text/x-python",
   "name": "python",
   "nbconvert_exporter": "python",
   "pygments_lexer": "ipython3",
   "version": "3.12.3"
  }
 },
 "nbformat": 4,
 "nbformat_minor": 5
}
