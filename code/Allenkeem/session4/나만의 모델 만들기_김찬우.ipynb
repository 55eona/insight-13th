{
 "cells": [
  {
   "cell_type": "markdown",
   "id": "296b2fe8-3767-442b-8c32-cbae63e452a6",
   "metadata": {},
   "source": [
    "라이브러리 및 데이터를 가져옵시다."
   ]
  },
  {
   "cell_type": "code",
   "execution_count": 2,
   "id": "15c6bbd9-f0b2-4824-829c-49608ec15eb8",
   "metadata": {},
   "outputs": [],
   "source": [
    "# 데이터 전처리 패키지\n",
    "import numpy as np\n",
    "import pandas as pd\n",
    "\n",
    "# 기계학습 모델 구축 및 평가 패키지\n",
    "from sklearn.linear_model import LinearRegression\n",
    "\n",
    "import scipy as sp\n",
    "import scipy.stats as stats\n",
    "\n",
    "import statsmodels.api as sm\n",
    "from statsmodels.formula.api import ols\n",
    "\n",
    "from sklearn.model_selection import train_test_split\n",
    "from sklearn.metrics import mean_squared_error, r2_score, mean_absolute_error\n",
    "\n",
    "# 데이터 시각화 패키지\n",
    "import seaborn as sns\n",
    "import matplotlib.pyplot as plt\n",
    "\n",
    "boston = pd.read_csv(\"house_price.csv\")"
   ]
  },
  {
   "cell_type": "code",
   "execution_count": 3,
   "id": "51622f2a-e2b0-48d0-a76d-6daa31d076ff",
   "metadata": {},
   "outputs": [
    {
     "data": {
      "text/html": [
       "<div>\n",
       "<style scoped>\n",
       "    .dataframe tbody tr th:only-of-type {\n",
       "        vertical-align: middle;\n",
       "    }\n",
       "\n",
       "    .dataframe tbody tr th {\n",
       "        vertical-align: top;\n",
       "    }\n",
       "\n",
       "    .dataframe thead th {\n",
       "        text-align: right;\n",
       "    }\n",
       "</style>\n",
       "<table border=\"1\" class=\"dataframe\">\n",
       "  <thead>\n",
       "    <tr style=\"text-align: right;\">\n",
       "      <th></th>\n",
       "      <th>CRIM</th>\n",
       "      <th>ZN</th>\n",
       "      <th>INDUS</th>\n",
       "      <th>CHAS</th>\n",
       "      <th>NOX</th>\n",
       "      <th>RM</th>\n",
       "      <th>AGE</th>\n",
       "      <th>DIS</th>\n",
       "      <th>RAD</th>\n",
       "      <th>TAX</th>\n",
       "      <th>PTRATIO</th>\n",
       "      <th>B</th>\n",
       "      <th>LSTAT</th>\n",
       "      <th>MEDV</th>\n",
       "      <th>CAT.MEDV</th>\n",
       "    </tr>\n",
       "  </thead>\n",
       "  <tbody>\n",
       "    <tr>\n",
       "      <th>0</th>\n",
       "      <td>0.00632</td>\n",
       "      <td>18.0</td>\n",
       "      <td>2.31</td>\n",
       "      <td>0</td>\n",
       "      <td>0.538</td>\n",
       "      <td>6.575</td>\n",
       "      <td>65.2</td>\n",
       "      <td>4.0900</td>\n",
       "      <td>1</td>\n",
       "      <td>296</td>\n",
       "      <td>15.3</td>\n",
       "      <td>396.90</td>\n",
       "      <td>4.98</td>\n",
       "      <td>24.0</td>\n",
       "      <td>0</td>\n",
       "    </tr>\n",
       "    <tr>\n",
       "      <th>1</th>\n",
       "      <td>0.02731</td>\n",
       "      <td>0.0</td>\n",
       "      <td>7.07</td>\n",
       "      <td>0</td>\n",
       "      <td>0.469</td>\n",
       "      <td>6.421</td>\n",
       "      <td>78.9</td>\n",
       "      <td>4.9671</td>\n",
       "      <td>2</td>\n",
       "      <td>242</td>\n",
       "      <td>17.8</td>\n",
       "      <td>396.90</td>\n",
       "      <td>9.14</td>\n",
       "      <td>21.6</td>\n",
       "      <td>0</td>\n",
       "    </tr>\n",
       "    <tr>\n",
       "      <th>2</th>\n",
       "      <td>0.02729</td>\n",
       "      <td>0.0</td>\n",
       "      <td>7.07</td>\n",
       "      <td>0</td>\n",
       "      <td>0.469</td>\n",
       "      <td>7.185</td>\n",
       "      <td>61.1</td>\n",
       "      <td>4.9671</td>\n",
       "      <td>2</td>\n",
       "      <td>242</td>\n",
       "      <td>17.8</td>\n",
       "      <td>392.83</td>\n",
       "      <td>4.03</td>\n",
       "      <td>34.7</td>\n",
       "      <td>1</td>\n",
       "    </tr>\n",
       "    <tr>\n",
       "      <th>3</th>\n",
       "      <td>0.03237</td>\n",
       "      <td>0.0</td>\n",
       "      <td>2.18</td>\n",
       "      <td>0</td>\n",
       "      <td>0.458</td>\n",
       "      <td>6.998</td>\n",
       "      <td>45.8</td>\n",
       "      <td>6.0622</td>\n",
       "      <td>3</td>\n",
       "      <td>222</td>\n",
       "      <td>18.7</td>\n",
       "      <td>394.63</td>\n",
       "      <td>2.94</td>\n",
       "      <td>33.4</td>\n",
       "      <td>1</td>\n",
       "    </tr>\n",
       "    <tr>\n",
       "      <th>4</th>\n",
       "      <td>0.06905</td>\n",
       "      <td>0.0</td>\n",
       "      <td>2.18</td>\n",
       "      <td>0</td>\n",
       "      <td>0.458</td>\n",
       "      <td>7.147</td>\n",
       "      <td>54.2</td>\n",
       "      <td>6.0622</td>\n",
       "      <td>3</td>\n",
       "      <td>222</td>\n",
       "      <td>18.7</td>\n",
       "      <td>396.90</td>\n",
       "      <td>5.33</td>\n",
       "      <td>36.2</td>\n",
       "      <td>1</td>\n",
       "    </tr>\n",
       "    <tr>\n",
       "      <th>...</th>\n",
       "      <td>...</td>\n",
       "      <td>...</td>\n",
       "      <td>...</td>\n",
       "      <td>...</td>\n",
       "      <td>...</td>\n",
       "      <td>...</td>\n",
       "      <td>...</td>\n",
       "      <td>...</td>\n",
       "      <td>...</td>\n",
       "      <td>...</td>\n",
       "      <td>...</td>\n",
       "      <td>...</td>\n",
       "      <td>...</td>\n",
       "      <td>...</td>\n",
       "      <td>...</td>\n",
       "    </tr>\n",
       "    <tr>\n",
       "      <th>501</th>\n",
       "      <td>0.06263</td>\n",
       "      <td>0.0</td>\n",
       "      <td>11.93</td>\n",
       "      <td>0</td>\n",
       "      <td>0.573</td>\n",
       "      <td>6.593</td>\n",
       "      <td>69.1</td>\n",
       "      <td>2.4786</td>\n",
       "      <td>1</td>\n",
       "      <td>273</td>\n",
       "      <td>21.0</td>\n",
       "      <td>391.99</td>\n",
       "      <td>9.67</td>\n",
       "      <td>22.4</td>\n",
       "      <td>0</td>\n",
       "    </tr>\n",
       "    <tr>\n",
       "      <th>502</th>\n",
       "      <td>0.04527</td>\n",
       "      <td>0.0</td>\n",
       "      <td>11.93</td>\n",
       "      <td>0</td>\n",
       "      <td>0.573</td>\n",
       "      <td>6.120</td>\n",
       "      <td>76.7</td>\n",
       "      <td>2.2875</td>\n",
       "      <td>1</td>\n",
       "      <td>273</td>\n",
       "      <td>21.0</td>\n",
       "      <td>396.90</td>\n",
       "      <td>9.08</td>\n",
       "      <td>20.6</td>\n",
       "      <td>0</td>\n",
       "    </tr>\n",
       "    <tr>\n",
       "      <th>503</th>\n",
       "      <td>0.06076</td>\n",
       "      <td>0.0</td>\n",
       "      <td>11.93</td>\n",
       "      <td>0</td>\n",
       "      <td>0.573</td>\n",
       "      <td>6.976</td>\n",
       "      <td>91.0</td>\n",
       "      <td>2.1675</td>\n",
       "      <td>1</td>\n",
       "      <td>273</td>\n",
       "      <td>21.0</td>\n",
       "      <td>396.90</td>\n",
       "      <td>5.64</td>\n",
       "      <td>23.9</td>\n",
       "      <td>0</td>\n",
       "    </tr>\n",
       "    <tr>\n",
       "      <th>504</th>\n",
       "      <td>0.10959</td>\n",
       "      <td>0.0</td>\n",
       "      <td>11.93</td>\n",
       "      <td>0</td>\n",
       "      <td>0.573</td>\n",
       "      <td>6.794</td>\n",
       "      <td>89.3</td>\n",
       "      <td>2.3889</td>\n",
       "      <td>1</td>\n",
       "      <td>273</td>\n",
       "      <td>21.0</td>\n",
       "      <td>393.45</td>\n",
       "      <td>6.48</td>\n",
       "      <td>22.0</td>\n",
       "      <td>0</td>\n",
       "    </tr>\n",
       "    <tr>\n",
       "      <th>505</th>\n",
       "      <td>0.04741</td>\n",
       "      <td>0.0</td>\n",
       "      <td>11.93</td>\n",
       "      <td>0</td>\n",
       "      <td>0.573</td>\n",
       "      <td>6.030</td>\n",
       "      <td>80.8</td>\n",
       "      <td>2.5050</td>\n",
       "      <td>1</td>\n",
       "      <td>273</td>\n",
       "      <td>21.0</td>\n",
       "      <td>396.90</td>\n",
       "      <td>7.88</td>\n",
       "      <td>11.9</td>\n",
       "      <td>0</td>\n",
       "    </tr>\n",
       "  </tbody>\n",
       "</table>\n",
       "<p>506 rows × 15 columns</p>\n",
       "</div>"
      ],
      "text/plain": [
       "        CRIM    ZN  INDUS  CHAS    NOX     RM   AGE     DIS  RAD  TAX  \\\n",
       "0    0.00632  18.0   2.31     0  0.538  6.575  65.2  4.0900    1  296   \n",
       "1    0.02731   0.0   7.07     0  0.469  6.421  78.9  4.9671    2  242   \n",
       "2    0.02729   0.0   7.07     0  0.469  7.185  61.1  4.9671    2  242   \n",
       "3    0.03237   0.0   2.18     0  0.458  6.998  45.8  6.0622    3  222   \n",
       "4    0.06905   0.0   2.18     0  0.458  7.147  54.2  6.0622    3  222   \n",
       "..       ...   ...    ...   ...    ...    ...   ...     ...  ...  ...   \n",
       "501  0.06263   0.0  11.93     0  0.573  6.593  69.1  2.4786    1  273   \n",
       "502  0.04527   0.0  11.93     0  0.573  6.120  76.7  2.2875    1  273   \n",
       "503  0.06076   0.0  11.93     0  0.573  6.976  91.0  2.1675    1  273   \n",
       "504  0.10959   0.0  11.93     0  0.573  6.794  89.3  2.3889    1  273   \n",
       "505  0.04741   0.0  11.93     0  0.573  6.030  80.8  2.5050    1  273   \n",
       "\n",
       "     PTRATIO       B  LSTAT  MEDV  CAT.MEDV  \n",
       "0       15.3  396.90   4.98  24.0         0  \n",
       "1       17.8  396.90   9.14  21.6         0  \n",
       "2       17.8  392.83   4.03  34.7         1  \n",
       "3       18.7  394.63   2.94  33.4         1  \n",
       "4       18.7  396.90   5.33  36.2         1  \n",
       "..       ...     ...    ...   ...       ...  \n",
       "501     21.0  391.99   9.67  22.4         0  \n",
       "502     21.0  396.90   9.08  20.6         0  \n",
       "503     21.0  396.90   5.64  23.9         0  \n",
       "504     21.0  393.45   6.48  22.0         0  \n",
       "505     21.0  396.90   7.88  11.9         0  \n",
       "\n",
       "[506 rows x 15 columns]"
      ]
     },
     "execution_count": 3,
     "metadata": {},
     "output_type": "execute_result"
    }
   ],
   "source": [
    "boston # 데이터 확인하기"
   ]
  },
  {
   "cell_type": "code",
   "execution_count": 4,
   "id": "441568e3-e1be-41a4-833a-0328b5d71906",
   "metadata": {},
   "outputs": [
    {
     "data": {
      "text/plain": [
       "CRIM        0\n",
       "ZN          0\n",
       "INDUS       0\n",
       "CHAS        0\n",
       "NOX         0\n",
       "RM          0\n",
       "AGE         0\n",
       "DIS         0\n",
       "RAD         0\n",
       "TAX         0\n",
       "PTRATIO     0\n",
       "B           0\n",
       "LSTAT       0\n",
       "MEDV        0\n",
       "CAT.MEDV    0\n",
       "dtype: int64"
      ]
     },
     "execution_count": 4,
     "metadata": {},
     "output_type": "execute_result"
    }
   ],
   "source": [
    "# 결측치같은거 있으려나\n",
    "boston.isnull().sum()"
   ]
  },
  {
   "cell_type": "markdown",
   "id": "b9cd42db-8c85-4961-94fa-3ac7a053e5dc",
   "metadata": {},
   "source": [
    "없네? 다행이다!"
   ]
  },
  {
   "cell_type": "code",
   "execution_count": 6,
   "id": "3736b291-9fbe-4276-b8c0-fdf4c241401a",
   "metadata": {},
   "outputs": [
    {
     "name": "stdout",
     "output_type": "stream",
     "text": [
      "<class 'pandas.core.frame.DataFrame'>\n",
      "RangeIndex: 506 entries, 0 to 505\n",
      "Data columns (total 15 columns):\n",
      " #   Column    Non-Null Count  Dtype  \n",
      "---  ------    --------------  -----  \n",
      " 0   CRIM      506 non-null    float64\n",
      " 1   ZN        506 non-null    float64\n",
      " 2   INDUS     506 non-null    float64\n",
      " 3   CHAS      506 non-null    int64  \n",
      " 4   NOX       506 non-null    float64\n",
      " 5   RM        506 non-null    float64\n",
      " 6   AGE       506 non-null    float64\n",
      " 7   DIS       506 non-null    float64\n",
      " 8   RAD       506 non-null    int64  \n",
      " 9   TAX       506 non-null    int64  \n",
      " 10  PTRATIO   506 non-null    float64\n",
      " 11  B         506 non-null    float64\n",
      " 12  LSTAT     506 non-null    float64\n",
      " 13  MEDV      506 non-null    float64\n",
      " 14  CAT.MEDV  506 non-null    int64  \n",
      "dtypes: float64(11), int64(4)\n",
      "memory usage: 59.4 KB\n"
     ]
    }
   ],
   "source": [
    "boston.info()"
   ]
  },
  {
   "cell_type": "markdown",
   "id": "4757c0e8-d2c0-40b8-8938-d11dd70f0ab5",
   "metadata": {},
   "source": [
    "이상치 파악을 혼자 할 수 있을까?"
   ]
  },
  {
   "cell_type": "code",
   "execution_count": 8,
   "id": "f49202de-b6be-4067-893b-3a1a669efded",
   "metadata": {},
   "outputs": [
    {
     "data": {
      "image/png": "[encoded data removed]",
      "text/plain": [
       "<Figure size 800x500 with 1 Axes>"
      ]
     },
     "metadata": {},
     "output_type": "display_data"
    }
   ],
   "source": [
    "plt.figure(figsize = (8,5))\n",
    "sns.scatterplot(x = boston['CRIM'], y = boston['MEDV'])\n",
    "plt.xlabel('CRIM')\n",
    "plt.ylabel('MEDV')\n",
    "plt.title('CRIM vs MEDV')\n",
    "plt.show()"
   ]
  },
  {
   "cell_type": "code",
   "execution_count": 9,
   "id": "322a673b-5ded-468a-83cf-eb160d622558",
   "metadata": {},
   "outputs": [
    {
     "name": "stdout",
     "output_type": "stream",
     "text": [
      "lower_bound는 -5.311, upper_bound는 9.07 입니다\n",
      "CRIM피처의 이상치는 66개 입니다\n",
      "\n",
      "\n",
      "lower_bound는 -18.75, upper_bound는 31.25 입니다\n",
      "ZN피처의 이상치는 68개 입니다\n",
      "\n",
      "\n",
      "lower_bound는 -14.175, upper_bound는 37.465 입니다\n",
      "INDUS피처의 이상치는 0개 입니다\n",
      "\n",
      "\n",
      "lower_bound는 0.0, upper_bound는 0.0 입니다\n",
      "CHAS피처의 이상치는 35개 입니다\n",
      "\n",
      "\n",
      "lower_bound는 0.187, upper_bound는 0.886 입니다\n",
      "NOX피처의 이상치는 0개 입니다\n",
      "\n",
      "\n",
      "lower_bound는 4.778, upper_bound는 7.731 입니다\n",
      "RM피처의 이상치는 30개 입니다\n",
      "\n",
      "\n",
      "lower_bound는 -28.55, upper_bound는 167.65 입니다\n",
      "AGE피처의 이상치는 0개 입니다\n",
      "\n",
      "\n",
      "lower_bound는 -2.532, upper_bound는 9.821 입니다\n",
      "DIS피처의 이상치는 5개 입니다\n",
      "\n",
      "\n",
      "lower_bound는 -26.0, upper_bound는 54.0 입니다\n",
      "RAD피처의 이상치는 0개 입니다\n",
      "\n",
      "\n",
      "lower_bound는 -301.5, upper_bound는 1246.5 입니다\n",
      "TAX피처의 이상치는 0개 입니다\n",
      "\n",
      "\n",
      "lower_bound는 13.2, upper_bound는 24.4 입니다\n",
      "PTRATIO피처의 이상치는 15개 입니다\n",
      "\n",
      "\n",
      "lower_bound는 344.106, upper_bound는 427.496 입니다\n",
      "B피처의 이상치는 77개 입니다\n",
      "\n",
      "\n",
      "lower_bound는 -8.058, upper_bound는 31.963 입니다\n",
      "LSTAT피처의 이상치는 7개 입니다\n",
      "\n",
      "\n",
      "lower_bound는 5.062, upper_bound는 36.963 입니다\n",
      "MEDV피처의 이상치는 40개 입니다\n",
      "\n",
      "\n",
      "lower_bound는 0.0, upper_bound는 0.0 입니다\n",
      "CAT.MEDV피처의 이상치는 84개 입니다\n",
      "\n",
      "\n"
     ]
    }
   ],
   "source": [
    "def find_outlier_by_Tukey_DF(data, feature):\n",
    "    q1, q3 = np.percentile(data[feature], [25,75])\n",
    "    iqr = q3 - q1\n",
    "\n",
    "    lower_bound = q1 - (iqr * 1.5)\n",
    "    upper_bound = q3 + (iqr * 1.5)\n",
    "    print(f'lower_bound는 {lower_bound.round(3)}, upper_bound는 {upper_bound.round(3)} 입니다')\n",
    "    \n",
    "    mask = data[(data[feature] > upper_bound) | (data[feature] < lower_bound)].index\n",
    "    return mask\n",
    "    \n",
    "for column in boston.columns:\n",
    "    mask = find_outlier_by_Tukey_DF(boston, column)\n",
    "    print(f'{column}피처의 이상치는 {len(mask)}개 입니다')\n",
    "    print('\\n')"
   ]
  },
  {
   "cell_type": "markdown",
   "id": "2370ee35-1c57-4042-aeef-547d970af279",
   "metadata": {},
   "source": [
    "이상치 개수 자체는 알겠다. 다만 저 이상치들을 모두 삭제해도 되는걸까? 고민이다.\n",
    "\n",
    "여기서 분기점을 나눠, 우선 이상치를 모두 유지하는 방향으로 전개해보도록 하겠다."
   ]
  },
  {
   "cell_type": "code",
   "execution_count": 11,
   "id": "a8cc563c-2283-44c7-a69c-25f34e3556ba",
   "metadata": {},
   "outputs": [
    {
     "name": "stdout",
     "output_type": "stream",
     "text": [
      "<class 'pandas.core.frame.DataFrame'>\n",
      "RangeIndex: 506 entries, 0 to 505\n",
      "Data columns (total 15 columns):\n",
      " #   Column    Non-Null Count  Dtype  \n",
      "---  ------    --------------  -----  \n",
      " 0   CRIM      506 non-null    float64\n",
      " 1   ZN        506 non-null    float64\n",
      " 2   INDUS     506 non-null    float64\n",
      " 3   CHAS      506 non-null    int64  \n",
      " 4   NOX       506 non-null    float64\n",
      " 5   RM        506 non-null    float64\n",
      " 6   AGE       506 non-null    float64\n",
      " 7   DIS       506 non-null    float64\n",
      " 8   RAD       506 non-null    int64  \n",
      " 9   TAX       506 non-null    int64  \n",
      " 10  PTRATIO   506 non-null    float64\n",
      " 11  B         506 non-null    float64\n",
      " 12  LSTAT     506 non-null    float64\n",
      " 13  MEDV      506 non-null    float64\n",
      " 14  CAT.MEDV  506 non-null    int64  \n",
      "dtypes: float64(11), int64(4)\n",
      "memory usage: 59.4 KB\n"
     ]
    }
   ],
   "source": [
    "boston.info()"
   ]
  },
  {
   "cell_type": "markdown",
   "id": "000c6330-a667-4d2e-ac1a-4894fa3ae15c",
   "metadata": {},
   "source": [
    "boston 데이터 각 컬럼 파악하기\n",
    "\n",
    "샘플 506개, 15 컬럼\n",
    "\n",
    "* CRIM: 범죄율\n",
    "* ZN: 25,000 평방피트를 초과 거주지역 비율 # 뭔뜻이지\n",
    "* INDUS: 비소매상업지역 면적 비율\n",
    "* CHAS: 찰승강의 경계에 위치 여부, Y:1, N:0\n",
    "* NOX: 일상화질소 농도\n",
    "* RM: 주택당 방 수\n",
    "* AGE: 1940년 이전에 건축된 주택의 비율\n",
    "* DIS: 직업센터의 거리\n",
    "* RAD: 방사형 고속도로까지의 거리\n",
    "* TAX: 재산세율\n",
    "* PTRATIO: 학생/교사 비율\n",
    "* B: 인구 중 흑인 비율\n",
    "* LSTAT: 인구 중 하위 계층 비율\n",
    "* MEDV: 주택가격\n",
    "* CAT.MEDV: MEDV가 $30,000을 넘는지에 대한 변수\n",
    "\n",
    "나는 여기서 주택가격을 영향을 받는 종속변수(y)로 두고 싶고, 다른 독립변수들이 종속 변수에 미치는 영향을 보고 싶다.\n",
    "\n",
    "다만 CAT.MEDV는 MEDV와 관련성이 높기에 drop 하는게 좋을 것 같다."
   ]
  },
  {
   "cell_type": "code",
   "execution_count": 13,
   "id": "b91722cf-a0b5-4241-87dd-7954bafbfa01",
   "metadata": {},
   "outputs": [
    {
     "data": {
      "image/png": "[encoded data removed]",
      "text/plain": [
       "<Figure size 640x480 with 2 Axes>"
      ]
     },
     "metadata": {},
     "output_type": "display_data"
    }
   ],
   "source": [
    "sns.heatmap(boston[['MEDV', 'CAT.MEDV']].corr(), annot = True)\n",
    "plt.show()"
   ]
  },
  {
   "cell_type": "code",
   "execution_count": 14,
   "id": "5fc45f9c-2145-496b-885d-b18f1511fabc",
   "metadata": {},
   "outputs": [
    {
     "data": {
      "text/html": [
       "<div>\n",
       "<style scoped>\n",
       "    .dataframe tbody tr th:only-of-type {\n",
       "        vertical-align: middle;\n",
       "    }\n",
       "\n",
       "    .dataframe tbody tr th {\n",
       "        vertical-align: top;\n",
       "    }\n",
       "\n",
       "    .dataframe thead th {\n",
       "        text-align: right;\n",
       "    }\n",
       "</style>\n",
       "<table border=\"1\" class=\"dataframe\">\n",
       "  <thead>\n",
       "    <tr style=\"text-align: right;\">\n",
       "      <th></th>\n",
       "      <th>CRIM</th>\n",
       "      <th>ZN</th>\n",
       "      <th>INDUS</th>\n",
       "      <th>CHAS</th>\n",
       "      <th>NOX</th>\n",
       "      <th>RM</th>\n",
       "      <th>AGE</th>\n",
       "      <th>DIS</th>\n",
       "      <th>RAD</th>\n",
       "      <th>TAX</th>\n",
       "      <th>PTRATIO</th>\n",
       "      <th>B</th>\n",
       "      <th>LSTAT</th>\n",
       "      <th>MEDV</th>\n",
       "    </tr>\n",
       "  </thead>\n",
       "  <tbody>\n",
       "    <tr>\n",
       "      <th>0</th>\n",
       "      <td>0.00632</td>\n",
       "      <td>18.0</td>\n",
       "      <td>2.31</td>\n",
       "      <td>0</td>\n",
       "      <td>0.538</td>\n",
       "      <td>6.575</td>\n",
       "      <td>65.2</td>\n",
       "      <td>4.0900</td>\n",
       "      <td>1</td>\n",
       "      <td>296</td>\n",
       "      <td>15.3</td>\n",
       "      <td>396.90</td>\n",
       "      <td>4.98</td>\n",
       "      <td>24.0</td>\n",
       "    </tr>\n",
       "    <tr>\n",
       "      <th>1</th>\n",
       "      <td>0.02731</td>\n",
       "      <td>0.0</td>\n",
       "      <td>7.07</td>\n",
       "      <td>0</td>\n",
       "      <td>0.469</td>\n",
       "      <td>6.421</td>\n",
       "      <td>78.9</td>\n",
       "      <td>4.9671</td>\n",
       "      <td>2</td>\n",
       "      <td>242</td>\n",
       "      <td>17.8</td>\n",
       "      <td>396.90</td>\n",
       "      <td>9.14</td>\n",
       "      <td>21.6</td>\n",
       "    </tr>\n",
       "    <tr>\n",
       "      <th>2</th>\n",
       "      <td>0.02729</td>\n",
       "      <td>0.0</td>\n",
       "      <td>7.07</td>\n",
       "      <td>0</td>\n",
       "      <td>0.469</td>\n",
       "      <td>7.185</td>\n",
       "      <td>61.1</td>\n",
       "      <td>4.9671</td>\n",
       "      <td>2</td>\n",
       "      <td>242</td>\n",
       "      <td>17.8</td>\n",
       "      <td>392.83</td>\n",
       "      <td>4.03</td>\n",
       "      <td>34.7</td>\n",
       "    </tr>\n",
       "    <tr>\n",
       "      <th>3</th>\n",
       "      <td>0.03237</td>\n",
       "      <td>0.0</td>\n",
       "      <td>2.18</td>\n",
       "      <td>0</td>\n",
       "      <td>0.458</td>\n",
       "      <td>6.998</td>\n",
       "      <td>45.8</td>\n",
       "      <td>6.0622</td>\n",
       "      <td>3</td>\n",
       "      <td>222</td>\n",
       "      <td>18.7</td>\n",
       "      <td>394.63</td>\n",
       "      <td>2.94</td>\n",
       "      <td>33.4</td>\n",
       "    </tr>\n",
       "    <tr>\n",
       "      <th>4</th>\n",
       "      <td>0.06905</td>\n",
       "      <td>0.0</td>\n",
       "      <td>2.18</td>\n",
       "      <td>0</td>\n",
       "      <td>0.458</td>\n",
       "      <td>7.147</td>\n",
       "      <td>54.2</td>\n",
       "      <td>6.0622</td>\n",
       "      <td>3</td>\n",
       "      <td>222</td>\n",
       "      <td>18.7</td>\n",
       "      <td>396.90</td>\n",
       "      <td>5.33</td>\n",
       "      <td>36.2</td>\n",
       "    </tr>\n",
       "    <tr>\n",
       "      <th>...</th>\n",
       "      <td>...</td>\n",
       "      <td>...</td>\n",
       "      <td>...</td>\n",
       "      <td>...</td>\n",
       "      <td>...</td>\n",
       "      <td>...</td>\n",
       "      <td>...</td>\n",
       "      <td>...</td>\n",
       "      <td>...</td>\n",
       "      <td>...</td>\n",
       "      <td>...</td>\n",
       "      <td>...</td>\n",
       "      <td>...</td>\n",
       "      <td>...</td>\n",
       "    </tr>\n",
       "    <tr>\n",
       "      <th>501</th>\n",
       "      <td>0.06263</td>\n",
       "      <td>0.0</td>\n",
       "      <td>11.93</td>\n",
       "      <td>0</td>\n",
       "      <td>0.573</td>\n",
       "      <td>6.593</td>\n",
       "      <td>69.1</td>\n",
       "      <td>2.4786</td>\n",
       "      <td>1</td>\n",
       "      <td>273</td>\n",
       "      <td>21.0</td>\n",
       "      <td>391.99</td>\n",
       "      <td>9.67</td>\n",
       "      <td>22.4</td>\n",
       "    </tr>\n",
       "    <tr>\n",
       "      <th>502</th>\n",
       "      <td>0.04527</td>\n",
       "      <td>0.0</td>\n",
       "      <td>11.93</td>\n",
       "      <td>0</td>\n",
       "      <td>0.573</td>\n",
       "      <td>6.120</td>\n",
       "      <td>76.7</td>\n",
       "      <td>2.2875</td>\n",
       "      <td>1</td>\n",
       "      <td>273</td>\n",
       "      <td>21.0</td>\n",
       "      <td>396.90</td>\n",
       "      <td>9.08</td>\n",
       "      <td>20.6</td>\n",
       "    </tr>\n",
       "    <tr>\n",
       "      <th>503</th>\n",
       "      <td>0.06076</td>\n",
       "      <td>0.0</td>\n",
       "      <td>11.93</td>\n",
       "      <td>0</td>\n",
       "      <td>0.573</td>\n",
       "      <td>6.976</td>\n",
       "      <td>91.0</td>\n",
       "      <td>2.1675</td>\n",
       "      <td>1</td>\n",
       "      <td>273</td>\n",
       "      <td>21.0</td>\n",
       "      <td>396.90</td>\n",
       "      <td>5.64</td>\n",
       "      <td>23.9</td>\n",
       "    </tr>\n",
       "    <tr>\n",
       "      <th>504</th>\n",
       "      <td>0.10959</td>\n",
       "      <td>0.0</td>\n",
       "      <td>11.93</td>\n",
       "      <td>0</td>\n",
       "      <td>0.573</td>\n",
       "      <td>6.794</td>\n",
       "      <td>89.3</td>\n",
       "      <td>2.3889</td>\n",
       "      <td>1</td>\n",
       "      <td>273</td>\n",
       "      <td>21.0</td>\n",
       "      <td>393.45</td>\n",
       "      <td>6.48</td>\n",
       "      <td>22.0</td>\n",
       "    </tr>\n",
       "    <tr>\n",
       "      <th>505</th>\n",
       "      <td>0.04741</td>\n",
       "      <td>0.0</td>\n",
       "      <td>11.93</td>\n",
       "      <td>0</td>\n",
       "      <td>0.573</td>\n",
       "      <td>6.030</td>\n",
       "      <td>80.8</td>\n",
       "      <td>2.5050</td>\n",
       "      <td>1</td>\n",
       "      <td>273</td>\n",
       "      <td>21.0</td>\n",
       "      <td>396.90</td>\n",
       "      <td>7.88</td>\n",
       "      <td>11.9</td>\n",
       "    </tr>\n",
       "  </tbody>\n",
       "</table>\n",
       "<p>506 rows × 14 columns</p>\n",
       "</div>"
      ],
      "text/plain": [
       "        CRIM    ZN  INDUS  CHAS    NOX     RM   AGE     DIS  RAD  TAX  \\\n",
       "0    0.00632  18.0   2.31     0  0.538  6.575  65.2  4.0900    1  296   \n",
       "1    0.02731   0.0   7.07     0  0.469  6.421  78.9  4.9671    2  242   \n",
       "2    0.02729   0.0   7.07     0  0.469  7.185  61.1  4.9671    2  242   \n",
       "3    0.03237   0.0   2.18     0  0.458  6.998  45.8  6.0622    3  222   \n",
       "4    0.06905   0.0   2.18     0  0.458  7.147  54.2  6.0622    3  222   \n",
       "..       ...   ...    ...   ...    ...    ...   ...     ...  ...  ...   \n",
       "501  0.06263   0.0  11.93     0  0.573  6.593  69.1  2.4786    1  273   \n",
       "502  0.04527   0.0  11.93     0  0.573  6.120  76.7  2.2875    1  273   \n",
       "503  0.06076   0.0  11.93     0  0.573  6.976  91.0  2.1675    1  273   \n",
       "504  0.10959   0.0  11.93     0  0.573  6.794  89.3  2.3889    1  273   \n",
       "505  0.04741   0.0  11.93     0  0.573  6.030  80.8  2.5050    1  273   \n",
       "\n",
       "     PTRATIO       B  LSTAT  MEDV  \n",
       "0       15.3  396.90   4.98  24.0  \n",
       "1       17.8  396.90   9.14  21.6  \n",
       "2       17.8  392.83   4.03  34.7  \n",
       "3       18.7  394.63   2.94  33.4  \n",
       "4       18.7  396.90   5.33  36.2  \n",
       "..       ...     ...    ...   ...  \n",
       "501     21.0  391.99   9.67  22.4  \n",
       "502     21.0  396.90   9.08  20.6  \n",
       "503     21.0  396.90   5.64  23.9  \n",
       "504     21.0  393.45   6.48  22.0  \n",
       "505     21.0  396.90   7.88  11.9  \n",
       "\n",
       "[506 rows x 14 columns]"
      ]
     },
     "execution_count": 14,
     "metadata": {},
     "output_type": "execute_result"
    }
   ],
   "source": [
    "boston.drop('CAT.MEDV', axis = 1, inplace = True)\n",
    "boston"
   ]
  },
  {
   "cell_type": "markdown",
   "id": "f4151bfd-61cd-4e15-9578-694cbe965c5a",
   "metadata": {},
   "source": [
    "독립변수 13개를 범주형과 수치형으로 구분하자.\n",
    "\n",
    "범주형:\n",
    "* CHAS: 찰스강의 경계에 위치 여부, Y:1, N:0\n",
    "\n",
    "수치형:\n",
    "* CRIM: 범죄율\n",
    "* ZN: 25,000 평방피트를 초과 거주지역 비율 # 뭔뜻이지\n",
    "* INDUS: 비소매상업지역 면적 비율\n",
    "* NOX: 일상화질소 농도\n",
    "* RM: 주택당 방 수\n",
    "* AGE: 1940년 이전에 건축된 주택의 비율\n",
    "* DIS: 직업센터의 거리\n",
    "* RAD: 방사형 고속도로까지의 거리 # 정수형으로 나오는거 봐서는 범주형인가?\n",
    "* TAX: 재산세율 # 얘도 int로 자료값이 나오는데 왜지.\n",
    "* PTRATIO: 학생/교사 비율\n",
    "* B: 인구 중 흑인 비율\n",
    "* LSTAT: 인구 중 하위 계층 비율"
   ]
  },
  {
   "cell_type": "markdown",
   "id": "a1197611-48fd-4885-b288-51d30f095cbb",
   "metadata": {},
   "source": [
    "실습에서는 모델 돌려보기 - 다중공선성 파악 - 다시 모델 돌리기로 진행하였었는데,\n",
    "\n",
    "나는 우선 다중공선성을 먼저 파악하고 영향을 미치는 피처에 대해 삭제를 한 후 과정을 전개해보도록 하자."
   ]
  },
  {
   "cell_type": "code",
   "execution_count": 17,
   "id": "a597ee63-1eb7-4a29-b7c4-7818760dfc04",
   "metadata": {},
   "outputs": [
    {
     "data": {
      "text/plain": [
       "<Axes: >"
      ]
     },
     "execution_count": 17,
     "metadata": {},
     "output_type": "execute_result"
    },
    {
     "data": {
      "image/png": "[encoded data removed]",
      "text/plain": [
       "<Figure size 2000x1500 with 2 Axes>"
      ]
     },
     "metadata": {},
     "output_type": "display_data"
    }
   ],
   "source": [
    "# 독립변수와 종속변수 선언 및 저장\n",
    "X = boston.drop('MEDV', axis = 1)\n",
    "y = boston['MEDV']\n",
    "\n",
    "plt.figure(figsize = (20, 15))\n",
    "\n",
    "sns.heatmap(X.corr(), annot = True)"
   ]
  },
  {
   "cell_type": "markdown",
   "id": "ada10e3e-e050-4fab-a57a-56e64e29ad91",
   "metadata": {},
   "source": [
    "오 정말 한 눈에 안들어오는군요?\n",
    "\n",
    "VIF를 통해 확인합시다."
   ]
  },
  {
   "cell_type": "code",
   "execution_count": 19,
   "id": "d8de025e-030f-42e9-ae73-d850a58c6399",
   "metadata": {},
   "outputs": [
    {
     "name": "stdout",
     "output_type": "stream",
     "text": [
      "   Features        VIF\n",
      "0      CRIM   2.100373\n",
      "1        ZN   2.844013\n",
      "2     INDUS  14.485758\n",
      "3      CHAS   1.152952\n",
      "4       NOX  73.894947\n",
      "5        RM  77.948283\n",
      "6       AGE  21.386850\n",
      "7       DIS  14.699652\n",
      "8       RAD  15.167725\n",
      "9       TAX  61.227274\n",
      "10  PTRATIO  85.029547\n",
      "11        B  20.104943\n",
      "12    LSTAT  11.102025\n"
     ]
    }
   ],
   "source": [
    "from statsmodels.stats.outliers_influence import variance_inflation_factor\n",
    "\n",
    "def vif(X):\n",
    "    vif_data = pd.DataFrame()\n",
    "    vif_data['Features'] = X.columns\n",
    "    vif_data['VIF'] = [variance_inflation_factor(X.values, i) for i in range (X.shape[1])]\n",
    "    print(vif_data)\n",
    "vif(X)"
   ]
  },
  {
   "cell_type": "markdown",
   "id": "1559df73-0ccc-49d2-953d-62ddf9bc40dd",
   "metadata": {},
   "source": [
    "우선 가장 높은 PTRATIO를 없애겠습니다."
   ]
  },
  {
   "cell_type": "code",
   "execution_count": 21,
   "id": "852fddd8-05d8-4a82-99ff-308f1b6cca19",
   "metadata": {},
   "outputs": [
    {
     "name": "stdout",
     "output_type": "stream",
     "text": [
      "   Features        VIF\n",
      "0      CRIM   2.099345\n",
      "1        ZN   2.451624\n",
      "2     INDUS  14.275283\n",
      "3      CHAS   1.142167\n",
      "4       NOX  73.894171\n",
      "5        RM  60.598846\n",
      "6       AGE  21.361234\n",
      "7       DIS  12.221605\n",
      "8       RAD  15.159162\n",
      "9       TAX  59.301541\n",
      "10        B  18.614751\n",
      "11    LSTAT  10.138324\n"
     ]
    }
   ],
   "source": [
    "vif(X.drop('PTRATIO', axis = 1))"
   ]
  },
  {
   "cell_type": "markdown",
   "id": "ad7da657-07a5-431e-8fad-cd64082f9db7",
   "metadata": {},
   "source": [
    "그 다음으로 높은 RM도 제거해보죠"
   ]
  },
  {
   "cell_type": "code",
   "execution_count": 23,
   "id": "6211029a-31de-4a6c-970b-836d12563162",
   "metadata": {},
   "outputs": [
    {
     "name": "stdout",
     "output_type": "stream",
     "text": [
      "   Features        VIF\n",
      "0      CRIM   2.095455\n",
      "1        ZN   2.433975\n",
      "2     INDUS  13.958978\n",
      "3      CHAS   1.141165\n",
      "4       NOX  50.491344\n",
      "5       AGE  19.961762\n",
      "6       DIS   9.573301\n",
      "7       RAD  15.102917\n",
      "8       TAX  58.686042\n",
      "9         B  16.588839\n",
      "10    LSTAT   8.480702\n"
     ]
    }
   ],
   "source": [
    "vif(X.drop(['PTRATIO', 'RM'], axis = 1))"
   ]
  },
  {
   "cell_type": "markdown",
   "id": "b562c15d-c896-4913-a37b-d95bb5fe195a",
   "metadata": {},
   "source": [
    "여전히 높군요. 이번에는 TAX를 없애보겠습니다."
   ]
  },
  {
   "cell_type": "code",
   "execution_count": 25,
   "id": "4d155759-eb99-49da-b586-1feafc1feaf8",
   "metadata": {},
   "outputs": [
    {
     "name": "stdout",
     "output_type": "stream",
     "text": [
      "  Features        VIF\n",
      "0     CRIM   2.095430\n",
      "1       ZN   2.349024\n",
      "2    INDUS  11.010840\n",
      "3     CHAS   1.119830\n",
      "4      NOX  46.856834\n",
      "5      AGE  19.899777\n",
      "6      DIS   9.086148\n",
      "7      RAD   5.167844\n",
      "8        B  16.435073\n",
      "9    LSTAT   8.468935\n"
     ]
    }
   ],
   "source": [
    "vif(X.drop(['PTRATIO', 'RM', 'TAX'], axis = 1))"
   ]
  },
  {
   "cell_type": "markdown",
   "id": "52a5f405-14e3-4db6-b576-901fbf3747a7",
   "metadata": {},
   "source": [
    "NOX도 없애겠습니다."
   ]
  },
  {
   "cell_type": "code",
   "execution_count": 27,
   "id": "3aa2a33d-2370-43bf-9e7f-efa2e7911dfb",
   "metadata": {},
   "outputs": [
    {
     "name": "stdout",
     "output_type": "stream",
     "text": [
      "  Features        VIF\n",
      "0     CRIM   2.095367\n",
      "1       ZN   2.334763\n",
      "2    INDUS   9.016142\n",
      "3     CHAS   1.116229\n",
      "4      AGE  14.000758\n",
      "5      DIS   8.447694\n",
      "6      RAD   4.771767\n",
      "7        B  13.537020\n",
      "8    LSTAT   8.358925\n"
     ]
    }
   ],
   "source": [
    "vif(X.drop(['PTRATIO', 'RM', 'TAX', 'NOX'], axis = 1))"
   ]
  },
  {
   "cell_type": "markdown",
   "id": "789a86ef-69fc-422f-b240-83ee522c4668",
   "metadata": {},
   "source": [
    "마지막으로 한번,,,"
   ]
  },
  {
   "cell_type": "code",
   "execution_count": 44,
   "id": "f4ec709a-2a61-4b71-9a3d-ba0c007a6616",
   "metadata": {},
   "outputs": [
    {
     "name": "stdout",
     "output_type": "stream",
     "text": [
      "  Features        VIF\n",
      "0     CRIM   2.095211\n",
      "1       ZN   2.313889\n",
      "2    INDUS   8.205465\n",
      "3     CHAS   1.106350\n",
      "4      DIS   8.209371\n",
      "5      RAD   4.689836\n",
      "6        B  10.074224\n",
      "7    LSTAT   6.856889\n"
     ]
    }
   ],
   "source": [
    "vif(X.drop(['PTRATIO', 'RM', 'TAX', 'NOX', 'AGE'], axis = 1))"
   ]
  },
  {
   "cell_type": "markdown",
   "id": "6e38f757-aaf7-4602-9233-781c7e17f176",
   "metadata": {},
   "source": [
    "VIF 지수가 높은 피처들에 대해 삭제를 진행하였습니다.\n",
    "\n",
    "든 생각은 '이렇게 많은 피처들을 다 날려도 될까...?' 였습니다.\\\n",
    "또한 이상치에 대해 및 처리를 안하고 온 부분도 마음에 걸리고요.\n",
    "\n",
    "하지만 일단 더 진행시켜보도록 하겠습니다."
   ]
  },
  {
   "cell_type": "code",
   "execution_count": 47,
   "id": "7a573dfc-9fbe-4600-a57c-cdf4e407afc7",
   "metadata": {},
   "outputs": [],
   "source": [
    "X.drop(['PTRATIO', 'RM', 'TAX', 'NOX', 'AGE'], axis = 1, inplace = True)"
   ]
  },
  {
   "cell_type": "markdown",
   "id": "c5834b41-8d02-4bde-b83d-ffd2f0cecb6d",
   "metadata": {},
   "source": [
    "데이터를 훈련 데이터와 시험 테스트로 나눕니다.\\\n",
    "이를 통해 추후 시험데이터와 모델을 비교해 얼마나 모델이 일리있는지 확인 가능할거에요."
   ]
  },
  {
   "cell_type": "code",
   "execution_count": 50,
   "id": "241d07a9-e30e-4031-9713-f6ac4e40768c",
   "metadata": {},
   "outputs": [],
   "source": [
    "X_train, X_test, y_train, y_test = train_test_split(X, y, test_size = 0.2, random_state = 515)"
   ]
  },
  {
   "cell_type": "markdown",
   "id": "db168657-eca3-42e2-9747-b1f4131756c3",
   "metadata": {},
   "source": [
    "# StatModels: 통계 분석 도구\n",
    "* 다양한 옵션X but Stata/R과 같은 다른 통계 프로그램에서 검증된 통계 및 계량 도구 제공\n",
    "* 불연속 종속 변수에 대한 옵션 풍부\n",
    "\n",
    "*먼저 StatModels로 해보자*\n",
    "\n",
    "StatsModels의 경우 상수항이 없기에 add_contant를 통해 상수항을 고려해야 해요."
   ]
  },
  {
   "cell_type": "code",
   "execution_count": 53,
   "id": "0e7b815e-532d-4a99-b741-5c7ca50e0692",
   "metadata": {},
   "outputs": [],
   "source": [
    "X_train = sm.add_constant(X_train)"
   ]
  },
  {
   "cell_type": "code",
   "execution_count": 55,
   "id": "cd070e95-2d06-4932-9008-1315aad1906b",
   "metadata": {},
   "outputs": [],
   "source": [
    "# model 변수에 sm.OLS를 저장_train 데이터 사용\n",
    "model = sm.OLS(y_train, X_train)\n",
    "# 모델 학습시키기\n",
    "model_trained = model.fit()"
   ]
  },
  {
   "cell_type": "code",
   "execution_count": 57,
   "id": "40fbfbe1-deef-4193-b4e6-0c982ea099b9",
   "metadata": {},
   "outputs": [
    {
     "name": "stdout",
     "output_type": "stream",
     "text": [
      "                            OLS Regression Results                            \n",
      "==============================================================================\n",
      "Dep. Variable:                   MEDV   R-squared:                       0.641\n",
      "Model:                            OLS   Adj. R-squared:                  0.634\n",
      "Method:                 Least Squares   F-statistic:                     88.14\n",
      "Date:                Wed, 26 Mar 2025   Prob (F-statistic):           4.88e-83\n",
      "Time:                        19:41:23   Log-Likelihood:                -1262.1\n",
      "No. Observations:                 404   AIC:                             2542.\n",
      "Df Residuals:                     395   BIC:                             2578.\n",
      "Df Model:                           8                                         \n",
      "Covariance Type:            nonrobust                                         \n",
      "==============================================================================\n",
      "                 coef    std err          t      P>|t|      [0.025      0.975]\n",
      "------------------------------------------------------------------------------\n",
      "const         41.8078      2.003     20.870      0.000      37.869      45.746\n",
      "CRIM          -0.1110      0.039     -2.819      0.005      -0.188      -0.034\n",
      "ZN             0.0907      0.017      5.365      0.000       0.057       0.124\n",
      "INDUS         -0.3588      0.068     -5.276      0.000      -0.492      -0.225\n",
      "CHAS           3.1974      1.141      2.801      0.005       0.954       5.441\n",
      "DIS           -1.9601      0.226     -8.661      0.000      -2.405      -1.515\n",
      "RAD            0.0084      0.046      0.181      0.856      -0.083       0.100\n",
      "B              0.0041      0.003      1.163      0.245      -0.003       0.011\n",
      "LSTAT         -0.8055      0.051    -15.906      0.000      -0.905      -0.706\n",
      "==============================================================================\n",
      "Omnibus:                      106.353   Durbin-Watson:                   1.742\n",
      "Prob(Omnibus):                  0.000   Jarque-Bera (JB):              231.364\n",
      "Skew:                           1.362   Prob(JB):                     5.75e-51\n",
      "Kurtosis:                       5.516   Cond. No.                     2.68e+03\n",
      "==============================================================================\n",
      "\n",
      "Notes:\n",
      "[1] Standard Errors assume that the covariance matrix of the errors is correctly specified.\n",
      "[2] The condition number is large, 2.68e+03. This might indicate that there are\n",
      "strong multicollinearity or other numerical problems.\n"
     ]
    }
   ],
   "source": [
    "print(model_trained.summary())"
   ]
  },
  {
   "cell_type": "markdown",
   "id": "36691960-db88-4c77-8686-3e88ba70c9d9",
   "metadata": {},
   "source": [
    "RAD에 대한 p값이 너무 높다. 제거해보자."
   ]
  },
  {
   "cell_type": "code",
   "execution_count": 60,
   "id": "fd0ce954-e9a4-402e-8f0e-5f376a6a00dd",
   "metadata": {},
   "outputs": [
    {
     "name": "stdout",
     "output_type": "stream",
     "text": [
      "                            OLS Regression Results                            \n",
      "==============================================================================\n",
      "Dep. Variable:                   MEDV   R-squared:                       0.641\n",
      "Model:                            OLS   Adj. R-squared:                  0.635\n",
      "Method:                 Least Squares   F-statistic:                     101.0\n",
      "Date:                Wed, 26 Mar 2025   Prob (F-statistic):           4.76e-84\n",
      "Time:                        19:41:26   Log-Likelihood:                -1262.1\n",
      "No. Observations:                 404   AIC:                             2540.\n",
      "Df Residuals:                     396   BIC:                             2572.\n",
      "Df Model:                           7                                         \n",
      "Covariance Type:            nonrobust                                         \n",
      "==============================================================================\n",
      "                 coef    std err          t      P>|t|      [0.025      0.975]\n",
      "------------------------------------------------------------------------------\n",
      "const         41.8762      1.965     21.311      0.000      38.013      45.739\n",
      "CRIM          -0.1078      0.035     -3.061      0.002      -0.177      -0.039\n",
      "ZN             0.0907      0.017      5.378      0.000       0.058       0.124\n",
      "INDUS         -0.3550      0.065     -5.490      0.000      -0.482      -0.228\n",
      "CHAS           3.1834      1.137      2.799      0.005       0.947       5.419\n",
      "DIS           -1.9632      0.225     -8.711      0.000      -2.406      -1.520\n",
      "B              0.0040      0.003      1.151      0.251      -0.003       0.011\n",
      "LSTAT         -0.8054      0.051    -15.925      0.000      -0.905      -0.706\n",
      "==============================================================================\n",
      "Omnibus:                      106.544   Durbin-Watson:                   1.742\n",
      "Prob(Omnibus):                  0.000   Jarque-Bera (JB):              232.420\n",
      "Skew:                           1.362   Prob(JB):                     3.39e-51\n",
      "Kurtosis:                       5.526   Cond. No.                     2.63e+03\n",
      "==============================================================================\n",
      "\n",
      "Notes:\n",
      "[1] Standard Errors assume that the covariance matrix of the errors is correctly specified.\n",
      "[2] The condition number is large, 2.63e+03. This might indicate that there are\n",
      "strong multicollinearity or other numerical problems.\n"
     ]
    }
   ],
   "source": [
    "X_train_sm = X_train.drop('RAD', axis = 1)\n",
    "\n",
    "model = sm.OLS(y_train, X_train_sm)\n",
    "model_trained = model.fit()\n",
    "\n",
    "print(model_trained.summary())"
   ]
  },
  {
   "cell_type": "markdown",
   "id": "42550d61-f611-4fa9-9b65-420676931a22",
   "metadata": {},
   "source": [
    "'B'에 대한 p값도 높아요. 피처'B'도 삭제하는게 나을까요?\\\n",
    "일단 삭제하고 진행해보겠습니다."
   ]
  },
  {
   "cell_type": "code",
   "execution_count": 63,
   "id": "19902636-9355-489c-818e-df26245150e2",
   "metadata": {},
   "outputs": [
    {
     "name": "stdout",
     "output_type": "stream",
     "text": [
      "                            OLS Regression Results                            \n",
      "==============================================================================\n",
      "Dep. Variable:                   MEDV   R-squared:                       0.640\n",
      "Model:                            OLS   Adj. R-squared:                  0.634\n",
      "Method:                 Least Squares   F-statistic:                     117.5\n",
      "Date:                Wed, 26 Mar 2025   Prob (F-statistic):           8.09e-85\n",
      "Time:                        19:41:37   Log-Likelihood:                -1262.8\n",
      "No. Observations:                 404   AIC:                             2540.\n",
      "Df Residuals:                     397   BIC:                             2568.\n",
      "Df Model:                           6                                         \n",
      "Covariance Type:            nonrobust                                         \n",
      "==============================================================================\n",
      "                 coef    std err          t      P>|t|      [0.025      0.975]\n",
      "------------------------------------------------------------------------------\n",
      "const         43.4853      1.381     31.491      0.000      40.771      46.200\n",
      "CRIM          -0.1175      0.034     -3.433      0.001      -0.185      -0.050\n",
      "ZN             0.0901      0.017      5.340      0.000       0.057       0.123\n",
      "INDUS         -0.3628      0.064     -5.640      0.000      -0.489      -0.236\n",
      "CHAS           3.2192      1.137      2.830      0.005       0.983       5.455\n",
      "DIS           -1.9560      0.225     -8.679      0.000      -2.399      -1.513\n",
      "LSTAT         -0.8114      0.050    -16.127      0.000      -0.910      -0.713\n",
      "==============================================================================\n",
      "Omnibus:                      105.386   Durbin-Watson:                   1.751\n",
      "Prob(Omnibus):                  0.000   Jarque-Bera (JB):              228.709\n",
      "Skew:                           1.350   Prob(JB):                     2.17e-50\n",
      "Kurtosis:                       5.509   Cond. No.                         130.\n",
      "==============================================================================\n",
      "\n",
      "Notes:\n",
      "[1] Standard Errors assume that the covariance matrix of the errors is correctly specified.\n"
     ]
    }
   ],
   "source": [
    "X_train_sm = X_train_sm.drop('B', axis = 1)\n",
    "\n",
    "model = sm.OLS(y_train, X_train_sm)\n",
    "model_trained = model.fit()\n",
    "\n",
    "print(model_trained.summary())"
   ]
  },
  {
   "cell_type": "markdown",
   "id": "a72d774f-496e-4620-b1d6-c112f5c493f8",
   "metadata": {},
   "source": [
    "전반적으로 p값이 튀는건 이제 없는 것 같습니다.\\\n",
    "이제 모델과 test 데이터셋을 비교해보겠습니다."
   ]
  },
  {
   "cell_type": "code",
   "execution_count": 66,
   "id": "c3ed8a29-87c6-4e54-be0a-4d0442d4a46b",
   "metadata": {},
   "outputs": [],
   "source": [
    "X_test_sm = sm.add_constant(X_test) # test데이터에도 상수항을 추가해주고"
   ]
  },
  {
   "cell_type": "code",
   "execution_count": 68,
   "id": "2fd1c309-4363-4c64-a2c6-03e71ed42fc9",
   "metadata": {},
   "outputs": [
    {
     "data": {
      "text/plain": [
       "11     18.794923\n",
       "54     22.461802\n",
       "266    27.581017\n",
       "473    21.956132\n",
       "57     32.524239\n",
       "         ...    \n",
       "353    23.486881\n",
       "240    22.758172\n",
       "184    25.394856\n",
       "100    27.284880\n",
       "190    29.467385\n",
       "Length: 102, dtype: float64"
      ]
     },
     "execution_count": 68,
     "metadata": {},
     "output_type": "execute_result"
    }
   ],
   "source": [
    "y_test_pred = model_trained.predict(X_test_sm.drop(['RAD', 'B'], axis = 1))\n",
    "y_test_pred"
   ]
  },
  {
   "cell_type": "code",
   "execution_count": 70,
   "id": "8757d128-c107-4050-a2c0-bd9673bf0e34",
   "metadata": {},
   "outputs": [
    {
     "name": "stdout",
     "output_type": "stream",
     "text": [
      "33.52752735313377\n"
     ]
    }
   ],
   "source": [
    "print(mean_squared_error(y_test, y_test_pred))"
   ]
  },
  {
   "cell_type": "code",
   "execution_count": 72,
   "id": "fb4c214e-9697-4fa4-9d47-edc32ce4f90e",
   "metadata": {},
   "outputs": [
    {
     "name": "stdout",
     "output_type": "stream",
     "text": [
      "4.158244779919997\n"
     ]
    }
   ],
   "source": [
    "print(mean_absolute_error(y_test, y_test_pred))"
   ]
  },
  {
   "cell_type": "code",
   "execution_count": 74,
   "id": "25d359f5-bdc4-4a77-a362-777dc0c1c39d",
   "metadata": {},
   "outputs": [
    {
     "name": "stdout",
     "output_type": "stream",
     "text": [
      "0.594685754834352\n"
     ]
    }
   ],
   "source": [
    "print(r2_score(y_test, y_test_pred))"
   ]
  },
  {
   "cell_type": "code",
   "execution_count": 76,
   "id": "020c5277-0e39-4213-bcfe-d3a268382945",
   "metadata": {},
   "outputs": [
    {
     "name": "stdout",
     "output_type": "stream",
     "text": [
      "Testing MSE: 33.528\n",
      "Testing MAE: 4.158\n",
      "Testing R2: 0.595\n"
     ]
    }
   ],
   "source": [
    "print('Testing MSE: {:.3f}'.format(mean_squared_error(y_test, y_test_pred)))\n",
    "print('Testing MAE: {:.3f}'.format(mean_absolute_error(y_test, y_test_pred)))\n",
    "print('Testing R2: {:.3f}'.format(r2_score(y_test, y_test_pred)))"
   ]
  },
  {
   "cell_type": "markdown",
   "id": "9d0189b0-913b-433f-bbff-459341895d26",
   "metadata": {},
   "source": [
    "이 회귀모델은 test 데이터에 대해 59퍼센트 정도의 설명력을 가진다고 생각할 수 있겠네요."
   ]
  },
  {
   "cell_type": "markdown",
   "id": "549d1566-829e-4ad6-bedf-980149d4a590",
   "metadata": {},
   "source": [
    "다음 Sklearn 모델로 해보기 전에 분기점들을 한번 정리해볼게요.\n",
    "1. 이상치 확인 및 처리 → 안하고 일단 넘어옴. (피처 13개 생존)\n",
    "2. 'PTRATIO', 'RM', 'TAX', 'NOX', 'AGE' 피처 5개에 대해 VIF 지수가 높은 것을 근거로 **삭제**함 (피처 8개 생존)\n",
    "3. 'RAD', 'P'에 대해 P값이 높은 것을 근거로 **삭제** (피처 6개 생존)\n",
    "\n",
    "최종적으로 13개로 시작한 피처가 마지막엔 6개밖에 남지 않았습니다. 뭔가 많이 아쉬워요.\n",
    "\n",
    "각 분기점에서 약간씩만 다르게 선택을 했다면 더 높은 설명력을 지닌 모델을 만들 수 있었을까요?\\\n",
    "고민해볼 문제같습니다."
   ]
  },
  {
   "cell_type": "markdown",
   "id": "1900d307-ab25-4813-8bce-6806682224c0",
   "metadata": {},
   "source": [
    "자 이번에는 Sklearn을 기반으로 만들어보겠습니다."
   ]
  },
  {
   "cell_type": "markdown",
   "id": "45d244f2-d5b2-4b56-86d4-5360e339f04b",
   "metadata": {},
   "source": [
    "# Sklearn\n",
    "* 개발 속도, 유저 사용량 ↑\n",
    "* 분류, 회귀 또는 클러스터링 알고리즘과 관련하여 간단하고 배우기 쉬운 알고리즘을 제공\n",
    "* 다양한 평가 지표 제공\n",
    "\n",
    "* 이번에는 Sklearn으로 해보자."
   ]
  },
  {
   "cell_type": "code",
   "execution_count": 83,
   "id": "ec3c5a4b-78b7-4ac5-a4d0-39767f4e698e",
   "metadata": {},
   "outputs": [
    {
     "data": {
      "text/plain": [
       "array([18.86697528, 22.54120469, 27.61963238, 22.16700708, 32.53956732,\n",
       "       26.17313829, 15.81635048, 14.63064016, 20.29911581, 22.82660034,\n",
       "       21.61163259, 18.71478522, 23.14950184, 35.29218939, 24.31976663,\n",
       "       19.75087043, 30.92901918, 33.44787467, 26.36324134,  6.62171115,\n",
       "       22.05963529, 19.04415108, 19.28956904, 25.49765885, 14.66837184,\n",
       "       29.68996768, 16.85024156, 23.15219466, 29.84338097, 13.29891715,\n",
       "       33.61452959, 31.07265994, 29.0338692 , 22.72803523, 27.34781721,\n",
       "       34.00731653, 26.38372505, 22.39297842, 19.96008695, 37.13785588,\n",
       "       36.02708249, 17.40094079, 29.24040926, 23.97558909, 13.93872133,\n",
       "       19.8389214 , 28.78153863, 16.68663445, 31.55959572, 25.32231266,\n",
       "       27.55563752, 26.2256536 , 17.80467606, 38.72726212, 18.88926704,\n",
       "       24.69100307, 32.17423576, 13.61179502, 25.16017189, 23.18300942,\n",
       "       31.87176284, 21.25485779, 18.19640702, 21.17076784, 22.69293986,\n",
       "       16.08019086, 35.11387042, 32.2052114 , 27.88790177, 31.30420766,\n",
       "       22.76836824, 29.9547273 , 33.94678942, 16.06037436, 35.11351355,\n",
       "       20.25570023, 16.51450905, 24.25979931, 21.14985912, 20.14030609,\n",
       "       26.25993269, 23.33861944, 12.56700679, 12.30038216, 30.9226448 ,\n",
       "       22.97044025, 23.73773472, 10.05934445, 26.34868585, 16.16800434,\n",
       "       17.58986659, 25.2247025 , 24.55162289, 16.37557704, 33.8571605 ,\n",
       "       24.15426796, 24.59910977, 23.45248984, 22.80220158, 25.41433909,\n",
       "       27.3355467 , 29.41258544])"
      ]
     },
     "execution_count": 83,
     "metadata": {},
     "output_type": "execute_result"
    }
   ],
   "source": [
    "lr_skl = LinearRegression()\n",
    "lr_skl.fit(X_train.drop('const', axis = 1), y_train)\n",
    "\n",
    "y_pred_skl = lr_skl.predict(X_test)\n",
    "\n",
    "y_pred_skl"
   ]
  },
  {
   "cell_type": "code",
   "execution_count": 85,
   "id": "48caf055-1160-40da-b3d2-19b64a2984c3",
   "metadata": {},
   "outputs": [
    {
     "name": "stdout",
     "output_type": "stream",
     "text": [
      "Testing MSE: 32.774\n",
      "Testing MAE: 4.063\n",
      "Testing R2: 0.604\n"
     ]
    }
   ],
   "source": [
    "test_mse_skl = mean_squared_error(y_test, y_pred_skl)\n",
    "test_mae_skl = mean_absolute_error(y_test, y_pred_skl)\n",
    "test_re_skl = r2_score(y_test, y_pred_skl)\n",
    "\n",
    "print('Testing MSE: {:.3f}'.format(test_mse_skl))\n",
    "print('Testing MAE: {:.3f}'.format(test_mae_skl))\n",
    "print('Testing R2: {:.3f}'.format(test_re_skl))"
   ]
  },
  {
   "cell_type": "markdown",
   "id": "afa6dfb0-4174-44d2-b619-28d45d0a3fbd",
   "metadata": {},
   "source": [
    "현재 이 모델은 60%의 설명력을 지니고 있네요.\n",
    "\n",
    "다만 든 생각은 이 모델의 경우 X_train으로 모델링을 진행하였기에, 'RAD'와 'B'가 아직 남아있을텐데요.\n",
    "\n",
    "한번 이 친구에 한해 분기점을 나눠 statsmodel과 같게 두 피처를 삭제해본 후 진행해볼게요."
   ]
  },
  {
   "cell_type": "code",
   "execution_count": 90,
   "id": "2a9efb12-17db-4a8e-86c9-c75f7821ad73",
   "metadata": {},
   "outputs": [
    {
     "data": {
      "text/plain": [
       "array([18.79492311, 22.46180165, 27.58101652, 21.95613187, 32.52423928,\n",
       "       26.10387341, 16.883659  , 14.5678442 , 20.1930528 , 22.752409  ,\n",
       "       21.67507565, 18.5297132 , 23.52591951, 35.31305107, 24.26912495,\n",
       "       20.14071381, 30.95002886, 33.43389195, 26.33075997,  7.63186426,\n",
       "       21.93480926, 19.00283789, 19.22283998, 25.50025668, 15.89618709,\n",
       "       29.66238731, 16.68466693, 23.08937123, 29.75052105, 13.20307396,\n",
       "       33.64338561, 31.08575784, 29.04533946, 22.69695328, 27.30912722,\n",
       "       33.98652357, 26.38501229, 22.52019519, 19.98695752, 37.13513937,\n",
       "       35.98935561, 17.23555751, 29.22411142, 24.01234781, 13.63296588,\n",
       "       19.79121753, 28.77936434, 17.92426131, 31.57742117, 25.27365962,\n",
       "       27.44965222, 26.1736606 , 18.6268279 , 38.72031757, 19.65069307,\n",
       "       24.76101331, 32.17794279, 13.24022793, 24.88495467, 23.15493335,\n",
       "       31.82270851, 21.1348166 , 18.09384545, 21.17921301, 22.6291495 ,\n",
       "       16.09079698, 35.09771839, 32.22696479, 27.85717945, 31.46983386,\n",
       "       22.75765759, 29.92394016, 33.79042254, 15.97739256, 35.0693353 ,\n",
       "       20.28821116, 16.44058756, 24.21814566, 21.0317578 , 20.11179827,\n",
       "       26.26956593, 23.43987042, 13.56867969, 12.29605693, 30.93797389,\n",
       "       22.87838305, 23.75796587, 11.15885066, 26.41129378, 17.43206859,\n",
       "       17.61408244, 25.22543508, 24.57816009, 16.27417554, 33.83501148,\n",
       "       24.03587125, 24.6550813 , 23.48688064, 22.75817154, 25.39485605,\n",
       "       27.28487982, 29.46738532])"
      ]
     },
     "execution_count": 90,
     "metadata": {},
     "output_type": "execute_result"
    }
   ],
   "source": [
    "lr_skl = LinearRegression()\n",
    "lr_skl.fit(X_train.drop(['const', 'RAD', 'B'], axis = 1), y_train)\n",
    "\n",
    "y_pred_skl = lr_skl.predict(X_test.drop(['RAD', 'B'], axis = 1))\n",
    "\n",
    "y_pred_skl"
   ]
  },
  {
   "cell_type": "code",
   "execution_count": 92,
   "id": "55481cf2-c580-4474-9e84-450133e142bd",
   "metadata": {},
   "outputs": [
    {
     "name": "stdout",
     "output_type": "stream",
     "text": [
      "Testing MSE: 33.528\n",
      "Testing MAE: 4.158\n",
      "Testing R2: 0.595\n"
     ]
    }
   ],
   "source": [
    "test_mse_skl = mean_squared_error(y_test, y_pred_skl)\n",
    "test_mae_skl = mean_absolute_error(y_test, y_pred_skl)\n",
    "test_re_skl = r2_score(y_test, y_pred_skl)\n",
    "\n",
    "print('Testing MSE: {:.3f}'.format(test_mse_skl))\n",
    "print('Testing MAE: {:.3f}'.format(test_mae_skl))\n",
    "print('Testing R2: {:.3f}'.format(test_re_skl))"
   ]
  },
  {
   "cell_type": "markdown",
   "id": "12a32ade-c41b-432e-97e7-d8b970322d87",
   "metadata": {},
   "source": [
    "아하 StatsModel과 같은 값이 출력되었습니다.\n",
    "\n",
    "다만 흥미로운 점은 P값이 높다고 피처를 추가로 2개 삭제한 모델이 오히려 설명력은 떨어졌다는 점입니다.\n",
    "\n",
    "역시 피처를 함부로 삭제하면 안된다인걸까요?\n",
    "\n",
    "고민해볼만한 이슈같습니다.\n",
    "\n",
    "여전히 계속 아쉬운 점은 이상치를 별도로 처리하지 못한 점입니다.\\\n",
    "더 높은 설명력을 가져갈 수 있었을 것 같은데, 많이 아쉽습니다.\\"
   ]
  }
 ],
 "metadata": {
  "kernelspec": {
   "display_name": "Python 3 (ipykernel)",
   "language": "python",
   "name": "python3"
  },
  "language_info": {
   "codemirror_mode": {
    "name": "ipython",
    "version": 3
   },
   "file_extension": ".py",
   "mimetype": "text/x-python",
   "name": "python",
   "nbconvert_exporter": "python",
   "pygments_lexer": "ipython3",
   "version": "3.12.7"
  }
 },
 "nbformat": 4,
 "nbformat_minor": 5
}
